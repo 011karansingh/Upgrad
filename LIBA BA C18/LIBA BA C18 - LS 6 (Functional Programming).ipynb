{
 "cells": [
  {
   "cell_type": "markdown",
   "id": "c86f8204",
   "metadata": {},
   "source": [
    "# Functional Programming"
   ]
  },
  {
   "cell_type": "code",
   "execution_count": 3,
   "id": "3e802fcd",
   "metadata": {},
   "outputs": [],
   "source": [
    "def calculator(num1,num2,operation='all'):\n",
    "    '''In the operation you can pass all i.e. default, sum,sub,mul,div'''\n",
    "    if operation=='all':\n",
    "        print(num1+num2)\n",
    "        print(num1-num2)\n",
    "        print(num1*num2)\n",
    "        print(num1/num2)\n",
    "        \n",
    "    elif operation=='sum':\n",
    "        print(num1+num2)\n",
    "        \n",
    "    elif operation=='sub':\n",
    "        print(num1-num2)\n",
    "        \n",
    "    elif operation=='mul':\n",
    "        print(num1*num2)\n",
    "    \n",
    "    elif operation=='div':\n",
    "        print(num1/num2)\n",
    "    \n",
    "    else:\n",
    "        print('Please pass the correct option')  "
   ]
  },
  {
   "cell_type": "code",
   "execution_count": 5,
   "id": "94dd72a2",
   "metadata": {},
   "outputs": [
    {
     "name": "stdout",
     "output_type": "stream",
     "text": [
      "12\n",
      "8\n",
      "20\n",
      "5.0\n"
     ]
    }
   ],
   "source": [
    "output = calculator(10,2)"
   ]
  },
  {
   "cell_type": "code",
   "execution_count": 7,
   "id": "472240da",
   "metadata": {},
   "outputs": [
    {
     "data": {
      "text/plain": [
       "NoneType"
      ]
     },
     "execution_count": 7,
     "metadata": {},
     "output_type": "execute_result"
    }
   ],
   "source": [
    "type(output)"
   ]
  },
  {
   "cell_type": "code",
   "execution_count": 8,
   "id": "85a63622",
   "metadata": {},
   "outputs": [],
   "source": [
    "def calculator(num1,num2,operation='all'):\n",
    "    '''In the operation you can pass all i.e. default, sum,sub,mul,div'''\n",
    "    if operation=='all':\n",
    "        return(num1+num2)\n",
    "        return(num1-num2)\n",
    "        return(num1*num2)\n",
    "        return(num1/num2)\n",
    "        \n",
    "    elif operation=='sum':\n",
    "        return(num1+num2)\n",
    "        \n",
    "    elif operation=='sub':\n",
    "        return(num1-num2)\n",
    "        \n",
    "    elif operation=='mul':\n",
    "        return(num1*num2)\n",
    "    \n",
    "    elif operation=='div':\n",
    "        return(num1/num2)\n",
    "    \n",
    "    else:\n",
    "        return('Please pass the correct option')  "
   ]
  },
  {
   "cell_type": "code",
   "execution_count": 10,
   "id": "32e2c55f",
   "metadata": {},
   "outputs": [
    {
     "data": {
      "text/plain": [
       "12"
      ]
     },
     "execution_count": 10,
     "metadata": {},
     "output_type": "execute_result"
    }
   ],
   "source": [
    "calculator(10,2,'all')"
   ]
  },
  {
   "cell_type": "code",
   "execution_count": 13,
   "id": "182d1af9",
   "metadata": {},
   "outputs": [],
   "source": [
    "def calculator(num1,num2,operation='all'):\n",
    "    '''In the operation you can pass all i.e. default, sum,sub,mul,div'''\n",
    "    if operation=='all':\n",
    "        return num1+num2,num1-num2,num1*num2,num1/num2\n",
    "        \n",
    "    elif operation=='sum':\n",
    "        return(num1+num2)\n",
    "        \n",
    "    elif operation=='sub':\n",
    "        return(num1-num2)\n",
    "        \n",
    "    elif operation=='mul':\n",
    "        return(num1*num2)\n",
    "    \n",
    "    elif operation=='div':\n",
    "        return(num1/num2)\n",
    "    \n",
    "    else:\n",
    "        return('Please pass the correct option')  "
   ]
  },
  {
   "cell_type": "code",
   "execution_count": 14,
   "id": "473521f5",
   "metadata": {},
   "outputs": [
    {
     "data": {
      "text/plain": [
       "(12, 8, 20, 5.0)"
      ]
     },
     "execution_count": 14,
     "metadata": {},
     "output_type": "execute_result"
    }
   ],
   "source": [
    "calculator(10,2)"
   ]
  },
  {
   "cell_type": "code",
   "execution_count": 15,
   "id": "79d2ed9a",
   "metadata": {},
   "outputs": [],
   "source": [
    "def calculator(num1,num2,operation='all'):\n",
    "    '''In the operation you can pass all i.e. default, sum,sub,mul,div'''\n",
    "    if operation=='all':\n",
    "        return {'Sum':num1+num2,'Sub':num1-num2,'Mul':num1*num2,'Div':num1/num2}\n",
    "        \n",
    "    elif operation=='sum':\n",
    "        return(num1+num2)\n",
    "        \n",
    "    elif operation=='sub':\n",
    "        return(num1-num2)\n",
    "        \n",
    "    elif operation=='mul':\n",
    "        return(num1*num2)\n",
    "    \n",
    "    elif operation=='div':\n",
    "        return(num1/num2)\n",
    "    \n",
    "    else:\n",
    "        return('Please pass the correct option')  "
   ]
  },
  {
   "cell_type": "code",
   "execution_count": 17,
   "id": "dcfb8d42",
   "metadata": {},
   "outputs": [],
   "source": [
    "output = calculator(10,2)"
   ]
  },
  {
   "cell_type": "code",
   "execution_count": 18,
   "id": "e1f85296",
   "metadata": {},
   "outputs": [
    {
     "data": {
      "text/plain": [
       "{'Sum': 12, 'Sub': 8, 'Mul': 20, 'Div': 5.0}"
      ]
     },
     "execution_count": 18,
     "metadata": {},
     "output_type": "execute_result"
    }
   ],
   "source": [
    "output"
   ]
  },
  {
   "cell_type": "code",
   "execution_count": 19,
   "id": "80d307f7",
   "metadata": {},
   "outputs": [
    {
     "name": "stdout",
     "output_type": "stream",
     "text": [
      "Enter the number1: 10\n",
      "Enter the number2: 2\n",
      "Enter the Operation: all\n"
     ]
    },
    {
     "data": {
      "text/plain": [
       "{'Sum': 12, 'Sub': 8, 'Mul': 20, 'Div': 5.0}"
      ]
     },
     "execution_count": 19,
     "metadata": {},
     "output_type": "execute_result"
    }
   ],
   "source": [
    "num1 = int(input('Enter the number1: '))\n",
    "num2 = int(input('Enter the number2: '))\n",
    "ope = input('Enter the Operation: ')\n",
    "calculator(num1,num2,ope)"
   ]
  },
  {
   "cell_type": "markdown",
   "id": "7a25ff34",
   "metadata": {},
   "source": [
    "1) Pin check"
   ]
  },
  {
   "cell_type": "code",
   "execution_count": 22,
   "id": "85ad7d2b",
   "metadata": {},
   "outputs": [],
   "source": [
    "def pin_check():\n",
    "    correct_pin = 1234\n",
    "    max_attempts = 3\n",
    "    attempts = 0 \n",
    "    \n",
    "    while attempts<max_attempts:\n",
    "        pin = int(input('Enter the pin: '))\n",
    "        if pin == correct_pin:\n",
    "            print('Pin accepted, access granted')\n",
    "            break\n",
    "        else:\n",
    "            attempts+=1\n",
    "            print('Incorrect pin, attempts remaining: ', max_attempts-attempts)\n",
    "            \n",
    "    if attempts==max_attempts:\n",
    "        print('Max attempts reached, Access Denied')"
   ]
  },
  {
   "cell_type": "code",
   "execution_count": 26,
   "id": "f979b760",
   "metadata": {},
   "outputs": [
    {
     "name": "stdout",
     "output_type": "stream",
     "text": [
      "Enter the pin: 1234\n",
      "Pin accepted, access granted\n"
     ]
    }
   ],
   "source": [
    "pin_check()"
   ]
  },
  {
   "cell_type": "code",
   "execution_count": 27,
   "id": "fa2c3936",
   "metadata": {},
   "outputs": [],
   "source": [
    "def pin_check():\n",
    "    correct_pin = 1234\n",
    "    max_attempts = 3\n",
    "    attempts = 0 \n",
    "    \n",
    "    while attempts<max_attempts:\n",
    "        pin = input('Enter the pin: ').strip()\n",
    "        if pin == str(correct_pin):\n",
    "            print('Pin accepted, access granted')\n",
    "            break\n",
    "        else:\n",
    "            attempts+=1\n",
    "            print('Incorrect pin, attempts remaining: ', max_attempts-attempts)\n",
    "            \n",
    "    if attempts==max_attempts:\n",
    "        print('Max attempts reached, Access Denied')"
   ]
  },
  {
   "cell_type": "code",
   "execution_count": 28,
   "id": "7f320c61",
   "metadata": {},
   "outputs": [
    {
     "name": "stdout",
     "output_type": "stream",
     "text": [
      "Enter the pin:          1234                  \n",
      "Pin accepted, access granted\n"
     ]
    }
   ],
   "source": [
    "pin_check()"
   ]
  },
  {
   "cell_type": "code",
   "execution_count": 29,
   "id": "009caad2",
   "metadata": {},
   "outputs": [
    {
     "ename": "SyntaxError",
     "evalue": "non-default argument follows default argument (1925677362.py, line 1)",
     "output_type": "error",
     "traceback": [
      "\u001b[1;36m  File \u001b[1;32m\"C:\\Users\\rahul\\AppData\\Local\\Temp\\ipykernel_33024\\1925677362.py\"\u001b[1;36m, line \u001b[1;32m1\u001b[0m\n\u001b[1;33m    def greeting(subject='Upgrad',name):\u001b[0m\n\u001b[1;37m                                      ^\u001b[0m\n\u001b[1;31mSyntaxError\u001b[0m\u001b[1;31m:\u001b[0m non-default argument follows default argument\n"
     ]
    }
   ],
   "source": [
    "def greeting(subject='Upgrad',name):\n",
    "    print('Welcome',name)\n",
    "    print(subject)"
   ]
  },
  {
   "cell_type": "code",
   "execution_count": 38,
   "id": "c046e705",
   "metadata": {},
   "outputs": [],
   "source": [
    "def greeting(name,subject='Upgrad',ins_name='Rahul'):\n",
    "    print('Welcome',name)\n",
    "    print(subject)"
   ]
  },
  {
   "cell_type": "code",
   "execution_count": 43,
   "id": "9a804ff1",
   "metadata": {},
   "outputs": [],
   "source": [
    "def add(num1,num2,num3,num4):\n",
    "    print(num1+num2+num3+num4)"
   ]
  },
  {
   "cell_type": "code",
   "execution_count": 44,
   "id": "418c88de",
   "metadata": {},
   "outputs": [
    {
     "name": "stdout",
     "output_type": "stream",
     "text": [
      "19\n"
     ]
    }
   ],
   "source": [
    "add(10,2,3,4)"
   ]
  },
  {
   "cell_type": "code",
   "execution_count": 45,
   "id": "7811c88c",
   "metadata": {},
   "outputs": [],
   "source": [
    "def add(*args):\n",
    "    result = 0\n",
    "    for i in args:\n",
    "        result=result+i\n",
    "    print(result)\n",
    "    "
   ]
  },
  {
   "cell_type": "code",
   "execution_count": 47,
   "id": "2837b505",
   "metadata": {},
   "outputs": [
    {
     "name": "stdout",
     "output_type": "stream",
     "text": [
      "84\n"
     ]
    }
   ],
   "source": [
    "add(10,2,3,4,4,5,6,7,8,8,7,6,5,5,4)"
   ]
  },
  {
   "cell_type": "code",
   "execution_count": 51,
   "id": "ac6f4a16",
   "metadata": {},
   "outputs": [],
   "source": [
    "def add(*args):\n",
    "    result = ''\n",
    "    for i in args:\n",
    "        result=result+i\n",
    "    print(result)"
   ]
  },
  {
   "cell_type": "code",
   "execution_count": 50,
   "id": "a674f710",
   "metadata": {},
   "outputs": [
    {
     "name": "stdout",
     "output_type": "stream",
     "text": [
      "AB\n"
     ]
    }
   ],
   "source": [
    "add('A','B')"
   ]
  },
  {
   "cell_type": "code",
   "execution_count": 52,
   "id": "2b8ccec0",
   "metadata": {},
   "outputs": [],
   "source": [
    "#Local and Global Variable "
   ]
  },
  {
   "cell_type": "code",
   "execution_count": 53,
   "id": "3eaffe7b",
   "metadata": {},
   "outputs": [
    {
     "name": "stdout",
     "output_type": "stream",
     "text": [
      "100\n",
      "100\n"
     ]
    }
   ],
   "source": [
    "a = 100\n",
    "\n",
    "def f1():\n",
    "    print(a)\n",
    "    \n",
    "f1()\n",
    "\n",
    "def f2():\n",
    "    print(a)\n",
    "    \n",
    "f2()"
   ]
  },
  {
   "cell_type": "code",
   "execution_count": 54,
   "id": "10e32112",
   "metadata": {},
   "outputs": [
    {
     "name": "stdout",
     "output_type": "stream",
     "text": [
      "1000\n",
      "100\n"
     ]
    }
   ],
   "source": [
    "a = 100\n",
    "\n",
    "def f1():\n",
    "    a = 1000\n",
    "    print(a)\n",
    "    \n",
    "f1()\n",
    "\n",
    "def f2():\n",
    "    print(a)\n",
    "    \n",
    "f2()"
   ]
  },
  {
   "cell_type": "code",
   "execution_count": 59,
   "id": "670b44cc",
   "metadata": {},
   "outputs": [
    {
     "name": "stdout",
     "output_type": "stream",
     "text": [
      "1000\n",
      "1000\n"
     ]
    }
   ],
   "source": [
    "a = 100\n",
    "\n",
    "def f1():\n",
    "    global a\n",
    "    a=1000\n",
    "    print(a)\n",
    "    \n",
    "f1()\n",
    "\n",
    "def f2():\n",
    "    print(a)\n",
    "    \n",
    "f2()"
   ]
  },
  {
   "cell_type": "code",
   "execution_count": 56,
   "id": "e97037ff",
   "metadata": {},
   "outputs": [
    {
     "data": {
      "text/plain": [
       "1000"
      ]
     },
     "execution_count": 56,
     "metadata": {},
     "output_type": "execute_result"
    }
   ],
   "source": [
    "a"
   ]
  },
  {
   "cell_type": "markdown",
   "id": "39bab063",
   "metadata": {},
   "source": [
    "**Lambda Functions**\n",
    "\n",
    "    Nameless function, Anonymous function, without name"
   ]
  },
  {
   "cell_type": "code",
   "execution_count": 60,
   "id": "6342e91a",
   "metadata": {},
   "outputs": [],
   "source": [
    "def square(num1):\n",
    "    print(num1*num1)"
   ]
  },
  {
   "cell_type": "code",
   "execution_count": 61,
   "id": "05dab362",
   "metadata": {},
   "outputs": [
    {
     "name": "stdout",
     "output_type": "stream",
     "text": [
      "100\n"
     ]
    }
   ],
   "source": [
    "square(10)"
   ]
  },
  {
   "cell_type": "code",
   "execution_count": 63,
   "id": "110e709c",
   "metadata": {},
   "outputs": [],
   "source": [
    "sq = lambda num1:num1*num1"
   ]
  },
  {
   "cell_type": "code",
   "execution_count": 64,
   "id": "3734c9ac",
   "metadata": {},
   "outputs": [
    {
     "data": {
      "text/plain": [
       "100"
      ]
     },
     "execution_count": 64,
     "metadata": {},
     "output_type": "execute_result"
    }
   ],
   "source": [
    "sq(10)"
   ]
  },
  {
   "cell_type": "code",
   "execution_count": 65,
   "id": "8784072c",
   "metadata": {},
   "outputs": [],
   "source": [
    "addition = lambda a,b:a+b"
   ]
  },
  {
   "cell_type": "code",
   "execution_count": 66,
   "id": "d7a6f1a0",
   "metadata": {},
   "outputs": [
    {
     "data": {
      "text/plain": [
       "30"
      ]
     },
     "execution_count": 66,
     "metadata": {},
     "output_type": "execute_result"
    }
   ],
   "source": [
    "addition(10,20)"
   ]
  },
  {
   "cell_type": "code",
   "execution_count": 67,
   "id": "492a7dd8",
   "metadata": {},
   "outputs": [],
   "source": [
    "calculate_interest = lambda amount,rate : amount*rate"
   ]
  },
  {
   "cell_type": "code",
   "execution_count": 68,
   "id": "c252fad3",
   "metadata": {},
   "outputs": [
    {
     "name": "stdout",
     "output_type": "stream",
     "text": [
      "Interest:  50.0\n"
     ]
    }
   ],
   "source": [
    "principal = 1000\n",
    "interest_rate = 0.05\n",
    "interest = calculate_interest(principal,interest_rate)\n",
    "print('Interest: ', interest)"
   ]
  },
  {
   "cell_type": "code",
   "execution_count": 70,
   "id": "ec64b6a7",
   "metadata": {},
   "outputs": [
    {
     "data": {
      "text/plain": [
       "2"
      ]
     },
     "execution_count": 70,
     "metadata": {},
     "output_type": "execute_result"
    }
   ],
   "source": [
    "cal_fee = lambda amount : 5 if amount>1000 else 2\n",
    "cal_fee(500)"
   ]
  },
  {
   "cell_type": "code",
   "execution_count": 83,
   "id": "a424ffc7",
   "metadata": {},
   "outputs": [
    {
     "name": "stdout",
     "output_type": "stream",
     "text": [
      "Outer function is running\n"
     ]
    }
   ],
   "source": [
    "def outer():\n",
    "    print('Outer function is running')\n",
    "    def inner():\n",
    "        print('Inner function is running')\n",
    "    #inner()\n",
    "        \n",
    "outer()"
   ]
  },
  {
   "cell_type": "code",
   "execution_count": 82,
   "id": "77d5805a",
   "metadata": {},
   "outputs": [
    {
     "ename": "NameError",
     "evalue": "name 'inner' is not defined",
     "output_type": "error",
     "traceback": [
      "\u001b[1;31m---------------------------------------------------------------------------\u001b[0m",
      "\u001b[1;31mNameError\u001b[0m                                 Traceback (most recent call last)",
      "\u001b[1;32m~\\AppData\\Local\\Temp\\ipykernel_33024\\2697967970.py\u001b[0m in \u001b[0;36m<module>\u001b[1;34m\u001b[0m\n\u001b[1;32m----> 1\u001b[1;33m \u001b[0minner\u001b[0m\u001b[1;33m(\u001b[0m\u001b[1;33m)\u001b[0m\u001b[1;33m\u001b[0m\u001b[1;33m\u001b[0m\u001b[0m\n\u001b[0m",
      "\u001b[1;31mNameError\u001b[0m: name 'inner' is not defined"
     ]
    }
   ],
   "source": [
    "inner()"
   ]
  },
  {
   "cell_type": "code",
   "execution_count": 75,
   "id": "58ab079f",
   "metadata": {},
   "outputs": [
    {
     "name": "stdout",
     "output_type": "stream",
     "text": [
      "1000\n",
      "100\n"
     ]
    }
   ],
   "source": [
    "a = 100\n",
    "#b = 1000\n",
    "def f1():\n",
    "    b=1000\n",
    "    print(b)\n",
    "    \n",
    "f1()\n",
    "\n",
    "def f2():\n",
    "    print(a)\n",
    "    \n",
    "f2()"
   ]
  },
  {
   "cell_type": "code",
   "execution_count": 76,
   "id": "3a05732d",
   "metadata": {},
   "outputs": [
    {
     "ename": "NameError",
     "evalue": "name 'b' is not defined",
     "output_type": "error",
     "traceback": [
      "\u001b[1;31m---------------------------------------------------------------------------\u001b[0m",
      "\u001b[1;31mNameError\u001b[0m                                 Traceback (most recent call last)",
      "\u001b[1;32m~\\AppData\\Local\\Temp\\ipykernel_33024\\1685013873.py\u001b[0m in \u001b[0;36m<module>\u001b[1;34m\u001b[0m\n\u001b[1;32m----> 1\u001b[1;33m \u001b[0mb\u001b[0m\u001b[1;33m\u001b[0m\u001b[1;33m\u001b[0m\u001b[0m\n\u001b[0m",
      "\u001b[1;31mNameError\u001b[0m: name 'b' is not defined"
     ]
    }
   ],
   "source": [
    "b"
   ]
  },
  {
   "cell_type": "code",
   "execution_count": 77,
   "id": "c58f6258",
   "metadata": {},
   "outputs": [],
   "source": [
    "othername = 'Sourav'\n",
    "\n",
    "def f1():\n",
    "    name = 'Aparna'\n",
    "    print(name)"
   ]
  },
  {
   "cell_type": "code",
   "execution_count": 79,
   "id": "13cabba6",
   "metadata": {},
   "outputs": [
    {
     "name": "stdout",
     "output_type": "stream",
     "text": [
      "Aparna\n"
     ]
    }
   ],
   "source": [
    "f1()"
   ]
  },
  {
   "cell_type": "code",
   "execution_count": 80,
   "id": "318ce715",
   "metadata": {},
   "outputs": [
    {
     "data": {
      "text/plain": [
       "'Sourav'"
      ]
     },
     "execution_count": 80,
     "metadata": {},
     "output_type": "execute_result"
    }
   ],
   "source": [
    "othername"
   ]
  },
  {
   "cell_type": "code",
   "execution_count": 91,
   "id": "1f524e00",
   "metadata": {},
   "outputs": [],
   "source": [
    "name4 = 'Rahul'\n",
    "def f1():\n",
    "    name1 = 'Aparna'\n",
    "    name2 = 'Rohit'\n",
    "    name3 = 'Sourav'\n",
    "    print(name1)\n",
    "    print(name2)\n",
    "    \n",
    "    print(name3)\n",
    "    "
   ]
  },
  {
   "cell_type": "code",
   "execution_count": 92,
   "id": "625d3b09",
   "metadata": {},
   "outputs": [
    {
     "name": "stdout",
     "output_type": "stream",
     "text": [
      "Aparna\n",
      "Rohit\n",
      "Sourav\n"
     ]
    }
   ],
   "source": [
    "f1()"
   ]
  },
  {
   "cell_type": "code",
   "execution_count": 164,
   "id": "467aa2d5",
   "metadata": {},
   "outputs": [],
   "source": [
    "def calculator():\n",
    "    def add(num1,num2):\n",
    "        return num1+num2\n",
    "    \n",
    "    def sub(num1,num2):\n",
    "        return num1-num2\n",
    "    \n",
    "    def mul(num1,num2):\n",
    "        return num1*num2\n",
    "    \n",
    "    def div(num1,num2):\n",
    "        return num1/num2\n",
    "    \n",
    "    num1 = 10\n",
    "    num2 = 2\n",
    "    print(add(num1,num2))\n",
    "    print(sub(num1,num2))\n",
    "    print(mul(num1,num2))\n",
    "    print(div(num1,num2))"
   ]
  },
  {
   "cell_type": "code",
   "execution_count": 165,
   "id": "b39f7769",
   "metadata": {},
   "outputs": [
    {
     "name": "stdout",
     "output_type": "stream",
     "text": [
      "12\n",
      "8\n",
      "20\n",
      "5.0\n"
     ]
    }
   ],
   "source": [
    "calculator()"
   ]
  },
  {
   "cell_type": "code",
   "execution_count": 169,
   "id": "66afc1fb",
   "metadata": {},
   "outputs": [],
   "source": [
    "def check_voting_eligibility(age):\n",
    "    def is_eligible():\n",
    "        return age>=18\n",
    "    \n",
    "    if is_eligible()==True:\n",
    "        print('You are eligible')\n",
    "    else:\n",
    "        print('You are not eligible')\n",
    "        \n",
    "    \n",
    "    "
   ]
  },
  {
   "cell_type": "code",
   "execution_count": 171,
   "id": "4a5334bf",
   "metadata": {},
   "outputs": [
    {
     "name": "stdout",
     "output_type": "stream",
     "text": [
      "You are not eligible\n"
     ]
    }
   ],
   "source": [
    "check_voting_eligibility(13)"
   ]
  },
  {
   "cell_type": "code",
   "execution_count": 172,
   "id": "e3b593f8",
   "metadata": {},
   "outputs": [],
   "source": [
    "def convert_currency(amount,rate):\n",
    "    def apply_conversion():\n",
    "        return amount*rate\n",
    "    \n",
    "    converted_amount = apply_conversion()\n",
    "    print('Converted Amount:', converted_amount)"
   ]
  },
  {
   "cell_type": "code",
   "execution_count": 173,
   "id": "fbd830af",
   "metadata": {},
   "outputs": [
    {
     "name": "stdout",
     "output_type": "stream",
     "text": [
      "Converted Amount: 325786\n"
     ]
    }
   ],
   "source": [
    "convert_currency(3973,82)"
   ]
  },
  {
   "cell_type": "code",
   "execution_count": 244,
   "id": "6eeabd8b",
   "metadata": {},
   "outputs": [],
   "source": [
    "import random\n",
    "def generate_password():\n",
    "    def generate_random_digit():\n",
    "        return random.randint(0,9)\n",
    "    \n",
    "\n",
    "    def generate_random_letter():\n",
    "        return chr(random.randint(97,122))\n",
    "    \n",
    "    password = \"\"\n",
    "    for i in range(6):\n",
    "        if random.choice([True,False]) == True:\n",
    "            password += str(generate_random_digit())\n",
    "        else:\n",
    "            password +=generate_random_letter()\n",
    "            \n",
    "    print(\"Generated Password: \", password)"
   ]
  },
  {
   "cell_type": "code",
   "execution_count": 288,
   "id": "f12e87f9",
   "metadata": {},
   "outputs": [
    {
     "name": "stdout",
     "output_type": "stream",
     "text": [
      "Generated Password:  yqy7b4\n"
     ]
    }
   ],
   "source": [
    "generate_password()"
   ]
  },
  {
   "cell_type": "code",
   "execution_count": 289,
   "id": "f729ee25",
   "metadata": {},
   "outputs": [
    {
     "name": "stdout",
     "output_type": "stream",
     "text": [
      "Account created successfully.\n",
      "Deposit successful.\n",
      "Withdrawal successful.\n",
      "Account balance: 1300\n"
     ]
    }
   ],
   "source": [
    "def banking_app():\n",
    "    # Dictionary to store account information (account_number: balance)\n",
    "    accounts = {}\n",
    "\n",
    "    def create_account(account_number, initial_balance=0):\n",
    "        \"\"\"Create a new bank account.\"\"\"\n",
    "        if account_number in accounts:\n",
    "            print(\"Account already exists.\")\n",
    "        else:\n",
    "            accounts[account_number] = initial_balance\n",
    "            print(\"Account created successfully.\")\n",
    "\n",
    "    def deposit(account_number, amount):\n",
    "        \"\"\"Deposit funds into an existing account.\"\"\"\n",
    "        if account_number in accounts:\n",
    "            accounts[account_number] += amount\n",
    "            print(\"Deposit successful.\")\n",
    "        else:\n",
    "            print(\"Account not found.\")\n",
    "\n",
    "    def withdraw(account_number, amount):\n",
    "        \"\"\"Withdraw funds from an existing account.\"\"\"\n",
    "        if account_number in accounts:\n",
    "            if accounts[account_number] >= amount:\n",
    "                accounts[account_number] -= amount\n",
    "                print(\"Withdrawal successful.\")\n",
    "            else:\n",
    "                print(\"Insufficient funds.\")\n",
    "        else:\n",
    "            print(\"Account not found.\")\n",
    "\n",
    "    def get_balance(account_number):\n",
    "        \"\"\"Check the account balance.\"\"\"\n",
    "        if account_number in accounts:\n",
    "            balance = accounts[account_number]\n",
    "            print(f\"Account balance: {balance}\")\n",
    "        else:\n",
    "            print(\"Account not found.\")\n",
    "\n",
    "    # Sample usage:\n",
    "    create_account(\"1234567890\", 1000)\n",
    "    deposit(\"1234567890\", 500)\n",
    "    withdraw(\"1234567890\", 200)\n",
    "    get_balance(\"1234567890\")\n",
    "\n",
    "# Call the banking application function\n",
    "banking_app()\n"
   ]
  },
  {
   "cell_type": "code",
   "execution_count": null,
   "id": "fc6afaf2",
   "metadata": {},
   "outputs": [],
   "source": []
  },
  {
   "cell_type": "code",
   "execution_count": null,
   "id": "d8036b49",
   "metadata": {},
   "outputs": [],
   "source": []
  },
  {
   "cell_type": "code",
   "execution_count": null,
   "id": "33f92e2d",
   "metadata": {},
   "outputs": [],
   "source": []
  },
  {
   "cell_type": "code",
   "execution_count": null,
   "id": "e4c2f683",
   "metadata": {},
   "outputs": [],
   "source": []
  }
 ],
 "metadata": {
  "kernelspec": {
   "display_name": "Python 3 (ipykernel)",
   "language": "python",
   "name": "python3"
  },
  "language_info": {
   "codemirror_mode": {
    "name": "ipython",
    "version": 3
   },
   "file_extension": ".py",
   "mimetype": "text/x-python",
   "name": "python",
   "nbconvert_exporter": "python",
   "pygments_lexer": "ipython3",
   "version": "3.9.13"
  }
 },
 "nbformat": 4,
 "nbformat_minor": 5
}
