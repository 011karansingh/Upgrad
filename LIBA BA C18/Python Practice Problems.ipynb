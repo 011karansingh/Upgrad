{
 "cells": [
  {
   "cell_type": "markdown",
   "id": "577d90bd",
   "metadata": {},
   "source": [
    "**Question 1: If-Else Conditions**\n",
    "\n",
    "Write a Python function that takes an integer input and returns \"Fizz\" if the number is divisible by 3, \"Buzz\" if the number is divisible by 5, and \"FizzBuzz\" if the number is divisible by both 3 and 5. If none of these conditions apply, return the number itself."
   ]
  },
  {
   "cell_type": "code",
   "execution_count": 1,
   "id": "b4bac43f",
   "metadata": {},
   "outputs": [
    {
     "name": "stdout",
     "output_type": "stream",
     "text": [
      "Fizz\n",
      "Buzz\n",
      "FizzBuzz\n",
      "7\n"
     ]
    }
   ],
   "source": [
    "def fizz_buzz(number):\n",
    "    if number % 3 == 0 and number % 5 == 0:\n",
    "        return \"FizzBuzz\"\n",
    "    elif number % 3 == 0:\n",
    "        return \"Fizz\"\n",
    "    elif number % 5 == 0:\n",
    "        return \"Buzz\"\n",
    "    else:\n",
    "        return number\n",
    "\n",
    "# Test the function\n",
    "print(fizz_buzz(9))   # Output: \"Fizz\"\n",
    "print(fizz_buzz(10))  # Output: \"Buzz\"\n",
    "print(fizz_buzz(15))  # Output: \"FizzBuzz\"\n",
    "print(fizz_buzz(7))   # Output: 7"
   ]
  },
  {
   "cell_type": "markdown",
   "id": "bba3f34c",
   "metadata": {},
   "source": [
    "**Question 2: For Loop and Lists**\n",
    "\n",
    "Write a Python function that takes a list of numbers as input and returns a new list containing only the even numbers from the input list."
   ]
  },
  {
   "cell_type": "code",
   "execution_count": 2,
   "id": "2fa8d45e",
   "metadata": {},
   "outputs": [
    {
     "name": "stdout",
     "output_type": "stream",
     "text": [
      "[2, 4, 6, 8, 10]\n"
     ]
    }
   ],
   "source": [
    "def get_even_numbers(input_list):\n",
    "    even_numbers = []\n",
    "    for num in input_list:\n",
    "        if num % 2 == 0:\n",
    "            even_numbers.append(num)\n",
    "    return even_numbers\n",
    "\n",
    "# Test the function\n",
    "numbers = [1, 2, 3, 4, 5, 6, 7, 8, 9, 10]\n",
    "print(get_even_numbers(numbers))  # Output: [2, 4, 6, 8, 10]"
   ]
  },
  {
   "cell_type": "markdown",
   "id": "59be0b8d",
   "metadata": {},
   "source": [
    "**Question 3: While Loop and Strings**\n",
    "\n",
    "Write a Python function that takes a string as input and returns the reverse of that string using a while loop. Hello World, dlroW olleH\n",
    "\n"
   ]
  },
  {
   "cell_type": "code",
   "execution_count": 3,
   "id": "64eba287",
   "metadata": {},
   "outputs": [
    {
     "name": "stdout",
     "output_type": "stream",
     "text": [
      "!dlroW ,olleH\n"
     ]
    }
   ],
   "source": [
    "def reverse_string(input_str):\n",
    "    reversed_str = \"\"\n",
    "    index = len(input_str) - 1\n",
    "    while index >= 0:\n",
    "        reversed_str += input_str[index]\n",
    "        index -= 1\n",
    "    return reversed_str\n",
    "\n",
    "# Test the function\n",
    "text = \"Hello, World!\"\n",
    "print(reverse_string(text))  # Output: \"!dlroW ,olleH\""
   ]
  },
  {
   "cell_type": "markdown",
   "id": "2d2e3816",
   "metadata": {},
   "source": [
    "**Question 4: Sets**\n",
    "\n",
    "Write a Python function that takes two lists as input and returns a new list containing unique elements from both lists, sorted in ascending order.\n",
    "\n"
   ]
  },
  {
   "cell_type": "code",
   "execution_count": 4,
   "id": "131def5e",
   "metadata": {},
   "outputs": [
    {
     "name": "stdout",
     "output_type": "stream",
     "text": [
      "[1, 2, 3, 4, 5, 6, 7]\n"
     ]
    }
   ],
   "source": [
    "def merge_and_sort_lists(list1, list2):\n",
    "    merged_set = set(list1) | set(list2)\n",
    "    sorted_list = sorted(merged_set)\n",
    "    return sorted_list\n",
    "\n",
    "# Test the function\n",
    "list_a = [1, 2, 3, 4, 5]\n",
    "list_b = [3, 4, 5, 6, 7]\n",
    "print(merge_and_sort_lists(list_a, list_b))  # Output: [1, 2, 3, 4, 5, 6, 7]"
   ]
  },
  {
   "cell_type": "markdown",
   "id": "851376cb",
   "metadata": {},
   "source": [
    "**Question 5: Dictionaries**\n",
    "\n",
    "Write a Python function that takes a list of names as input and returns a dictionary where each name is a key, and the value is the length of that name. If two names have the same length, keep the one that appears first in the input list."
   ]
  },
  {
   "cell_type": "code",
   "execution_count": 5,
   "id": "cbe7944e",
   "metadata": {},
   "outputs": [
    {
     "name": "stdout",
     "output_type": "stream",
     "text": [
      "{'Alice': 5, 'Bob': 3, 'Charlie': 7, 'David': 5, 'Eva': 3, 'Ben': 3}\n"
     ]
    }
   ],
   "source": [
    "def name_length_dict(names_list):\n",
    "    name_dict = {}\n",
    "    for name in names_list:\n",
    "        if name not in name_dict:\n",
    "            name_dict[name] = len(name)\n",
    "    return name_dict\n",
    "\n",
    "# Test the function\n",
    "names = [\"Alice\", \"Bob\", \"Charlie\", \"David\", \"Eva\", \"Ben\"]\n",
    "print(name_length_dict(names))  \n",
    "# Output: {'Alice': 5, 'Bob': 3, 'Charlie': 7, 'David': 5, 'Eva': 3, 'Ben': 3}"
   ]
  },
  {
   "cell_type": "markdown",
   "id": "e865346b",
   "metadata": {},
   "source": [
    "**Question 6: Nested For Loops and Lists**\n",
    "\n",
    "Write a Python function that takes a list of lists (a matrix) as input and returns a new matrix where each element is multiplied by 2."
   ]
  },
  {
   "cell_type": "code",
   "execution_count": 10,
   "id": "7339d36f",
   "metadata": {},
   "outputs": [
    {
     "name": "stdout",
     "output_type": "stream",
     "text": [
      "[[2, 4, 6], [8, 10, 12], [14, 16, 18]]\n"
     ]
    }
   ],
   "source": [
    "def multiply_matrix_by_two(matrix):\n",
    "    result_matrix = [[element * 2 for element in row] for row in matrix]\n",
    "    return result_matrix\n",
    "\n",
    "# Test the function\n",
    "matrix = [[1, 2, 3], [4, 5, 6], [7, 8, 9]]\n",
    "print(multiply_matrix_by_two(matrix))\n",
    "# Output: [[2, 4, 6], [8, 10, 12], [14, 16, 18]]"
   ]
  },
  {
   "cell_type": "markdown",
   "id": "3f455f60",
   "metadata": {},
   "source": [
    "**Question 7: While Loop and Strings**\n",
    "\n",
    "Write a Python function that takes a string as input and returns the most frequent character(s) in the string. If there are multiple characters with the same highest frequency, return them all as a list."
   ]
  },
  {
   "cell_type": "code",
   "execution_count": 9,
   "id": "f00af72d",
   "metadata": {},
   "outputs": [
    {
     "name": "stdout",
     "output_type": "stream",
     "text": [
      "['a']\n"
     ]
    }
   ],
   "source": [
    "def most_frequent_characters(input_str):\n",
    "    char_count = {}\n",
    "    for char in input_str:\n",
    "        char_count[char] = char_count.get(char, 0) + 1\n",
    "    \n",
    "    max_frequency = max(char_count.values())\n",
    "    most_frequent_chars = [char for char, freq in char_count.items() if freq == max_frequency]\n",
    "    \n",
    "    return most_frequent_chars\n",
    "\n",
    "# Test the function\n",
    "text = \"abracadabra\"\n",
    "print(most_frequent_characters(text))  # Output: ['a', 'r']"
   ]
  },
  {
   "cell_type": "markdown",
   "id": "eee449d0",
   "metadata": {},
   "source": [
    "**Question 8: Sets and Lists**\n",
    "\n",
    "Write a Python function that takes two lists as input and returns a list containing the common elements between the two lists, without duplicates."
   ]
  },
  {
   "cell_type": "code",
   "execution_count": 8,
   "id": "82aa8a4c",
   "metadata": {},
   "outputs": [
    {
     "name": "stdout",
     "output_type": "stream",
     "text": [
      "[3, 4, 5]\n"
     ]
    }
   ],
   "source": [
    "def find_common_elements(list1, list2):\n",
    "    set1 = set(list1)\n",
    "    set2 = set(list2)\n",
    "    common_elements = list(set1.intersection(set2))\n",
    "    return common_elements\n",
    "\n",
    "# Test the function\n",
    "list_a = [1, 2, 3, 4, 5]\n",
    "list_b = [3, 4, 5, 6, 7]\n",
    "print(find_common_elements(list_a, list_b))  # Output: [3, 4, 5]"
   ]
  },
  {
   "cell_type": "markdown",
   "id": "be8b0fe0",
   "metadata": {},
   "source": [
    "**Question 9: Dictionaries and Nested Loops**\n",
    "\n",
    "Write a Python function that takes a list of words as input and returns a dictionary containing the word as a key and its vowels' count as the value."
   ]
  },
  {
   "cell_type": "code",
   "execution_count": 7,
   "id": "49512c5b",
   "metadata": {},
   "outputs": [
    {
     "name": "stdout",
     "output_type": "stream",
     "text": [
      "{'apple': 2, 'banana': 3, 'orange': 3, 'grapefruit': 4}\n"
     ]
    }
   ],
   "source": [
    "def count_vowels_in_words(word_list):\n",
    "    vowels = \"aeiou\"\n",
    "    result_dict = {}\n",
    "    for word in word_list:\n",
    "        count = sum(1 for char in word if char.lower() in vowels)\n",
    "        result_dict[word] = count\n",
    "    return result_dict\n",
    "\n",
    "# Test the function\n",
    "words = [\"apple\", \"banana\", \"orange\", \"grapefruit\"]\n",
    "print(count_vowels_in_words(words))\n",
    "# Output: {'apple': 2, 'banana': 3, 'orange': 3, 'grapefruit': 5}"
   ]
  },
  {
   "cell_type": "markdown",
   "id": "98dc4043",
   "metadata": {},
   "source": [
    "**Question 10: If-Else Conditions, Lists, and Strings**\n",
    "\n",
    "Write a Python function that takes a list of strings as input and returns a new list containing only the strings that are palindromes (strings that read the same backward as forwards)."
   ]
  },
  {
   "cell_type": "code",
   "execution_count": 6,
   "id": "b05cccdd",
   "metadata": {},
   "outputs": [
    {
     "name": "stdout",
     "output_type": "stream",
     "text": [
      "['radar', 'level', 'deified']\n"
     ]
    }
   ],
   "source": [
    "def find_palindromes(string_list):\n",
    "    palindromes = []\n",
    "    for word in string_list:\n",
    "        if word == word[::-1]:\n",
    "            palindromes.append(word)\n",
    "    return palindromes\n",
    "\n",
    "# Test the function\n",
    "words = [\"radar\", \"python\", \"level\", \"deified\", \"algorithm\"]\n",
    "print(find_palindromes(words))  # Output: ['radar', 'level', 'deified']"
   ]
  }
 ],
 "metadata": {
  "kernelspec": {
   "display_name": "Python 3 (ipykernel)",
   "language": "python",
   "name": "python3"
  },
  "language_info": {
   "codemirror_mode": {
    "name": "ipython",
    "version": 3
   },
   "file_extension": ".py",
   "mimetype": "text/x-python",
   "name": "python",
   "nbconvert_exporter": "python",
   "pygments_lexer": "ipython3",
   "version": "3.9.13"
  }
 },
 "nbformat": 4,
 "nbformat_minor": 5
}
