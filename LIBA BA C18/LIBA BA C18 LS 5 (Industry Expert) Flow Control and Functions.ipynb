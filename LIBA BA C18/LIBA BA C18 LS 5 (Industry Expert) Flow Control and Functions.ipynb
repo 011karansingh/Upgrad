{
 "cells": [
  {
   "cell_type": "markdown",
   "id": "7920b84d",
   "metadata": {},
   "source": [
    "# Flow Control"
   ]
  },
  {
   "cell_type": "markdown",
   "id": "ff4bafb8",
   "metadata": {},
   "source": [
    "**if and else - Based on the satisfying conditions we can get the output**"
   ]
  },
  {
   "cell_type": "code",
   "execution_count": null,
   "id": "469b0e12",
   "metadata": {},
   "outputs": [],
   "source": [
    "if condition:\n",
    "    getoutput\n",
    "else:\n",
    "    getanotheroutput"
   ]
  },
  {
   "cell_type": "markdown",
   "id": "8ccc06ca",
   "metadata": {},
   "source": [
    "**The gap is known as tab indentation and it is mandatory, if we are not giving the gap we will get the IndentationError: expected an indented block**\n"
   ]
  },
  {
   "cell_type": "markdown",
   "id": "1bfb4c2a",
   "metadata": {},
   "source": [
    "**In the below code, Hi will always print not matter you passed or failed**"
   ]
  },
  {
   "cell_type": "code",
   "execution_count": 176,
   "id": "292c882d",
   "metadata": {},
   "outputs": [
    {
     "name": "stdout",
     "output_type": "stream",
     "text": [
      "Enter the marks: 54\n",
      "You passed the exam\n",
      "Hi\n"
     ]
    }
   ],
   "source": [
    "marks = int(input('Enter the marks: '))\n",
    "if marks<40:\n",
    "    print('You failed the exam')\n",
    "else:\n",
    "    print('You passed the exam')\n",
    "print('Hi')"
   ]
  },
  {
   "cell_type": "markdown",
   "id": "718705c8",
   "metadata": {},
   "source": [
    "**In the below code, we will get Hi when we pass the exam**"
   ]
  },
  {
   "cell_type": "code",
   "execution_count": 178,
   "id": "fde5d9af",
   "metadata": {},
   "outputs": [
    {
     "name": "stdout",
     "output_type": "stream",
     "text": [
      "Enter the marks: 21\n",
      "You failed the exam\n"
     ]
    }
   ],
   "source": [
    "marks = int(input('Enter the marks: '))\n",
    "if marks<40:\n",
    "    print('You failed the exam')\n",
    "else:\n",
    "    print('You passed the exam')\n",
    "    print('Hi')"
   ]
  },
  {
   "cell_type": "markdown",
   "id": "0c49117b",
   "metadata": {},
   "source": [
    "**We will get Hi when we fail the exam**"
   ]
  },
  {
   "cell_type": "code",
   "execution_count": 179,
   "id": "2cea4b64",
   "metadata": {},
   "outputs": [
    {
     "name": "stdout",
     "output_type": "stream",
     "text": [
      "Enter the marks: 21\n",
      "You failed the exam\n",
      "Hi\n"
     ]
    }
   ],
   "source": [
    "marks = int(input('Enter the marks: '))\n",
    "if marks<40:\n",
    "    print('You failed the exam')\n",
    "    print('Hi')\n",
    "else:\n",
    "    print('You passed the exam')"
   ]
  },
  {
   "cell_type": "markdown",
   "id": "58516bea",
   "metadata": {},
   "source": [
    "**Multiple conditions**"
   ]
  },
  {
   "cell_type": "code",
   "execution_count": 182,
   "id": "afac52fb",
   "metadata": {},
   "outputs": [
    {
     "name": "stdout",
     "output_type": "stream",
     "text": [
      "Enter the marks: 87\n",
      "You got an excellent marks\n"
     ]
    }
   ],
   "source": [
    "marks = int(input('Enter the marks: '))\n",
    "if marks<40:\n",
    "    print('You failed the exam')\n",
    "elif marks>=40 and marks<=60:\n",
    "    print('You got an average marks')\n",
    "else:\n",
    "    print('You got an excellent marks')"
   ]
  },
  {
   "cell_type": "markdown",
   "id": "44ad8a76",
   "metadata": {},
   "source": [
    "**Banking Examples for if and else**"
   ]
  },
  {
   "cell_type": "markdown",
   "id": "d30acaad",
   "metadata": {},
   "source": [
    "Account balance check"
   ]
  },
  {
   "cell_type": "code",
   "execution_count": 184,
   "id": "e93fa3e0",
   "metadata": {},
   "outputs": [
    {
     "name": "stdout",
     "output_type": "stream",
     "text": [
      "Enter the account balance: -100\n",
      "Your account balance is negative, please take action\n"
     ]
    }
   ],
   "source": [
    "account_balance = int(input('Enter the account balance: '))\n",
    "if account_balance>=0:\n",
    "    print('Your account is in good standing')\n",
    "else:\n",
    "    print('Your account balance is negative, please take action')"
   ]
  },
  {
   "cell_type": "markdown",
   "id": "4d25778a",
   "metadata": {},
   "source": [
    "Loan eligibilty"
   ]
  },
  {
   "cell_type": "code",
   "execution_count": 188,
   "id": "d9b7a384",
   "metadata": {},
   "outputs": [
    {
     "name": "stdout",
     "output_type": "stream",
     "text": [
      "Enter the income: 60000\n",
      "Enter the credit score: 780\n",
      "You are eligible for the loan, congratulations!!!\n"
     ]
    }
   ],
   "source": [
    "income = int(input('Enter the income: '))\n",
    "credit_score = int(input('Enter the credit score: '))\n",
    "\n",
    "if credit_score>700 and income>50000:\n",
    "    print('You are eligible for the loan, congratulations!!!')\n",
    "else:\n",
    "    print('You are not eligible for the loan, sorry!!!')"
   ]
  },
  {
   "cell_type": "markdown",
   "id": "ef0e70d0",
   "metadata": {},
   "source": [
    "Withdrawal limit check"
   ]
  },
  {
   "cell_type": "code",
   "execution_count": 190,
   "id": "0ba59e5b",
   "metadata": {},
   "outputs": [
    {
     "name": "stdout",
     "output_type": "stream",
     "text": [
      "Enter the amount you want to withdraw: 1200\n",
      "Withdrawal amount exceeds the daily limit\n"
     ]
    }
   ],
   "source": [
    "withdrawal_amount = int(input('Enter the amount you want to withdraw: '))\n",
    "Daily_limit = 1000\n",
    "\n",
    "if withdrawal_amount<=Daily_limit:\n",
    "    print('Withdrawal successful')\n",
    "else:\n",
    "    print('Withdrawal amount exceeds the daily limit')"
   ]
  },
  {
   "cell_type": "markdown",
   "id": "019c3ca7",
   "metadata": {},
   "source": [
    "Transaction Fees Calculation - Nested if else"
   ]
  },
  {
   "cell_type": "code",
   "execution_count": 196,
   "id": "75f80c23",
   "metadata": {},
   "outputs": [
    {
     "name": "stdout",
     "output_type": "stream",
     "text": [
      "Enter the transaction amount: 1000\n",
      "Enter the transaction type: Withdawwwl\n",
      "There is an error\n",
      "Total amount:  1000\n"
     ]
    }
   ],
   "source": [
    "transaction_amount = int(input('Enter the transaction amount: '))\n",
    "transaction_type = input('Enter the transaction type: ')\n",
    "\n",
    "if transaction_type == 'withdrawal':\n",
    "    if transaction_amount>1000:\n",
    "        transaction_fee = 5\n",
    "    elif transaction_amount<=1000:\n",
    "        transaction_fee = 2\n",
    "elif transaction_type=='deposit':\n",
    "    transaction_fee = 0\n",
    "else:\n",
    "    print('There is an error')\n",
    "\n",
    "total_amount = transaction_amount+transaction_fee\n",
    "print('Total amount: ', total_amount)"
   ]
  },
  {
   "cell_type": "code",
   "execution_count": 200,
   "id": "995d71bd",
   "metadata": {},
   "outputs": [
    {
     "name": "stdout",
     "output_type": "stream",
     "text": [
      "Enter the transaction amount: 1322\n",
      "Enter the transaction type: wd\n",
      "There is an error\n"
     ]
    }
   ],
   "source": [
    "transaction_amount = int(input('Enter the transaction amount: '))\n",
    "transaction_type = input('Enter the transaction type: ')\n",
    "\n",
    "if transaction_type == 'withdrawal':\n",
    "    if transaction_amount>1000:\n",
    "        transaction_fee = 5\n",
    "        total_amount = transaction_amount+transaction_fee\n",
    "        print('Total amount: ', total_amount)\n",
    "    elif transaction_amount<=1000:\n",
    "        transaction_fee = 2\n",
    "        total_amount = transaction_amount+transaction_fee\n",
    "        print('Total amount: ', total_amount)\n",
    "elif transaction_type=='deposit':\n",
    "    transaction_fee = 0\n",
    "    total_amount = transaction_amount+transaction_fee\n",
    "    print('Total amount: ', total_amount)\n",
    "else:\n",
    "    print('There is an error')"
   ]
  },
  {
   "cell_type": "markdown",
   "id": "e2abe1b2",
   "metadata": {},
   "source": [
    "**For loops - When you want to iterate on something, for example: Lists, Tuples, Sets etc**"
   ]
  },
  {
   "cell_type": "code",
   "execution_count": 201,
   "id": "a86c0d7f",
   "metadata": {},
   "outputs": [
    {
     "name": "stdout",
     "output_type": "stream",
     "text": [
      "0\n",
      "1\n",
      "2\n",
      "3\n",
      "4\n",
      "5\n",
      "6\n",
      "7\n",
      "8\n",
      "9\n"
     ]
    }
   ],
   "source": [
    "for i in range(0,10):\n",
    "    print(i)"
   ]
  },
  {
   "cell_type": "code",
   "execution_count": 207,
   "id": "b5cdc96e",
   "metadata": {},
   "outputs": [
    {
     "name": "stdout",
     "output_type": "stream",
     "text": [
      "I\n",
      "C\n",
      "I\n",
      "C\n",
      "I\n",
      " \n",
      "P\n",
      "R\n",
      "U\n"
     ]
    }
   ],
   "source": [
    "import time\n",
    "company = 'ICICI PRU'\n",
    "for i in list(range(0,len(company))):\n",
    "    print(company[i])\n",
    "    time.sleep(2)"
   ]
  },
  {
   "cell_type": "code",
   "execution_count": 208,
   "id": "16e62e3e",
   "metadata": {},
   "outputs": [
    {
     "name": "stdout",
     "output_type": "stream",
     "text": [
      "0.10028028651510433\n",
      "0.05468399820708202\n",
      "0.09902597402597403\n",
      "0.19164619164619165\n"
     ]
    }
   ],
   "source": [
    "sales = [3211,2231,1232,1221]\n",
    "profit = [322,122,122,234]\n",
    "for i in range(0,len(sales)):\n",
    "    print(profit[i]/sales[i])"
   ]
  },
  {
   "cell_type": "markdown",
   "id": "1810379e",
   "metadata": {},
   "source": [
    "**Banking examples for For Loops**"
   ]
  },
  {
   "cell_type": "markdown",
   "id": "36edbccb",
   "metadata": {},
   "source": [
    "Transaction History"
   ]
  },
  {
   "cell_type": "code",
   "execution_count": 210,
   "id": "4317c77b",
   "metadata": {},
   "outputs": [
    {
     "name": "stdout",
     "output_type": "stream",
     "text": [
      "Transaction History\n",
      "Deposit:  50\n",
      "Withdrawal:  20\n",
      "Deposit:  100\n",
      "Withdrawal:  30\n",
      "Withdrawal:  10\n"
     ]
    }
   ],
   "source": [
    "transaction_history = [50,-20,100,-30,-10]\n",
    "print('Transaction History')\n",
    "for x in transaction_history:\n",
    "    if x>0:\n",
    "        print('Deposit: ', x)\n",
    "    else:\n",
    "        print('Withdrawal: ', abs(x))"
   ]
  },
  {
   "cell_type": "markdown",
   "id": "4c9c1cda",
   "metadata": {},
   "source": [
    "Account Summation"
   ]
  },
  {
   "cell_type": "code",
   "execution_count": 212,
   "id": "ee191233",
   "metadata": {},
   "outputs": [
    {
     "name": "stdout",
     "output_type": "stream",
     "text": [
      "Total account balance:  18000\n"
     ]
    }
   ],
   "source": [
    "account_balances = [1000,2000,3000,4000,5000,3000]\n",
    "total_balance = 0 \n",
    "for balance in account_balances:\n",
    "    total_balance +=balance\n",
    "    \n",
    "print('Total account balance: ', total_balance)"
   ]
  },
  {
   "cell_type": "markdown",
   "id": "a1f3040c",
   "metadata": {},
   "source": [
    "Interest Calculation"
   ]
  },
  {
   "cell_type": "code",
   "execution_count": 213,
   "id": "e1716b92",
   "metadata": {},
   "outputs": [
    {
     "name": "stdout",
     "output_type": "stream",
     "text": [
      "Updated account balances:  [1050.0, 2100.0, 3150.0, 4200.0, 5250.0, 3150.0]\n"
     ]
    }
   ],
   "source": [
    "account_balances = [1000,2000,3000,4000,5000,3000]\n",
    "interest_rate = 0.05\n",
    "\n",
    "for i in range(len(account_balances)):\n",
    "    interest = account_balances[i] * interest_rate\n",
    "    account_balances[i]+=interest\n",
    "print('Updated account balances: ', account_balances)"
   ]
  },
  {
   "cell_type": "markdown",
   "id": "51494570",
   "metadata": {},
   "source": [
    "Account Closure"
   ]
  },
  {
   "cell_type": "code",
   "execution_count": 216,
   "id": "8e3c5c17",
   "metadata": {},
   "outputs": [
    {
     "name": "stdout",
     "output_type": "stream",
     "text": [
      "Which account you want to close: 345678\n",
      "Account not found\n",
      "Account not found\n",
      "Closing account:  345678\n",
      "Remaining accounts: [123456, 789012, 901234]\n"
     ]
    }
   ],
   "source": [
    "account_numbers = [123456, 789012, 345678, 901234]\n",
    "account_to_close = int(input('Which account you want to close: '))\n",
    "\n",
    "for account in account_numbers:\n",
    "    if account == account_to_close:\n",
    "        print('Closing account: ', account)\n",
    "        account_numbers.remove(account)\n",
    "        break\n",
    "    else:\n",
    "        print('Account not found')\n",
    "print('Remaining accounts:', account_numbers)"
   ]
  },
  {
   "cell_type": "code",
   "execution_count": 218,
   "id": "03f54b55",
   "metadata": {},
   "outputs": [
    {
     "name": "stdout",
     "output_type": "stream",
     "text": [
      "Which account you want to close: 345678\n",
      "Closing account:  345678\n",
      "Remaining accounts: [123456, 789012, 901234]\n"
     ]
    }
   ],
   "source": [
    "account_numbers = [123456, 789012, 345678, 901234]\n",
    "account_to_close = int(input('Which account you want to close: '))\n",
    "\n",
    "for account in account_numbers:\n",
    "    if account == account_to_close:\n",
    "        print('Closing account: ', account)\n",
    "        account_numbers.remove(account)\n",
    "        break\n",
    "\n",
    "print('Remaining accounts:', account_numbers)"
   ]
  },
  {
   "cell_type": "code",
   "execution_count": 223,
   "id": "e1bf86ee",
   "metadata": {},
   "outputs": [
    {
     "name": "stdout",
     "output_type": "stream",
     "text": [
      "Which account you want to close: 345678\n",
      "Account not found\n",
      "Account not found\n",
      "Closing account:  345678\n",
      "Remaining accounts: [123456, 789012, 901234]\n"
     ]
    }
   ],
   "source": [
    "account_numbers = [123456, 789012, 345678, 901234]\n",
    "account_to_close = int(input('Which account you want to close: '))\n",
    "\n",
    "for account in account_numbers:\n",
    "    if account == account_to_close:\n",
    "        print('Closing account: ', account)\n",
    "        account_numbers.remove(account)\n",
    "    else:\n",
    "        print('Account not found')    \n",
    "\n",
    "print('Remaining accounts:', account_numbers)"
   ]
  },
  {
   "cell_type": "markdown",
   "id": "28148bd9",
   "metadata": {},
   "source": [
    "Account Statement"
   ]
  },
  {
   "cell_type": "code",
   "execution_count": 224,
   "id": "ff07df5d",
   "metadata": {},
   "outputs": [],
   "source": [
    "account_transactions = [{\"date\":\"2023-07-01\",\"type\":\"Deposit\",\"amount\":100},\n",
    "                        {\"date\":\"2023-07-02\",\"type\":\"Withdrawal\",\"amount\":50},\n",
    "                        {\"date\":\"2023-07-03\",\"type\":\"Deposit\",\"amount\":200},\n",
    "                        {\"date\":\"2023-07-04\",\"type\":\"Withdrawal\",\"amount\":75}]"
   ]
  },
  {
   "cell_type": "code",
   "execution_count": 230,
   "id": "ea62f6fa",
   "metadata": {},
   "outputs": [
    {
     "name": "stdout",
     "output_type": "stream",
     "text": [
      "Account Statement\n",
      "2023-07-01 - Deposit - 100\n",
      "2023-07-02 - Withdrawal - 50\n",
      "2023-07-03 - Deposit - 200\n",
      "2023-07-04 - Withdrawal - 75\n"
     ]
    }
   ],
   "source": [
    "print(\"Account Statement\")\n",
    "for transaction in account_transactions:\n",
    "    print(transaction['date'], \"-\", transaction['type'], \"-\", transaction['amount'])"
   ]
  },
  {
   "cell_type": "code",
   "execution_count": 232,
   "id": "b10fe913",
   "metadata": {},
   "outputs": [
    {
     "name": "stdout",
     "output_type": "stream",
     "text": [
      "2023-07-01 - Deposit - 100\n",
      "2023-07-02 - Withdrawal - 50\n",
      "2023-07-03 - Deposit - 200\n",
      "2023-07-04 - Withdrawal - 75\n"
     ]
    }
   ],
   "source": [
    "transaction_date = [\"2023-07-01\", \"2023-07-02\",\"2023-07-03\",\"2023-07-04\"]\n",
    "transaction_type = [\"Deposit\",\"Withdrawal\",\"Deposit\",\"Withdrawal\"]\n",
    "transaction_amount = [100,50,200,75]\n",
    "\n",
    "for (td,tt,ta) in zip(transaction_date,transaction_type,transaction_amount):\n",
    "    print(td, '-', tt, '-', ta)"
   ]
  },
  {
   "cell_type": "markdown",
   "id": "a8b28ffc",
   "metadata": {},
   "source": [
    "# While Loops"
   ]
  },
  {
   "cell_type": "code",
   "execution_count": null,
   "id": "ece3a852",
   "metadata": {},
   "outputs": [],
   "source": [
    "while condition:\n",
    "    getoutput"
   ]
  },
  {
   "cell_type": "markdown",
   "id": "289af3ed",
   "metadata": {},
   "source": [
    "Python discount"
   ]
  },
  {
   "cell_type": "markdown",
   "id": "1c2db354",
   "metadata": {},
   "source": [
    "**This is an infinite loop, because the condition will always be true**"
   ]
  },
  {
   "cell_type": "code",
   "execution_count": 2,
   "id": "131113c4",
   "metadata": {},
   "outputs": [],
   "source": [
    "#coupouns = 5\n",
    "#utilized = 0 \n",
    "#while utilized<coupouns:\n",
    "#    print('The total coupouns left are: ', coupouns-utilized)"
   ]
  },
  {
   "cell_type": "code",
   "execution_count": 3,
   "id": "e4a9d952",
   "metadata": {},
   "outputs": [
    {
     "name": "stdout",
     "output_type": "stream",
     "text": [
      "The total coupouns left are:  5\n",
      "The total coupouns left are:  4\n",
      "The total coupouns left are:  3\n",
      "The total coupouns left are:  2\n",
      "The total coupouns left are:  1\n",
      "No coupouns left\n"
     ]
    }
   ],
   "source": [
    "coupouns = 5\n",
    "utilized = 0 \n",
    "while utilized<coupouns:\n",
    "    print('The total coupouns left are: ', coupouns-utilized)\n",
    "    utilized+=1\n",
    "print('No coupouns left')"
   ]
  },
  {
   "cell_type": "markdown",
   "id": "c8b69145",
   "metadata": {},
   "source": [
    "Factorial of a number"
   ]
  },
  {
   "cell_type": "code",
   "execution_count": 239,
   "id": "f15e2fef",
   "metadata": {},
   "outputs": [
    {
     "name": "stdout",
     "output_type": "stream",
     "text": [
      "Factorial of number: -5\n",
      "There is no factorial of the negative number\n"
     ]
    }
   ],
   "source": [
    "number = int(input('Factorial of number: '))\n",
    "if number<0:\n",
    "    print('There is no factorial of the negative number')\n",
    "else:\n",
    "    result = 1 \n",
    "    while number>0:\n",
    "        result = result*number\n",
    "        number-=1\n",
    "    print(result)"
   ]
  },
  {
   "cell_type": "code",
   "execution_count": 240,
   "id": "2de6a10d",
   "metadata": {},
   "outputs": [],
   "source": [
    "while False:\n",
    "    print('Hi')"
   ]
  },
  {
   "cell_type": "markdown",
   "id": "a6abc07e",
   "metadata": {},
   "source": [
    "**This code will always give me 1 as we are resetting the value of result to 1 in every iteration**"
   ]
  },
  {
   "cell_type": "code",
   "execution_count": 18,
   "id": "9fa29ec3",
   "metadata": {},
   "outputs": [
    {
     "name": "stdout",
     "output_type": "stream",
     "text": [
      "1\n"
     ]
    }
   ],
   "source": [
    "number = 5\n",
    "while number>0:\n",
    "    result = 1 \n",
    "    result = result*number\n",
    "    number-=1\n",
    "print(result)"
   ]
  },
  {
   "cell_type": "code",
   "execution_count": 244,
   "id": "f1b45b5e",
   "metadata": {},
   "outputs": [
    {
     "name": "stdout",
     "output_type": "stream",
     "text": [
      "5\n",
      "20\n",
      "60\n",
      "120\n",
      "120\n"
     ]
    }
   ],
   "source": [
    "number = 5\n",
    "result = 1\n",
    "while number>0:\n",
    "    result = result*number\n",
    "    number-=1\n",
    "    print(result)"
   ]
  },
  {
   "cell_type": "markdown",
   "id": "951a0257",
   "metadata": {},
   "source": [
    "# Functions"
   ]
  },
  {
   "cell_type": "markdown",
   "id": "8bc4e4c6",
   "metadata": {},
   "source": [
    "**Functions are reusable codes, which we can reuse in our big codes, it reduces the lines of code**\n",
    "\n",
    "**def - Means we are defining the function**\n",
    "\n",
    "**greeting() - Function name, The purpose of the bracket is we can add any of the input parameter in the function, if requred.**\n",
    "\n",
    "**Below function with no input parameter**"
   ]
  },
  {
   "cell_type": "code",
   "execution_count": 4,
   "id": "1d079a55",
   "metadata": {},
   "outputs": [],
   "source": [
    "def greeting():\n",
    "    print('Good Morning')"
   ]
  },
  {
   "cell_type": "code",
   "execution_count": 5,
   "id": "0a81ee82",
   "metadata": {},
   "outputs": [
    {
     "name": "stdout",
     "output_type": "stream",
     "text": [
      "Good Morning\n"
     ]
    }
   ],
   "source": [
    "greeting()"
   ]
  },
  {
   "cell_type": "code",
   "execution_count": 6,
   "id": "2c95028d",
   "metadata": {},
   "outputs": [
    {
     "name": "stdout",
     "output_type": "stream",
     "text": [
      "Good Morning\n",
      "Good Morning\n",
      "Good Morning\n",
      "Good Morning\n",
      "Good Morning\n",
      "Good Morning\n",
      "Good Morning\n",
      "Good Morning\n",
      "Good Morning\n",
      "Good Morning\n",
      "Good Morning\n",
      "Good Morning\n",
      "Good Morning\n",
      "Good Morning\n",
      "Good Morning\n",
      "Good Morning\n",
      "Good Morning\n",
      "Good Morning\n",
      "Good Morning\n",
      "Good Morning\n",
      "Good Morning\n",
      "Good Morning\n"
     ]
    }
   ],
   "source": [
    "for i in range(0,22):\n",
    "    greeting()"
   ]
  },
  {
   "cell_type": "code",
   "execution_count": 7,
   "id": "8a1caa34",
   "metadata": {},
   "outputs": [],
   "source": [
    "def greeting(name):\n",
    "    print('Good Morning', name)"
   ]
  },
  {
   "cell_type": "code",
   "execution_count": 8,
   "id": "a2ff51e0",
   "metadata": {},
   "outputs": [
    {
     "name": "stdout",
     "output_type": "stream",
     "text": [
      "Good Morning A\n"
     ]
    }
   ],
   "source": [
    "greeting('A')"
   ]
  },
  {
   "cell_type": "code",
   "execution_count": 9,
   "id": "d0cacccf",
   "metadata": {},
   "outputs": [
    {
     "name": "stdout",
     "output_type": "stream",
     "text": [
      "Good Morning A\n",
      "Good Morning B\n",
      "Good Morning C\n",
      "Good Morning D\n"
     ]
    }
   ],
   "source": [
    "list1 = ['A','B','C','D']\n",
    "for i in list1:\n",
    "    greeting(i)"
   ]
  },
  {
   "cell_type": "code",
   "execution_count": 10,
   "id": "8c58a1dd",
   "metadata": {},
   "outputs": [],
   "source": [
    "def greeting(name='Learner'):\n",
    "    \"\"\"This function greets my learners\"\"\"\n",
    "    print('Good Morning', name)"
   ]
  },
  {
   "cell_type": "code",
   "execution_count": 11,
   "id": "7ca250d4",
   "metadata": {},
   "outputs": [
    {
     "name": "stdout",
     "output_type": "stream",
     "text": [
      "Good Morning A\n"
     ]
    }
   ],
   "source": [
    "greeting('A')"
   ]
  },
  {
   "cell_type": "code",
   "execution_count": 12,
   "id": "b47dca9e",
   "metadata": {},
   "outputs": [
    {
     "name": "stdout",
     "output_type": "stream",
     "text": [
      "Good Morning Learner\n"
     ]
    }
   ],
   "source": [
    "greeting()"
   ]
  },
  {
   "cell_type": "code",
   "execution_count": 13,
   "id": "78bb07ce",
   "metadata": {},
   "outputs": [],
   "source": [
    "def calculator(num1,num2,operation='all'):\n",
    "\n",
    "    if operation=='all':\n",
    "        print(num1+num2)\n",
    "        print(num1-num2)\n",
    "        print(num1*num2)\n",
    "        print(num1/num2)\n",
    "        \n",
    "    elif operation=='add':\n",
    "        print(num1+num2)\n",
    "        \n",
    "    elif operation=='sub':\n",
    "        print(num1-num2)\n",
    "        \n",
    "    elif operation=='mul':\n",
    "        print(num1*num2)\n",
    "    \n",
    "    elif operation=='div':\n",
    "        print(num1/num2)\n",
    "        \n",
    "    else:\n",
    "        print('Please pass the correct option')"
   ]
  },
  {
   "cell_type": "code",
   "execution_count": 14,
   "id": "2d36b452",
   "metadata": {},
   "outputs": [
    {
     "name": "stdout",
     "output_type": "stream",
     "text": [
      "12\n",
      "8\n",
      "20\n",
      "5.0\n"
     ]
    }
   ],
   "source": [
    "calculator(10,2,'all')"
   ]
  },
  {
   "cell_type": "code",
   "execution_count": 16,
   "id": "2abe77a0",
   "metadata": {},
   "outputs": [],
   "source": [
    "def factorial(number):\n",
    "    if number<0:\n",
    "        print('There is no factorial of a negative number')\n",
    "    else:\n",
    "        result = 1\n",
    "        while number>=1:\n",
    "            result = result*number\n",
    "            number=number-1\n",
    "        print(result)"
   ]
  },
  {
   "cell_type": "code",
   "execution_count": 17,
   "id": "7c5d3e1f",
   "metadata": {},
   "outputs": [
    {
     "name": "stdout",
     "output_type": "stream",
     "text": [
      "There is no factorial of a negative number\n"
     ]
    }
   ],
   "source": [
    "factorial(-10)"
   ]
  }
 ],
 "metadata": {
  "kernelspec": {
   "display_name": "Python 3 (ipykernel)",
   "language": "python",
   "name": "python3"
  },
  "language_info": {
   "codemirror_mode": {
    "name": "ipython",
    "version": 3
   },
   "file_extension": ".py",
   "mimetype": "text/x-python",
   "name": "python",
   "nbconvert_exporter": "python",
   "pygments_lexer": "ipython3",
   "version": "3.9.13"
  }
 },
 "nbformat": 4,
 "nbformat_minor": 5
}
