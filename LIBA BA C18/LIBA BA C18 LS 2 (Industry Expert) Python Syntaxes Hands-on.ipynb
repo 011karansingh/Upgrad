{
 "cells": [
  {
   "cell_type": "markdown",
   "id": "c7442186",
   "metadata": {},
   "source": [
    "# Python - An Introduction"
   ]
  },
  {
   "cell_type": "markdown",
   "id": "6d0ba098",
   "metadata": {},
   "source": [
    "**Data** \n",
    "    \n",
    "    1) Catergorical/Qualitative/Dimensions\n",
    "        a) Nominal - Gender/State/Department (No order associated) \n",
    "        \n",
    "        b) Ordinal - Rank/Feedback - Poor/Avg/Good/Excellent (Order is associated)\n",
    "        \n",
    "        c) Boolean - True/False - Yes/No \n",
    "    \n",
    "    \n",
    "    2) Numerical/Quantitative/Facts/Measures\n",
    "        a) Discrete - No with no decimals, 5 Pens\n",
    "        \n",
    "        b) Continuous - No with decimals, 5.5 Lts of milk\n"
   ]
  },
  {
   "cell_type": "markdown",
   "id": "669137f6",
   "metadata": {},
   "source": [
    "**String** - Whenever you are passing a value in a quotes, it can be single quote '' or it can be double quote also \"\", These are for multiline texts '''''', \"\"\"\"\"\" , '123' - If we are passing a number in the quotes still it is consider as a string\n",
    "\n",
    "**Integer** - Number without decimals \n",
    "\n",
    "**Float** - Number with decimals \n",
    "\n",
    "**Boolean** - True and False"
   ]
  },
  {
   "cell_type": "markdown",
   "id": "b75f0717",
   "metadata": {},
   "source": [
    "**Variable or Identifier - Naming convention**\n",
    "\n",
    "    1) Alphabets can be used - It can be small or capital, Python is a case senstive programming language i.e. cust and CUST both these variables are different\n",
    "    \n",
    "    2) Numbers - But numbers should not be at the start i.e. 123cust = 'Rahul' - Error, cu123st = 'Rahul' (No issues), cust123 = 'Rahul' (No issues)\n",
    "    \n",
    "    3) Underscores - We can only use underscores in the identifier, it can be any where in the identifier i.e. _cust, cu_st, cust_\n",
    "    \n",
    "    4) We cannot use Python specific keywords as an identifier, there are 36 keywords in python \n",
    "        import keyword\n",
    "        keyword.kwlist"
   ]
  },
  {
   "cell_type": "code",
   "execution_count": 13,
   "id": "eef34ca5",
   "metadata": {},
   "outputs": [],
   "source": [
    "customer_name = 'John'"
   ]
  },
  {
   "cell_type": "code",
   "execution_count": 8,
   "id": "6252abb5",
   "metadata": {},
   "outputs": [
    {
     "data": {
      "text/plain": [
       "36"
      ]
     },
     "execution_count": 8,
     "metadata": {},
     "output_type": "execute_result"
    }
   ],
   "source": [
    "import keyword\n",
    "len(keyword.kwlist)"
   ]
  },
  {
   "cell_type": "code",
   "execution_count": 9,
   "id": "47df5852",
   "metadata": {},
   "outputs": [
    {
     "data": {
      "text/plain": [
       "['False',\n",
       " 'None',\n",
       " 'True',\n",
       " '__peg_parser__',\n",
       " 'and',\n",
       " 'as',\n",
       " 'assert',\n",
       " 'async',\n",
       " 'await',\n",
       " 'break',\n",
       " 'class',\n",
       " 'continue',\n",
       " 'def',\n",
       " 'del',\n",
       " 'elif',\n",
       " 'else',\n",
       " 'except',\n",
       " 'finally',\n",
       " 'for',\n",
       " 'from',\n",
       " 'global',\n",
       " 'if',\n",
       " 'import',\n",
       " 'in',\n",
       " 'is',\n",
       " 'lambda',\n",
       " 'nonlocal',\n",
       " 'not',\n",
       " 'or',\n",
       " 'pass',\n",
       " 'raise',\n",
       " 'return',\n",
       " 'try',\n",
       " 'while',\n",
       " 'with',\n",
       " 'yield']"
      ]
     },
     "execution_count": 9,
     "metadata": {},
     "output_type": "execute_result"
    }
   ],
   "source": [
    "keyword.kwlist"
   ]
  },
  {
   "cell_type": "markdown",
   "id": "d02c326c",
   "metadata": {},
   "source": [
    "**False has its own meaning in Python**"
   ]
  },
  {
   "cell_type": "code",
   "execution_count": 10,
   "id": "8fd85930",
   "metadata": {},
   "outputs": [
    {
     "ename": "SyntaxError",
     "evalue": "cannot assign to False (1783068705.py, line 1)",
     "output_type": "error",
     "traceback": [
      "\u001b[1;36m  File \u001b[1;32m\"C:\\Users\\rahul\\AppData\\Local\\Temp\\ipykernel_17056\\1783068705.py\"\u001b[1;36m, line \u001b[1;32m1\u001b[0m\n\u001b[1;33m    False = 'Rahul'\u001b[0m\n\u001b[1;37m    ^\u001b[0m\n\u001b[1;31mSyntaxError\u001b[0m\u001b[1;31m:\u001b[0m cannot assign to False\n"
     ]
    }
   ],
   "source": [
    "False = 'Rahul'"
   ]
  },
  {
   "cell_type": "code",
   "execution_count": 11,
   "id": "0ab4033f",
   "metadata": {},
   "outputs": [],
   "source": [
    "false = 'Rahul'"
   ]
  },
  {
   "cell_type": "code",
   "execution_count": 12,
   "id": "40ed59fc",
   "metadata": {},
   "outputs": [
    {
     "data": {
      "text/plain": [
       "'Rahul'"
      ]
     },
     "execution_count": 12,
     "metadata": {},
     "output_type": "execute_result"
    }
   ],
   "source": [
    "false"
   ]
  },
  {
   "cell_type": "markdown",
   "id": "406c7ec0",
   "metadata": {},
   "source": [
    "# Strings"
   ]
  },
  {
   "cell_type": "code",
   "execution_count": 14,
   "id": "a65651ca",
   "metadata": {},
   "outputs": [],
   "source": [
    "company = 'Accenture'"
   ]
  },
  {
   "cell_type": "markdown",
   "id": "b712f5a5",
   "metadata": {},
   "source": [
    "**Slicing and Indexing**"
   ]
  },
  {
   "cell_type": "code",
   "execution_count": 15,
   "id": "1b481dea",
   "metadata": {},
   "outputs": [
    {
     "data": {
      "text/plain": [
       "'t'"
      ]
     },
     "execution_count": 15,
     "metadata": {},
     "output_type": "execute_result"
    }
   ],
   "source": [
    "company[5]"
   ]
  },
  {
   "cell_type": "markdown",
   "id": "f59a5d19",
   "metadata": {},
   "source": [
    "**By Default the slicing will always happens from left to right**"
   ]
  },
  {
   "cell_type": "code",
   "execution_count": 18,
   "id": "af392882",
   "metadata": {},
   "outputs": [
    {
     "data": {
      "text/plain": [
       "'centu'"
      ]
     },
     "execution_count": 18,
     "metadata": {},
     "output_type": "execute_result"
    }
   ],
   "source": [
    "company[2:7:1]"
   ]
  },
  {
   "cell_type": "markdown",
   "id": "62805d57",
   "metadata": {},
   "source": [
    "**In the below command it will jump**"
   ]
  },
  {
   "cell_type": "code",
   "execution_count": 21,
   "id": "226ae13d",
   "metadata": {},
   "outputs": [
    {
     "data": {
      "text/plain": [
       "'cnu'"
      ]
     },
     "execution_count": 21,
     "metadata": {},
     "output_type": "execute_result"
    }
   ],
   "source": [
    "company[2:7:2]"
   ]
  },
  {
   "cell_type": "code",
   "execution_count": 20,
   "id": "12f0d19c",
   "metadata": {},
   "outputs": [
    {
     "data": {
      "text/plain": [
       "'utne'"
      ]
     },
     "execution_count": 20,
     "metadata": {},
     "output_type": "execute_result"
    }
   ],
   "source": [
    "company[6:2:-1]"
   ]
  },
  {
   "cell_type": "markdown",
   "id": "51df6ecd",
   "metadata": {},
   "source": [
    "**In the below command it will jump**"
   ]
  },
  {
   "cell_type": "code",
   "execution_count": 22,
   "id": "8b47b743",
   "metadata": {},
   "outputs": [
    {
     "data": {
      "text/plain": [
       "'un'"
      ]
     },
     "execution_count": 22,
     "metadata": {},
     "output_type": "execute_result"
    }
   ],
   "source": [
    "company[6:2:-2]"
   ]
  },
  {
   "cell_type": "code",
   "execution_count": 23,
   "id": "f12409c8",
   "metadata": {},
   "outputs": [
    {
     "data": {
      "text/plain": [
       "'tneccA'"
      ]
     },
     "execution_count": 23,
     "metadata": {},
     "output_type": "execute_result"
    }
   ],
   "source": [
    "company[5::-1]"
   ]
  },
  {
   "cell_type": "code",
   "execution_count": 24,
   "id": "a5dc16f3",
   "metadata": {},
   "outputs": [
    {
     "data": {
      "text/plain": [
       "'eru'"
      ]
     },
     "execution_count": 24,
     "metadata": {},
     "output_type": "execute_result"
    }
   ],
   "source": [
    "company[:5:-1]"
   ]
  },
  {
   "cell_type": "code",
   "execution_count": 25,
   "id": "d2118f78",
   "metadata": {},
   "outputs": [
    {
     "data": {
      "text/plain": [
       "'c'"
      ]
     },
     "execution_count": 25,
     "metadata": {},
     "output_type": "execute_result"
    }
   ],
   "source": [
    "company[2]"
   ]
  },
  {
   "cell_type": "code",
   "execution_count": 26,
   "id": "bc8d05ea",
   "metadata": {},
   "outputs": [
    {
     "data": {
      "text/plain": [
       "'c'"
      ]
     },
     "execution_count": 26,
     "metadata": {},
     "output_type": "execute_result"
    }
   ],
   "source": [
    "company[-7]"
   ]
  },
  {
   "cell_type": "code",
   "execution_count": 27,
   "id": "dc92b781",
   "metadata": {},
   "outputs": [
    {
     "data": {
      "text/plain": [
       "'ccent'"
      ]
     },
     "execution_count": 27,
     "metadata": {},
     "output_type": "execute_result"
    }
   ],
   "source": [
    "company[1:-3]"
   ]
  },
  {
   "cell_type": "code",
   "execution_count": 28,
   "id": "381a6206",
   "metadata": {},
   "outputs": [
    {
     "data": {
      "text/plain": [
       "''"
      ]
     },
     "execution_count": 28,
     "metadata": {},
     "output_type": "execute_result"
    }
   ],
   "source": [
    "company[7:-8]"
   ]
  },
  {
   "cell_type": "code",
   "execution_count": 29,
   "id": "5bb9067b",
   "metadata": {},
   "outputs": [
    {
     "data": {
      "text/plain": [
       "'ccen'"
      ]
     },
     "execution_count": 29,
     "metadata": {},
     "output_type": "execute_result"
    }
   ],
   "source": [
    "company[-8:5]"
   ]
  },
  {
   "cell_type": "code",
   "execution_count": 30,
   "id": "65c28a11",
   "metadata": {},
   "outputs": [
    {
     "data": {
      "text/plain": [
       "'ccentu'"
      ]
     },
     "execution_count": 30,
     "metadata": {},
     "output_type": "execute_result"
    }
   ],
   "source": [
    "company[-8:-2]"
   ]
  },
  {
   "cell_type": "markdown",
   "id": "34e289ff",
   "metadata": {},
   "source": [
    "**String Operations**"
   ]
  },
  {
   "cell_type": "markdown",
   "id": "59813e57",
   "metadata": {},
   "source": [
    "**find() - It will give the index of the first iteration of the character, when the find command does not find the string then it will return -1 and it is not a reverse index**"
   ]
  },
  {
   "cell_type": "markdown",
   "id": "880f491a",
   "metadata": {},
   "source": [
    "**When we are using functions, we will always use () normal brackets, Slicing will always require [] square brackets**"
   ]
  },
  {
   "cell_type": "code",
   "execution_count": 38,
   "id": "202c8665",
   "metadata": {},
   "outputs": [
    {
     "name": "stdout",
     "output_type": "stream",
     "text": [
      "0\n",
      "11\n",
      "-1\n"
     ]
    }
   ],
   "source": [
    "string = 'RahulTiwariRahulTiwari'\n",
    "print(string.find('R'))\n",
    "print(string.find('R',5,15))\n",
    "print(string.find('Z'))"
   ]
  },
  {
   "cell_type": "markdown",
   "id": "610f7fdd",
   "metadata": {},
   "source": [
    "**rfind() - Finds the instance from the back but index calculation happens from the start**"
   ]
  },
  {
   "cell_type": "code",
   "execution_count": 42,
   "id": "a850cb7e",
   "metadata": {},
   "outputs": [
    {
     "name": "stdout",
     "output_type": "stream",
     "text": [
      "11\n",
      "11\n",
      "-1\n"
     ]
    }
   ],
   "source": [
    "string = 'RahulTiwariRahulTiwari'\n",
    "print(string.rfind('R'))\n",
    "print(string.rfind('R',5,15))\n",
    "print(string.rfind('Z'))"
   ]
  },
  {
   "cell_type": "markdown",
   "id": "8fb265ec",
   "metadata": {},
   "source": [
    "**Strip()** - Strip will strip the spaces from both the sides BY DEFAULT, so we can strip other characters as well by passing that inside the bracket\n",
    "\n",
    "**Lstrip()** - LStrip will strip the spaces from left side BY DEFAULT, so we can strip other characters as well by passing that inside the bracket\n",
    "\n",
    "**Rstrip()** - RStrip will strip the spaces from right side BY DEFAULT, so we can strip other characters as well by passing that inside the bracket\n",
    "\n",
    "If we want to stript multiple characters we can use multiple strip commands"
   ]
  },
  {
   "cell_type": "code",
   "execution_count": 45,
   "id": "3afc33ec",
   "metadata": {},
   "outputs": [
    {
     "data": {
      "text/plain": [
       "'Surat'"
      ]
     },
     "execution_count": 45,
     "metadata": {},
     "output_type": "execute_result"
    }
   ],
   "source": [
    "city = ' Surat '\n",
    "city.strip()"
   ]
  },
  {
   "cell_type": "code",
   "execution_count": 48,
   "id": "41813b2f",
   "metadata": {},
   "outputs": [
    {
     "data": {
      "text/plain": [
       "'Surat'"
      ]
     },
     "execution_count": 48,
     "metadata": {},
     "output_type": "execute_result"
    }
   ],
   "source": [
    "city = '$Surat$'\n",
    "city.strip('$')"
   ]
  },
  {
   "cell_type": "code",
   "execution_count": 47,
   "id": "009f9928",
   "metadata": {},
   "outputs": [
    {
     "data": {
      "text/plain": [
       "'Surat'"
      ]
     },
     "execution_count": 47,
     "metadata": {},
     "output_type": "execute_result"
    }
   ],
   "source": [
    "city = ' Surat$'\n",
    "city.strip().strip('$')"
   ]
  },
  {
   "cell_type": "markdown",
   "id": "b5212460",
   "metadata": {},
   "source": [
    "**Split() - It splits the data based on the delimiter and we can restrict that also by pass how many delimeters, in the below example we have given 2**"
   ]
  },
  {
   "cell_type": "code",
   "execution_count": 49,
   "id": "ef1f79d9",
   "metadata": {},
   "outputs": [
    {
     "data": {
      "text/plain": [
       "['Rahul', 'Tiwari', 'Atharv']"
      ]
     },
     "execution_count": 49,
     "metadata": {},
     "output_type": "execute_result"
    }
   ],
   "source": [
    "name = 'Rahul$Tiwari$Atharv'\n",
    "name.split('$')"
   ]
  },
  {
   "cell_type": "code",
   "execution_count": 51,
   "id": "f53084c2",
   "metadata": {},
   "outputs": [
    {
     "data": {
      "text/plain": [
       "['Rahul', 'Tiwari', 'Data-Science-Upgrad-LIBA-BA-C18']"
      ]
     },
     "execution_count": 51,
     "metadata": {},
     "output_type": "execute_result"
    }
   ],
   "source": [
    "data = 'Rahul-Tiwari-Data-Science-Upgrad-LIBA-BA-C18'\n",
    "data.split('-',2)"
   ]
  },
  {
   "cell_type": "markdown",
   "id": "96851949",
   "metadata": {},
   "source": [
    "**Join() - It joins the values from the list and give the output as a string**"
   ]
  },
  {
   "cell_type": "code",
   "execution_count": 52,
   "id": "9cb537b3",
   "metadata": {},
   "outputs": [
    {
     "data": {
      "text/plain": [
       "'Rahul$Tiwari$Atharv'"
      ]
     },
     "execution_count": 52,
     "metadata": {},
     "output_type": "execute_result"
    }
   ],
   "source": [
    "list1 = ['Rahul','Tiwari','Atharv']\n",
    "'$'.join(list1)"
   ]
  },
  {
   "cell_type": "markdown",
   "id": "d58f2e39",
   "metadata": {},
   "source": [
    "**Count() - Count will get the number of instances of a character, we can resctrict the same by passing the range**"
   ]
  },
  {
   "cell_type": "code",
   "execution_count": 57,
   "id": "7a979491",
   "metadata": {},
   "outputs": [
    {
     "data": {
      "text/plain": [
       "2"
      ]
     },
     "execution_count": 57,
     "metadata": {},
     "output_type": "execute_result"
    }
   ],
   "source": [
    "string = 'Rahululululul'\n",
    "string.count('u',7,11)"
   ]
  },
  {
   "cell_type": "markdown",
   "id": "acd83ffe",
   "metadata": {},
   "source": [
    "**Upper() - It will make all the characters capital** \n",
    "\n",
    "**Lower() - It will make all the characters small** \n",
    "\n",
    "**Swapcase() - In this all the caps will become small and small will become caps**\n",
    "\n",
    "**Title() - Every first character of the word will become caps**\n",
    "\n",
    "**Capitalize() - Only the first character will be the cap rest all small**\n"
   ]
  },
  {
   "cell_type": "code",
   "execution_count": 58,
   "id": "cef83d5c",
   "metadata": {},
   "outputs": [
    {
     "name": "stdout",
     "output_type": "stream",
     "text": [
      "RAHUL TIWARI IS A DATA SCIENTIST\n",
      "rahul tiwari is a data scientist\n",
      "rAHUL tIWARI IS A DATA sCIENTIST\n",
      "Rahul Tiwari Is A Data Scientist\n",
      "Rahul tiwari is a data scientist\n"
     ]
    }
   ],
   "source": [
    "data = 'Rahul Tiwari is a data Scientist'\n",
    "print(data.upper())\n",
    "print(data.lower())\n",
    "print(data.swapcase())\n",
    "print(data.title())\n",
    "print(data.capitalize())"
   ]
  },
  {
   "cell_type": "markdown",
   "id": "96d03234",
   "metadata": {},
   "source": [
    "**Startswith() - It checks if the string starts with the value which is passed in the function**\n",
    "\n",
    "**Endswith() - It checks if the string ends with the value which is passed in the function**"
   ]
  },
  {
   "cell_type": "code",
   "execution_count": 60,
   "id": "5367bff1",
   "metadata": {},
   "outputs": [
    {
     "name": "stdout",
     "output_type": "stream",
     "text": [
      "True\n",
      "False\n"
     ]
    }
   ],
   "source": [
    "data = 'Rahul Tiwari is a data Scientist'\n",
    "print(data.startswith('Rahul'))\n",
    "print(data.endswith('Rahul'))"
   ]
  },
  {
   "cell_type": "markdown",
   "id": "90bea024",
   "metadata": {},
   "source": [
    "**isalnum()** - Alnum will always be true, no matter you have alphabets, or numbers or both\n",
    "\n",
    "**isalpha()** - True when you have alphabets only\n",
    "\n",
    "**isnumeric()** - True when you have numbers only\n",
    "\n",
    "**islower()** - True when all characters are small\n",
    "\n",
    "**isupper()** - True when all characters are caps\n",
    "\n",
    "**istitle()** - When the first character of every word is cap\n",
    "\n",
    "**isspace()** -"
   ]
  },
  {
   "cell_type": "code",
   "execution_count": 62,
   "id": "bad0cf83",
   "metadata": {},
   "outputs": [
    {
     "name": "stdout",
     "output_type": "stream",
     "text": [
      "True\n",
      "True\n",
      "False\n"
     ]
    }
   ],
   "source": [
    "string = 'Rahul'\n",
    "print(string.isalnum())\n",
    "print(string.isalpha())\n",
    "print(string.isnumeric())"
   ]
  },
  {
   "cell_type": "code",
   "execution_count": 63,
   "id": "543d9742",
   "metadata": {},
   "outputs": [
    {
     "name": "stdout",
     "output_type": "stream",
     "text": [
      "True\n",
      "False\n",
      "True\n"
     ]
    }
   ],
   "source": [
    "string = '123'\n",
    "print(string.isalnum())\n",
    "print(string.isalpha())\n",
    "print(string.isnumeric())"
   ]
  },
  {
   "cell_type": "code",
   "execution_count": 61,
   "id": "7ee2c2bd",
   "metadata": {},
   "outputs": [
    {
     "name": "stdout",
     "output_type": "stream",
     "text": [
      "True\n",
      "False\n",
      "False\n"
     ]
    }
   ],
   "source": [
    "string = 'Rahul123'\n",
    "print(string.isalnum())\n",
    "print(string.isalpha())\n",
    "print(string.isnumeric())"
   ]
  },
  {
   "cell_type": "code",
   "execution_count": 64,
   "id": "01ef5f58",
   "metadata": {},
   "outputs": [
    {
     "data": {
      "text/plain": [
       "True"
      ]
     },
     "execution_count": 64,
     "metadata": {},
     "output_type": "execute_result"
    }
   ],
   "source": [
    "string = 'rahul'\n",
    "string.islower()"
   ]
  },
  {
   "cell_type": "code",
   "execution_count": 66,
   "id": "c2eb0dd8",
   "metadata": {},
   "outputs": [
    {
     "data": {
      "text/plain": [
       "True"
      ]
     },
     "execution_count": 66,
     "metadata": {},
     "output_type": "execute_result"
    }
   ],
   "source": [
    "string = 'RAHUL'\n",
    "string.isupper()"
   ]
  },
  {
   "cell_type": "code",
   "execution_count": 67,
   "id": "a1b072cc",
   "metadata": {},
   "outputs": [
    {
     "data": {
      "text/plain": [
       "True"
      ]
     },
     "execution_count": 67,
     "metadata": {},
     "output_type": "execute_result"
    }
   ],
   "source": [
    "string = 'Rahul'\n",
    "string.istitle()"
   ]
  },
  {
   "cell_type": "code",
   "execution_count": 69,
   "id": "fb8198eb",
   "metadata": {},
   "outputs": [
    {
     "data": {
      "text/plain": [
       "True"
      ]
     },
     "execution_count": 69,
     "metadata": {},
     "output_type": "execute_result"
    }
   ],
   "source": [
    "string = 'rahul tiwari'\n",
    "string[5].isspace()"
   ]
  },
  {
   "cell_type": "markdown",
   "id": "bdec31b4",
   "metadata": {},
   "source": [
    "**Concatenation**"
   ]
  },
  {
   "cell_type": "code",
   "execution_count": 70,
   "id": "5513cdfa",
   "metadata": {},
   "outputs": [
    {
     "data": {
      "text/plain": [
       "'Rahul Tiwari'"
      ]
     },
     "execution_count": 70,
     "metadata": {},
     "output_type": "execute_result"
    }
   ],
   "source": [
    "fname = 'Rahul'\n",
    "lname = 'Tiwari'\n",
    "fname + ' ' + lname"
   ]
  },
  {
   "cell_type": "code",
   "execution_count": 71,
   "id": "6d1934c7",
   "metadata": {},
   "outputs": [
    {
     "data": {
      "text/plain": [
       "'1020'"
      ]
     },
     "execution_count": 71,
     "metadata": {},
     "output_type": "execute_result"
    }
   ],
   "source": [
    "num1 = '10'\n",
    "num2 = '20'\n",
    "num1+num2"
   ]
  },
  {
   "cell_type": "markdown",
   "id": "df21827c",
   "metadata": {},
   "source": [
    "**Type Casting - Type casting is nothing but chaning the data type from one to another**"
   ]
  },
  {
   "cell_type": "code",
   "execution_count": 72,
   "id": "f1cc225c",
   "metadata": {},
   "outputs": [
    {
     "data": {
      "text/plain": [
       "30"
      ]
     },
     "execution_count": 72,
     "metadata": {},
     "output_type": "execute_result"
    }
   ],
   "source": [
    "num1 = int('10')\n",
    "num2 = int('20')\n",
    "num1+num2"
   ]
  },
  {
   "cell_type": "code",
   "execution_count": 73,
   "id": "7dd5d9f8",
   "metadata": {},
   "outputs": [
    {
     "ename": "ValueError",
     "evalue": "invalid literal for int() with base 10: 'a'",
     "output_type": "error",
     "traceback": [
      "\u001b[1;31m---------------------------------------------------------------------------\u001b[0m",
      "\u001b[1;31mValueError\u001b[0m                                Traceback (most recent call last)",
      "\u001b[1;32m~\\AppData\\Local\\Temp\\ipykernel_17056\\1062029228.py\u001b[0m in \u001b[0;36m<module>\u001b[1;34m\u001b[0m\n\u001b[1;32m----> 1\u001b[1;33m \u001b[0mnum1\u001b[0m \u001b[1;33m=\u001b[0m \u001b[0mint\u001b[0m\u001b[1;33m(\u001b[0m\u001b[1;34m'a'\u001b[0m\u001b[1;33m)\u001b[0m\u001b[1;33m\u001b[0m\u001b[1;33m\u001b[0m\u001b[0m\n\u001b[0m\u001b[0;32m      2\u001b[0m \u001b[0mnum2\u001b[0m \u001b[1;33m=\u001b[0m \u001b[0mint\u001b[0m\u001b[1;33m(\u001b[0m\u001b[1;34m'b'\u001b[0m\u001b[1;33m)\u001b[0m\u001b[1;33m\u001b[0m\u001b[1;33m\u001b[0m\u001b[0m\n\u001b[0;32m      3\u001b[0m \u001b[0mnum1\u001b[0m\u001b[1;33m+\u001b[0m\u001b[0mnum2\u001b[0m\u001b[1;33m\u001b[0m\u001b[1;33m\u001b[0m\u001b[0m\n",
      "\u001b[1;31mValueError\u001b[0m: invalid literal for int() with base 10: 'a'"
     ]
    }
   ],
   "source": [
    "num1 = int('a')\n",
    "num2 = int('b')\n",
    "num1+num2"
   ]
  },
  {
   "cell_type": "markdown",
   "id": "1ea6241f",
   "metadata": {},
   "source": [
    "**Operators in Python**\n",
    "\n"
   ]
  },
  {
   "cell_type": "markdown",
   "id": "6ff8e923",
   "metadata": {},
   "source": [
    "**Arithmetic** \n",
    "\n",
    "    1) Addition + \n",
    "    \n",
    "    2) Subtraction - \n",
    "    \n",
    "    3) Multiplication *\n",
    "    \n",
    "    4) Division /\n",
    "    \n",
    "    5) Floor Division //\n",
    "    \n",
    "    6) Modulo %\n",
    "    \n",
    "    7) Power **\n",
    "\n",
    "**Relational or Comparision**\n",
    "\n",
    "    1) Greater Than > \n",
    "    \n",
    "    2) Greater Than Equals to >=\n",
    "    \n",
    "    3) Less Than < \n",
    "    \n",
    "    4) Less Than Equals to <=\n",
    "\n",
    "**Equality**\n",
    "\n",
    "    1) Equals to ==\n",
    "    \n",
    "    2) Not Equals to !=\n",
    "\n",
    "**Ternary**\n",
    "\n",
    "**Assignment**\n",
    "\n",
    "    1) +=\n",
    "    \n",
    "    2) -=\n",
    "    \n",
    "    3) *=\n",
    "    \n",
    "    4) /=\n",
    "    \n",
    "    5) //=\n",
    "    \n",
    "    6) %=\n",
    "    \n",
    "    7) **=\n",
    "\n",
    "**Special** \n",
    "\n",
    "    a) Identity \n",
    "        a.1) Is\n",
    "        a.2) Is Not\n",
    "    \n",
    "    b) Membership\n",
    "        b.1) In\n",
    "        b.2) Not In"
   ]
  },
  {
   "cell_type": "markdown",
   "id": "8dac06fb",
   "metadata": {},
   "source": [
    "**Arithmetic**"
   ]
  },
  {
   "cell_type": "code",
   "execution_count": 75,
   "id": "f16ae449",
   "metadata": {},
   "outputs": [
    {
     "name": "stdout",
     "output_type": "stream",
     "text": [
      "num1+num2:  13\n",
      "num1-num2:  7\n",
      "num1*num2:  30\n",
      "num1/num2:  3.3333333333333335\n",
      "num1//num2:  3\n",
      "num1%num2:  1\n",
      "num1**num2:  1000\n"
     ]
    }
   ],
   "source": [
    "num1 = 10 \n",
    "num2 = 3\n",
    "\n",
    "print('num1+num2: ', num1+num2)\n",
    "print('num1-num2: ', num1-num2)\n",
    "print('num1*num2: ', num1*num2)\n",
    "print('num1/num2: ', num1/num2)\n",
    "print('num1//num2: ', num1//num2)\n",
    "print('num1%num2: ', num1%num2)\n",
    "print('num1**num2: ', num1**num2)"
   ]
  },
  {
   "cell_type": "markdown",
   "id": "3fb1504a",
   "metadata": {},
   "source": [
    "**Relation or Comparision**"
   ]
  },
  {
   "cell_type": "code",
   "execution_count": 77,
   "id": "3561a39b",
   "metadata": {},
   "outputs": [
    {
     "name": "stdout",
     "output_type": "stream",
     "text": [
      "num1>num2:  True\n",
      "num1>=num2:  True\n",
      "num1<num2:  False\n",
      "num1<=num2:  False\n"
     ]
    }
   ],
   "source": [
    "num1 = 10\n",
    "num2 = 3 \n",
    "print('num1>num2: ',num1>num2)\n",
    "print('num1>=num2: ',num1>=num2)\n",
    "print('num1<num2: ',num1<num2)\n",
    "print('num1<=num2: ',num1<=num2)"
   ]
  },
  {
   "cell_type": "markdown",
   "id": "37560344",
   "metadata": {},
   "source": [
    "**Equality Operator**"
   ]
  },
  {
   "cell_type": "code",
   "execution_count": 78,
   "id": "089a465d",
   "metadata": {},
   "outputs": [
    {
     "name": "stdout",
     "output_type": "stream",
     "text": [
      "num1==num2:  False\n",
      "num1!=num2:  True\n"
     ]
    }
   ],
   "source": [
    "num1 = 10\n",
    "num2 = 3 \n",
    "print('num1==num2: ',num1==num2)\n",
    "print('num1!=num2: ',num1!=num2)"
   ]
  },
  {
   "cell_type": "markdown",
   "id": "a6acefd6",
   "metadata": {},
   "source": [
    "**Ternary**"
   ]
  },
  {
   "cell_type": "code",
   "execution_count": 79,
   "id": "0d7e6fae",
   "metadata": {},
   "outputs": [
    {
     "data": {
      "text/plain": [
       "40"
      ]
     },
     "execution_count": 79,
     "metadata": {},
     "output_type": "execute_result"
    }
   ],
   "source": [
    "30 if 10>20 else 40"
   ]
  },
  {
   "cell_type": "code",
   "execution_count": 80,
   "id": "62b144b4",
   "metadata": {},
   "outputs": [
    {
     "data": {
      "text/plain": [
       "6"
      ]
     },
     "execution_count": 80,
     "metadata": {},
     "output_type": "execute_result"
    }
   ],
   "source": [
    "10 if 10>5>6 else 5 if 5>6 else 6"
   ]
  },
  {
   "cell_type": "markdown",
   "id": "db5cf67f",
   "metadata": {},
   "source": [
    "**Assignment** "
   ]
  },
  {
   "cell_type": "code",
   "execution_count": 81,
   "id": "87ba4fa6",
   "metadata": {},
   "outputs": [
    {
     "data": {
      "text/plain": [
       "30"
      ]
     },
     "execution_count": 81,
     "metadata": {},
     "output_type": "execute_result"
    }
   ],
   "source": [
    "num1 = 10\n",
    "num1+=20\n",
    "num1"
   ]
  },
  {
   "cell_type": "markdown",
   "id": "d9ba2f0c",
   "metadata": {},
   "source": [
    "**Special**"
   ]
  },
  {
   "cell_type": "markdown",
   "id": "91891d2f",
   "metadata": {},
   "source": [
    "Identity"
   ]
  },
  {
   "cell_type": "code",
   "execution_count": 83,
   "id": "dbe79e57",
   "metadata": {},
   "outputs": [
    {
     "name": "stdout",
     "output_type": "stream",
     "text": [
      "2468777454160\n",
      "2468777454160\n",
      "True\n"
     ]
    }
   ],
   "source": [
    "num1 = 10 \n",
    "num2 = 10 \n",
    "print(id(num1))\n",
    "print(id(num2))\n",
    "print(num1 is num2)"
   ]
  },
  {
   "cell_type": "code",
   "execution_count": 88,
   "id": "86b6afab",
   "metadata": {},
   "outputs": [
    {
     "name": "stdout",
     "output_type": "stream",
     "text": [
      "2468902303024\n",
      "2468902304016\n",
      "False\n"
     ]
    }
   ],
   "source": [
    "num1 = 257\n",
    "num2 = 257\n",
    "print(id(num1))\n",
    "print(id(num2))\n",
    "print(num1 is num2)"
   ]
  },
  {
   "cell_type": "code",
   "execution_count": 89,
   "id": "33bab389",
   "metadata": {},
   "outputs": [
    {
     "name": "stdout",
     "output_type": "stream",
     "text": [
      "2468902304112\n",
      "2468902304240\n",
      "False\n"
     ]
    }
   ],
   "source": [
    "num1 = 250.5\n",
    "num2 = 250.5\n",
    "print(id(num1))\n",
    "print(id(num2))\n",
    "print(num1 is num2)"
   ]
  },
  {
   "cell_type": "markdown",
   "id": "033f0d99",
   "metadata": {},
   "source": [
    "Membership"
   ]
  },
  {
   "cell_type": "code",
   "execution_count": 91,
   "id": "eb7fb61d",
   "metadata": {},
   "outputs": [
    {
     "data": {
      "text/plain": [
       "False"
      ]
     },
     "execution_count": 91,
     "metadata": {},
     "output_type": "execute_result"
    }
   ],
   "source": [
    "'r' not in 'Rahulr'"
   ]
  },
  {
   "cell_type": "markdown",
   "id": "fdeafd75",
   "metadata": {},
   "source": [
    "**Data Structure**\n",
    "\n",
    "    1) Lists \n",
    "        a) [] - Always start with a square bracket\n",
    "        b) Mutable in nature - We can change the values of the lists without changing the memory location \n",
    "        c) Lists can have hetergeneous data - In a single list I can have different data types \n",
    "        d) List is growable in nature\n",
    "        e) Duplicates are also allowed\n",
    "    \n",
    "    2) Tuple\n",
    "        a) () - Always start with a normal bracket\n",
    "        b) Immutable in nature - We cannot change the values of the tuples without changing the memory location \n",
    "        c) Tuples can have hetergeneous data - In a single list I can have different data types \n",
    "        d) Tuples are not growable in nature\n",
    "        e) Duplicates are also allowed\n",
    "    \n",
    "    3) Sets\n",
    "    \n",
    "    4) Dictionary\n",
    "    "
   ]
  },
  {
   "cell_type": "markdown",
   "id": "2580a924",
   "metadata": {},
   "source": [
    "**Lists**"
   ]
  },
  {
   "cell_type": "code",
   "execution_count": 127,
   "id": "3aa48089",
   "metadata": {},
   "outputs": [],
   "source": [
    "ages = [23,22,43,23,23,43,11]"
   ]
  },
  {
   "cell_type": "code",
   "execution_count": 93,
   "id": "97d73930",
   "metadata": {},
   "outputs": [
    {
     "data": {
      "text/plain": [
       "7"
      ]
     },
     "execution_count": 93,
     "metadata": {},
     "output_type": "execute_result"
    }
   ],
   "source": [
    "len(ages)"
   ]
  },
  {
   "cell_type": "code",
   "execution_count": 94,
   "id": "013f70b9",
   "metadata": {},
   "outputs": [
    {
     "data": {
      "text/plain": [
       "188"
      ]
     },
     "execution_count": 94,
     "metadata": {},
     "output_type": "execute_result"
    }
   ],
   "source": [
    "sum(ages)"
   ]
  },
  {
   "cell_type": "code",
   "execution_count": 95,
   "id": "d9339729",
   "metadata": {},
   "outputs": [
    {
     "data": {
      "text/plain": [
       "26.857142857142858"
      ]
     },
     "execution_count": 95,
     "metadata": {},
     "output_type": "execute_result"
    }
   ],
   "source": [
    "sum(ages)/len(ages)"
   ]
  },
  {
   "cell_type": "code",
   "execution_count": 96,
   "id": "c7e21778",
   "metadata": {},
   "outputs": [
    {
     "data": {
      "text/plain": [
       "11"
      ]
     },
     "execution_count": 96,
     "metadata": {},
     "output_type": "execute_result"
    }
   ],
   "source": [
    "min(ages)"
   ]
  },
  {
   "cell_type": "code",
   "execution_count": 97,
   "id": "803314d5",
   "metadata": {},
   "outputs": [
    {
     "data": {
      "text/plain": [
       "43"
      ]
     },
     "execution_count": 97,
     "metadata": {},
     "output_type": "execute_result"
    }
   ],
   "source": [
    "max(ages)"
   ]
  },
  {
   "cell_type": "code",
   "execution_count": 98,
   "id": "cc637b51",
   "metadata": {},
   "outputs": [],
   "source": [
    "del ages"
   ]
  },
  {
   "cell_type": "code",
   "execution_count": 99,
   "id": "4da0a4df",
   "metadata": {},
   "outputs": [
    {
     "ename": "NameError",
     "evalue": "name 'ages' is not defined",
     "output_type": "error",
     "traceback": [
      "\u001b[1;31m---------------------------------------------------------------------------\u001b[0m",
      "\u001b[1;31mNameError\u001b[0m                                 Traceback (most recent call last)",
      "\u001b[1;32m~\\AppData\\Local\\Temp\\ipykernel_17056\\497951757.py\u001b[0m in \u001b[0;36m<module>\u001b[1;34m\u001b[0m\n\u001b[1;32m----> 1\u001b[1;33m \u001b[0mages\u001b[0m\u001b[1;33m\u001b[0m\u001b[1;33m\u001b[0m\u001b[0m\n\u001b[0m",
      "\u001b[1;31mNameError\u001b[0m: name 'ages' is not defined"
     ]
    }
   ],
   "source": [
    "ages"
   ]
  },
  {
   "cell_type": "code",
   "execution_count": 108,
   "id": "66f170ed",
   "metadata": {},
   "outputs": [
    {
     "data": {
      "text/plain": [
       "[23, 22, 43, 23, 23, 43, 11]"
      ]
     },
     "execution_count": 108,
     "metadata": {},
     "output_type": "execute_result"
    }
   ],
   "source": [
    "ages"
   ]
  },
  {
   "cell_type": "code",
   "execution_count": 107,
   "id": "c2eecafe",
   "metadata": {},
   "outputs": [
    {
     "name": "stdout",
     "output_type": "stream",
     "text": [
      "<class 'bool'>\n"
     ]
    }
   ],
   "source": [
    "list1 = ['A',10,10.5,True]\n",
    "print(type(list1[3]))"
   ]
  },
  {
   "cell_type": "code",
   "execution_count": 109,
   "id": "9acef923",
   "metadata": {},
   "outputs": [],
   "source": [
    "ages.append(10)"
   ]
  },
  {
   "cell_type": "code",
   "execution_count": 112,
   "id": "6650ed6f",
   "metadata": {},
   "outputs": [],
   "source": [
    "ages.append([11,12,13])"
   ]
  },
  {
   "cell_type": "code",
   "execution_count": 114,
   "id": "dd9bc24c",
   "metadata": {},
   "outputs": [
    {
     "data": {
      "text/plain": [
       "[11, 12, 13]"
      ]
     },
     "execution_count": 114,
     "metadata": {},
     "output_type": "execute_result"
    }
   ],
   "source": [
    "ages[-1]"
   ]
  },
  {
   "cell_type": "code",
   "execution_count": 116,
   "id": "49601814",
   "metadata": {},
   "outputs": [
    {
     "data": {
      "text/plain": [
       "13"
      ]
     },
     "execution_count": 116,
     "metadata": {},
     "output_type": "execute_result"
    }
   ],
   "source": [
    "ages[-1][-1]"
   ]
  },
  {
   "cell_type": "code",
   "execution_count": 118,
   "id": "822f9a9d",
   "metadata": {},
   "outputs": [],
   "source": [
    "del ages[-1]"
   ]
  },
  {
   "cell_type": "code",
   "execution_count": 120,
   "id": "279b30e2",
   "metadata": {},
   "outputs": [],
   "source": [
    "ages.extend([11,12,13])"
   ]
  },
  {
   "cell_type": "code",
   "execution_count": 122,
   "id": "7fe6b990",
   "metadata": {},
   "outputs": [
    {
     "data": {
      "text/plain": [
       "13"
      ]
     },
     "execution_count": 122,
     "metadata": {},
     "output_type": "execute_result"
    }
   ],
   "source": [
    "ages[-1]"
   ]
  },
  {
   "cell_type": "code",
   "execution_count": 123,
   "id": "02d49b2f",
   "metadata": {},
   "outputs": [],
   "source": [
    "ages.clear()"
   ]
  },
  {
   "cell_type": "code",
   "execution_count": 125,
   "id": "93464c42",
   "metadata": {},
   "outputs": [],
   "source": [
    "del ages"
   ]
  },
  {
   "cell_type": "code",
   "execution_count": 126,
   "id": "c0401e3a",
   "metadata": {},
   "outputs": [
    {
     "ename": "NameError",
     "evalue": "name 'ages' is not defined",
     "output_type": "error",
     "traceback": [
      "\u001b[1;31m---------------------------------------------------------------------------\u001b[0m",
      "\u001b[1;31mNameError\u001b[0m                                 Traceback (most recent call last)",
      "\u001b[1;32m~\\AppData\\Local\\Temp\\ipykernel_17056\\497951757.py\u001b[0m in \u001b[0;36m<module>\u001b[1;34m\u001b[0m\n\u001b[1;32m----> 1\u001b[1;33m \u001b[0mages\u001b[0m\u001b[1;33m\u001b[0m\u001b[1;33m\u001b[0m\u001b[0m\n\u001b[0m",
      "\u001b[1;31mNameError\u001b[0m: name 'ages' is not defined"
     ]
    }
   ],
   "source": [
    "ages"
   ]
  },
  {
   "cell_type": "code",
   "execution_count": 129,
   "id": "9cff58ac",
   "metadata": {},
   "outputs": [],
   "source": [
    "ages1 = ages.copy()"
   ]
  },
  {
   "cell_type": "code",
   "execution_count": 140,
   "id": "50513ad4",
   "metadata": {},
   "outputs": [
    {
     "data": {
      "text/plain": [
       "2468895692480"
      ]
     },
     "execution_count": 140,
     "metadata": {},
     "output_type": "execute_result"
    }
   ],
   "source": [
    "id(ages1)"
   ]
  },
  {
   "cell_type": "code",
   "execution_count": 134,
   "id": "f83fa849",
   "metadata": {},
   "outputs": [],
   "source": [
    "ages[0] = 100"
   ]
  },
  {
   "cell_type": "code",
   "execution_count": 138,
   "id": "51a5d3b3",
   "metadata": {},
   "outputs": [
    {
     "data": {
      "text/plain": [
       "2468895666112"
      ]
     },
     "execution_count": 138,
     "metadata": {},
     "output_type": "execute_result"
    }
   ],
   "source": [
    "id(ages)"
   ]
  },
  {
   "cell_type": "code",
   "execution_count": 132,
   "id": "afc6145c",
   "metadata": {},
   "outputs": [],
   "source": [
    "ages2 = ages"
   ]
  },
  {
   "cell_type": "code",
   "execution_count": 139,
   "id": "b33012ac",
   "metadata": {},
   "outputs": [
    {
     "data": {
      "text/plain": [
       "2468895666112"
      ]
     },
     "execution_count": 139,
     "metadata": {},
     "output_type": "execute_result"
    }
   ],
   "source": [
    "id(ages2)"
   ]
  },
  {
   "cell_type": "code",
   "execution_count": 141,
   "id": "0314eab1",
   "metadata": {},
   "outputs": [],
   "source": [
    "del ages2"
   ]
  },
  {
   "cell_type": "code",
   "execution_count": 142,
   "id": "6d88e9d9",
   "metadata": {},
   "outputs": [
    {
     "data": {
      "text/plain": [
       "[100, 22, 43, 23, 23, 43, 11]"
      ]
     },
     "execution_count": 142,
     "metadata": {},
     "output_type": "execute_result"
    }
   ],
   "source": [
    "ages"
   ]
  },
  {
   "cell_type": "code",
   "execution_count": 143,
   "id": "c8582c40",
   "metadata": {},
   "outputs": [
    {
     "data": {
      "text/plain": [
       "2"
      ]
     },
     "execution_count": 143,
     "metadata": {},
     "output_type": "execute_result"
    }
   ],
   "source": [
    "ages.count(23)"
   ]
  },
  {
   "cell_type": "code",
   "execution_count": 144,
   "id": "9efd32f6",
   "metadata": {},
   "outputs": [
    {
     "data": {
      "text/plain": [
       "3"
      ]
     },
     "execution_count": 144,
     "metadata": {},
     "output_type": "execute_result"
    }
   ],
   "source": [
    "ages.index(23)"
   ]
  },
  {
   "cell_type": "code",
   "execution_count": 145,
   "id": "84f3b544",
   "metadata": {},
   "outputs": [],
   "source": [
    "ages.insert(4,'Rahul')"
   ]
  },
  {
   "cell_type": "code",
   "execution_count": 147,
   "id": "c4e3211f",
   "metadata": {},
   "outputs": [],
   "source": [
    "ages.insert(4,[1,2,3,4])"
   ]
  },
  {
   "cell_type": "code",
   "execution_count": 149,
   "id": "ef8d8ba5",
   "metadata": {},
   "outputs": [
    {
     "data": {
      "text/plain": [
       "11"
      ]
     },
     "execution_count": 149,
     "metadata": {},
     "output_type": "execute_result"
    }
   ],
   "source": [
    "ages.pop()"
   ]
  },
  {
   "cell_type": "code",
   "execution_count": 151,
   "id": "34ee707d",
   "metadata": {},
   "outputs": [
    {
     "data": {
      "text/plain": [
       "[1, 2, 3, 4]"
      ]
     },
     "execution_count": 151,
     "metadata": {},
     "output_type": "execute_result"
    }
   ],
   "source": [
    "ages.pop(4)"
   ]
  },
  {
   "cell_type": "code",
   "execution_count": 153,
   "id": "333052be",
   "metadata": {},
   "outputs": [],
   "source": [
    "ages.remove('Rahul')"
   ]
  },
  {
   "cell_type": "code",
   "execution_count": 155,
   "id": "981eea2a",
   "metadata": {},
   "outputs": [],
   "source": [
    "ages.reverse()"
   ]
  },
  {
   "cell_type": "code",
   "execution_count": 157,
   "id": "c559c161",
   "metadata": {},
   "outputs": [],
   "source": [
    "ages.sort()"
   ]
  },
  {
   "cell_type": "code",
   "execution_count": 159,
   "id": "c054917e",
   "metadata": {},
   "outputs": [],
   "source": [
    "ages.sort(reverse=True)"
   ]
  },
  {
   "cell_type": "code",
   "execution_count": 160,
   "id": "44da6d4d",
   "metadata": {},
   "outputs": [
    {
     "data": {
      "text/plain": [
       "[100, 43, 43, 23, 23, 22]"
      ]
     },
     "execution_count": 160,
     "metadata": {},
     "output_type": "execute_result"
    }
   ],
   "source": [
    "ages"
   ]
  },
  {
   "cell_type": "markdown",
   "id": "047113a6",
   "metadata": {},
   "source": [
    "**Tuples**"
   ]
  },
  {
   "cell_type": "code",
   "execution_count": 171,
   "id": "0a550d8b",
   "metadata": {},
   "outputs": [],
   "source": [
    "salary = (1,2,3,4,5,6)"
   ]
  },
  {
   "cell_type": "code",
   "execution_count": 162,
   "id": "2eba6432",
   "metadata": {},
   "outputs": [
    {
     "data": {
      "text/plain": [
       "tuple"
      ]
     },
     "execution_count": 162,
     "metadata": {},
     "output_type": "execute_result"
    }
   ],
   "source": [
    "type(salary)"
   ]
  },
  {
   "cell_type": "code",
   "execution_count": 163,
   "id": "d3590e80",
   "metadata": {},
   "outputs": [
    {
     "ename": "TypeError",
     "evalue": "'tuple' object does not support item assignment",
     "output_type": "error",
     "traceback": [
      "\u001b[1;31m---------------------------------------------------------------------------\u001b[0m",
      "\u001b[1;31mTypeError\u001b[0m                                 Traceback (most recent call last)",
      "\u001b[1;32m~\\AppData\\Local\\Temp\\ipykernel_17056\\1728084185.py\u001b[0m in \u001b[0;36m<module>\u001b[1;34m\u001b[0m\n\u001b[1;32m----> 1\u001b[1;33m \u001b[0msalary\u001b[0m\u001b[1;33m[\u001b[0m\u001b[1;36m0\u001b[0m\u001b[1;33m]\u001b[0m \u001b[1;33m=\u001b[0m \u001b[1;36m10\u001b[0m\u001b[1;33m\u001b[0m\u001b[1;33m\u001b[0m\u001b[0m\n\u001b[0m",
      "\u001b[1;31mTypeError\u001b[0m: 'tuple' object does not support item assignment"
     ]
    }
   ],
   "source": [
    "salary[0] = 10"
   ]
  },
  {
   "cell_type": "code",
   "execution_count": 164,
   "id": "0869ca8a",
   "metadata": {},
   "outputs": [
    {
     "data": {
      "text/plain": [
       "6"
      ]
     },
     "execution_count": 164,
     "metadata": {},
     "output_type": "execute_result"
    }
   ],
   "source": [
    "len(salary)"
   ]
  },
  {
   "cell_type": "code",
   "execution_count": 165,
   "id": "8a10e4e7",
   "metadata": {},
   "outputs": [
    {
     "data": {
      "text/plain": [
       "21"
      ]
     },
     "execution_count": 165,
     "metadata": {},
     "output_type": "execute_result"
    }
   ],
   "source": [
    "sum(salary)"
   ]
  },
  {
   "cell_type": "code",
   "execution_count": 166,
   "id": "d08cb114",
   "metadata": {},
   "outputs": [
    {
     "data": {
      "text/plain": [
       "3.5"
      ]
     },
     "execution_count": 166,
     "metadata": {},
     "output_type": "execute_result"
    }
   ],
   "source": [
    "sum(salary)/len(salary)"
   ]
  },
  {
   "cell_type": "code",
   "execution_count": 167,
   "id": "d2f71676",
   "metadata": {},
   "outputs": [
    {
     "data": {
      "text/plain": [
       "1"
      ]
     },
     "execution_count": 167,
     "metadata": {},
     "output_type": "execute_result"
    }
   ],
   "source": [
    "min(salary)"
   ]
  },
  {
   "cell_type": "code",
   "execution_count": 168,
   "id": "454088f7",
   "metadata": {},
   "outputs": [
    {
     "data": {
      "text/plain": [
       "6"
      ]
     },
     "execution_count": 168,
     "metadata": {},
     "output_type": "execute_result"
    }
   ],
   "source": [
    "max(salary)"
   ]
  },
  {
   "cell_type": "code",
   "execution_count": 169,
   "id": "7814f3c1",
   "metadata": {},
   "outputs": [],
   "source": [
    "del salary"
   ]
  },
  {
   "cell_type": "code",
   "execution_count": 173,
   "id": "27fff9a4",
   "metadata": {},
   "outputs": [
    {
     "data": {
      "text/plain": [
       "3"
      ]
     },
     "execution_count": 173,
     "metadata": {},
     "output_type": "execute_result"
    }
   ],
   "source": [
    "salary[2]"
   ]
  },
  {
   "cell_type": "code",
   "execution_count": 174,
   "id": "4341b7a6",
   "metadata": {},
   "outputs": [
    {
     "data": {
      "text/plain": [
       "1"
      ]
     },
     "execution_count": 174,
     "metadata": {},
     "output_type": "execute_result"
    }
   ],
   "source": [
    "salary.count(3)"
   ]
  },
  {
   "cell_type": "code",
   "execution_count": 175,
   "id": "fd255c25",
   "metadata": {},
   "outputs": [
    {
     "data": {
      "text/plain": [
       "2"
      ]
     },
     "execution_count": 175,
     "metadata": {},
     "output_type": "execute_result"
    }
   ],
   "source": [
    "salary.index(3)"
   ]
  },
  {
   "cell_type": "code",
   "execution_count": 176,
   "id": "c482c402",
   "metadata": {},
   "outputs": [
    {
     "data": {
      "text/plain": [
       "2468897013056"
      ]
     },
     "execution_count": 176,
     "metadata": {},
     "output_type": "execute_result"
    }
   ],
   "source": [
    "list1 = [1,2,3,4]\n",
    "id(list1)"
   ]
  },
  {
   "cell_type": "code",
   "execution_count": 177,
   "id": "4408d1fa",
   "metadata": {},
   "outputs": [],
   "source": [
    "list1[0]=100"
   ]
  },
  {
   "cell_type": "code",
   "execution_count": 179,
   "id": "f0b821e0",
   "metadata": {},
   "outputs": [
    {
     "data": {
      "text/plain": [
       "2468897013056"
      ]
     },
     "execution_count": 179,
     "metadata": {},
     "output_type": "execute_result"
    }
   ],
   "source": [
    "id(list1)"
   ]
  },
  {
   "cell_type": "code",
   "execution_count": 187,
   "id": "a9880498",
   "metadata": {},
   "outputs": [
    {
     "data": {
      "text/plain": [
       "2468861096000"
      ]
     },
     "execution_count": 187,
     "metadata": {},
     "output_type": "execute_result"
    }
   ],
   "source": [
    "salary\n",
    "id(salary)"
   ]
  },
  {
   "cell_type": "markdown",
   "id": "0401a206",
   "metadata": {},
   "source": [
    "**1) Convert tuple to list**\n",
    "\n",
    "**2) Update the list**\n",
    "\n",
    "**3) Convert list to tuple**"
   ]
  },
  {
   "cell_type": "code",
   "execution_count": 183,
   "id": "cf859585",
   "metadata": {},
   "outputs": [],
   "source": [
    "a = list(salary)"
   ]
  },
  {
   "cell_type": "code",
   "execution_count": 185,
   "id": "8a35d17d",
   "metadata": {},
   "outputs": [],
   "source": [
    "a[0]=100"
   ]
  },
  {
   "cell_type": "code",
   "execution_count": 188,
   "id": "b2a0f526",
   "metadata": {},
   "outputs": [],
   "source": [
    "salary = tuple(a)"
   ]
  },
  {
   "cell_type": "code",
   "execution_count": 190,
   "id": "3036662d",
   "metadata": {},
   "outputs": [
    {
     "data": {
      "text/plain": [
       "(100, 2, 3, 4, 5, 6)"
      ]
     },
     "execution_count": 190,
     "metadata": {},
     "output_type": "execute_result"
    }
   ],
   "source": [
    "salary"
   ]
  },
  {
   "cell_type": "code",
   "execution_count": 189,
   "id": "af7eb74b",
   "metadata": {},
   "outputs": [
    {
     "data": {
      "text/plain": [
       "2468897558336"
      ]
     },
     "execution_count": 189,
     "metadata": {},
     "output_type": "execute_result"
    }
   ],
   "source": [
    "id(salary)"
   ]
  }
 ],
 "metadata": {
  "kernelspec": {
   "display_name": "Python 3 (ipykernel)",
   "language": "python",
   "name": "python3"
  },
  "language_info": {
   "codemirror_mode": {
    "name": "ipython",
    "version": 3
   },
   "file_extension": ".py",
   "mimetype": "text/x-python",
   "name": "python",
   "nbconvert_exporter": "python",
   "pygments_lexer": "ipython3",
   "version": "3.9.13"
  }
 },
 "nbformat": 4,
 "nbformat_minor": 5
}
