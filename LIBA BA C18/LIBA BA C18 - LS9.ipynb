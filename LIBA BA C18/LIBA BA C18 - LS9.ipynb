{
 "cells": [
  {
   "cell_type": "markdown",
   "id": "b621ec8d",
   "metadata": {},
   "source": [
    "**Instructor Name: Rahul Tiwari**\n",
    "    \n",
    "**Email: support@rahultiwari.co.in**"
   ]
  },
  {
   "cell_type": "code",
   "execution_count": null,
   "id": "b4fbaa6a",
   "metadata": {},
   "outputs": [],
   "source": [
    "0-2500 -> 0%\n",
    "2501 - 5000 -> 5% \n",
    "5001 - 10000 -> 10%\n",
    "10001 - 20000 -> 20%\n",
    "20001+ -> 30%"
   ]
  },
  {
   "cell_type": "markdown",
   "id": "c3cdb46e",
   "metadata": {},
   "source": [
    "**Tax Calculations**"
   ]
  },
  {
   "cell_type": "code",
   "execution_count": 2,
   "id": "37fcfee0",
   "metadata": {},
   "outputs": [
    {
     "name": "stdout",
     "output_type": "stream",
     "text": [
      "Enter the salary: 6000\n",
      "The total tax you have to pay: 600.0\n"
     ]
    }
   ],
   "source": [
    "salary = int(input('Enter the salary: '))\n",
    "if salary<=2500:\n",
    "    print('The total tax you have to pay:', salary*0.00)\n",
    "elif salary>2500 and salary<=5000:\n",
    "    print('The total tax you have to pay:', salary*0.05)\n",
    "elif salary>5000 and salary<=10000:\n",
    "    print('The total tax you have to pay:', salary*0.10)\n",
    "elif salary>10000 and salary<=20000:\n",
    "    print('The total tax you have to pay:', salary*0.20)\n",
    "else:\n",
    "    print('The total tax you have to pay:', salary*0.30)"
   ]
  },
  {
   "cell_type": "code",
   "execution_count": 7,
   "id": "ef8c8718",
   "metadata": {},
   "outputs": [],
   "source": [
    "def tax_calc(salary):\n",
    "    if salary<=2500:\n",
    "        return('The total tax you have to pay:', salary*0.00)\n",
    "    elif salary>2500 and salary<=5000:\n",
    "        return('The total tax you have to pay:', salary*0.05)\n",
    "    elif salary>5000 and salary<=10000:\n",
    "        return('The total tax you have to pay:', salary*0.10)\n",
    "    elif salary>10000 and salary<=20000:\n",
    "        return('The total tax you have to pay:', salary*0.20)\n",
    "    else:\n",
    "        return('The total tax you have to pay:', salary*0.30)"
   ]
  },
  {
   "cell_type": "code",
   "execution_count": 8,
   "id": "e01d0fbb",
   "metadata": {},
   "outputs": [],
   "source": [
    "output = tax_calc(1000)"
   ]
  },
  {
   "cell_type": "code",
   "execution_count": 9,
   "id": "cfde0379",
   "metadata": {},
   "outputs": [
    {
     "data": {
      "text/plain": [
       "('The total tax you have to pay:', 0.0)"
      ]
     },
     "execution_count": 9,
     "metadata": {},
     "output_type": "execute_result"
    }
   ],
   "source": [
    "output"
   ]
  },
  {
   "cell_type": "markdown",
   "id": "d38df8a7",
   "metadata": {},
   "source": [
    "**Account Balance Check**"
   ]
  },
  {
   "cell_type": "code",
   "execution_count": 11,
   "id": "31ab0f3c",
   "metadata": {},
   "outputs": [
    {
     "name": "stdout",
     "output_type": "stream",
     "text": [
      "Enter the account balance: -10\n",
      "Your account balance is negative, please take action\n"
     ]
    }
   ],
   "source": [
    "account_balance = int(input('Enter the account balance: '))\n",
    "if account_balance>=0:\n",
    "    print('Your account is in good standing')\n",
    "else:\n",
    "    print('Your account balance is negative, please take action')"
   ]
  },
  {
   "cell_type": "markdown",
   "id": "5730b81c",
   "metadata": {},
   "source": [
    "**Loan Eligibility**"
   ]
  },
  {
   "cell_type": "code",
   "execution_count": 15,
   "id": "efae9d7b",
   "metadata": {},
   "outputs": [
    {
     "name": "stdout",
     "output_type": "stream",
     "text": [
      "Enter the income: 60000\n",
      "Enter the credit score: 800\n",
      "You are eligible for the loan\n"
     ]
    }
   ],
   "source": [
    "income = int(input('Enter the income: '))\n",
    "credit_score = int(input('Enter the credit score: '))\n",
    "\n",
    "if income>50000 and credit_score>700:\n",
    "    print('You are eligible for the loan')\n",
    "else:\n",
    "    print('You are not eligible for the loan')"
   ]
  },
  {
   "cell_type": "markdown",
   "id": "aa5c1151",
   "metadata": {},
   "source": [
    "**Transaction Fees Calculation - Nested If and else**"
   ]
  },
  {
   "cell_type": "code",
   "execution_count": 20,
   "id": "7e1269da",
   "metadata": {},
   "outputs": [
    {
     "name": "stdout",
     "output_type": "stream",
     "text": [
      "Enter the transaction amount: 500\n",
      "Enter the transaction type: Withdraw\n",
      "Total Amount:  502\n"
     ]
    }
   ],
   "source": [
    "transaction_amount = int(input('Enter the transaction amount: '))\n",
    "transaction_type = input('Enter the transaction type: ')\n",
    "if transaction_type=='Withdraw':\n",
    "    if transaction_amount>1000:\n",
    "        transaction_fee = 5\n",
    "    elif transaction_amount<=1000:\n",
    "        transaction_fee = 2\n",
    "elif transaction_type=='deposit':\n",
    "    transaction_fee = 0\n",
    "else:\n",
    "    print('Please pass the correct option')\n",
    "    \n",
    "total_amount = transaction_amount+transaction_fee\n",
    "print('Total Amount: ', total_amount)"
   ]
  },
  {
   "cell_type": "code",
   "execution_count": 25,
   "id": "0cc3967b",
   "metadata": {},
   "outputs": [
    {
     "name": "stdout",
     "output_type": "stream",
     "text": [
      "U\n",
      "p\n",
      "g\n",
      "r\n",
      "a\n",
      "d\n"
     ]
    }
   ],
   "source": [
    "company = 'Upgrad'\n",
    "for i in range(0,len(company)):\n",
    "    print(company[i])"
   ]
  },
  {
   "cell_type": "code",
   "execution_count": 23,
   "id": "b8c7d3d0",
   "metadata": {},
   "outputs": [
    {
     "data": {
      "text/plain": [
       "[0, 1, 2, 3, 4, 5]"
      ]
     },
     "execution_count": 23,
     "metadata": {},
     "output_type": "execute_result"
    }
   ],
   "source": [
    "list(range(0,len(company)))"
   ]
  },
  {
   "cell_type": "code",
   "execution_count": 26,
   "id": "2877c1f8",
   "metadata": {},
   "outputs": [
    {
     "name": "stdout",
     "output_type": "stream",
     "text": [
      "0.10090314543755839\n",
      "0.09649502379922112\n",
      "0.1793831168831169\n",
      "0.17444717444717445\n"
     ]
    }
   ],
   "source": [
    "sales = [3211,2311,1232,1221]\n",
    "profit = [324,223,221,213]\n",
    "for i in range(0,len(sales)):\n",
    "    print(profit[i]/sales[i])"
   ]
  },
  {
   "cell_type": "markdown",
   "id": "385e879e",
   "metadata": {},
   "source": [
    "**Transaction History**"
   ]
  },
  {
   "cell_type": "code",
   "execution_count": 30,
   "id": "04f909eb",
   "metadata": {},
   "outputs": [
    {
     "name": "stdout",
     "output_type": "stream",
     "text": [
      "Transaction History\n",
      "Deposit: 50\n",
      "Withdraw:  20\n",
      "Deposit: 100\n",
      "Withdraw:  30\n",
      "Withdraw:  10\n",
      "Total balance:  90\n"
     ]
    }
   ],
   "source": [
    "transaction_history = [50,-20,100,-30,-10]\n",
    "total_balance = 0 \n",
    "print('Transaction History')\n",
    "for i in transaction_history:\n",
    "    if i>0:\n",
    "        print('Deposit:', i)\n",
    "    else:\n",
    "        print('Withdraw: ', abs(i))\n",
    "    total_balance = total_balance+i\n",
    "print('Total balance: ',total_balance)"
   ]
  },
  {
   "cell_type": "markdown",
   "id": "afc0f4fc",
   "metadata": {},
   "source": [
    "**Interest Calculations**"
   ]
  },
  {
   "cell_type": "code",
   "execution_count": 32,
   "id": "c82adbc8",
   "metadata": {},
   "outputs": [
    {
     "name": "stdout",
     "output_type": "stream",
     "text": [
      "Updated Balance:  [1050.0, 2100.0, 3150.0, 4200.0, 2215.5, 3150.0]\n"
     ]
    }
   ],
   "source": [
    "account_balance = [1000,2000,3000,4000,2110,3000]\n",
    "interest_rate = 0.05\n",
    "\n",
    "for i in range(len(account_balance)):\n",
    "    interest = account_balance[i] * interest_rate\n",
    "    #account_balance[i]+=interest\n",
    "    account_balance[i]=account_balance[i]+interest\n",
    "print('Updated Balance: ', account_balance)"
   ]
  },
  {
   "cell_type": "markdown",
   "id": "2a0aaa53",
   "metadata": {},
   "source": [
    "**Account Closure**"
   ]
  },
  {
   "cell_type": "code",
   "execution_count": 35,
   "id": "fb1733e2",
   "metadata": {},
   "outputs": [
    {
     "name": "stdout",
     "output_type": "stream",
     "text": [
      "Enter the account number to close: 222222\n",
      "Account not found\n",
      "Account not found\n",
      "Account not found\n",
      "Account not found\n",
      "Remaining accounts:  [123456, 789012, 345678, 901234]\n"
     ]
    }
   ],
   "source": [
    "account_numbers = [123456,789012,345678,901234]\n",
    "account_to_close = int(input('Enter the account number to close: '))\n",
    "\n",
    "for account in account_numbers:\n",
    "    if account==account_to_close:\n",
    "        print('Closing account: ', account)\n",
    "        account_numbers.remove(account)\n",
    "        break\n",
    "    else:\n",
    "        print('Account not found')\n",
    "        \n",
    "print('Remaining accounts: ', account_numbers)"
   ]
  },
  {
   "cell_type": "code",
   "execution_count": 37,
   "id": "2f5c59da",
   "metadata": {},
   "outputs": [
    {
     "name": "stdout",
     "output_type": "stream",
     "text": [
      "Enter the account number to close: 123456\n",
      "Closing account:  123456\n",
      "Remaining accounts:  [789012, 345678, 901234]\n"
     ]
    }
   ],
   "source": [
    "account_numbers = [123456,789012,345678,901234]\n",
    "account_to_close = int(input('Enter the account number to close: '))\n",
    "\n",
    "for account in account_numbers:\n",
    "    if account==account_to_close:\n",
    "        print('Closing account: ', account)\n",
    "        account_numbers.remove(account)\n",
    "        break\n",
    "        \n",
    "print('Remaining accounts: ', account_numbers)"
   ]
  },
  {
   "cell_type": "code",
   "execution_count": 42,
   "id": "614ac86c",
   "metadata": {},
   "outputs": [
    {
     "name": "stdout",
     "output_type": "stream",
     "text": [
      "Enter the account number to close: 222222\n",
      "Remaining accounts:  [123456, 789012, 345678, 901234]\n",
      "We did not find the account\n"
     ]
    }
   ],
   "source": [
    "account_numbers = [123456,789012,345678,901234]\n",
    "account_to_close = int(input('Enter the account number to close: '))\n",
    "\n",
    "new_list = account_numbers.copy()\n",
    "for account in account_numbers:\n",
    "    if account==account_to_close:\n",
    "        print('Closing account: ', account)\n",
    "        account_numbers.remove(account)\n",
    "        break\n",
    "\n",
    "print('Remaining accounts: ', account_numbers)\n",
    "if new_list==account_numbers:\n",
    "    print('We did not find the account')\n",
    "else:\n",
    "    print('Account removed successfully', account_to_close)"
   ]
  },
  {
   "cell_type": "markdown",
   "id": "84ec90ee",
   "metadata": {},
   "source": [
    "**Account Statement**"
   ]
  },
  {
   "cell_type": "code",
   "execution_count": 43,
   "id": "b5bb95a6",
   "metadata": {},
   "outputs": [],
   "source": [
    "account_transactions = [{\"date\":\"2023-07-01\",\"type\":\"Deposit\",\"amount\":100},\n",
    "                        {\"date\":\"2023-07-02\",\"type\":\"Withdraw\",\"amount\":50},\n",
    "                        {\"date\":\"2023-07-03\",\"type\":\"Deposit\",\"amount\":200},\n",
    "                        {\"date\":\"2023-07-04\",\"type\":\"Withdraw\",\"amount\":75}]"
   ]
  },
  {
   "cell_type": "code",
   "execution_count": 46,
   "id": "45174711",
   "metadata": {},
   "outputs": [
    {
     "name": "stdout",
     "output_type": "stream",
     "text": [
      "Account Statement\n",
      "2023-07-01 - Deposit - 100\n",
      "2023-07-02 - Withdraw - 50\n",
      "2023-07-03 - Deposit - 200\n",
      "2023-07-04 - Withdraw - 75\n"
     ]
    }
   ],
   "source": [
    "print(\"Account Statement\")\n",
    "for transaction in account_transactions:\n",
    "    print(transaction['date'], '-', transaction['type'], '-', transaction['amount'])"
   ]
  },
  {
   "cell_type": "code",
   "execution_count": 47,
   "id": "ce8dbdc1",
   "metadata": {},
   "outputs": [
    {
     "name": "stdout",
     "output_type": "stream",
     "text": [
      "Account Statement\n",
      "2023-07-01 - Deposit - 100\n",
      "2023-07-02 - Withdraw - 50\n",
      "2023-07-03 - Deposit - 200\n",
      "2023-07-04 - Withdraw - 75\n"
     ]
    }
   ],
   "source": [
    "transaction_date = [\"2023-07-01\",\"2023-07-02\",\"2023-07-03\",\"2023-07-04\"]\n",
    "transaction_type = [\"Deposit\",\"Withdraw\",\"Deposit\",\"Withdraw\"]\n",
    "transaction_amount = [100,50,200,75]\n",
    "print('Account Statement')\n",
    "for (td,tt,ta) in zip(transaction_date,transaction_type,transaction_amount):\n",
    "    print(td,'-',tt,'-',ta)"
   ]
  },
  {
   "cell_type": "markdown",
   "id": "b03ba511",
   "metadata": {},
   "source": [
    "**While Loops**"
   ]
  },
  {
   "cell_type": "markdown",
   "id": "4f3cc9b5",
   "metadata": {},
   "source": [
    "**Python Coupoun code**"
   ]
  },
  {
   "cell_type": "code",
   "execution_count": 49,
   "id": "b5584f15",
   "metadata": {},
   "outputs": [
    {
     "name": "stdout",
     "output_type": "stream",
     "text": [
      "The total coupouns left are:  5\n",
      "The total coupouns left are:  4\n",
      "The total coupouns left are:  3\n",
      "The total coupouns left are:  2\n",
      "The total coupouns left are:  1\n",
      "No coupouns left\n"
     ]
    }
   ],
   "source": [
    "coupoun = 5\n",
    "utilized = 0\n",
    "while utilized<coupoun:\n",
    "    print('The total coupouns left are: ', coupoun-utilized)\n",
    "    utilized=utilized+1\n",
    "print('No coupouns left')"
   ]
  },
  {
   "cell_type": "markdown",
   "id": "e0a6bbe5",
   "metadata": {},
   "source": [
    "**Factorial of a number**"
   ]
  },
  {
   "cell_type": "code",
   "execution_count": 52,
   "id": "7370ff00",
   "metadata": {},
   "outputs": [
    {
     "name": "stdout",
     "output_type": "stream",
     "text": [
      "Enter the number: 0\n",
      "1\n"
     ]
    }
   ],
   "source": [
    "number = int(input('Enter the number: '))\n",
    "if number<0:\n",
    "    print('There is no factorial of the negative number')\n",
    "else:\n",
    "    result = 1 \n",
    "    while number>0:\n",
    "        result=result*number\n",
    "        number=number-1\n",
    "    print(result)"
   ]
  },
  {
   "cell_type": "markdown",
   "id": "95a96e1c",
   "metadata": {},
   "source": [
    "**Pin validation**"
   ]
  },
  {
   "cell_type": "code",
   "execution_count": 54,
   "id": "e28dd6ae",
   "metadata": {},
   "outputs": [
    {
     "name": "stdout",
     "output_type": "stream",
     "text": [
      "Enter the pin: 1234\n",
      "Pin accepted, access granted\n"
     ]
    }
   ],
   "source": [
    "correct_pin = 1234\n",
    "max_attempts = 3\n",
    "attempts = 0 \n",
    "\n",
    "while attempts<max_attempts:\n",
    "    pin = int(input('Enter the pin: '))\n",
    "    if pin==correct_pin:\n",
    "        print(\"Pin accepted, access granted\")\n",
    "        break\n",
    "    else:\n",
    "        attempts+=1\n",
    "        print(\"Incorrect Pin attempts remaining: \", max_attempts-attempts)\n",
    "\n",
    "if max_attempts==attempts:\n",
    "    print('Max Attempts reached, access denied')"
   ]
  },
  {
   "cell_type": "code",
   "execution_count": 63,
   "id": "83c62536",
   "metadata": {},
   "outputs": [
    {
     "name": "stdout",
     "output_type": "stream",
     "text": [
      "Enter the pin: 1234\n",
      "Pin accepted, access granted\n",
      "Enter the transaction type: Deposit\n",
      "Enter the amount to deposit: 30000\n",
      "Your account balance: 30000\n",
      "Enter the transaction type: Withdraw\n",
      "Enter the amount to withdraw: 5000\n",
      "Enter the transaction type: Deposit\n",
      "Enter the amount to deposit: 2000\n",
      "Your account balance: 27000\n",
      "Enter the transaction type: Withdraw\n",
      "Enter the amount to withdraw: 28000\n",
      "Insufficient funds\n",
      "Enter the pin: 2222\n",
      "Incorrect Pin attempts remaining:  2\n",
      "Enter the pin: 222\n",
      "Incorrect Pin attempts remaining:  1\n",
      "Enter the pin: 222\n",
      "Incorrect Pin attempts remaining:  0\n",
      "Max Attempts reached, access denied\n"
     ]
    }
   ],
   "source": [
    "correct_pin = 1234\n",
    "max_attempts = 3\n",
    "attempts = 0 \n",
    "account_balance = 0\n",
    "while attempts<max_attempts:\n",
    "    pin = int(input('Enter the pin: '))\n",
    "    if pin==correct_pin:\n",
    "        print(\"Pin accepted, access granted\")\n",
    "        while True:\n",
    "            transaction_type = input('Enter the transaction type: ')\n",
    "            if transaction_type=='Deposit':\n",
    "                amount = int(input('Enter the amount to deposit: '))\n",
    "                account_balance+=amount\n",
    "                print('Your account balance:', account_balance)\n",
    "            elif transaction_type=='Withdraw':\n",
    "                amount = int(input('Enter the amount to withdraw: '))\n",
    "                if amount>account_balance:\n",
    "                    print('Insufficient funds')\n",
    "                    break\n",
    "                else:\n",
    "                    account_balance-=amount\n",
    "    else:\n",
    "        attempts+=1\n",
    "        print(\"Incorrect Pin attempts remaining: \", max_attempts-attempts)\n",
    "\n",
    "if max_attempts==attempts:\n",
    "    print('Max Attempts reached, access denied')"
   ]
  },
  {
   "cell_type": "code",
   "execution_count": 56,
   "id": "1a249734",
   "metadata": {},
   "outputs": [
    {
     "data": {
      "text/plain": [
       "1000"
      ]
     },
     "execution_count": 56,
     "metadata": {},
     "output_type": "execute_result"
    }
   ],
   "source": [
    "account_balance"
   ]
  },
  {
   "cell_type": "code",
   "execution_count": 62,
   "id": "d32546aa",
   "metadata": {},
   "outputs": [
    {
     "data": {
      "text/plain": [
       "901234"
      ]
     },
     "execution_count": 62,
     "metadata": {},
     "output_type": "execute_result"
    }
   ],
   "source": [
    "account"
   ]
  },
  {
   "cell_type": "markdown",
   "id": "b03086c0",
   "metadata": {},
   "source": [
    "**Create Unique Account Number**"
   ]
  },
  {
   "cell_type": "code",
   "execution_count": 83,
   "id": "36bd0f83",
   "metadata": {},
   "outputs": [
    {
     "name": "stdout",
     "output_type": "stream",
     "text": [
      "Account Created Successfully:  8\n"
     ]
    }
   ],
   "source": [
    "import random\n",
    "existing_accounts = [1,3,7,9]\n",
    "new_account_number = random.randint(1,9)\n",
    "\n",
    "while new_account_number in existing_accounts:\n",
    "    new_account_number = random.randint(1,9)\n",
    "    \n",
    "print(\"Account Created Successfully: \", new_account_number)"
   ]
  },
  {
   "cell_type": "markdown",
   "id": "939363de",
   "metadata": {},
   "source": [
    "**Interest Calculations**"
   ]
  },
  {
   "cell_type": "code",
   "execution_count": 84,
   "id": "7ff5004f",
   "metadata": {},
   "outputs": [
    {
     "name": "stdout",
     "output_type": "stream",
     "text": [
      "Final corpus we will have after 104 weeks: 31968120.15900867\n"
     ]
    }
   ],
   "source": [
    "Account_Balance = 200000\n",
    "interest_rate = 0.05\n",
    "max_duration = 104\n",
    "current_week = 1\n",
    "while current_week<=max_duration:\n",
    "    interest = Account_Balance*interest_rate\n",
    "    Account_Balance+=interest\n",
    "    current_week+=1\n",
    "    \n",
    "print(\"Final corpus we will have after 104 weeks:\", Account_Balance)"
   ]
  },
  {
   "cell_type": "code",
   "execution_count": 86,
   "id": "94bac170",
   "metadata": {},
   "outputs": [
    {
     "name": "stdout",
     "output_type": "stream",
     "text": [
      "Final corpus we will have after 24 months: 512000.0\n"
     ]
    }
   ],
   "source": [
    "Account_Balance = 200000\n",
    "interest_rate = 0.6\n",
    "max_duration = 2\n",
    "current_week = 1\n",
    "while current_week<=max_duration:\n",
    "    interest = Account_Balance*interest_rate\n",
    "    Account_Balance+=interest\n",
    "    current_week+=1\n",
    "    \n",
    "print(\"Final corpus we will have after 24 months:\", Account_Balance)"
   ]
  },
  {
   "cell_type": "markdown",
   "id": "65063ce9",
   "metadata": {},
   "source": [
    "**Captcha Generation**"
   ]
  },
  {
   "cell_type": "code",
   "execution_count": 213,
   "id": "1acf7eea",
   "metadata": {},
   "outputs": [],
   "source": [
    "import random\n",
    "def generate_captcha():\n",
    "    def generate_random_digit():\n",
    "        return random.randint(0,9)\n",
    "    \n",
    "    def generate_random_letter():\n",
    "        return chr(random.randint(97,122))\n",
    "    \n",
    "    captcha = \"\"\n",
    "    for i in range(6):\n",
    "        if random.choice([True,False]) == True: \n",
    "            captcha += str(generate_random_digit())\n",
    "        else:\n",
    "            captcha +=generate_random_letter()\n",
    "            \n",
    "    print('Generated Captcha: ', captcha)"
   ]
  },
  {
   "cell_type": "code",
   "execution_count": 256,
   "id": "07f8ea1e",
   "metadata": {},
   "outputs": [
    {
     "name": "stdout",
     "output_type": "stream",
     "text": [
      "Generated Captcha:  2tmf11\n"
     ]
    }
   ],
   "source": [
    "generate_captcha()"
   ]
  }
 ],
 "metadata": {
  "kernelspec": {
   "display_name": "Python 3 (ipykernel)",
   "language": "python",
   "name": "python3"
  },
  "language_info": {
   "codemirror_mode": {
    "name": "ipython",
    "version": 3
   },
   "file_extension": ".py",
   "mimetype": "text/x-python",
   "name": "python",
   "nbconvert_exporter": "python",
   "pygments_lexer": "ipython3",
   "version": "3.9.13"
  }
 },
 "nbformat": 4,
 "nbformat_minor": 5
}
