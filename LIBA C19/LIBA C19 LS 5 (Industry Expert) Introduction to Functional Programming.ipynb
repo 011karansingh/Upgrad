{
 "cells": [
  {
   "cell_type": "markdown",
   "id": "0003c1b6",
   "metadata": {},
   "source": [
    "# **Flow Control**"
   ]
  },
  {
   "cell_type": "markdown",
   "id": "19b707b9",
   "metadata": {},
   "source": [
    "**if else conditions**\n",
    "\n",
    "Its a conditional based statements where if the condition is satisfied it will give one output and if it is not statisfied it will give another output\n",
    "\n",
    "if marks<40 --> Failed the exam \n",
    "if marks>=40 --> Passed the exam\n",
    "\n",
    "**Syntax**\n",
    "\n",
    "if condition==True: \n",
    "\n",
    "    print('Condition is True') ('The space before print is known as Tab indentation', this is mandatory) \n",
    "    IndentationError: expected an indented block after 'if' statement on line 2\n",
    "    \n",
    "else:\n",
    "\n",
    "    print('Condition is False')"
   ]
  },
  {
   "cell_type": "code",
   "execution_count": 10,
   "id": "6028c230",
   "metadata": {},
   "outputs": [
    {
     "name": "stdout",
     "output_type": "stream",
     "text": [
      "Enter the marks: 56\n",
      "You passed the exam\n",
      "Hello\n"
     ]
    }
   ],
   "source": [
    "marks = int(input('Enter the marks: '))\n",
    "if marks<40:\n",
    "    print('You failed the exam')\n",
    "    print('Hi')\n",
    "else:\n",
    "    print('You passed the exam')\n",
    "    print('Hello')"
   ]
  },
  {
   "cell_type": "code",
   "execution_count": 13,
   "id": "3c139ef5",
   "metadata": {},
   "outputs": [
    {
     "name": "stdout",
     "output_type": "stream",
     "text": [
      "Enter the marks: 65\n",
      "You got an excellent marks\n"
     ]
    }
   ],
   "source": [
    "marks = int(input('Enter the marks: '))\n",
    "if marks<40:\n",
    "    print('You failed the exam')\n",
    "elif marks>=40 and marks<=60:\n",
    "    print('You got an avg marks')\n",
    "else:\n",
    "    print('You got an excellent marks')"
   ]
  },
  {
   "cell_type": "code",
   "execution_count": 19,
   "id": "c63a5fc2",
   "metadata": {},
   "outputs": [
    {
     "name": "stdout",
     "output_type": "stream",
     "text": [
      "Enter the salary: 15000\n",
      "You have to pay the total tax:  3000.0\n"
     ]
    }
   ],
   "source": [
    "salary = int(input('Enter the salary: '))\n",
    "\n",
    "if salary<=2500:\n",
    "    print('You have to pay the total tax: ', salary*0)\n",
    "elif salary>2500 and salary<=5000:\n",
    "    print('You have to pay the total tax: ', salary*0.05)\n",
    "elif salary>5000 and salary<=10000:\n",
    "    print('You have to pay the total tax: ', salary*0.10)\n",
    "else:\n",
    "    print('You have to pay the total tax: ', salary*0.20)"
   ]
  },
  {
   "cell_type": "code",
   "execution_count": 23,
   "id": "184a6eb3",
   "metadata": {},
   "outputs": [
    {
     "name": "stdout",
     "output_type": "stream",
     "text": [
      "Enter the transaction type: Deposit\n",
      "Enter the amount: 5000\n",
      "Total Amount:  5000\n"
     ]
    }
   ],
   "source": [
    "transaction_type = input('Enter the transaction type: ')\n",
    "transaction_amount = int(input('Enter the amount: '))\n",
    "\n",
    "if transaction_type=='withdraw':\n",
    "    if transaction_amount>1000:\n",
    "        transaction_fee = 5\n",
    "    else:\n",
    "        transaction_fee=2\n",
    "elif transaction_type=='Deposit':\n",
    "    transaction_fee=0\n",
    "    \n",
    "total_amount = transaction_amount-transaction_fee\n",
    "print('Total Amount: ', total_amount)"
   ]
  },
  {
   "cell_type": "markdown",
   "id": "a45ce610",
   "metadata": {},
   "source": [
    "# **For Loops**"
   ]
  },
  {
   "cell_type": "markdown",
   "id": "64887285",
   "metadata": {},
   "source": [
    "**For loop is nothing but when we want to iterate on something**"
   ]
  },
  {
   "cell_type": "code",
   "execution_count": 26,
   "id": "94dc6f1b",
   "metadata": {},
   "outputs": [
    {
     "name": "stdout",
     "output_type": "stream",
     "text": [
      "0\n",
      "1\n",
      "2\n",
      "3\n",
      "4\n"
     ]
    }
   ],
   "source": [
    "students = ['A','B','C','D','E']\n",
    "\n",
    "for i in [0,1,2,3,4]:\n",
    "    print(i)"
   ]
  },
  {
   "cell_type": "code",
   "execution_count": 30,
   "id": "537ca03e",
   "metadata": {},
   "outputs": [
    {
     "name": "stdout",
     "output_type": "stream",
     "text": [
      "Good Evening A\n",
      "Good Evening B\n",
      "Good Evening C\n",
      "Good Evening D\n",
      "Good Evening E\n"
     ]
    }
   ],
   "source": [
    "for i in [0,1,2,3,4]:\n",
    "    print('Good Evening',students[i])"
   ]
  },
  {
   "cell_type": "code",
   "execution_count": 29,
   "id": "1b010081",
   "metadata": {},
   "outputs": [
    {
     "name": "stdout",
     "output_type": "stream",
     "text": [
      "Good Evening A\n",
      "Good Evening B\n",
      "Good Evening C\n",
      "Good Evening D\n",
      "Good Evening E\n"
     ]
    }
   ],
   "source": [
    "for i in students:\n",
    "    print('Good Evening',i)"
   ]
  },
  {
   "cell_type": "code",
   "execution_count": 34,
   "id": "2f3aecea",
   "metadata": {},
   "outputs": [
    {
     "name": "stdout",
     "output_type": "stream",
     "text": [
      "0.07548415492957747\n",
      "0.2377892030848329\n",
      "0.07995678011885467\n",
      "0.09987085665088248\n"
     ]
    }
   ],
   "source": [
    "sales = [4544,2334,5553,2323]\n",
    "profit = [343,555,444,232]\n",
    "for i in [0,1,2,3]:\n",
    "    print(profit[i]/sales[i])"
   ]
  },
  {
   "cell_type": "code",
   "execution_count": 38,
   "id": "642d1109",
   "metadata": {},
   "outputs": [
    {
     "name": "stdout",
     "output_type": "stream",
     "text": [
      "0.07548415492957747\n",
      "0.2377892030848329\n",
      "0.07995678011885467\n",
      "0.09987085665088248\n"
     ]
    }
   ],
   "source": [
    "sales = [4544,2334,5553,2323]\n",
    "profit = [343,555,444,232]\n",
    "for i in range(0,len(sales)):\n",
    "    print(profit[i]/sales[i])"
   ]
  },
  {
   "cell_type": "code",
   "execution_count": 41,
   "id": "d6df1532",
   "metadata": {},
   "outputs": [
    {
     "data": {
      "text/plain": [
       "[0, 1, 2, 3]"
      ]
     },
     "execution_count": 41,
     "metadata": {},
     "output_type": "execute_result"
    }
   ],
   "source": [
    "list(range(0,len(sales)))"
   ]
  },
  {
   "cell_type": "code",
   "execution_count": 42,
   "id": "45c691c9",
   "metadata": {},
   "outputs": [
    {
     "name": "stdout",
     "output_type": "stream",
     "text": [
      "you failed the exam\n",
      "you passed the exam\n",
      "you passed the exam\n",
      "you failed the exam\n",
      "you passed the exam\n",
      "you failed the exam\n",
      "you failed the exam\n",
      "you passed the exam\n",
      "you passed the exam\n",
      "you passed the exam\n"
     ]
    }
   ],
   "source": [
    "marks = [34,55,44,33,44,33,22,44,66,77]\n",
    "for i in marks:\n",
    "    if i<40:\n",
    "        print('you failed the exam')\n",
    "    else:\n",
    "        print('you passed the exam')"
   ]
  },
  {
   "cell_type": "code",
   "execution_count": 43,
   "id": "2fe4f9fa",
   "metadata": {},
   "outputs": [
    {
     "name": "stdout",
     "output_type": "stream",
     "text": [
      "you failed the exam\n",
      "you passed the exam\n",
      "you passed the exam\n",
      "you failed the exam\n",
      "you passed the exam\n",
      "you failed the exam\n",
      "you failed the exam\n",
      "you passed the exam\n",
      "you passed the exam\n",
      "you passed the exam\n"
     ]
    }
   ],
   "source": [
    "marks = [34,55,44,33,44,33,22,44,66,77]\n",
    "for i in range(0,len(marks)):\n",
    "    if marks[i]<40:\n",
    "        print('you failed the exam')\n",
    "    else:\n",
    "        print('you passed the exam')"
   ]
  },
  {
   "cell_type": "code",
   "execution_count": 47,
   "id": "f7308d66",
   "metadata": {},
   "outputs": [
    {
     "name": "stdout",
     "output_type": "stream",
     "text": [
      "Transaction History\n",
      "Deposit:  50\n",
      "Withdraw:  20\n",
      "Deposit:  100\n",
      "Withdraw:  30\n",
      "Withdraw:  10\n"
     ]
    }
   ],
   "source": [
    "transaction_history = [50,-20,100,-30,-10]\n",
    "print('Transaction History')\n",
    "for i in transaction_history:\n",
    "    if i<0:\n",
    "        print('Withdraw: ', abs(i))\n",
    "    else:\n",
    "        print('Deposit: ', i)"
   ]
  },
  {
   "cell_type": "code",
   "execution_count": 48,
   "id": "c4d39a89",
   "metadata": {},
   "outputs": [
    {
     "name": "stdout",
     "output_type": "stream",
     "text": [
      "3000\n"
     ]
    }
   ],
   "source": [
    "account_balances = [1000,2000,-3000,4000,2000,-3000]\n",
    "\n",
    "final_balance = 0 \n",
    "for i in account_balances:\n",
    "    final_balance=final_balance+i\n",
    "print(final_balance)"
   ]
  },
  {
   "cell_type": "code",
   "execution_count": 50,
   "id": "c4835052",
   "metadata": {},
   "outputs": [
    {
     "name": "stdout",
     "output_type": "stream",
     "text": [
      "Enter the account to close: 901234\n",
      "Account not found\n",
      "Account not found\n",
      "Account not found\n",
      "Closing account:  901234\n",
      "Remaining accounts:  [123456, 234567, 345678]\n"
     ]
    }
   ],
   "source": [
    "account_numbers = [123456,234567,345678,901234]\n",
    "\n",
    "account_to_close = int(input('Enter the account to close: ')) \n",
    "\n",
    "for i in account_numbers:\n",
    "    if i == account_to_close:\n",
    "        print('Closing account: ', i)\n",
    "        account_numbers.remove(i)\n",
    "        break\n",
    "    else:\n",
    "        print('Account not found')\n",
    "        \n",
    "print('Remaining accounts: ', account_numbers)"
   ]
  },
  {
   "cell_type": "code",
   "execution_count": 52,
   "id": "5ce32d46",
   "metadata": {},
   "outputs": [
    {
     "name": "stdout",
     "output_type": "stream",
     "text": [
      "Enter the account to close: 901234\n",
      "Closing account:  901234\n",
      "Remaining accounts:  [123456, 234567, 345678]\n"
     ]
    }
   ],
   "source": [
    "account_numbers = [123456,234567,345678,901234]\n",
    "\n",
    "account_to_close = int(input('Enter the account to close: ')) \n",
    "\n",
    "for i in account_numbers:\n",
    "    if i == account_to_close:\n",
    "        print('Closing account: ', i)\n",
    "        account_numbers.remove(i)\n",
    "        break\n",
    "\n",
    "        \n",
    "print('Remaining accounts: ', account_numbers)"
   ]
  },
  {
   "cell_type": "code",
   "execution_count": 53,
   "id": "c5e41f66",
   "metadata": {},
   "outputs": [],
   "source": [
    "account_transactions = [{\"date\":\"2023-07-01\", \"type\":\"Deposit\", \"amount\":100},\n",
    "                        {\"date\":\"2023-07-02\", \"type\":\"Withdraw\", \"amount\":50},\n",
    "                        {\"date\":\"2023-07-03\", \"type\":\"Deposit\", \"amount\":200},\n",
    "                        {\"date\":\"2023-07-04\", \"type\":\"Withdraw\", \"amount\":75}]"
   ]
  },
  {
   "cell_type": "code",
   "execution_count": 60,
   "id": "1d324f7f",
   "metadata": {},
   "outputs": [
    {
     "name": "stdout",
     "output_type": "stream",
     "text": [
      "Account Statement\n",
      "2023-07-01 -- Deposit -- 100\n",
      "2023-07-02 -- Withdraw -- 50\n",
      "2023-07-03 -- Deposit -- 200\n",
      "2023-07-04 -- Withdraw -- 75\n"
     ]
    }
   ],
   "source": [
    "print('Account Statement')\n",
    "for i in account_transactions:\n",
    "    print(i['date'], \"--\", i['type'], \"--\", i['amount'])"
   ]
  },
  {
   "cell_type": "code",
   "execution_count": 65,
   "id": "166b0e70",
   "metadata": {},
   "outputs": [],
   "source": [
    "transaction_date = [\"2023-07-01\",\"2023-07-02\",\"2023-07-03\",\"2023-07-04\"]\n",
    "transaction_type = [\"Deposit\",\"Withdraw\",\"Deposit\",\"Withdraw\"]\n",
    "transaction_amount = [100,50,200,75]"
   ]
  },
  {
   "cell_type": "code",
   "execution_count": 66,
   "id": "d200f6e6",
   "metadata": {},
   "outputs": [
    {
     "name": "stdout",
     "output_type": "stream",
     "text": [
      "Account Statement\n",
      "2023-07-01 -- Deposit -- 100\n",
      "2023-07-02 -- Withdraw -- 50\n",
      "2023-07-03 -- Deposit -- 200\n",
      "2023-07-04 -- Withdraw -- 75\n"
     ]
    }
   ],
   "source": [
    "print('Account Statement')\n",
    "for (td,tt,ta) in zip(transaction_date,transaction_type,transaction_amount):\n",
    "    print(td,\"--\",tt,\"--\",ta)"
   ]
  },
  {
   "cell_type": "markdown",
   "id": "02cf718f",
   "metadata": {},
   "source": [
    "# **While Loops**"
   ]
  },
  {
   "cell_type": "code",
   "execution_count": 67,
   "id": "8712b6a3",
   "metadata": {},
   "outputs": [],
   "source": [
    "#while True:\n",
    "#    print('Hi')"
   ]
  },
  {
   "cell_type": "code",
   "execution_count": 69,
   "id": "6d5f0efd",
   "metadata": {},
   "outputs": [
    {
     "name": "stdout",
     "output_type": "stream",
     "text": [
      "Hello\n"
     ]
    }
   ],
   "source": [
    "while False:\n",
    "    print('Hi')\n",
    "print('Hello')"
   ]
  },
  {
   "cell_type": "code",
   "execution_count": 70,
   "id": "cfb1ce36",
   "metadata": {},
   "outputs": [
    {
     "name": "stdout",
     "output_type": "stream",
     "text": [
      "Total coupouns left are:  5\n",
      "Total coupouns left are:  4\n",
      "Total coupouns left are:  3\n",
      "Total coupouns left are:  2\n",
      "Total coupouns left are:  1\n",
      "No coupouns left\n"
     ]
    }
   ],
   "source": [
    "coupouns = 5\n",
    "utilized = 0 \n",
    "\n",
    "while utilized<coupouns:\n",
    "    print('Total coupouns left are: ', coupouns-utilized)\n",
    "    utilized=utilized+1\n",
    "print('No coupouns left')"
   ]
  },
  {
   "cell_type": "code",
   "execution_count": 74,
   "id": "148a3ef4",
   "metadata": {},
   "outputs": [
    {
     "name": "stdout",
     "output_type": "stream",
     "text": [
      "Enter the number: 5\n",
      "120\n"
     ]
    }
   ],
   "source": [
    "number = int(input('Enter the number: '))\n",
    "if number<0:\n",
    "    print('There is no factorical of a negative number')\n",
    "else:\n",
    "    result = 1\n",
    "    while number>0:\n",
    "        result = result*number\n",
    "        number=number-1\n",
    "    print(result)"
   ]
  },
  {
   "cell_type": "code",
   "execution_count": 78,
   "id": "3a48f5f2",
   "metadata": {},
   "outputs": [
    {
     "name": "stdout",
     "output_type": "stream",
     "text": [
      "Enter your pin: 1234\n",
      "Pin accepted, access granted\n"
     ]
    }
   ],
   "source": [
    "correct_pin = 1234\n",
    "max_attempts = 3 \n",
    "attempts = 0 \n",
    "\n",
    "while attempts<max_attempts:\n",
    "    pin = int(input('Enter your pin: '))\n",
    "    if pin == correct_pin:\n",
    "        print('Pin accepted, access granted')\n",
    "        break\n",
    "    else:\n",
    "        attempts=attempts+1\n",
    "        print('Incorrect Pin, attempts remaining: ', max_attempts-attempts)\n",
    "        \n",
    "if attempts==max_attempts:\n",
    "    print('Max Attempts reached, access denied')"
   ]
  }
 ],
 "metadata": {
  "kernelspec": {
   "display_name": "Python 3 (ipykernel)",
   "language": "python",
   "name": "python3"
  },
  "language_info": {
   "codemirror_mode": {
    "name": "ipython",
    "version": 3
   },
   "file_extension": ".py",
   "mimetype": "text/x-python",
   "name": "python",
   "nbconvert_exporter": "python",
   "pygments_lexer": "ipython3",
   "version": "3.11.4"
  }
 },
 "nbformat": 4,
 "nbformat_minor": 5
}
