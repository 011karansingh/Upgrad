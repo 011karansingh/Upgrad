{
 "cells": [
  {
   "cell_type": "code",
   "execution_count": 1,
   "id": "8258f239",
   "metadata": {},
   "outputs": [],
   "source": [
    "def greeting():\n",
    "    print('Good Evening')"
   ]
  },
  {
   "cell_type": "code",
   "execution_count": 2,
   "id": "2a6cc9b7",
   "metadata": {},
   "outputs": [
    {
     "name": "stdout",
     "output_type": "stream",
     "text": [
      "Good Evening\n"
     ]
    }
   ],
   "source": [
    "greeting()"
   ]
  },
  {
   "cell_type": "code",
   "execution_count": 3,
   "id": "97213cbc",
   "metadata": {},
   "outputs": [],
   "source": [
    "def greeting(name):\n",
    "    print('Good Evening', name)"
   ]
  },
  {
   "cell_type": "code",
   "execution_count": 5,
   "id": "d5ee8fbf",
   "metadata": {},
   "outputs": [
    {
     "name": "stdout",
     "output_type": "stream",
     "text": [
      "Good Evening Akash\n"
     ]
    }
   ],
   "source": [
    "greeting('Akash')"
   ]
  },
  {
   "cell_type": "code",
   "execution_count": 6,
   "id": "99ce0cf4",
   "metadata": {},
   "outputs": [
    {
     "name": "stdout",
     "output_type": "stream",
     "text": [
      "Good Evening A\n",
      "Good Evening B\n",
      "Good Evening C\n",
      "Good Evening D\n",
      "Good Evening E\n"
     ]
    }
   ],
   "source": [
    "stu_names = ['A','B','C','D','E']\n",
    "for i in stu_names:\n",
    "    greeting(i)"
   ]
  },
  {
   "cell_type": "code",
   "execution_count": 7,
   "id": "3648b412",
   "metadata": {},
   "outputs": [],
   "source": [
    "def greeting(name='Learner'):\n",
    "    print('Good Evening', name)"
   ]
  },
  {
   "cell_type": "code",
   "execution_count": 8,
   "id": "aa8df100",
   "metadata": {},
   "outputs": [
    {
     "name": "stdout",
     "output_type": "stream",
     "text": [
      "Good Evening Learner\n"
     ]
    }
   ],
   "source": [
    "greeting()"
   ]
  },
  {
   "cell_type": "code",
   "execution_count": 9,
   "id": "7fb3f5a4",
   "metadata": {},
   "outputs": [
    {
     "name": "stdout",
     "output_type": "stream",
     "text": [
      "Good Evening Akash\n"
     ]
    }
   ],
   "source": [
    "greeting('Akash')"
   ]
  },
  {
   "cell_type": "code",
   "execution_count": 11,
   "id": "d3856f88",
   "metadata": {},
   "outputs": [],
   "source": [
    "def greeting(name='Learner'):\n",
    "    \"\"\"This function helps to greet the learners\"\"\"\n",
    "    print('Good Evening', name)"
   ]
  },
  {
   "cell_type": "code",
   "execution_count": null,
   "id": "cbf7224a",
   "metadata": {},
   "outputs": [],
   "source": [
    "greeting()"
   ]
  },
  {
   "cell_type": "code",
   "execution_count": 13,
   "id": "9b09c1ca",
   "metadata": {},
   "outputs": [],
   "source": [
    "def calculator(num1,num2,operation='all'):\n",
    "    if operation=='all':\n",
    "        print(num1+num2)\n",
    "        print(num1-num2)\n",
    "        print(num1*num2)\n",
    "        print(num1/num2)\n",
    "    elif operation=='add':\n",
    "        print(num1+num2)\n",
    "    elif operation=='sub':\n",
    "        print(num1-num2)\n",
    "    elif operation=='mul':\n",
    "        print(num1*num2)\n",
    "    elif operation=='div':\n",
    "        print(num1/num2)\n",
    "    else:\n",
    "        print('Please pass the correct option')"
   ]
  },
  {
   "cell_type": "code",
   "execution_count": 21,
   "id": "19d2dd94",
   "metadata": {},
   "outputs": [
    {
     "name": "stdout",
     "output_type": "stream",
     "text": [
      "12\n",
      "8\n",
      "20\n",
      "5.0\n"
     ]
    }
   ],
   "source": [
    "output = calculator(10,2,'all')"
   ]
  },
  {
   "cell_type": "code",
   "execution_count": 33,
   "id": "bd7d5c5f",
   "metadata": {},
   "outputs": [
    {
     "data": {
      "text/plain": [
       "NoneType"
      ]
     },
     "execution_count": 33,
     "metadata": {},
     "output_type": "execute_result"
    }
   ],
   "source": [
    "type(output)"
   ]
  },
  {
   "cell_type": "code",
   "execution_count": 54,
   "id": "5ca0ef44",
   "metadata": {},
   "outputs": [],
   "source": [
    "def calculator(num1,num2,operation='all'):\n",
    "    if operation=='all':\n",
    "        return [num1+num2, num1-num2, num1*num2, num1/num2]\n",
    "    elif operation=='add':\n",
    "        return(num1+num2)\n",
    "    elif operation=='sub':\n",
    "        return(num1-num2)\n",
    "    elif operation=='mul':\n",
    "        return(num1*num2)\n",
    "    elif operation=='div':\n",
    "        return(num1/num2)\n",
    "    else:\n",
    "        return('Please pass the correct option')"
   ]
  },
  {
   "cell_type": "code",
   "execution_count": 55,
   "id": "1b71e74d",
   "metadata": {},
   "outputs": [],
   "source": [
    "output = calculator(10,2,'all')"
   ]
  },
  {
   "cell_type": "code",
   "execution_count": 56,
   "id": "3a187545",
   "metadata": {},
   "outputs": [
    {
     "data": {
      "text/plain": [
       "[12, 8, 20, 5.0]"
      ]
     },
     "execution_count": 56,
     "metadata": {},
     "output_type": "execute_result"
    }
   ],
   "source": [
    "output"
   ]
  },
  {
   "cell_type": "code",
   "execution_count": 57,
   "id": "58c0287c",
   "metadata": {},
   "outputs": [],
   "source": [
    "def calculator(num1,num2,operation='all'):\n",
    "    if operation=='all':\n",
    "        return {'num1+num2': num1+num2, 'num1-num2':num1-num2, 'num1*num2':num1*num2, 'num1/num2':num1/num2}\n",
    "    elif operation=='add':\n",
    "        return(num1+num2)\n",
    "    elif operation=='sub':\n",
    "        return(num1-num2)\n",
    "    elif operation=='mul':\n",
    "        return(num1*num2)\n",
    "    elif operation=='div':\n",
    "        return(num1/num2)\n",
    "    else:\n",
    "        return('Please pass the correct option')"
   ]
  },
  {
   "cell_type": "code",
   "execution_count": 59,
   "id": "25881ca1",
   "metadata": {},
   "outputs": [],
   "source": [
    "output = calculator(10,2)"
   ]
  },
  {
   "cell_type": "code",
   "execution_count": 61,
   "id": "11866616",
   "metadata": {},
   "outputs": [
    {
     "data": {
      "text/plain": [
       "dict"
      ]
     },
     "execution_count": 61,
     "metadata": {},
     "output_type": "execute_result"
    }
   ],
   "source": [
    "type(output)"
   ]
  },
  {
   "cell_type": "code",
   "execution_count": 62,
   "id": "8e14ae91",
   "metadata": {},
   "outputs": [],
   "source": [
    "def factorial(num):\n",
    "    if num<0:\n",
    "        print('There is no factorial of a negative number')\n",
    "    else:\n",
    "        result = 1 \n",
    "        while num>=1:\n",
    "            result = result*num\n",
    "            num=num-1\n",
    "        return result"
   ]
  },
  {
   "cell_type": "code",
   "execution_count": 65,
   "id": "a2d1df91",
   "metadata": {},
   "outputs": [
    {
     "data": {
      "text/plain": [
       "1"
      ]
     },
     "execution_count": 65,
     "metadata": {},
     "output_type": "execute_result"
    }
   ],
   "source": [
    "factorial(0)"
   ]
  },
  {
   "cell_type": "code",
   "execution_count": 66,
   "id": "b1a60eac",
   "metadata": {},
   "outputs": [
    {
     "ename": "SyntaxError",
     "evalue": "non-default argument follows default argument (2325549371.py, line 1)",
     "output_type": "error",
     "traceback": [
      "\u001b[1;36m  Cell \u001b[1;32mIn[66], line 1\u001b[1;36m\u001b[0m\n\u001b[1;33m    def interest_calculator(interest = 0.05, amount):\u001b[0m\n\u001b[1;37m                                             ^\u001b[0m\n\u001b[1;31mSyntaxError\u001b[0m\u001b[1;31m:\u001b[0m non-default argument follows default argument\n"
     ]
    }
   ],
   "source": [
    "def interest_calculator(interest = 0.05, amount):\n",
    "    print(interest*amount)"
   ]
  },
  {
   "cell_type": "code",
   "execution_count": 67,
   "id": "7417d6bd",
   "metadata": {},
   "outputs": [],
   "source": [
    "def interest_calculator(amount,interest = 0.05):\n",
    "    print(interest*amount)"
   ]
  },
  {
   "cell_type": "code",
   "execution_count": 68,
   "id": "07cabfa3",
   "metadata": {},
   "outputs": [
    {
     "name": "stdout",
     "output_type": "stream",
     "text": [
      "50.0\n"
     ]
    }
   ],
   "source": [
    "interest_calculator(1000)"
   ]
  },
  {
   "cell_type": "code",
   "execution_count": 69,
   "id": "a408f122",
   "metadata": {},
   "outputs": [],
   "source": [
    "def square(num):\n",
    "    return num*num\n",
    "\n",
    "numbers = [1,2,3,4,5]\n",
    "\n",
    "squared_numbers = [square(num) for num in numbers]"
   ]
  },
  {
   "cell_type": "code",
   "execution_count": 70,
   "id": "dbf9f1ed",
   "metadata": {},
   "outputs": [
    {
     "data": {
      "text/plain": [
       "[1, 4, 9, 16, 25]"
      ]
     },
     "execution_count": 70,
     "metadata": {},
     "output_type": "execute_result"
    }
   ],
   "source": [
    "squared_numbers"
   ]
  },
  {
   "cell_type": "code",
   "execution_count": 74,
   "id": "2b6ae9e0",
   "metadata": {},
   "outputs": [],
   "source": [
    "def add(num1,num2,num3):\n",
    "    print(num1+num2+num3)"
   ]
  },
  {
   "cell_type": "code",
   "execution_count": 75,
   "id": "b59c0b73",
   "metadata": {},
   "outputs": [
    {
     "name": "stdout",
     "output_type": "stream",
     "text": [
      "15\n"
     ]
    }
   ],
   "source": [
    "add(10,2,3)"
   ]
  },
  {
   "cell_type": "code",
   "execution_count": 81,
   "id": "9e0760ba",
   "metadata": {},
   "outputs": [],
   "source": [
    "def add(*args):\n",
    "    result = 0 \n",
    "    for i in args:\n",
    "        result=result+i\n",
    "    print(result)"
   ]
  },
  {
   "cell_type": "code",
   "execution_count": 82,
   "id": "b6766f21",
   "metadata": {},
   "outputs": [
    {
     "name": "stdout",
     "output_type": "stream",
     "text": [
      "15\n"
     ]
    }
   ],
   "source": [
    "add(10,2,3)"
   ]
  },
  {
   "cell_type": "code",
   "execution_count": 83,
   "id": "a072a379",
   "metadata": {},
   "outputs": [],
   "source": [
    "def calc(operation,*args):\n",
    "    if operation=='add':\n",
    "        result = 0\n",
    "        for i in args:\n",
    "            result = result+i\n",
    "    elif operation=='mul':\n",
    "        result = 1\n",
    "        for i in args:\n",
    "            result = result*i\n",
    "    else:\n",
    "        return \"Invalid Operation\"\n",
    "    \n",
    "    return result"
   ]
  },
  {
   "cell_type": "code",
   "execution_count": 85,
   "id": "1aadd55c",
   "metadata": {},
   "outputs": [
    {
     "data": {
      "text/plain": [
       "120"
      ]
     },
     "execution_count": 85,
     "metadata": {},
     "output_type": "execute_result"
    }
   ],
   "source": [
    "calc(\"mul\", 1,2,3,4,5)"
   ]
  },
  {
   "cell_type": "code",
   "execution_count": 86,
   "id": "dc5aaf14",
   "metadata": {},
   "outputs": [],
   "source": [
    "def calc(*args, operation):\n",
    "    if operation=='add':\n",
    "        result = 0\n",
    "        for i in args:\n",
    "            result = result+i\n",
    "    elif operation=='mul':\n",
    "        result = 1\n",
    "        for i in args:\n",
    "            result = result*i\n",
    "    else:\n",
    "        return \"Invalid Operation\"\n",
    "    \n",
    "    return result"
   ]
  },
  {
   "cell_type": "code",
   "execution_count": 88,
   "id": "9f32ed2f",
   "metadata": {},
   "outputs": [
    {
     "ename": "TypeError",
     "evalue": "calc() missing 1 required keyword-only argument: 'operation'",
     "output_type": "error",
     "traceback": [
      "\u001b[1;31m---------------------------------------------------------------------------\u001b[0m",
      "\u001b[1;31mTypeError\u001b[0m                                 Traceback (most recent call last)",
      "Cell \u001b[1;32mIn[88], line 1\u001b[0m\n\u001b[1;32m----> 1\u001b[0m calc(\u001b[38;5;241m1\u001b[39m,\u001b[38;5;241m2\u001b[39m,\u001b[38;5;241m3\u001b[39m,\u001b[38;5;241m4\u001b[39m,\u001b[38;5;241m5\u001b[39m,\u001b[38;5;124m\"\u001b[39m\u001b[38;5;124mmul\u001b[39m\u001b[38;5;124m\"\u001b[39m)\n",
      "\u001b[1;31mTypeError\u001b[0m: calc() missing 1 required keyword-only argument: 'operation'"
     ]
    }
   ],
   "source": [
    "calc(1,2,3,4,5,\"mul\")"
   ]
  },
  {
   "cell_type": "code",
   "execution_count": 91,
   "id": "040eab1f",
   "metadata": {},
   "outputs": [
    {
     "name": "stdout",
     "output_type": "stream",
     "text": [
      "Vinay\n",
      "Vinay\n"
     ]
    }
   ],
   "source": [
    "name = 'Akshay'\n",
    "\n",
    "def f1():\n",
    "    global name\n",
    "    name = 'Vinay'\n",
    "    print(name)\n",
    "    \n",
    "f1()\n",
    "\n",
    "def f2():\n",
    "    print(name)\n",
    "    \n",
    "f2()"
   ]
  },
  {
   "cell_type": "code",
   "execution_count": 92,
   "id": "38160e27",
   "metadata": {},
   "outputs": [
    {
     "data": {
      "text/plain": [
       "'Vinay'"
      ]
     },
     "execution_count": 92,
     "metadata": {},
     "output_type": "execute_result"
    }
   ],
   "source": [
    "name"
   ]
  },
  {
   "cell_type": "code",
   "execution_count": 99,
   "id": "fb14d1e3",
   "metadata": {},
   "outputs": [],
   "source": [
    "def check_voting_eligibilty(age):\n",
    "    def is_eligible():\n",
    "        return age>=18\n",
    "    \n",
    "    if is_eligible()==True:\n",
    "        print('You are eligible for voting')\n",
    "    else:\n",
    "        print('You are not eligible for voting')"
   ]
  },
  {
   "cell_type": "code",
   "execution_count": 101,
   "id": "f90a5847",
   "metadata": {},
   "outputs": [
    {
     "ename": "NameError",
     "evalue": "name 'is_eligible' is not defined",
     "output_type": "error",
     "traceback": [
      "\u001b[1;31m---------------------------------------------------------------------------\u001b[0m",
      "\u001b[1;31mNameError\u001b[0m                                 Traceback (most recent call last)",
      "Cell \u001b[1;32mIn[101], line 1\u001b[0m\n\u001b[1;32m----> 1\u001b[0m is_eligible()\n",
      "\u001b[1;31mNameError\u001b[0m: name 'is_eligible' is not defined"
     ]
    }
   ],
   "source": [
    "is_eligible()"
   ]
  },
  {
   "cell_type": "code",
   "execution_count": 100,
   "id": "e27fe6ed",
   "metadata": {},
   "outputs": [
    {
     "name": "stdout",
     "output_type": "stream",
     "text": [
      "You are not eligible for voting\n"
     ]
    }
   ],
   "source": [
    "check_voting_eligibilty(8)"
   ]
  },
  {
   "cell_type": "code",
   "execution_count": 103,
   "id": "82b4ccd3",
   "metadata": {},
   "outputs": [
    {
     "name": "stdout",
     "output_type": "stream",
     "text": [
      "12000\n"
     ]
    }
   ],
   "source": [
    "def currency_convertor(amount,rate):\n",
    "    def apply_conversion():\n",
    "        return amount * rate\n",
    "    \n",
    "    converted_amount = apply_conversion()\n",
    "    print(converted_amount)\n",
    "\n",
    "currency_convertor(150,80)"
   ]
  },
  {
   "cell_type": "code",
   "execution_count": 212,
   "id": "44e72d40",
   "metadata": {},
   "outputs": [],
   "source": [
    "import random\n",
    "def generate_password():\n",
    "    def generate_random_digit():\n",
    "        return random.randint(0,9)\n",
    "    \n",
    "    def generate_random_letter():\n",
    "        return chr(random.randint(97,122))\n",
    "    \n",
    "    password = \"\"\n",
    "    for i in range(6):\n",
    "        if random.choice(['Number','Character']) == 'Number':\n",
    "            password = password+str(generate_random_digit())\n",
    "        else:\n",
    "            password = password+generate_random_letter()\n",
    "        \n",
    "    print(\"Generated Password: \", password)"
   ]
  },
  {
   "cell_type": "code",
   "execution_count": 213,
   "id": "d7b4f6e0",
   "metadata": {},
   "outputs": [
    {
     "name": "stdout",
     "output_type": "stream",
     "text": [
      "Generated Password:  70gmdu\n"
     ]
    }
   ],
   "source": [
    "generate_password()"
   ]
  },
  {
   "cell_type": "code",
   "execution_count": 133,
   "id": "18430d6f",
   "metadata": {},
   "outputs": [
    {
     "data": {
      "text/plain": [
       "2"
      ]
     },
     "execution_count": 133,
     "metadata": {},
     "output_type": "execute_result"
    }
   ],
   "source": [
    "random.randint(0,9)"
   ]
  },
  {
   "cell_type": "code",
   "execution_count": 137,
   "id": "56729922",
   "metadata": {},
   "outputs": [
    {
     "data": {
      "text/plain": [
       "'d'"
      ]
     },
     "execution_count": 137,
     "metadata": {},
     "output_type": "execute_result"
    }
   ],
   "source": [
    "chr(random.randint(97,122))"
   ]
  },
  {
   "cell_type": "code",
   "execution_count": 138,
   "id": "6ddae3cf",
   "metadata": {},
   "outputs": [
    {
     "data": {
      "text/plain": [
       "[0, 1, 2, 3, 4, 5]"
      ]
     },
     "execution_count": 138,
     "metadata": {},
     "output_type": "execute_result"
    }
   ],
   "source": [
    "list(range(6))"
   ]
  },
  {
   "cell_type": "code",
   "execution_count": 168,
   "id": "613ed88e",
   "metadata": {},
   "outputs": [
    {
     "data": {
      "text/plain": [
       "'Aswath'"
      ]
     },
     "execution_count": 168,
     "metadata": {},
     "output_type": "execute_result"
    }
   ],
   "source": [
    "random.choice(['Vinay','Abhishek','Aswath'])"
   ]
  },
  {
   "cell_type": "code",
   "execution_count": 210,
   "id": "19ed1152",
   "metadata": {},
   "outputs": [
    {
     "data": {
      "text/plain": [
       "'Number'"
      ]
     },
     "execution_count": 210,
     "metadata": {},
     "output_type": "execute_result"
    }
   ],
   "source": [
    "random.choice(['Number','Character'])"
   ]
  },
  {
   "cell_type": "code",
   "execution_count": null,
   "id": "a984cf5c",
   "metadata": {},
   "outputs": [],
   "source": []
  },
  {
   "cell_type": "code",
   "execution_count": 214,
   "id": "bc78ea20",
   "metadata": {},
   "outputs": [],
   "source": [
    "def calc(num1,num2):\n",
    "    print(num1+num2)"
   ]
  },
  {
   "cell_type": "code",
   "execution_count": 215,
   "id": "435d57e8",
   "metadata": {},
   "outputs": [
    {
     "name": "stdout",
     "output_type": "stream",
     "text": [
      "Enter the num1: 10\n",
      "Enter the num2: 2\n",
      "12\n"
     ]
    }
   ],
   "source": [
    "num1 = int(input('Enter the num1: '))\n",
    "num2 = int(input('Enter the num2: '))\n",
    "calc(num1,num2)"
   ]
  },
  {
   "cell_type": "code",
   "execution_count": 218,
   "id": "f7dc04e9",
   "metadata": {},
   "outputs": [],
   "source": [
    "def pin_check():\n",
    "    correct_pin = 1234\n",
    "    max_attempts = 3\n",
    "    attempts = 0 \n",
    "    \n",
    "    while attempts<max_attempts:\n",
    "        pin = int(input('Enter the pin:'))\n",
    "        if pin==correct_pin:\n",
    "            print('Pin Accepted, Access Granted')\n",
    "            break\n",
    "        else:\n",
    "            attempts=attempts+1\n",
    "            print('Incorrect Pin, Attempts remaining: ', max_attempts-attempts)\n",
    "    if attempts==max_attempts:\n",
    "        print('Max Attempts reached, access denied')"
   ]
  },
  {
   "cell_type": "code",
   "execution_count": 219,
   "id": "17cb7489",
   "metadata": {},
   "outputs": [
    {
     "name": "stdout",
     "output_type": "stream",
     "text": [
      "Enter the pin:1234\n",
      "Pin Accepted, Access Granted\n"
     ]
    }
   ],
   "source": [
    "pin_check()"
   ]
  },
  {
   "cell_type": "code",
   "execution_count": 220,
   "id": "76d67105",
   "metadata": {},
   "outputs": [],
   "source": [
    "def pin_check(pin):\n",
    "    correct_pin = 1234\n",
    "    max_attempts = 3\n",
    "    attempts = 0 \n",
    "    \n",
    "    while attempts<max_attempts:\n",
    "        #pin = int(input('Enter the pin:'))\n",
    "        if pin==correct_pin:\n",
    "            print('Pin Accepted, Access Granted')\n",
    "            break\n",
    "        else:\n",
    "            attempts=attempts+1\n",
    "            print('Incorrect Pin, Attempts remaining: ', max_attempts-attempts)\n",
    "    if attempts==max_attempts:\n",
    "        print('Max Attempts reached, access denied')"
   ]
  },
  {
   "cell_type": "code",
   "execution_count": 221,
   "id": "d02fe97a",
   "metadata": {},
   "outputs": [
    {
     "name": "stdout",
     "output_type": "stream",
     "text": [
      "Incorrect Pin, Attempts remaining:  2\n",
      "Incorrect Pin, Attempts remaining:  1\n",
      "Incorrect Pin, Attempts remaining:  0\n",
      "Max Attempts reached, access denied\n"
     ]
    }
   ],
   "source": [
    "pin_check(1222)"
   ]
  },
  {
   "cell_type": "code",
   "execution_count": 222,
   "id": "660d697d",
   "metadata": {},
   "outputs": [
    {
     "name": "stdout",
     "output_type": "stream",
     "text": [
      "Account created successfully.\n",
      "Deposit successful.\n",
      "Withdrawal successful.\n",
      "Account balance: 1300\n"
     ]
    }
   ],
   "source": [
    "def banking_app():\n",
    "    # Dictionary to store account information (account_number: balance)\n",
    "    accounts = {}\n",
    "\n",
    "    def create_account(account_number, initial_balance=0):\n",
    "        \"\"\"Create a new bank account.\"\"\"\n",
    "        if account_number in accounts:\n",
    "            print(\"Account already exists.\")\n",
    "        else:\n",
    "            accounts[account_number] = initial_balance\n",
    "            print(\"Account created successfully.\")\n",
    "\n",
    "    def deposit(account_number, amount):\n",
    "        \"\"\"Deposit funds into an existing account.\"\"\"\n",
    "        if account_number in accounts:\n",
    "            accounts[account_number] += amount\n",
    "            print(\"Deposit successful.\")\n",
    "        else:\n",
    "            print(\"Account not found.\")\n",
    "\n",
    "    def withdraw(account_number, amount):\n",
    "        \"\"\"Withdraw funds from an existing account.\"\"\"\n",
    "        if account_number in accounts:\n",
    "            if accounts[account_number] >= amount:\n",
    "                accounts[account_number] -= amount\n",
    "                print(\"Withdrawal successful.\")\n",
    "            else:\n",
    "                print(\"Insufficient funds.\")\n",
    "        else:\n",
    "            print(\"Account not found.\")\n",
    "\n",
    "    def get_balance(account_number):\n",
    "        \"\"\"Check the account balance.\"\"\"\n",
    "        if account_number in accounts:\n",
    "            balance = accounts[account_number]\n",
    "            print(f\"Account balance: {balance}\")\n",
    "        else:\n",
    "            print(\"Account not found.\")\n",
    "\n",
    "    # Sample usage:\n",
    "    create_account(\"1234567890\", 1000)\n",
    "    deposit(\"1234567890\", 500)\n",
    "    withdraw(\"1234567890\", 200)\n",
    "    get_balance(\"1234567890\")\n",
    "\n",
    "# Call the banking application function\n",
    "banking_app()"
   ]
  }
 ],
 "metadata": {
  "kernelspec": {
   "display_name": "Python 3 (ipykernel)",
   "language": "python",
   "name": "python3"
  },
  "language_info": {
   "codemirror_mode": {
    "name": "ipython",
    "version": 3
   },
   "file_extension": ".py",
   "mimetype": "text/x-python",
   "name": "python",
   "nbconvert_exporter": "python",
   "pygments_lexer": "ipython3",
   "version": "3.11.4"
  }
 },
 "nbformat": 4,
 "nbformat_minor": 5
}
