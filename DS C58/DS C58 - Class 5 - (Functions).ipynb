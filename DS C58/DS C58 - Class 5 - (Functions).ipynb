{
 "cells": [
  {
   "cell_type": "markdown",
   "id": "d0408002",
   "metadata": {},
   "source": [
    "# Functions\n",
    "\n",
    "Functions are reusable codes, which we can reuse in our big codes, it reduces the lines of our main code\n",
    "\n",
    "def - Defining a function "
   ]
  },
  {
   "cell_type": "code",
   "execution_count": 1,
   "id": "d21fb807",
   "metadata": {},
   "outputs": [],
   "source": [
    "def greeting():\n",
    "    print('Good Morning')"
   ]
  },
  {
   "cell_type": "code",
   "execution_count": 2,
   "id": "cafaab5b",
   "metadata": {},
   "outputs": [
    {
     "name": "stdout",
     "output_type": "stream",
     "text": [
      "Good Morning\n"
     ]
    }
   ],
   "source": [
    "greeting()"
   ]
  },
  {
   "cell_type": "code",
   "execution_count": 3,
   "id": "abc8e74a",
   "metadata": {},
   "outputs": [],
   "source": [
    "def greeting(name):\n",
    "    print('Good Morning', name)"
   ]
  },
  {
   "cell_type": "code",
   "execution_count": 5,
   "id": "d44dac4a",
   "metadata": {},
   "outputs": [
    {
     "name": "stdout",
     "output_type": "stream",
     "text": [
      "Good Morning Shubham\n"
     ]
    }
   ],
   "source": [
    "greeting('Shubham')"
   ]
  },
  {
   "cell_type": "code",
   "execution_count": 6,
   "id": "38257101",
   "metadata": {},
   "outputs": [
    {
     "name": "stdout",
     "output_type": "stream",
     "text": [
      "Good Morning A\n",
      "Good Morning B\n",
      "Good Morning C\n",
      "Good Morning D\n"
     ]
    }
   ],
   "source": [
    "names = ['A','B','C','D']\n",
    "for i in names:\n",
    "    greeting(i)"
   ]
  },
  {
   "cell_type": "code",
   "execution_count": 10,
   "id": "d1b0bb79",
   "metadata": {},
   "outputs": [],
   "source": [
    "def greeting(name='Learner'):\n",
    "    \"\"\"This function is wishing good morning to my learners\"\"\"\n",
    "    print('Good Morning',name)"
   ]
  },
  {
   "cell_type": "code",
   "execution_count": 11,
   "id": "b0566074",
   "metadata": {},
   "outputs": [
    {
     "name": "stdout",
     "output_type": "stream",
     "text": [
      "Good Morning Learner\n"
     ]
    }
   ],
   "source": [
    "greeting()"
   ]
  },
  {
   "cell_type": "code",
   "execution_count": 12,
   "id": "6dc1fdbc",
   "metadata": {},
   "outputs": [
    {
     "name": "stdout",
     "output_type": "stream",
     "text": [
      "Good Morning Rahul\n"
     ]
    }
   ],
   "source": [
    "greeting('Rahul')"
   ]
  },
  {
   "cell_type": "code",
   "execution_count": 13,
   "id": "fd0fa752",
   "metadata": {},
   "outputs": [],
   "source": [
    "def calculator(num1,num2,operation='all'):\n",
    "    '''In the operation you can pass all which is default or you can pass add, sub,mul,div'''\n",
    "    if operation=='all':\n",
    "        print(num1+num2)\n",
    "        print(num1-num2)\n",
    "        print(num1*num2)\n",
    "        print(num1/num2)\n",
    "        \n",
    "    elif operation=='add':\n",
    "        print(num1+num2)\n",
    "        \n",
    "    elif operation=='sub':\n",
    "        print(num1-num2)\n",
    "        \n",
    "    elif operation=='mul':\n",
    "        print(num1*num2)\n",
    "        \n",
    "    elif operation=='div':\n",
    "        print(num1/num2)\n",
    "        \n",
    "    else:\n",
    "        print('Please pass the correct option')"
   ]
  },
  {
   "cell_type": "code",
   "execution_count": 31,
   "id": "02e98f4c",
   "metadata": {},
   "outputs": [
    {
     "name": "stdout",
     "output_type": "stream",
     "text": [
      "Please pass the correct option\n"
     ]
    }
   ],
   "source": [
    "output = calculator(10,3,'rahul')"
   ]
  },
  {
   "cell_type": "code",
   "execution_count": 29,
   "id": "d4f84441",
   "metadata": {},
   "outputs": [
    {
     "data": {
      "text/plain": [
       "NoneType"
      ]
     },
     "execution_count": 29,
     "metadata": {},
     "output_type": "execute_result"
    }
   ],
   "source": [
    "type(output)"
   ]
  },
  {
   "cell_type": "code",
   "execution_count": 35,
   "id": "7a4f3396",
   "metadata": {},
   "outputs": [],
   "source": [
    "def calculator(num1,num2,operation='all'):\n",
    "    '''In the operation you can pass all which is default or you can pass add, sub,mul,div'''\n",
    "    if operation=='all':\n",
    "        return(num1+num2,num1-num2,num1*num2,num1/num2)\n",
    "        \n",
    "    elif operation=='add':\n",
    "        return(num1+num2)\n",
    "        \n",
    "    elif operation=='sub':\n",
    "        return(num1-num2)\n",
    "        \n",
    "    elif operation=='mul':\n",
    "        return(num1*num2)\n",
    "        \n",
    "    elif operation=='div':\n",
    "        return(num1/num2)\n",
    "        \n",
    "    else:\n",
    "        return('Please pass the correct option')"
   ]
  },
  {
   "cell_type": "code",
   "execution_count": 37,
   "id": "801a415a",
   "metadata": {},
   "outputs": [
    {
     "data": {
      "text/plain": [
       "(346767786787, 342301299677, 769429548147732869760, 154.27540021804742)"
      ]
     },
     "execution_count": 37,
     "metadata": {},
     "output_type": "execute_result"
    }
   ],
   "source": [
    "calculator(344534543232,2233243555,'all')"
   ]
  },
  {
   "cell_type": "code",
   "execution_count": 38,
   "id": "3436267a",
   "metadata": {},
   "outputs": [],
   "source": [
    "def calculator(num1,num2,operation='all'):\n",
    "    '''In the operation you can pass all which is default or you can pass add, sub,mul,div'''\n",
    "    if operation=='all':\n",
    "        return {'add':num1+num2,'sub':num1-num2,'mul':num1*num2,'div':num1/num2}\n",
    "        \n",
    "    elif operation=='add':\n",
    "        return(num1+num2)\n",
    "        \n",
    "    elif operation=='sub':\n",
    "        return(num1-num2)\n",
    "        \n",
    "    elif operation=='mul':\n",
    "        return(num1*num2)\n",
    "        \n",
    "    elif operation=='div':\n",
    "        return(num1/num2)\n",
    "        \n",
    "    else:\n",
    "        return('Please pass the correct option')"
   ]
  },
  {
   "cell_type": "code",
   "execution_count": 39,
   "id": "1c28dbaf",
   "metadata": {},
   "outputs": [
    {
     "data": {
      "text/plain": [
       "{'add': 13, 'sub': 7, 'mul': 30, 'div': 3.3333333333333335}"
      ]
     },
     "execution_count": 39,
     "metadata": {},
     "output_type": "execute_result"
    }
   ],
   "source": [
    "calculator(10,3)"
   ]
  },
  {
   "cell_type": "code",
   "execution_count": 46,
   "id": "511395e9",
   "metadata": {},
   "outputs": [],
   "source": [
    "def calculator(num1,num2,operation='all'):\n",
    "    '''In the operation you can pass all which is default or you can pass add, sub,mul,div'''\n",
    "    if operation=='all':\n",
    "        return {'add':num1+num2,'sub':num1-num2,'mul':num1*num2,'div':num1/num2}\n",
    "        \n",
    "    elif operation=='add':\n",
    "        return(num1+num2)\n",
    "        \n",
    "    elif operation=='sub':\n",
    "        return(num1-num2)\n",
    "        \n",
    "    elif operation=='mul':\n",
    "        return(num1*num2)\n",
    "        \n",
    "    elif operation=='div':\n",
    "        return(num1/num2)\n",
    "        \n",
    "    else:\n",
    "        return('Please pass the correct option')"
   ]
  },
  {
   "cell_type": "code",
   "execution_count": null,
   "id": "173f2742",
   "metadata": {},
   "outputs": [],
   "source": [
    "support@rahultiwari.co.in"
   ]
  },
  {
   "cell_type": "code",
   "execution_count": 48,
   "id": "f73856fb",
   "metadata": {},
   "outputs": [
    {
     "name": "stdout",
     "output_type": "stream",
     "text": [
      "Enter the number 1: 10\n",
      "Enter the number 2: 3\n"
     ]
    }
   ],
   "source": [
    "num1 = int(input('Enter the number 1: '))\n",
    "num2 = int(input('Enter the number 2: '))\n",
    "output = calculator(num1,num2)"
   ]
  },
  {
   "cell_type": "code",
   "execution_count": 49,
   "id": "f3ca795a",
   "metadata": {},
   "outputs": [
    {
     "data": {
      "text/plain": [
       "{'add': 13, 'sub': 7, 'mul': 30, 'div': 3.3333333333333335}"
      ]
     },
     "execution_count": 49,
     "metadata": {},
     "output_type": "execute_result"
    }
   ],
   "source": [
    "output"
   ]
  },
  {
   "cell_type": "code",
   "execution_count": 60,
   "id": "df5f5e81",
   "metadata": {},
   "outputs": [],
   "source": [
    "def factorial(num):\n",
    "    if num<0:\n",
    "        return('There is no factorial of a negative number')\n",
    "        \n",
    "    else:\n",
    "        result = 1\n",
    "        while num>=1:\n",
    "            result = result * num\n",
    "            #num = num - 1 \n",
    "            num-=1\n",
    "        return result"
   ]
  },
  {
   "cell_type": "code",
   "execution_count": 61,
   "id": "87230d21",
   "metadata": {},
   "outputs": [],
   "source": [
    "output = factorial(-5)"
   ]
  },
  {
   "cell_type": "code",
   "execution_count": 62,
   "id": "d947fa97",
   "metadata": {},
   "outputs": [
    {
     "data": {
      "text/plain": [
       "'There is no factorial of a negative number'"
      ]
     },
     "execution_count": 62,
     "metadata": {},
     "output_type": "execute_result"
    }
   ],
   "source": [
    "output"
   ]
  },
  {
   "cell_type": "code",
   "execution_count": 66,
   "id": "299c121b",
   "metadata": {},
   "outputs": [],
   "source": [
    "def pin_check():\n",
    "    correct_pin = 1234\n",
    "    max_attempts = 3 \n",
    "    attempts = 0\n",
    "    \n",
    "    while attempts<max_attempts:\n",
    "        pin = int(input('Enter your pin: '))\n",
    "        if pin == correct_pin:\n",
    "            print('Pin accepted, access granted')\n",
    "            break\n",
    "        else:\n",
    "            attempts+=1\n",
    "            print('Incorrect pin, attempts remaining: ', max_attempts-attempts)\n",
    "            \n",
    "    if attempts==max_attempts:\n",
    "        print('Max attempts reached, access denied')"
   ]
  },
  {
   "cell_type": "code",
   "execution_count": 67,
   "id": "468b8020",
   "metadata": {},
   "outputs": [
    {
     "name": "stdout",
     "output_type": "stream",
     "text": [
      "Enter your pin: 2222\n",
      "Incorrect pin, attempts remaining:  2\n",
      "Enter your pin: 1111\n",
      "Incorrect pin, attempts remaining:  1\n",
      "Enter your pin: 0000\n",
      "Incorrect pin, attempts remaining:  0\n",
      "Max attempts reached, access denied\n"
     ]
    }
   ],
   "source": [
    "pin_check()"
   ]
  },
  {
   "cell_type": "code",
   "execution_count": 70,
   "id": "5f50fb4e",
   "metadata": {},
   "outputs": [],
   "source": [
    "def pin_check():\n",
    "    correct_pin = 1234\n",
    "    max_attempts = 3 \n",
    "    attempts = 0\n",
    "    \n",
    "    while attempts<max_attempts:\n",
    "        pin = int(input('Enter your pin: '))\n",
    "        if pin == correct_pin:\n",
    "            print('Pin accepted, access granted')\n",
    "            break\n",
    "        else:\n",
    "            attempts+=1\n",
    "            print('Incorrect pin, attempts remaining: ', max_attempts-attempts)\n",
    "            \n",
    "    if attempts==max_attempts:\n",
    "        print('Max attempts reached, access denied')"
   ]
  },
  {
   "cell_type": "code",
   "execution_count": 74,
   "id": "a25aae5d",
   "metadata": {},
   "outputs": [
    {
     "name": "stdout",
     "output_type": "stream",
     "text": [
      "Enter your pin: 1234\n",
      "Pin accepted, access granted\n"
     ]
    }
   ],
   "source": [
    "pin_check()"
   ]
  },
  {
   "cell_type": "code",
   "execution_count": 78,
   "id": "1fc895f2",
   "metadata": {},
   "outputs": [],
   "source": [
    "def interest_calculator(amount=100,interest = 0.05):\n",
    "    print(amount*interest)"
   ]
  },
  {
   "cell_type": "code",
   "execution_count": 80,
   "id": "a5279ac4",
   "metadata": {},
   "outputs": [
    {
     "name": "stdout",
     "output_type": "stream",
     "text": [
      "5.0\n"
     ]
    }
   ],
   "source": [
    "interest_calculator()"
   ]
  },
  {
   "cell_type": "code",
   "execution_count": 83,
   "id": "ce2b6b3f",
   "metadata": {},
   "outputs": [],
   "source": [
    "def addition(num1,num2,num3,num4,num5):\n",
    "    print(num1+num2+num3+num4+num5)"
   ]
  },
  {
   "cell_type": "code",
   "execution_count": 84,
   "id": "60bd4ad8",
   "metadata": {},
   "outputs": [
    {
     "name": "stdout",
     "output_type": "stream",
     "text": [
      "15\n"
     ]
    }
   ],
   "source": [
    "addition(10,2,1,1,1)"
   ]
  },
  {
   "cell_type": "code",
   "execution_count": null,
   "id": "b6dbfd8a",
   "metadata": {},
   "outputs": [],
   "source": [
    "**Variable length argument**"
   ]
  },
  {
   "cell_type": "code",
   "execution_count": 90,
   "id": "a15ba9cc",
   "metadata": {},
   "outputs": [],
   "source": [
    "def addition(*args): #(10,2,3,5,6) - Tuple\n",
    "    result = 0\n",
    "    for i in args:\n",
    "        result = result + i \n",
    "    print(result)"
   ]
  },
  {
   "cell_type": "code",
   "execution_count": 91,
   "id": "83f4b02b",
   "metadata": {},
   "outputs": [
    {
     "name": "stdout",
     "output_type": "stream",
     "text": [
      "20\n"
     ]
    }
   ],
   "source": [
    "addition(10,2,3,5)"
   ]
  },
  {
   "cell_type": "code",
   "execution_count": 98,
   "id": "d359e0f9",
   "metadata": {},
   "outputs": [],
   "source": [
    "def num(list1):\n",
    "    if list1[0]>list1[1]:\n",
    "        print('More')\n",
    "    "
   ]
  },
  {
   "cell_type": "code",
   "execution_count": 99,
   "id": "0f514bb4",
   "metadata": {},
   "outputs": [
    {
     "name": "stdout",
     "output_type": "stream",
     "text": [
      "More\n"
     ]
    }
   ],
   "source": [
    "num([10,2,3,4])"
   ]
  },
  {
   "cell_type": "code",
   "execution_count": 103,
   "id": "2cce2140",
   "metadata": {},
   "outputs": [
    {
     "name": "stdout",
     "output_type": "stream",
     "text": [
      "Shubham\n",
      "Shubham\n"
     ]
    }
   ],
   "source": [
    "name = 'Jayasri'\n",
    "\n",
    "def f1():\n",
    "    global name\n",
    "    name = 'Shubham'\n",
    "    print(name)\n",
    "    \n",
    "f1()\n",
    "\n",
    "def f2():\n",
    "    print(name)\n",
    "    \n",
    "f2()"
   ]
  },
  {
   "cell_type": "code",
   "execution_count": 104,
   "id": "734f995c",
   "metadata": {},
   "outputs": [
    {
     "data": {
      "text/plain": [
       "'Shubham'"
      ]
     },
     "execution_count": 104,
     "metadata": {},
     "output_type": "execute_result"
    }
   ],
   "source": [
    "name"
   ]
  },
  {
   "cell_type": "code",
   "execution_count": 109,
   "id": "2defad99",
   "metadata": {},
   "outputs": [
    {
     "name": "stdout",
     "output_type": "stream",
     "text": [
      "Outer function is running\n",
      "Inner function is running\n"
     ]
    },
    {
     "ename": "NameError",
     "evalue": "name 'inner' is not defined",
     "output_type": "error",
     "traceback": [
      "\u001b[1;31m---------------------------------------------------------------------------\u001b[0m",
      "\u001b[1;31mNameError\u001b[0m                                 Traceback (most recent call last)",
      "Cell \u001b[1;32mIn[109], line 8\u001b[0m\n\u001b[0;32m      5\u001b[0m     inner()\n\u001b[0;32m      7\u001b[0m outer()\n\u001b[1;32m----> 8\u001b[0m inner()\n",
      "\u001b[1;31mNameError\u001b[0m: name 'inner' is not defined"
     ]
    }
   ],
   "source": [
    "def outer():\n",
    "    print('Outer function is running')\n",
    "    def inner():\n",
    "        print('Inner function is running')\n",
    "    inner()\n",
    "        \n",
    "outer()\n",
    "inner()"
   ]
  },
  {
   "cell_type": "code",
   "execution_count": 114,
   "id": "623469ab",
   "metadata": {},
   "outputs": [],
   "source": [
    "\n",
    "def calculator():\n",
    "    def add(num1,num2):\n",
    "        return num1+num2\n",
    "    \n",
    "    def sub(num1,num2):\n",
    "        return num1-num2\n",
    "    \n",
    "    def mul(num1,num2):\n",
    "        return num1*num2\n",
    "    \n",
    "    def div(num1,num2):\n",
    "        return num1/num2\n",
    "    \n",
    "    print('Addition: ', add(num1,num2))\n",
    "    print('Addition: ', sub(num1,num2))\n",
    "    print('Addition: ', div(num1,num2))\n",
    "    print('Addition: ', mul(num1,num2))"
   ]
  },
  {
   "cell_type": "code",
   "execution_count": 115,
   "id": "e40f1f18",
   "metadata": {},
   "outputs": [
    {
     "name": "stdout",
     "output_type": "stream",
     "text": [
      "Enter num1: 10\n",
      "Enter num2: 3\n",
      "Addition:  13\n",
      "Addition:  7\n",
      "Addition:  3.3333333333333335\n",
      "Addition:  30\n"
     ]
    }
   ],
   "source": [
    "num1 = int(input('Enter num1: '))\n",
    "num2 = int(input('Enter num2: '))\n",
    "calculator()"
   ]
  },
  {
   "cell_type": "code",
   "execution_count": null,
   "id": "9e2c5774",
   "metadata": {},
   "outputs": [],
   "source": []
  },
  {
   "cell_type": "code",
   "execution_count": 116,
   "id": "a621a5b0",
   "metadata": {},
   "outputs": [],
   "source": [
    "def check_voting_eligibility(age):\n",
    "    def is_eligible():\n",
    "        return age>=18\n",
    "    \n",
    "    if is_eligible()==True:\n",
    "        print('You are eligible for voting')\n",
    "    else:\n",
    "        print('You are not eligible for voting')"
   ]
  },
  {
   "cell_type": "code",
   "execution_count": 118,
   "id": "d1b5e038",
   "metadata": {},
   "outputs": [
    {
     "name": "stdout",
     "output_type": "stream",
     "text": [
      "You are eligible for voting\n"
     ]
    }
   ],
   "source": [
    "check_voting_eligibility(20)"
   ]
  },
  {
   "cell_type": "code",
   "execution_count": 119,
   "id": "ce3765fd",
   "metadata": {},
   "outputs": [],
   "source": [
    "def currency_convertor(amount,rate):\n",
    "    def apply_conversion():\n",
    "        return amount*rate\n",
    "    \n",
    "    converted_amount = apply_conversion()\n",
    "    print(\"Converted Amount: \", converted_amount)"
   ]
  },
  {
   "cell_type": "code",
   "execution_count": 120,
   "id": "542f240d",
   "metadata": {},
   "outputs": [
    {
     "name": "stdout",
     "output_type": "stream",
     "text": [
      "Converted Amount:  82000\n"
     ]
    }
   ],
   "source": [
    "currency_convertor(1000,82)"
   ]
  },
  {
   "cell_type": "code",
   "execution_count": 176,
   "id": "83a30ef2",
   "metadata": {},
   "outputs": [],
   "source": [
    "import random\n",
    "def generate_captcha():\n",
    "    def generate_random_digit():\n",
    "        return random.randint(0,9)\n",
    "    \n",
    "    def generate_random_letter():\n",
    "        return chr(random.randint(97,122))\n",
    "    \n",
    "    captcha = \"\"\n",
    "    for i in range(0,6):\n",
    "        if random.choice([True,False]) == True:\n",
    "            captcha +=str(generate_random_digit())\n",
    "        else:\n",
    "            captcha +=generate_random_letter()\n",
    "            \n",
    "    print(\"Generated Captcha: \", captcha)\n",
    "            "
   ]
  },
  {
   "cell_type": "code",
   "execution_count": 121,
   "id": "7ec143c3",
   "metadata": {},
   "outputs": [],
   "source": [
    "import random"
   ]
  },
  {
   "cell_type": "code",
   "execution_count": 146,
   "id": "ccca9186",
   "metadata": {},
   "outputs": [
    {
     "data": {
      "text/plain": [
       "7"
      ]
     },
     "execution_count": 146,
     "metadata": {},
     "output_type": "execute_result"
    }
   ],
   "source": [
    "random.randint(0,9)"
   ]
  },
  {
   "cell_type": "code",
   "execution_count": 175,
   "id": "a926341f",
   "metadata": {},
   "outputs": [
    {
     "data": {
      "text/plain": [
       "'Devesh'"
      ]
     },
     "execution_count": 175,
     "metadata": {},
     "output_type": "execute_result"
    }
   ],
   "source": [
    "random.choice(['Sree','Devesh'])"
   ]
  },
  {
   "cell_type": "code",
   "execution_count": 220,
   "id": "be986252",
   "metadata": {},
   "outputs": [
    {
     "name": "stdout",
     "output_type": "stream",
     "text": [
      "Generated Captcha:  938301\n"
     ]
    }
   ],
   "source": [
    "generate_captcha()"
   ]
  }
 ],
 "metadata": {
  "kernelspec": {
   "display_name": "Python 3 (ipykernel)",
   "language": "python",
   "name": "python3"
  },
  "language_info": {
   "codemirror_mode": {
    "name": "ipython",
    "version": 3
   },
   "file_extension": ".py",
   "mimetype": "text/x-python",
   "name": "python",
   "nbconvert_exporter": "python",
   "pygments_lexer": "ipython3",
   "version": "3.11.4"
  }
 },
 "nbformat": 4,
 "nbformat_minor": 5
}
