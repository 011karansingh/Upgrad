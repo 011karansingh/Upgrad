{
 "cells": [
  {
   "cell_type": "markdown",
   "id": "a8b4a30a",
   "metadata": {},
   "source": [
    "# Class 1 - Python an Introduction"
   ]
  },
  {
   "cell_type": "markdown",
   "id": "e5e7e9d5",
   "metadata": {},
   "source": [
    "**Python is an open source programming language - Free of cost no money involved**\n",
    "\n",
    "**Python is a multipurpose programming language** \n",
    "    \n",
    "    1) Desktop Application \n",
    "    2) Web application (Django/Flask/Streamlit)\n",
    "    3) Database management system \n",
    "    4) Network application \n",
    "    5) Games \n",
    "    6) Data Analytics or Data Science \n",
    "        a) Machine Learning\n",
    "        b) Artificial Intelligence or deep learning \n",
    "    7) IoT Application \n",
    "    8) Automation\n",
    "    9) Integrate with various programming languages \n",
    "    \n",
    "**Challenges with Python** \n",
    "    \n",
    "    1) Slow programming language \n",
    "    2) Mobile application \n",
    "    \n",
    "It is very easy to learn - It is like an english language \n",
    "\n",
    "**3 Ways to install Python** \n",
    "    \n",
    "    a) Python.org\n",
    "    b) Anaconda.com - Preferred choice \n",
    "    c) Google colab\n",
    "    \n",
    "pip - Package management system \n",
    "\n",
    "pip list - to see the list of packages \n",
    "\n",
    "To install package \n",
    "pip install package name \n",
    "pip install openai\n",
    "\n",
    "pip uninstall package name\n",
    "pip uninstall openai\n",
    "\n",
    "conda install openai\n",
    "conda uninstall openai\n",
    "\n",
    "**Anaconda navigator** \n",
    "    \n",
    "    It helps to launch the ides (Integrated development environment)\n",
    "        a) Jupyter Notebook\n",
    "        b) Pycharm\n",
    "        c) Spyder\n",
    "        d) Jupyter lab"
   ]
  },
  {
   "cell_type": "markdown",
   "id": "f745d532",
   "metadata": {},
   "source": [
    "**Generate 6 digits OTP number - 10 times**"
   ]
  },
  {
   "cell_type": "code",
   "execution_count": 1,
   "id": "fbfa8b7c",
   "metadata": {},
   "outputs": [
    {
     "name": "stdout",
     "output_type": "stream",
     "text": [
      "2 2 6 3 7 2\n",
      "4 5 9 0 7 6\n",
      "4 9 7 3 4 5\n",
      "9 1 0 8 1 3\n",
      "9 6 2 9 3 3\n",
      "2 4 5 7 8 9\n",
      "1 0 1 0 4 3\n",
      "8 3 5 4 6 7\n",
      "6 8 0 1 8 8\n",
      "8 5 5 8 6 9\n"
     ]
    }
   ],
   "source": [
    "from random import *\n",
    "for i in range(0,10):\n",
    "    print(randint(0,9),randint(0,9),randint(0,9),randint(0,9),randint(0,9),randint(0,9))"
   ]
  },
  {
   "cell_type": "markdown",
   "id": "950923d9",
   "metadata": {},
   "source": [
    "**Variable or Identifier**"
   ]
  },
  {
   "cell_type": "markdown",
   "id": "475619ea",
   "metadata": {},
   "source": [
    "Dynamically Typed programming language"
   ]
  },
  {
   "cell_type": "code",
   "execution_count": 17,
   "id": "ca964d64",
   "metadata": {},
   "outputs": [
    {
     "data": {
      "text/plain": [
       "str"
      ]
     },
     "execution_count": 17,
     "metadata": {},
     "output_type": "execute_result"
    }
   ],
   "source": [
    "instructor_name = 'Rahul Tiwari'\n",
    "name = \"123\"\n",
    "type(name)"
   ]
  },
  {
   "cell_type": "code",
   "execution_count": 4,
   "id": "448fe72f",
   "metadata": {},
   "outputs": [
    {
     "data": {
      "text/plain": [
       "str"
      ]
     },
     "execution_count": 4,
     "metadata": {},
     "output_type": "execute_result"
    }
   ],
   "source": [
    "type(instructor_name)"
   ]
  },
  {
   "cell_type": "code",
   "execution_count": 5,
   "id": "c857b232",
   "metadata": {},
   "outputs": [],
   "source": [
    "sales = 150.5"
   ]
  },
  {
   "cell_type": "code",
   "execution_count": 6,
   "id": "d169bff8",
   "metadata": {},
   "outputs": [
    {
     "data": {
      "text/plain": [
       "float"
      ]
     },
     "execution_count": 6,
     "metadata": {},
     "output_type": "execute_result"
    }
   ],
   "source": [
    "type(sales)"
   ]
  },
  {
   "cell_type": "code",
   "execution_count": 7,
   "id": "01763a67",
   "metadata": {},
   "outputs": [
    {
     "data": {
      "text/plain": [
       "int"
      ]
     },
     "execution_count": 7,
     "metadata": {},
     "output_type": "execute_result"
    }
   ],
   "source": [
    "quantity = 10\n",
    "type(quantity)"
   ]
  },
  {
   "cell_type": "code",
   "execution_count": 13,
   "id": "a278a473",
   "metadata": {},
   "outputs": [
    {
     "data": {
      "text/plain": [
       "bool"
      ]
     },
     "execution_count": 13,
     "metadata": {},
     "output_type": "execute_result"
    }
   ],
   "source": [
    "output = sales<100\n",
    "type(output)"
   ]
  },
  {
   "cell_type": "code",
   "execution_count": 14,
   "id": "3c3f11f3",
   "metadata": {},
   "outputs": [
    {
     "data": {
      "text/plain": [
       "False"
      ]
     },
     "execution_count": 14,
     "metadata": {},
     "output_type": "execute_result"
    }
   ],
   "source": [
    "output"
   ]
  },
  {
   "cell_type": "code",
   "execution_count": 15,
   "id": "8ef21b79",
   "metadata": {},
   "outputs": [],
   "source": [
    "ins_name = 'Rahul'\n",
    "_insname = 'Rohit'\n",
    "insname_ = 'Rajat'\n",
    "insname123 = 'Roli'\n",
    "ins123nam = 'Atharv'"
   ]
  },
  {
   "cell_type": "code",
   "execution_count": null,
   "id": "42d70f2e",
   "metadata": {},
   "outputs": [],
   "source": [
    "Boolean "
   ]
  },
  {
   "cell_type": "code",
   "execution_count": 18,
   "id": "ebd4efa0",
   "metadata": {},
   "outputs": [],
   "source": [
    "cust = 'Rahul'"
   ]
  },
  {
   "cell_type": "code",
   "execution_count": 19,
   "id": "4e8cb650",
   "metadata": {},
   "outputs": [
    {
     "data": {
      "text/plain": [
       "'Rahul'"
      ]
     },
     "execution_count": 19,
     "metadata": {},
     "output_type": "execute_result"
    }
   ],
   "source": [
    "cust"
   ]
  },
  {
   "cell_type": "code",
   "execution_count": null,
   "id": "ce9a6ef6",
   "metadata": {},
   "outputs": [],
   "source": [
    "It can have alphabets (Cap, Small) - Case programming language \n",
    "It can have _ underscores \n",
    "It can have  numbers as well - It can not be at the start "
   ]
  },
  {
   "cell_type": "code",
   "execution_count": 20,
   "id": "6cb41630",
   "metadata": {},
   "outputs": [],
   "source": [
    "CUST = 'Rohit'"
   ]
  },
  {
   "cell_type": "code",
   "execution_count": 21,
   "id": "c28bc02e",
   "metadata": {},
   "outputs": [
    {
     "data": {
      "text/plain": [
       "'Rohit'"
      ]
     },
     "execution_count": 21,
     "metadata": {},
     "output_type": "execute_result"
    }
   ],
   "source": [
    "CUST"
   ]
  },
  {
   "cell_type": "code",
   "execution_count": 22,
   "id": "260d3074",
   "metadata": {},
   "outputs": [
    {
     "data": {
      "text/plain": [
       "'Rahul'"
      ]
     },
     "execution_count": 22,
     "metadata": {},
     "output_type": "execute_result"
    }
   ],
   "source": [
    "cust"
   ]
  },
  {
   "cell_type": "code",
   "execution_count": 25,
   "id": "569dc892",
   "metadata": {},
   "outputs": [
    {
     "data": {
      "text/plain": [
       "36"
      ]
     },
     "execution_count": 25,
     "metadata": {},
     "output_type": "execute_result"
    }
   ],
   "source": [
    "import keyword\n",
    "len(keyword.kwlist)"
   ]
  },
  {
   "cell_type": "code",
   "execution_count": 24,
   "id": "1b4371ed",
   "metadata": {},
   "outputs": [
    {
     "ename": "SyntaxError",
     "evalue": "cannot assign to False (1783068705.py, line 1)",
     "output_type": "error",
     "traceback": [
      "\u001b[1;36m  File \u001b[1;32m\"C:\\Users\\rahul\\AppData\\Local\\Temp\\ipykernel_18320\\1783068705.py\"\u001b[1;36m, line \u001b[1;32m1\u001b[0m\n\u001b[1;33m    False = 'Rahul'\u001b[0m\n\u001b[1;37m    ^\u001b[0m\n\u001b[1;31mSyntaxError\u001b[0m\u001b[1;31m:\u001b[0m cannot assign to False\n"
     ]
    }
   ],
   "source": [
    "False = 'Rahul'"
   ]
  },
  {
   "cell_type": "code",
   "execution_count": 26,
   "id": "235ac4ce",
   "metadata": {},
   "outputs": [],
   "source": [
    "false = 'Rahul'"
   ]
  },
  {
   "cell_type": "code",
   "execution_count": 27,
   "id": "c5b71c11",
   "metadata": {},
   "outputs": [
    {
     "data": {
      "text/plain": [
       "'Rahul'"
      ]
     },
     "execution_count": 27,
     "metadata": {},
     "output_type": "execute_result"
    }
   ],
   "source": [
    "false"
   ]
  },
  {
   "cell_type": "code",
   "execution_count": 28,
   "id": "0eea7bbe",
   "metadata": {},
   "outputs": [
    {
     "data": {
      "text/plain": [
       "'Rohit'"
      ]
     },
     "execution_count": 28,
     "metadata": {},
     "output_type": "execute_result"
    }
   ],
   "source": [
    "CUST"
   ]
  },
  {
   "cell_type": "code",
   "execution_count": 29,
   "id": "2475d9c2",
   "metadata": {},
   "outputs": [
    {
     "data": {
      "text/plain": [
       "'Rahul'"
      ]
     },
     "execution_count": 29,
     "metadata": {},
     "output_type": "execute_result"
    }
   ],
   "source": [
    "cust"
   ]
  },
  {
   "cell_type": "code",
   "execution_count": 30,
   "id": "fa9a2dba",
   "metadata": {},
   "outputs": [],
   "source": [
    "cust = 'Rahul'"
   ]
  },
  {
   "cell_type": "code",
   "execution_count": 31,
   "id": "c99e2d59",
   "metadata": {},
   "outputs": [
    {
     "data": {
      "text/plain": [
       "'RAHUL'"
      ]
     },
     "execution_count": 31,
     "metadata": {},
     "output_type": "execute_result"
    }
   ],
   "source": [
    "cust.upper()"
   ]
  },
  {
   "cell_type": "code",
   "execution_count": 33,
   "id": "f79e6909",
   "metadata": {},
   "outputs": [],
   "source": [
    "student = 'Rahul'"
   ]
  },
  {
   "cell_type": "code",
   "execution_count": 34,
   "id": "2de232d2",
   "metadata": {},
   "outputs": [
    {
     "data": {
      "text/plain": [
       "'Rahul'"
      ]
     },
     "execution_count": 34,
     "metadata": {},
     "output_type": "execute_result"
    }
   ],
   "source": [
    "student"
   ]
  },
  {
   "cell_type": "code",
   "execution_count": 35,
   "id": "6e00a961",
   "metadata": {},
   "outputs": [],
   "source": [
    "age = 24"
   ]
  },
  {
   "cell_type": "code",
   "execution_count": 36,
   "id": "f7a66b2c",
   "metadata": {},
   "outputs": [
    {
     "data": {
      "text/plain": [
       "29"
      ]
     },
     "execution_count": 36,
     "metadata": {},
     "output_type": "execute_result"
    }
   ],
   "source": [
    "age + 5"
   ]
  },
  {
   "cell_type": "code",
   "execution_count": 41,
   "id": "fab62f27",
   "metadata": {},
   "outputs": [],
   "source": [
    "name = 'Ashish'"
   ]
  },
  {
   "cell_type": "code",
   "execution_count": 42,
   "id": "10663bf6",
   "metadata": {},
   "outputs": [
    {
     "data": {
      "text/plain": [
       "str"
      ]
     },
     "execution_count": 42,
     "metadata": {},
     "output_type": "execute_result"
    }
   ],
   "source": [
    "type(name)"
   ]
  },
  {
   "cell_type": "code",
   "execution_count": 40,
   "id": "c22ff4e0",
   "metadata": {},
   "outputs": [
    {
     "data": {
      "text/plain": [
       "float"
      ]
     },
     "execution_count": 40,
     "metadata": {},
     "output_type": "execute_result"
    }
   ],
   "source": [
    "age = 24.5\n",
    "type(age)"
   ]
  },
  {
   "cell_type": "code",
   "execution_count": 43,
   "id": "c3634f2f",
   "metadata": {},
   "outputs": [],
   "source": [
    "course = 'PDGFSDF'"
   ]
  },
  {
   "cell_type": "code",
   "execution_count": 44,
   "id": "8fd5a9ff",
   "metadata": {},
   "outputs": [
    {
     "data": {
      "text/plain": [
       "'PDGFSDF'"
      ]
     },
     "execution_count": 44,
     "metadata": {},
     "output_type": "execute_result"
    }
   ],
   "source": [
    "course\n"
   ]
  }
 ],
 "metadata": {
  "kernelspec": {
   "display_name": "Python 3 (ipykernel)",
   "language": "python",
   "name": "python3"
  },
  "language_info": {
   "codemirror_mode": {
    "name": "ipython",
    "version": 3
   },
   "file_extension": ".py",
   "mimetype": "text/x-python",
   "name": "python",
   "nbconvert_exporter": "python",
   "pygments_lexer": "ipython3",
   "version": "3.9.13"
  }
 },
 "nbformat": 4,
 "nbformat_minor": 5
}
