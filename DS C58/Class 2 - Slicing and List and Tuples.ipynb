{
 "cells": [
  {
   "cell_type": "code",
   "execution_count": 2,
   "id": "cdd3c98b",
   "metadata": {},
   "outputs": [],
   "source": [
    "company = 'Accenture C'"
   ]
  },
  {
   "cell_type": "code",
   "execution_count": 3,
   "id": "0d680aea",
   "metadata": {},
   "outputs": [
    {
     "data": {
      "text/plain": [
       "'Accenture C'"
      ]
     },
     "execution_count": 3,
     "metadata": {},
     "output_type": "execute_result"
    }
   ],
   "source": [
    "company"
   ]
  },
  {
   "cell_type": "code",
   "execution_count": 3,
   "id": "fbe5c92d",
   "metadata": {},
   "outputs": [
    {
     "data": {
      "text/plain": [
       "'t'"
      ]
     },
     "execution_count": 3,
     "metadata": {},
     "output_type": "execute_result"
    }
   ],
   "source": [
    "company[5]"
   ]
  },
  {
   "cell_type": "code",
   "execution_count": 4,
   "id": "3b7deb9a",
   "metadata": {},
   "outputs": [
    {
     "data": {
      "text/plain": [
       "'nture'"
      ]
     },
     "execution_count": 4,
     "metadata": {},
     "output_type": "execute_result"
    }
   ],
   "source": [
    "company[4:9]"
   ]
  },
  {
   "cell_type": "code",
   "execution_count": 5,
   "id": "51ae4217",
   "metadata": {},
   "outputs": [
    {
     "data": {
      "text/plain": [
       "'nture C'"
      ]
     },
     "execution_count": 5,
     "metadata": {},
     "output_type": "execute_result"
    }
   ],
   "source": [
    "company[4:11]"
   ]
  },
  {
   "cell_type": "code",
   "execution_count": 6,
   "id": "f6e9cd1f",
   "metadata": {},
   "outputs": [
    {
     "data": {
      "text/plain": [
       "'nture C'"
      ]
     },
     "execution_count": 6,
     "metadata": {},
     "output_type": "execute_result"
    }
   ],
   "source": [
    "company[4:]"
   ]
  },
  {
   "cell_type": "code",
   "execution_count": 7,
   "id": "325efe55",
   "metadata": {},
   "outputs": [
    {
     "data": {
      "text/plain": [
       "'Accenture C'"
      ]
     },
     "execution_count": 7,
     "metadata": {},
     "output_type": "execute_result"
    }
   ],
   "source": [
    "company"
   ]
  },
  {
   "cell_type": "code",
   "execution_count": 14,
   "id": "e502831f",
   "metadata": {},
   "outputs": [
    {
     "data": {
      "text/plain": [
       "'cnu'"
      ]
     },
     "execution_count": 14,
     "metadata": {},
     "output_type": "execute_result"
    }
   ],
   "source": [
    "company[2:8:2]"
   ]
  },
  {
   "cell_type": "code",
   "execution_count": 9,
   "id": "61d4f1ff",
   "metadata": {},
   "outputs": [
    {
     "data": {
      "text/plain": [
       "'Accen'"
      ]
     },
     "execution_count": 9,
     "metadata": {},
     "output_type": "execute_result"
    }
   ],
   "source": [
    "company[0:5]"
   ]
  },
  {
   "cell_type": "code",
   "execution_count": 18,
   "id": "a4c80b54",
   "metadata": {},
   "outputs": [
    {
     "data": {
      "text/plain": [
       "'erutne'"
      ]
     },
     "execution_count": 18,
     "metadata": {},
     "output_type": "execute_result"
    }
   ],
   "source": [
    "company[8:2:-1]"
   ]
  },
  {
   "cell_type": "code",
   "execution_count": 17,
   "id": "58372284",
   "metadata": {},
   "outputs": [
    {
     "data": {
      "text/plain": [
       "''"
      ]
     },
     "execution_count": 17,
     "metadata": {},
     "output_type": "execute_result"
    }
   ],
   "source": [
    "company[8:2]"
   ]
  },
  {
   "cell_type": "code",
   "execution_count": 19,
   "id": "aa3499ef",
   "metadata": {},
   "outputs": [
    {
     "data": {
      "text/plain": [
       "'Accenture C'"
      ]
     },
     "execution_count": 19,
     "metadata": {},
     "output_type": "execute_result"
    }
   ],
   "source": [
    "company"
   ]
  },
  {
   "cell_type": "code",
   "execution_count": 20,
   "id": "c7314ff9",
   "metadata": {},
   "outputs": [
    {
     "data": {
      "text/plain": [
       "'t'"
      ]
     },
     "execution_count": 20,
     "metadata": {},
     "output_type": "execute_result"
    }
   ],
   "source": [
    "company[5]"
   ]
  },
  {
   "cell_type": "code",
   "execution_count": 21,
   "id": "ac5c1330",
   "metadata": {},
   "outputs": [
    {
     "data": {
      "text/plain": [
       "'t'"
      ]
     },
     "execution_count": 21,
     "metadata": {},
     "output_type": "execute_result"
    }
   ],
   "source": [
    "company[-6]"
   ]
  },
  {
   "cell_type": "code",
   "execution_count": 22,
   "id": "93092852",
   "metadata": {},
   "outputs": [
    {
     "data": {
      "text/plain": [
       "'ccentu'"
      ]
     },
     "execution_count": 22,
     "metadata": {},
     "output_type": "execute_result"
    }
   ],
   "source": [
    "company[1:7]"
   ]
  },
  {
   "cell_type": "code",
   "execution_count": 23,
   "id": "c06f67f5",
   "metadata": {},
   "outputs": [
    {
     "data": {
      "text/plain": [
       "'ccen'"
      ]
     },
     "execution_count": 23,
     "metadata": {},
     "output_type": "execute_result"
    }
   ],
   "source": [
    "company[-10:-6]"
   ]
  },
  {
   "cell_type": "code",
   "execution_count": 24,
   "id": "7c88e8b5",
   "metadata": {},
   "outputs": [
    {
     "data": {
      "text/plain": [
       "''"
      ]
     },
     "execution_count": 24,
     "metadata": {},
     "output_type": "execute_result"
    }
   ],
   "source": [
    "company[-2:-9]"
   ]
  },
  {
   "cell_type": "code",
   "execution_count": 25,
   "id": "5b69cc25",
   "metadata": {},
   "outputs": [
    {
     "data": {
      "text/plain": [
       "''"
      ]
     },
     "execution_count": 25,
     "metadata": {},
     "output_type": "execute_result"
    }
   ],
   "source": [
    "company[8:5]"
   ]
  },
  {
   "cell_type": "code",
   "execution_count": 26,
   "id": "5775e030",
   "metadata": {},
   "outputs": [
    {
     "data": {
      "text/plain": [
       "'ccentur'"
      ]
     },
     "execution_count": 26,
     "metadata": {},
     "output_type": "execute_result"
    }
   ],
   "source": [
    "company[-10:8]"
   ]
  },
  {
   "cell_type": "code",
   "execution_count": 27,
   "id": "9febe6d4",
   "metadata": {},
   "outputs": [
    {
     "data": {
      "text/plain": [
       "''"
      ]
     },
     "execution_count": 27,
     "metadata": {},
     "output_type": "execute_result"
    }
   ],
   "source": [
    "company[-3:2]"
   ]
  },
  {
   "cell_type": "code",
   "execution_count": 28,
   "id": "b5db1cb5",
   "metadata": {},
   "outputs": [
    {
     "data": {
      "text/plain": [
       "''"
      ]
     },
     "execution_count": 28,
     "metadata": {},
     "output_type": "execute_result"
    }
   ],
   "source": [
    "company[2:-3:-1]"
   ]
  },
  {
   "cell_type": "code",
   "execution_count": 29,
   "id": "f44c95d0",
   "metadata": {},
   "outputs": [
    {
     "data": {
      "text/plain": [
       "'erutnec'"
      ]
     },
     "execution_count": 29,
     "metadata": {},
     "output_type": "execute_result"
    }
   ],
   "source": [
    "company[8:-10:-1]"
   ]
  },
  {
   "cell_type": "code",
   "execution_count": 30,
   "id": "4dbd9daf",
   "metadata": {},
   "outputs": [
    {
     "data": {
      "text/plain": [
       "'cnu'"
      ]
     },
     "execution_count": 30,
     "metadata": {},
     "output_type": "execute_result"
    }
   ],
   "source": [
    "company[2:8:2]"
   ]
  },
  {
   "cell_type": "code",
   "execution_count": 31,
   "id": "f128131c",
   "metadata": {},
   "outputs": [
    {
     "data": {
      "text/plain": [
       "'eun'"
      ]
     },
     "execution_count": 31,
     "metadata": {},
     "output_type": "execute_result"
    }
   ],
   "source": [
    "company[-3:2:-2]"
   ]
  },
  {
   "cell_type": "code",
   "execution_count": 32,
   "id": "ad2fc5fe",
   "metadata": {},
   "outputs": [
    {
     "data": {
      "text/plain": [
       "'Accenture C'"
      ]
     },
     "execution_count": 32,
     "metadata": {},
     "output_type": "execute_result"
    }
   ],
   "source": [
    "company"
   ]
  },
  {
   "cell_type": "code",
   "execution_count": 33,
   "id": "c2159202",
   "metadata": {},
   "outputs": [
    {
     "data": {
      "text/plain": [
       "'C eru'"
      ]
     },
     "execution_count": 33,
     "metadata": {},
     "output_type": "execute_result"
    }
   ],
   "source": [
    "company[:5:-1]"
   ]
  },
  {
   "cell_type": "code",
   "execution_count": 34,
   "id": "073e62ef",
   "metadata": {},
   "outputs": [
    {
     "data": {
      "text/plain": [
       "'C eru'"
      ]
     },
     "execution_count": 34,
     "metadata": {},
     "output_type": "execute_result"
    }
   ],
   "source": [
    "company[:5:-1]"
   ]
  },
  {
   "cell_type": "code",
   "execution_count": 35,
   "id": "60016004",
   "metadata": {},
   "outputs": [
    {
     "data": {
      "text/plain": [
       "'utneccA'"
      ]
     },
     "execution_count": 35,
     "metadata": {},
     "output_type": "execute_result"
    }
   ],
   "source": [
    "company[6::-1]"
   ]
  },
  {
   "cell_type": "code",
   "execution_count": 36,
   "id": "8d4f3bbb",
   "metadata": {},
   "outputs": [
    {
     "data": {
      "text/plain": [
       "'Accen'"
      ]
     },
     "execution_count": 36,
     "metadata": {},
     "output_type": "execute_result"
    }
   ],
   "source": [
    "company[:5:1]"
   ]
  },
  {
   "cell_type": "code",
   "execution_count": 37,
   "id": "f7d5bea8",
   "metadata": {},
   "outputs": [
    {
     "data": {
      "text/plain": [
       "'ure C'"
      ]
     },
     "execution_count": 37,
     "metadata": {},
     "output_type": "execute_result"
    }
   ],
   "source": [
    "company[6::1]"
   ]
  },
  {
   "cell_type": "markdown",
   "id": "3042eecd",
   "metadata": {},
   "source": [
    "**Python collection datatypes or Python Data Structures**\n",
    "    \n",
    "    1) List \n",
    "    2) Tuple\n",
    "    3) Dictionary \n",
    "    4) Set\n",
    "        Frozenset"
   ]
  },
  {
   "cell_type": "code",
   "execution_count": null,
   "id": "c6b264d9",
   "metadata": {},
   "outputs": [],
   "source": [
    "While we are creating the list the bracket should be always a square bracket"
   ]
  },
  {
   "cell_type": "code",
   "execution_count": 5,
   "id": "72c1ae1f",
   "metadata": {},
   "outputs": [],
   "source": [
    "ages = [21,23,44,33,22,33,54,33,22]"
   ]
  },
  {
   "cell_type": "code",
   "execution_count": 40,
   "id": "9e8810cc",
   "metadata": {},
   "outputs": [
    {
     "data": {
      "text/plain": [
       "list"
      ]
     },
     "execution_count": 40,
     "metadata": {},
     "output_type": "execute_result"
    }
   ],
   "source": [
    "type(ages)"
   ]
  },
  {
   "cell_type": "code",
   "execution_count": 41,
   "id": "d1111e7d",
   "metadata": {},
   "outputs": [
    {
     "data": {
      "text/plain": [
       "9"
      ]
     },
     "execution_count": 41,
     "metadata": {},
     "output_type": "execute_result"
    }
   ],
   "source": [
    "len(ages)"
   ]
  },
  {
   "cell_type": "code",
   "execution_count": 42,
   "id": "2f21806d",
   "metadata": {},
   "outputs": [
    {
     "data": {
      "text/plain": [
       "285"
      ]
     },
     "execution_count": 42,
     "metadata": {},
     "output_type": "execute_result"
    }
   ],
   "source": [
    "sum(ages)"
   ]
  },
  {
   "cell_type": "code",
   "execution_count": 43,
   "id": "c0622dd2",
   "metadata": {},
   "outputs": [
    {
     "data": {
      "text/plain": [
       "21"
      ]
     },
     "execution_count": 43,
     "metadata": {},
     "output_type": "execute_result"
    }
   ],
   "source": [
    "min(ages)"
   ]
  },
  {
   "cell_type": "code",
   "execution_count": 44,
   "id": "1f57e03b",
   "metadata": {},
   "outputs": [
    {
     "data": {
      "text/plain": [
       "54"
      ]
     },
     "execution_count": 44,
     "metadata": {},
     "output_type": "execute_result"
    }
   ],
   "source": [
    "max(ages)"
   ]
  },
  {
   "cell_type": "code",
   "execution_count": 46,
   "id": "e06cbf04",
   "metadata": {},
   "outputs": [
    {
     "data": {
      "text/plain": [
       "22"
      ]
     },
     "execution_count": 46,
     "metadata": {},
     "output_type": "execute_result"
    }
   ],
   "source": [
    "ages[4]"
   ]
  },
  {
   "cell_type": "code",
   "execution_count": 47,
   "id": "d0730328",
   "metadata": {},
   "outputs": [
    {
     "data": {
      "text/plain": [
       "[21, 23, 44, 33, 22, 33, 54, 33, 22]"
      ]
     },
     "execution_count": 47,
     "metadata": {},
     "output_type": "execute_result"
    }
   ],
   "source": [
    "ages"
   ]
  },
  {
   "cell_type": "code",
   "execution_count": 48,
   "id": "8bf06901",
   "metadata": {},
   "outputs": [
    {
     "data": {
      "text/plain": [
       "[44, 33, 22, 33]"
      ]
     },
     "execution_count": 48,
     "metadata": {},
     "output_type": "execute_result"
    }
   ],
   "source": [
    "ages[2:6]"
   ]
  },
  {
   "cell_type": "code",
   "execution_count": 49,
   "id": "25d5a75c",
   "metadata": {},
   "outputs": [
    {
     "data": {
      "text/plain": [
       "[44, 33, 22, 33, 54, 33]"
      ]
     },
     "execution_count": 49,
     "metadata": {},
     "output_type": "execute_result"
    }
   ],
   "source": [
    "ages[-7:-1]"
   ]
  },
  {
   "cell_type": "code",
   "execution_count": 51,
   "id": "d41bfb31",
   "metadata": {},
   "outputs": [
    {
     "data": {
      "text/plain": [
       "[22, 33, 54, 33, 22, 33]"
      ]
     },
     "execution_count": 51,
     "metadata": {},
     "output_type": "execute_result"
    }
   ],
   "source": [
    "ages[-1:-7:-1]"
   ]
  },
  {
   "cell_type": "code",
   "execution_count": 53,
   "id": "9f26f4d5",
   "metadata": {},
   "outputs": [],
   "source": [
    "del ages"
   ]
  },
  {
   "cell_type": "code",
   "execution_count": 56,
   "id": "fcbc566e",
   "metadata": {},
   "outputs": [
    {
     "data": {
      "text/plain": [
       "[21, 23, 44, 33, 22, 33, 54, 33, 22]"
      ]
     },
     "execution_count": 56,
     "metadata": {},
     "output_type": "execute_result"
    }
   ],
   "source": [
    "ages"
   ]
  },
  {
   "cell_type": "markdown",
   "id": "906715cf",
   "metadata": {},
   "source": [
    "**Properties of the list**\n",
    "\n",
    "    1) Duplicates are allowed\n",
    "    2) Hetergeneous data allowed\n",
    "    3) Square bracket\n",
    "    4) Growable in nature\n",
    "    5) Mutable in nature"
   ]
  },
  {
   "cell_type": "code",
   "execution_count": 57,
   "id": "76a7956c",
   "metadata": {},
   "outputs": [],
   "source": [
    "list1 = ['A',10,10.5,True]"
   ]
  },
  {
   "cell_type": "code",
   "execution_count": 58,
   "id": "042b9343",
   "metadata": {},
   "outputs": [
    {
     "data": {
      "text/plain": [
       "list"
      ]
     },
     "execution_count": 58,
     "metadata": {},
     "output_type": "execute_result"
    }
   ],
   "source": [
    "type(list1)"
   ]
  },
  {
   "cell_type": "code",
   "execution_count": 67,
   "id": "250c7795",
   "metadata": {},
   "outputs": [
    {
     "data": {
      "text/plain": [
       "bool"
      ]
     },
     "execution_count": 67,
     "metadata": {},
     "output_type": "execute_result"
    }
   ],
   "source": [
    "type(list1[3])"
   ]
  },
  {
   "cell_type": "code",
   "execution_count": 69,
   "id": "135da4ed",
   "metadata": {},
   "outputs": [],
   "source": [
    "ages.append(10)"
   ]
  },
  {
   "cell_type": "code",
   "execution_count": 72,
   "id": "649d072e",
   "metadata": {},
   "outputs": [],
   "source": [
    "ages.append([11,12,13])"
   ]
  },
  {
   "cell_type": "code",
   "execution_count": 77,
   "id": "371f114d",
   "metadata": {},
   "outputs": [
    {
     "data": {
      "text/plain": [
       "12"
      ]
     },
     "execution_count": 77,
     "metadata": {},
     "output_type": "execute_result"
    }
   ],
   "source": [
    "ages[-1][-2]"
   ]
  },
  {
   "cell_type": "code",
   "execution_count": 76,
   "id": "fcf950a7",
   "metadata": {},
   "outputs": [
    {
     "data": {
      "text/plain": [
       "12"
      ]
     },
     "execution_count": 76,
     "metadata": {},
     "output_type": "execute_result"
    }
   ],
   "source": [
    "del ages[-1]"
   ]
  },
  {
   "cell_type": "code",
   "execution_count": 84,
   "id": "480ef4ba",
   "metadata": {},
   "outputs": [],
   "source": [
    "del ages[-1]"
   ]
  },
  {
   "cell_type": "code",
   "execution_count": 95,
   "id": "71ff240f",
   "metadata": {},
   "outputs": [],
   "source": [
    "ages.extend([10,11,12,13])"
   ]
  },
  {
   "cell_type": "code",
   "execution_count": 97,
   "id": "a95a1c5a",
   "metadata": {},
   "outputs": [],
   "source": [
    "ages.clear()"
   ]
  },
  {
   "cell_type": "code",
   "execution_count": 4,
   "id": "34321ee6",
   "metadata": {},
   "outputs": [
    {
     "ename": "NameError",
     "evalue": "name 'ages' is not defined",
     "output_type": "error",
     "traceback": [
      "\u001b[1;31m---------------------------------------------------------------------------\u001b[0m",
      "\u001b[1;31mNameError\u001b[0m                                 Traceback (most recent call last)",
      "\u001b[1;32m~\\AppData\\Local\\Temp\\ipykernel_25232\\497951757.py\u001b[0m in \u001b[0;36m<module>\u001b[1;34m\u001b[0m\n\u001b[1;32m----> 1\u001b[1;33m \u001b[0mages\u001b[0m\u001b[1;33m\u001b[0m\u001b[1;33m\u001b[0m\u001b[0m\n\u001b[0m",
      "\u001b[1;31mNameError\u001b[0m: name 'ages' is not defined"
     ]
    }
   ],
   "source": [
    "ages"
   ]
  },
  {
   "cell_type": "code",
   "execution_count": 6,
   "id": "faca33e4",
   "metadata": {},
   "outputs": [],
   "source": [
    "ages1=ages.copy()"
   ]
  },
  {
   "cell_type": "code",
   "execution_count": 7,
   "id": "090ac454",
   "metadata": {},
   "outputs": [
    {
     "data": {
      "text/plain": [
       "[21, 23, 44, 33, 22, 33, 54, 33, 22]"
      ]
     },
     "execution_count": 7,
     "metadata": {},
     "output_type": "execute_result"
    }
   ],
   "source": [
    "ages1"
   ]
  },
  {
   "cell_type": "code",
   "execution_count": 12,
   "id": "3199dafa",
   "metadata": {},
   "outputs": [],
   "source": [
    "ages2 = ages"
   ]
  },
  {
   "cell_type": "code",
   "execution_count": 10,
   "id": "5a4e5d13",
   "metadata": {},
   "outputs": [],
   "source": [
    "ages3 = ages[4]"
   ]
  },
  {
   "cell_type": "code",
   "execution_count": 11,
   "id": "c13c11db",
   "metadata": {},
   "outputs": [
    {
     "data": {
      "text/plain": [
       "22"
      ]
     },
     "execution_count": 11,
     "metadata": {},
     "output_type": "execute_result"
    }
   ],
   "source": [
    "ages3"
   ]
  },
  {
   "cell_type": "code",
   "execution_count": 13,
   "id": "05fa601f",
   "metadata": {},
   "outputs": [
    {
     "data": {
      "text/plain": [
       "[21, 23, 44, 33, 22, 33, 54, 33, 22]"
      ]
     },
     "execution_count": 13,
     "metadata": {},
     "output_type": "execute_result"
    }
   ],
   "source": [
    "ages1"
   ]
  },
  {
   "cell_type": "code",
   "execution_count": 14,
   "id": "e0e0cd2d",
   "metadata": {},
   "outputs": [
    {
     "data": {
      "text/plain": [
       "[21, 23, 44, 33, 22, 33, 54, 33, 22]"
      ]
     },
     "execution_count": 14,
     "metadata": {},
     "output_type": "execute_result"
    }
   ],
   "source": [
    "ages"
   ]
  },
  {
   "cell_type": "code",
   "execution_count": 15,
   "id": "7a09922d",
   "metadata": {},
   "outputs": [
    {
     "data": {
      "text/plain": [
       "[21, 23, 44, 33, 22, 33, 54, 33, 22]"
      ]
     },
     "execution_count": 15,
     "metadata": {},
     "output_type": "execute_result"
    }
   ],
   "source": [
    "ages2"
   ]
  },
  {
   "cell_type": "code",
   "execution_count": 17,
   "id": "65d43755",
   "metadata": {},
   "outputs": [],
   "source": [
    "ages[0]=100"
   ]
  },
  {
   "cell_type": "code",
   "execution_count": 18,
   "id": "4150576b",
   "metadata": {},
   "outputs": [
    {
     "data": {
      "text/plain": [
       "[100, 23, 44, 33, 22, 33, 54, 33, 22]"
      ]
     },
     "execution_count": 18,
     "metadata": {},
     "output_type": "execute_result"
    }
   ],
   "source": [
    "ages"
   ]
  },
  {
   "cell_type": "code",
   "execution_count": 19,
   "id": "1e33216c",
   "metadata": {},
   "outputs": [
    {
     "data": {
      "text/plain": [
       "[21, 23, 44, 33, 22, 33, 54, 33, 22]"
      ]
     },
     "execution_count": 19,
     "metadata": {},
     "output_type": "execute_result"
    }
   ],
   "source": [
    "ages1"
   ]
  },
  {
   "cell_type": "code",
   "execution_count": 20,
   "id": "b07764e7",
   "metadata": {},
   "outputs": [
    {
     "data": {
      "text/plain": [
       "[100, 23, 44, 33, 22, 33, 54, 33, 22]"
      ]
     },
     "execution_count": 20,
     "metadata": {},
     "output_type": "execute_result"
    }
   ],
   "source": [
    "ages2"
   ]
  },
  {
   "cell_type": "code",
   "execution_count": 21,
   "id": "264bb349",
   "metadata": {},
   "outputs": [
    {
     "data": {
      "text/plain": [
       "2006450924800"
      ]
     },
     "execution_count": 21,
     "metadata": {},
     "output_type": "execute_result"
    }
   ],
   "source": [
    "id(ages1)"
   ]
  },
  {
   "cell_type": "code",
   "execution_count": 22,
   "id": "c3bf1923",
   "metadata": {},
   "outputs": [
    {
     "data": {
      "text/plain": [
       "2006450982400"
      ]
     },
     "execution_count": 22,
     "metadata": {},
     "output_type": "execute_result"
    }
   ],
   "source": [
    "id(ages)"
   ]
  },
  {
   "cell_type": "code",
   "execution_count": 23,
   "id": "96099e67",
   "metadata": {},
   "outputs": [
    {
     "data": {
      "text/plain": [
       "2006450982400"
      ]
     },
     "execution_count": 23,
     "metadata": {},
     "output_type": "execute_result"
    }
   ],
   "source": [
    "id(ages2)"
   ]
  },
  {
   "cell_type": "code",
   "execution_count": 25,
   "id": "01c56df8",
   "metadata": {},
   "outputs": [
    {
     "data": {
      "text/plain": [
       "2"
      ]
     },
     "execution_count": 25,
     "metadata": {},
     "output_type": "execute_result"
    }
   ],
   "source": [
    "ages.count(22)"
   ]
  },
  {
   "cell_type": "code",
   "execution_count": 27,
   "id": "a11f5f0a",
   "metadata": {},
   "outputs": [
    {
     "data": {
      "text/plain": [
       "4"
      ]
     },
     "execution_count": 27,
     "metadata": {},
     "output_type": "execute_result"
    }
   ],
   "source": [
    "ages.index(22)"
   ]
  },
  {
   "cell_type": "code",
   "execution_count": 29,
   "id": "27261035",
   "metadata": {},
   "outputs": [],
   "source": [
    "ages.insert(4,11)"
   ]
  },
  {
   "cell_type": "code",
   "execution_count": 31,
   "id": "881378a4",
   "metadata": {},
   "outputs": [
    {
     "data": {
      "text/plain": [
       "22"
      ]
     },
     "execution_count": 31,
     "metadata": {},
     "output_type": "execute_result"
    }
   ],
   "source": [
    "ages.pop()"
   ]
  },
  {
   "cell_type": "code",
   "execution_count": 33,
   "id": "837ee98d",
   "metadata": {},
   "outputs": [
    {
     "data": {
      "text/plain": [
       "100"
      ]
     },
     "execution_count": 33,
     "metadata": {},
     "output_type": "execute_result"
    }
   ],
   "source": [
    "ages.pop(0)"
   ]
  },
  {
   "cell_type": "code",
   "execution_count": 35,
   "id": "5112e658",
   "metadata": {},
   "outputs": [],
   "source": [
    "ages.remove(33)"
   ]
  },
  {
   "cell_type": "code",
   "execution_count": 36,
   "id": "8adb37de",
   "metadata": {},
   "outputs": [
    {
     "data": {
      "text/plain": [
       "[23, 44, 11, 22, 33, 54, 33]"
      ]
     },
     "execution_count": 36,
     "metadata": {},
     "output_type": "execute_result"
    }
   ],
   "source": [
    "ages"
   ]
  },
  {
   "cell_type": "code",
   "execution_count": 37,
   "id": "5a09d151",
   "metadata": {},
   "outputs": [],
   "source": [
    "ages.reverse()"
   ]
  },
  {
   "cell_type": "code",
   "execution_count": 39,
   "id": "52a04eab",
   "metadata": {},
   "outputs": [],
   "source": [
    "ages.sort()"
   ]
  },
  {
   "cell_type": "code",
   "execution_count": 41,
   "id": "9e42607f",
   "metadata": {},
   "outputs": [],
   "source": [
    "ages.sort(reverse=True)"
   ]
  },
  {
   "cell_type": "code",
   "execution_count": 42,
   "id": "0667e8d3",
   "metadata": {},
   "outputs": [
    {
     "data": {
      "text/plain": [
       "[54, 44, 33, 33, 23, 22, 11]"
      ]
     },
     "execution_count": 42,
     "metadata": {},
     "output_type": "execute_result"
    }
   ],
   "source": [
    "ages"
   ]
  },
  {
   "cell_type": "code",
   "execution_count": 43,
   "id": "2718f0ab",
   "metadata": {},
   "outputs": [
    {
     "data": {
      "text/plain": [
       "54"
      ]
     },
     "execution_count": 43,
     "metadata": {},
     "output_type": "execute_result"
    }
   ],
   "source": [
    "ages[0]"
   ]
  },
  {
   "cell_type": "code",
   "execution_count": 58,
   "id": "05199d58",
   "metadata": {},
   "outputs": [],
   "source": [
    "list1 = [10,15,21,23,32,43,11]"
   ]
  },
  {
   "cell_type": "code",
   "execution_count": 49,
   "id": "798a6f32",
   "metadata": {},
   "outputs": [],
   "source": [
    "list1.reverse()"
   ]
  },
  {
   "cell_type": "code",
   "execution_count": 51,
   "id": "dd038a9c",
   "metadata": {},
   "outputs": [],
   "source": [
    "list1.sort()"
   ]
  },
  {
   "cell_type": "code",
   "execution_count": 53,
   "id": "64be10d9",
   "metadata": {},
   "outputs": [],
   "source": [
    "list1.sort(reverse=True)"
   ]
  },
  {
   "cell_type": "code",
   "execution_count": 54,
   "id": "bc2f7ca9",
   "metadata": {},
   "outputs": [
    {
     "data": {
      "text/plain": [
       "[43, 32, 23, 21, 15, 10]"
      ]
     },
     "execution_count": 54,
     "metadata": {},
     "output_type": "execute_result"
    }
   ],
   "source": [
    "list1"
   ]
  },
  {
   "cell_type": "code",
   "execution_count": 61,
   "id": "072d2a92",
   "metadata": {},
   "outputs": [],
   "source": [
    "list1.sort()"
   ]
  },
  {
   "cell_type": "code",
   "execution_count": 63,
   "id": "a6e28c3f",
   "metadata": {},
   "outputs": [],
   "source": [
    "list1.reverse()"
   ]
  },
  {
   "cell_type": "code",
   "execution_count": 64,
   "id": "9b9ce0b4",
   "metadata": {},
   "outputs": [
    {
     "data": {
      "text/plain": [
       "[43, 32, 23, 21, 15, 11, 10]"
      ]
     },
     "execution_count": 64,
     "metadata": {},
     "output_type": "execute_result"
    }
   ],
   "source": [
    "list1"
   ]
  },
  {
   "cell_type": "markdown",
   "id": "062d8143",
   "metadata": {},
   "source": [
    "**Properties of Tuples** \n",
    "    \n",
    "    1) Duplicates are allowed \n",
    "    2) Heterogeneous Data Allowed\n",
    "    3) Normal Brackets \n",
    "    4) Immutable in nature"
   ]
  },
  {
   "cell_type": "code",
   "execution_count": 79,
   "id": "11e3e4f3",
   "metadata": {},
   "outputs": [],
   "source": [
    "salary = (21,23,22,44,3,22,43,22)"
   ]
  },
  {
   "cell_type": "code",
   "execution_count": 67,
   "id": "950510e7",
   "metadata": {},
   "outputs": [
    {
     "data": {
      "text/plain": [
       "8"
      ]
     },
     "execution_count": 67,
     "metadata": {},
     "output_type": "execute_result"
    }
   ],
   "source": [
    "len(salary)"
   ]
  },
  {
   "cell_type": "code",
   "execution_count": 68,
   "id": "acdc94f5",
   "metadata": {},
   "outputs": [
    {
     "data": {
      "text/plain": [
       "200"
      ]
     },
     "execution_count": 68,
     "metadata": {},
     "output_type": "execute_result"
    }
   ],
   "source": [
    "sum(salary)"
   ]
  },
  {
   "cell_type": "code",
   "execution_count": 69,
   "id": "0d48ab30",
   "metadata": {},
   "outputs": [
    {
     "data": {
      "text/plain": [
       "3"
      ]
     },
     "execution_count": 69,
     "metadata": {},
     "output_type": "execute_result"
    }
   ],
   "source": [
    "min(salary)"
   ]
  },
  {
   "cell_type": "code",
   "execution_count": 70,
   "id": "85011c71",
   "metadata": {},
   "outputs": [
    {
     "data": {
      "text/plain": [
       "44"
      ]
     },
     "execution_count": 70,
     "metadata": {},
     "output_type": "execute_result"
    }
   ],
   "source": [
    "max(salary)"
   ]
  },
  {
   "cell_type": "code",
   "execution_count": 71,
   "id": "9e6020cb",
   "metadata": {},
   "outputs": [],
   "source": [
    "del salary"
   ]
  },
  {
   "cell_type": "code",
   "execution_count": 72,
   "id": "b984d011",
   "metadata": {},
   "outputs": [
    {
     "ename": "NameError",
     "evalue": "name 'salary' is not defined",
     "output_type": "error",
     "traceback": [
      "\u001b[1;31m---------------------------------------------------------------------------\u001b[0m",
      "\u001b[1;31mNameError\u001b[0m                                 Traceback (most recent call last)",
      "\u001b[1;32m~\\AppData\\Local\\Temp\\ipykernel_25232\\1275587642.py\u001b[0m in \u001b[0;36m<module>\u001b[1;34m\u001b[0m\n\u001b[1;32m----> 1\u001b[1;33m \u001b[0msalary\u001b[0m\u001b[1;33m\u001b[0m\u001b[1;33m\u001b[0m\u001b[0m\n\u001b[0m",
      "\u001b[1;31mNameError\u001b[0m: name 'salary' is not defined"
     ]
    }
   ],
   "source": [
    "salary"
   ]
  },
  {
   "cell_type": "code",
   "execution_count": 76,
   "id": "2975e9f9",
   "metadata": {},
   "outputs": [
    {
     "data": {
      "text/plain": [
       "(21, 23, 22, 44, 3, 22, 43, 22)"
      ]
     },
     "execution_count": 76,
     "metadata": {},
     "output_type": "execute_result"
    }
   ],
   "source": [
    "salary"
   ]
  },
  {
   "cell_type": "code",
   "execution_count": 77,
   "id": "d45ae0d8",
   "metadata": {},
   "outputs": [],
   "source": [
    "salary = 10,20,30,40"
   ]
  },
  {
   "cell_type": "code",
   "execution_count": 81,
   "id": "667b2f2d",
   "metadata": {},
   "outputs": [
    {
     "data": {
      "text/plain": [
       "tuple"
      ]
     },
     "execution_count": 81,
     "metadata": {},
     "output_type": "execute_result"
    }
   ],
   "source": [
    "type(salary)"
   ]
  },
  {
   "cell_type": "code",
   "execution_count": 83,
   "id": "e651da7b",
   "metadata": {},
   "outputs": [
    {
     "data": {
      "text/plain": [
       "3"
      ]
     },
     "execution_count": 83,
     "metadata": {},
     "output_type": "execute_result"
    }
   ],
   "source": [
    "salary.count(22)"
   ]
  },
  {
   "cell_type": "code",
   "execution_count": 85,
   "id": "52c1c680",
   "metadata": {},
   "outputs": [
    {
     "data": {
      "text/plain": [
       "4"
      ]
     },
     "execution_count": 85,
     "metadata": {},
     "output_type": "execute_result"
    }
   ],
   "source": [
    "salary.index(3)"
   ]
  },
  {
   "cell_type": "code",
   "execution_count": 86,
   "id": "0260714a",
   "metadata": {},
   "outputs": [
    {
     "data": {
      "text/plain": [
       "(21, 23, 22, 44, 3, 22, 43, 22)"
      ]
     },
     "execution_count": 86,
     "metadata": {},
     "output_type": "execute_result"
    }
   ],
   "source": [
    "salary"
   ]
  },
  {
   "cell_type": "code",
   "execution_count": 88,
   "id": "0f7fa88e",
   "metadata": {},
   "outputs": [
    {
     "data": {
      "text/plain": [
       "2006450982400"
      ]
     },
     "execution_count": 88,
     "metadata": {},
     "output_type": "execute_result"
    }
   ],
   "source": [
    "id(ages)"
   ]
  },
  {
   "cell_type": "code",
   "execution_count": 90,
   "id": "35b80357",
   "metadata": {},
   "outputs": [],
   "source": [
    "ages[0]=1000"
   ]
  },
  {
   "cell_type": "code",
   "execution_count": 92,
   "id": "15f21564",
   "metadata": {},
   "outputs": [
    {
     "data": {
      "text/plain": [
       "2006450982400"
      ]
     },
     "execution_count": 92,
     "metadata": {},
     "output_type": "execute_result"
    }
   ],
   "source": [
    "id(ages)"
   ]
  },
  {
   "cell_type": "code",
   "execution_count": 94,
   "id": "1544300e",
   "metadata": {},
   "outputs": [],
   "source": [
    "a = list(salary)"
   ]
  },
  {
   "cell_type": "code",
   "execution_count": 98,
   "id": "f5a0b644",
   "metadata": {},
   "outputs": [
    {
     "data": {
      "text/plain": [
       "2006488757296"
      ]
     },
     "execution_count": 98,
     "metadata": {},
     "output_type": "execute_result"
    }
   ],
   "source": [
    "id(salary)"
   ]
  },
  {
   "cell_type": "code",
   "execution_count": 96,
   "id": "ab0127dd",
   "metadata": {},
   "outputs": [],
   "source": [
    "a[0]=1000"
   ]
  },
  {
   "cell_type": "code",
   "execution_count": 99,
   "id": "77177f58",
   "metadata": {},
   "outputs": [],
   "source": [
    "salary = tuple(a)"
   ]
  },
  {
   "cell_type": "code",
   "execution_count": 100,
   "id": "7e282e96",
   "metadata": {},
   "outputs": [
    {
     "data": {
      "text/plain": [
       "2006488433376"
      ]
     },
     "execution_count": 100,
     "metadata": {},
     "output_type": "execute_result"
    }
   ],
   "source": [
    "id(salary)"
   ]
  },
  {
   "cell_type": "code",
   "execution_count": 105,
   "id": "a577a648",
   "metadata": {},
   "outputs": [],
   "source": [
    "input_tuple = ('Monty Python', 'British', 1969) \n",
    "\n",
    "tuple_1 = list(input_tuple)+['python'] \n",
    "\n",
    "tuple_2 =tuple(tuple_1)"
   ]
  },
  {
   "cell_type": "code",
   "execution_count": 102,
   "id": "423193a7",
   "metadata": {},
   "outputs": [
    {
     "data": {
      "text/plain": [
       "('Monty Python', 'British', 1969)"
      ]
     },
     "execution_count": 102,
     "metadata": {},
     "output_type": "execute_result"
    }
   ],
   "source": [
    "input_tuple"
   ]
  },
  {
   "cell_type": "code",
   "execution_count": 104,
   "id": "1c9d8267",
   "metadata": {},
   "outputs": [
    {
     "data": {
      "text/plain": [
       "['Monty Python', 'British', 1969, 'python']"
      ]
     },
     "execution_count": 104,
     "metadata": {},
     "output_type": "execute_result"
    }
   ],
   "source": [
    "tuple_1"
   ]
  },
  {
   "cell_type": "code",
   "execution_count": 106,
   "id": "6fc85623",
   "metadata": {},
   "outputs": [
    {
     "data": {
      "text/plain": [
       "('Monty Python', 'British', 1969, 'python')"
      ]
     },
     "execution_count": 106,
     "metadata": {},
     "output_type": "execute_result"
    }
   ],
   "source": [
    "tuple_2"
   ]
  },
  {
   "cell_type": "code",
   "execution_count": 107,
   "id": "0d862116",
   "metadata": {},
   "outputs": [],
   "source": [
    "salary=(11,12,13,14,15,16,17,18)\n",
    "a = list(salary)"
   ]
  },
  {
   "cell_type": "code",
   "execution_count": 108,
   "id": "9b79be00",
   "metadata": {},
   "outputs": [
    {
     "data": {
      "text/plain": [
       "[11, 12, 13, 14, 15, 16, 17, 18]"
      ]
     },
     "execution_count": 108,
     "metadata": {},
     "output_type": "execute_result"
    }
   ],
   "source": [
    "a"
   ]
  },
  {
   "cell_type": "code",
   "execution_count": null,
   "id": "70879744",
   "metadata": {},
   "outputs": [],
   "source": [
    "support@rahultiwari.co.in"
   ]
  },
  {
   "cell_type": "code",
   "execution_count": null,
   "id": "e5650049",
   "metadata": {},
   "outputs": [],
   "source": []
  }
 ],
 "metadata": {
  "kernelspec": {
   "display_name": "Python 3 (ipykernel)",
   "language": "python",
   "name": "python3"
  },
  "language_info": {
   "codemirror_mode": {
    "name": "ipython",
    "version": 3
   },
   "file_extension": ".py",
   "mimetype": "text/x-python",
   "name": "python",
   "nbconvert_exporter": "python",
   "pygments_lexer": "ipython3",
   "version": "3.9.13"
  }
 },
 "nbformat": 4,
 "nbformat_minor": 5
}
