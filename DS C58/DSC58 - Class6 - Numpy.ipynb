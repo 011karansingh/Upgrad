{
 "cells": [
  {
   "cell_type": "code",
   "execution_count": 1,
   "id": "3c0557ad",
   "metadata": {},
   "outputs": [],
   "source": [
    "import numpy as np"
   ]
  },
  {
   "cell_type": "code",
   "execution_count": 2,
   "id": "fe9e397d",
   "metadata": {},
   "outputs": [
    {
     "data": {
      "text/plain": [
       "'1.25.2'"
      ]
     },
     "execution_count": 2,
     "metadata": {},
     "output_type": "execute_result"
    }
   ],
   "source": [
    "np.__version__"
   ]
  },
  {
   "cell_type": "markdown",
   "id": "465640f9",
   "metadata": {},
   "source": [
    "**pip install numpy --upgrade**\n",
    "\n",
    "**https://numpy.org/**"
   ]
  },
  {
   "cell_type": "markdown",
   "id": "5792fc02",
   "metadata": {},
   "source": [
    "**Array is a basic data structure in numpy**\n",
    "\n",
    "When we want to complex calculation we need numpy \n",
    "\n",
    "    1) Creation of an arrays\n",
    "    2) Perform several operations on the arrays \n",
    "    3) Integral calculus \n",
    "    4) Differential equations \n",
    "    5) Statistical operations\n",
    "    \n",
    "    \n",
    "**What is an array**\n",
    "\n",
    "    1) An indexed collection of homogenous data elements \n",
    "    2) It is most commonly used in the programming languages like C,C++ or Java \n",
    "    3) By default we dont have array in Python, we have other data structures like Lists, Tuples etc "
   ]
  },
  {
   "cell_type": "code",
   "execution_count": 3,
   "id": "c73c92b0",
   "metadata": {},
   "outputs": [],
   "source": [
    "ages = [45,65,34,22,35,33]"
   ]
  },
  {
   "cell_type": "code",
   "execution_count": 4,
   "id": "e8ae1e21",
   "metadata": {},
   "outputs": [
    {
     "data": {
      "text/plain": [
       "list"
      ]
     },
     "execution_count": 4,
     "metadata": {},
     "output_type": "execute_result"
    }
   ],
   "source": [
    "type(ages)"
   ]
  },
  {
   "cell_type": "code",
   "execution_count": 5,
   "id": "e929cee2",
   "metadata": {},
   "outputs": [],
   "source": [
    "array1 = np.array(ages)"
   ]
  },
  {
   "cell_type": "code",
   "execution_count": 7,
   "id": "dd86372b",
   "metadata": {},
   "outputs": [
    {
     "data": {
      "text/plain": [
       "numpy.ndarray"
      ]
     },
     "execution_count": 7,
     "metadata": {},
     "output_type": "execute_result"
    }
   ],
   "source": [
    "type(array1)"
   ]
  },
  {
   "cell_type": "code",
   "execution_count": 10,
   "id": "22f8f806",
   "metadata": {},
   "outputs": [
    {
     "data": {
      "text/plain": [
       "array([65, 34, 22, 35])"
      ]
     },
     "execution_count": 10,
     "metadata": {},
     "output_type": "execute_result"
    }
   ],
   "source": [
    "array1[1:5]"
   ]
  },
  {
   "cell_type": "code",
   "execution_count": 33,
   "id": "e520183c",
   "metadata": {},
   "outputs": [],
   "source": [
    "list1 = [True]"
   ]
  },
  {
   "cell_type": "code",
   "execution_count": 16,
   "id": "34b3a75b",
   "metadata": {},
   "outputs": [
    {
     "data": {
      "text/plain": [
       "float"
      ]
     },
     "execution_count": 16,
     "metadata": {},
     "output_type": "execute_result"
    }
   ],
   "source": [
    "type(list1[3])"
   ]
  },
  {
   "cell_type": "code",
   "execution_count": 34,
   "id": "cdc110f2",
   "metadata": {},
   "outputs": [],
   "source": [
    "array2 = np.array(list1)"
   ]
  },
  {
   "cell_type": "code",
   "execution_count": 22,
   "id": "2b340a6f",
   "metadata": {},
   "outputs": [
    {
     "data": {
      "text/plain": [
       "numpy.str_"
      ]
     },
     "execution_count": 22,
     "metadata": {},
     "output_type": "execute_result"
    }
   ],
   "source": [
    "type(array2[3])"
   ]
  },
  {
   "cell_type": "code",
   "execution_count": null,
   "id": "beb05cf7",
   "metadata": {},
   "outputs": [],
   "source": [
    "1st - String Takes the priority\n",
    "2nd - Float Takes the priority\n",
    "3rd - Integer Takes the priority\n",
    "4th - Boolean Takes the priority"
   ]
  },
  {
   "cell_type": "code",
   "execution_count": 35,
   "id": "be74bf00",
   "metadata": {},
   "outputs": [
    {
     "data": {
      "text/plain": [
       "[True]"
      ]
     },
     "execution_count": 35,
     "metadata": {},
     "output_type": "execute_result"
    }
   ],
   "source": [
    "list1"
   ]
  },
  {
   "cell_type": "code",
   "execution_count": 36,
   "id": "605f4787",
   "metadata": {},
   "outputs": [
    {
     "data": {
      "text/plain": [
       "array([ True])"
      ]
     },
     "execution_count": 36,
     "metadata": {},
     "output_type": "execute_result"
    }
   ],
   "source": [
    "array2"
   ]
  },
  {
   "cell_type": "markdown",
   "id": "2f6af479",
   "metadata": {},
   "source": [
    "**Simlarities between Lists and Arrays**\n",
    "\n",
    "    1) Both can be used to store the data\n",
    "    2) The order will be preserved in both, indexing and slicing concepts will be the same\n",
    "    3) Both are mutable in nature, we can change the values in both"
   ]
  },
  {
   "cell_type": "code",
   "execution_count": 39,
   "id": "02e4696e",
   "metadata": {},
   "outputs": [],
   "source": [
    "array1[4]=22"
   ]
  },
  {
   "cell_type": "code",
   "execution_count": 40,
   "id": "d3b2745b",
   "metadata": {},
   "outputs": [
    {
     "data": {
      "text/plain": [
       "array([45, 65, 34, 22, 22, 33])"
      ]
     },
     "execution_count": 40,
     "metadata": {},
     "output_type": "execute_result"
    }
   ],
   "source": [
    "array1"
   ]
  },
  {
   "cell_type": "markdown",
   "id": "fbf3db51",
   "metadata": {},
   "source": [
    "**Differences between Lists and Arrays**\n",
    "\n",
    "    1) List is by default comes in Python, however, if you want arrays you have to install numpy in your machine\n",
    "    \n",
    "    2) List can contain heterogeneous data, however, array can only have homogeneous data\n",
    "    \n",
    "    3) On the list we cannot perform vectorised operations\n",
    "    \n",
    "    4) Arrays consume less memory \n",
    "    \n",
    "    5) Arrays are faster as compare to list \n",
    "    \n",
    "    6) Arrays are most convinient for doing the most complex calculations"
   ]
  },
  {
   "cell_type": "code",
   "execution_count": 42,
   "id": "73112b84",
   "metadata": {},
   "outputs": [
    {
     "name": "stdout",
     "output_type": "stream",
     "text": [
      "0.09814323607427056\n",
      "0.07546754675467547\n",
      "0.23155650319829424\n",
      "0.051276408450704226\n"
     ]
    }
   ],
   "source": [
    "sales = [5655,4545,2345,4544]\n",
    "profit = [555,343,543,233]\n",
    "\n",
    "for i in range(len(sales)):\n",
    "    print(profit[i]/sales[i])"
   ]
  },
  {
   "cell_type": "code",
   "execution_count": 43,
   "id": "83938a54",
   "metadata": {},
   "outputs": [],
   "source": [
    "sales_array = np.array(sales)"
   ]
  },
  {
   "cell_type": "code",
   "execution_count": 44,
   "id": "7482e651",
   "metadata": {},
   "outputs": [],
   "source": [
    "profit_array = np.array(profit)"
   ]
  },
  {
   "cell_type": "code",
   "execution_count": 45,
   "id": "aad9f5f1",
   "metadata": {},
   "outputs": [
    {
     "data": {
      "text/plain": [
       "array([555, 343, 543, 233])"
      ]
     },
     "execution_count": 45,
     "metadata": {},
     "output_type": "execute_result"
    }
   ],
   "source": [
    "profit_array"
   ]
  },
  {
   "cell_type": "code",
   "execution_count": 46,
   "id": "d7a5cee0",
   "metadata": {},
   "outputs": [
    {
     "data": {
      "text/plain": [
       "array([5655, 4545, 2345, 4544])"
      ]
     },
     "execution_count": 46,
     "metadata": {},
     "output_type": "execute_result"
    }
   ],
   "source": [
    "sales_array"
   ]
  },
  {
   "cell_type": "code",
   "execution_count": 47,
   "id": "adaa44d0",
   "metadata": {},
   "outputs": [
    {
     "data": {
      "text/plain": [
       "array([0.09814324, 0.07546755, 0.2315565 , 0.05127641])"
      ]
     },
     "execution_count": 47,
     "metadata": {},
     "output_type": "execute_result"
    }
   ],
   "source": [
    "profit_array/sales_array"
   ]
  },
  {
   "cell_type": "code",
   "execution_count": 48,
   "id": "d4b94e0f",
   "metadata": {},
   "outputs": [
    {
     "ename": "TypeError",
     "evalue": "unsupported operand type(s) for /: 'list' and 'list'",
     "output_type": "error",
     "traceback": [
      "\u001b[1;31m---------------------------------------------------------------------------\u001b[0m",
      "\u001b[1;31mTypeError\u001b[0m                                 Traceback (most recent call last)",
      "Cell \u001b[1;32mIn[48], line 1\u001b[0m\n\u001b[1;32m----> 1\u001b[0m profit\u001b[38;5;241m/\u001b[39msales\n",
      "\u001b[1;31mTypeError\u001b[0m: unsupported operand type(s) for /: 'list' and 'list'"
     ]
    }
   ],
   "source": [
    "profit/sales"
   ]
  },
  {
   "cell_type": "code",
   "execution_count": 49,
   "id": "7d011077",
   "metadata": {},
   "outputs": [
    {
     "data": {
      "text/plain": [
       "[5655, 4545, 2345, 4544, 5655, 4545, 2345, 4544, 5655, 4545, 2345, 4544]"
      ]
     },
     "execution_count": 49,
     "metadata": {},
     "output_type": "execute_result"
    }
   ],
   "source": [
    "sales*3"
   ]
  },
  {
   "cell_type": "code",
   "execution_count": 50,
   "id": "07cc0639",
   "metadata": {},
   "outputs": [
    {
     "data": {
      "text/plain": [
       "array([16965, 13635,  7035, 13632])"
      ]
     },
     "execution_count": 50,
     "metadata": {},
     "output_type": "execute_result"
    }
   ],
   "source": [
    "sales_array*3"
   ]
  },
  {
   "cell_type": "code",
   "execution_count": 51,
   "id": "a841ef94",
   "metadata": {},
   "outputs": [
    {
     "data": {
      "text/plain": [
       "array([5655, 4545, 2345, 4544])"
      ]
     },
     "execution_count": 51,
     "metadata": {},
     "output_type": "execute_result"
    }
   ],
   "source": [
    "sales_array"
   ]
  },
  {
   "cell_type": "code",
   "execution_count": 53,
   "id": "e4dd2f6e",
   "metadata": {},
   "outputs": [
    {
     "data": {
      "text/plain": [
       "4"
      ]
     },
     "execution_count": 53,
     "metadata": {},
     "output_type": "execute_result"
    }
   ],
   "source": [
    "sales_array.size"
   ]
  },
  {
   "cell_type": "code",
   "execution_count": 54,
   "id": "7ed6e3e8",
   "metadata": {},
   "outputs": [
    {
     "data": {
      "text/plain": [
       "1"
      ]
     },
     "execution_count": 54,
     "metadata": {},
     "output_type": "execute_result"
    }
   ],
   "source": [
    "sales_array.ndim"
   ]
  },
  {
   "cell_type": "code",
   "execution_count": 55,
   "id": "f6bc473a",
   "metadata": {},
   "outputs": [],
   "source": [
    "sales_us = [4565,3454,3232,3454]\n",
    "sales_eu = [7666,4566,6455,3434]\n",
    "sales_in = [6534,6566,4455,6755]"
   ]
  },
  {
   "cell_type": "code",
   "execution_count": 57,
   "id": "bf19ea9d",
   "metadata": {},
   "outputs": [],
   "source": [
    "sales_matrix = np.array([sales_us,sales_eu,sales_in])"
   ]
  },
  {
   "cell_type": "code",
   "execution_count": 56,
   "id": "0c8e9415",
   "metadata": {},
   "outputs": [
    {
     "data": {
      "text/plain": [
       "[[4565, 3454, 3232, 3454], [7666, 4566, 6455, 3434], [6534, 6566, 4455, 6755]]"
      ]
     },
     "execution_count": 56,
     "metadata": {},
     "output_type": "execute_result"
    }
   ],
   "source": [
    "[sales_us,sales_eu,sales_in]"
   ]
  },
  {
   "cell_type": "code",
   "execution_count": 58,
   "id": "2adf5dcd",
   "metadata": {},
   "outputs": [
    {
     "data": {
      "text/plain": [
       "array([[4565, 3454, 3232, 3454],\n",
       "       [7666, 4566, 6455, 3434],\n",
       "       [6534, 6566, 4455, 6755]])"
      ]
     },
     "execution_count": 58,
     "metadata": {},
     "output_type": "execute_result"
    }
   ],
   "source": [
    "sales_matrix"
   ]
  },
  {
   "cell_type": "code",
   "execution_count": 59,
   "id": "2bb72567",
   "metadata": {},
   "outputs": [
    {
     "data": {
      "text/plain": [
       "4455"
      ]
     },
     "execution_count": 59,
     "metadata": {},
     "output_type": "execute_result"
    }
   ],
   "source": [
    "sales_matrix[2,2]"
   ]
  },
  {
   "cell_type": "code",
   "execution_count": 60,
   "id": "d59a842a",
   "metadata": {},
   "outputs": [
    {
     "data": {
      "text/plain": [
       "array([[4566, 6455],\n",
       "       [6566, 4455]])"
      ]
     },
     "execution_count": 60,
     "metadata": {},
     "output_type": "execute_result"
    }
   ],
   "source": [
    "sales_matrix[1:3,1:3]"
   ]
  },
  {
   "cell_type": "code",
   "execution_count": 61,
   "id": "157bd220",
   "metadata": {},
   "outputs": [
    {
     "data": {
      "text/plain": [
       "array([[4566, 6455],\n",
       "       [6566, 4455]])"
      ]
     },
     "execution_count": 61,
     "metadata": {},
     "output_type": "execute_result"
    }
   ],
   "source": [
    "sales_matrix[1:,1:3]"
   ]
  },
  {
   "cell_type": "code",
   "execution_count": 62,
   "id": "69bd1a49",
   "metadata": {},
   "outputs": [
    {
     "data": {
      "text/plain": [
       "12"
      ]
     },
     "execution_count": 62,
     "metadata": {},
     "output_type": "execute_result"
    }
   ],
   "source": [
    "sales_matrix.size"
   ]
  },
  {
   "cell_type": "code",
   "execution_count": 63,
   "id": "05f72a1b",
   "metadata": {},
   "outputs": [
    {
     "data": {
      "text/plain": [
       "2"
      ]
     },
     "execution_count": 63,
     "metadata": {},
     "output_type": "execute_result"
    }
   ],
   "source": [
    "sales_matrix.ndim"
   ]
  },
  {
   "cell_type": "code",
   "execution_count": 64,
   "id": "27cbe104",
   "metadata": {},
   "outputs": [
    {
     "data": {
      "text/plain": [
       "(3, 4)"
      ]
     },
     "execution_count": 64,
     "metadata": {},
     "output_type": "execute_result"
    }
   ],
   "source": [
    "sales_matrix.shape"
   ]
  },
  {
   "cell_type": "code",
   "execution_count": 65,
   "id": "3bcef3f8",
   "metadata": {},
   "outputs": [
    {
     "data": {
      "text/plain": [
       "(4,)"
      ]
     },
     "execution_count": 65,
     "metadata": {},
     "output_type": "execute_result"
    }
   ],
   "source": [
    "sales_array.shape"
   ]
  },
  {
   "cell_type": "code",
   "execution_count": 66,
   "id": "42d59f16",
   "metadata": {},
   "outputs": [
    {
     "data": {
      "text/plain": [
       "array([5655, 4545, 2345, 4544])"
      ]
     },
     "execution_count": 66,
     "metadata": {},
     "output_type": "execute_result"
    }
   ],
   "source": [
    "sales_array"
   ]
  },
  {
   "cell_type": "code",
   "execution_count": 68,
   "id": "15942baf",
   "metadata": {},
   "outputs": [
    {
     "data": {
      "text/plain": [
       "(4,)"
      ]
     },
     "execution_count": 68,
     "metadata": {},
     "output_type": "execute_result"
    }
   ],
   "source": [
    "sales_array.T.shape"
   ]
  },
  {
   "cell_type": "code",
   "execution_count": 71,
   "id": "05dc5ced",
   "metadata": {},
   "outputs": [
    {
     "data": {
      "text/plain": [
       "(4, 3)"
      ]
     },
     "execution_count": 71,
     "metadata": {},
     "output_type": "execute_result"
    }
   ],
   "source": [
    "sales_matrix.T.shape"
   ]
  },
  {
   "cell_type": "code",
   "execution_count": 73,
   "id": "d8bb4053",
   "metadata": {},
   "outputs": [
    {
     "data": {
      "text/plain": [
       "(4,)"
      ]
     },
     "execution_count": 73,
     "metadata": {},
     "output_type": "execute_result"
    }
   ],
   "source": [
    "sales_array.shape"
   ]
  },
  {
   "cell_type": "code",
   "execution_count": 74,
   "id": "87661ea9",
   "metadata": {},
   "outputs": [
    {
     "data": {
      "text/plain": [
       "array([5655, 4545, 2345, 4544])"
      ]
     },
     "execution_count": 74,
     "metadata": {},
     "output_type": "execute_result"
    }
   ],
   "source": [
    "sales_array"
   ]
  },
  {
   "cell_type": "code",
   "execution_count": 95,
   "id": "7aaad375",
   "metadata": {},
   "outputs": [],
   "source": [
    "profit_us = [454,342,353,433]\n",
    "profit_eu = [544,233,432,655]\n",
    "profit_in = [344,333,234,545]"
   ]
  },
  {
   "cell_type": "code",
   "execution_count": 96,
   "id": "c5a9ea0d",
   "metadata": {},
   "outputs": [],
   "source": [
    "profit_matrix = np.array([profit_us,profit_eu,profit_in])"
   ]
  },
  {
   "cell_type": "code",
   "execution_count": 97,
   "id": "9f39a89c",
   "metadata": {},
   "outputs": [
    {
     "data": {
      "text/plain": [
       "array([[454, 342, 353, 433],\n",
       "       [544, 233, 432, 655],\n",
       "       [344, 333, 234, 545]])"
      ]
     },
     "execution_count": 97,
     "metadata": {},
     "output_type": "execute_result"
    }
   ],
   "source": [
    "profit_matrix"
   ]
  },
  {
   "cell_type": "code",
   "execution_count": 98,
   "id": "e420f701",
   "metadata": {},
   "outputs": [
    {
     "data": {
      "text/plain": [
       "array([[4565, 3454, 3232, 3454],\n",
       "       [7666, 4566, 6455, 3434],\n",
       "       [6534, 6566, 4455, 6755]])"
      ]
     },
     "execution_count": 98,
     "metadata": {},
     "output_type": "execute_result"
    }
   ],
   "source": [
    "sales_matrix"
   ]
  },
  {
   "cell_type": "code",
   "execution_count": 99,
   "id": "0ea49ca4",
   "metadata": {},
   "outputs": [
    {
     "data": {
      "text/plain": [
       "array([[0.099, 0.099, 0.109, 0.125],\n",
       "       [0.071, 0.051, 0.067, 0.191],\n",
       "       [0.053, 0.051, 0.053, 0.081]])"
      ]
     },
     "execution_count": 99,
     "metadata": {},
     "output_type": "execute_result"
    }
   ],
   "source": [
    "np.round(profit_matrix/sales_matrix,3)"
   ]
  },
  {
   "cell_type": "code",
   "execution_count": 82,
   "id": "bdc71ed6",
   "metadata": {},
   "outputs": [
    {
     "data": {
      "text/plain": [
       "array([[454, 342, 353, 232],\n",
       "       [544, 233, 432, 232],\n",
       "       [344, 333, 234, 233]])"
      ]
     },
     "execution_count": 82,
     "metadata": {},
     "output_type": "execute_result"
    }
   ],
   "source": [
    "profit_matrix"
   ]
  },
  {
   "cell_type": "code",
   "execution_count": 83,
   "id": "863d8d36",
   "metadata": {},
   "outputs": [
    {
     "data": {
      "text/plain": [
       "array([[4565, 3454, 3232, 3454],\n",
       "       [7666, 4566, 6455, 3434],\n",
       "       [6534, 6566, 4455, 6755]])"
      ]
     },
     "execution_count": 83,
     "metadata": {},
     "output_type": "execute_result"
    }
   ],
   "source": [
    "sales_matrix"
   ]
  },
  {
   "cell_type": "code",
   "execution_count": 87,
   "id": "4b87975c",
   "metadata": {},
   "outputs": [
    {
     "data": {
      "text/plain": [
       "array([[2072510, 1181268, 1140896,  801328],\n",
       "       [4170304, 1063878, 2788560,  796688],\n",
       "       [2247696, 2186478, 1042470, 1573915]])"
      ]
     },
     "execution_count": 87,
     "metadata": {},
     "output_type": "execute_result"
    }
   ],
   "source": [
    "profit_matrix*sales_matrix"
   ]
  },
  {
   "cell_type": "code",
   "execution_count": 104,
   "id": "cd0ceab4",
   "metadata": {},
   "outputs": [
    {
     "data": {
      "text/plain": [
       "array([[4565, 3454, 3232, 3454],\n",
       "       [7666, 4566, 6455, 3434],\n",
       "       [6534, 6566, 4455, 6755]])"
      ]
     },
     "execution_count": 104,
     "metadata": {},
     "output_type": "execute_result"
    }
   ],
   "source": [
    "sales_matrix"
   ]
  },
  {
   "cell_type": "code",
   "execution_count": 106,
   "id": "7e812e6e",
   "metadata": {},
   "outputs": [
    {
     "data": {
      "text/plain": [
       "(4,)"
      ]
     },
     "execution_count": 106,
     "metadata": {},
     "output_type": "execute_result"
    }
   ],
   "source": [
    "sales_array.shape"
   ]
  },
  {
   "cell_type": "code",
   "execution_count": 111,
   "id": "40448d63",
   "metadata": {},
   "outputs": [],
   "source": [
    "a = sales_array.reshape(1,4)"
   ]
  },
  {
   "cell_type": "code",
   "execution_count": 112,
   "id": "55fd19a4",
   "metadata": {},
   "outputs": [
    {
     "data": {
      "text/plain": [
       "(1, 4)"
      ]
     },
     "execution_count": 112,
     "metadata": {},
     "output_type": "execute_result"
    }
   ],
   "source": [
    "a.shape"
   ]
  },
  {
   "cell_type": "code",
   "execution_count": 113,
   "id": "4c65d3d2",
   "metadata": {},
   "outputs": [
    {
     "data": {
      "text/plain": [
       "array([[4565, 3454, 3232, 3454],\n",
       "       [7666, 4566, 6455, 3434],\n",
       "       [6534, 6566, 4455, 6755]])"
      ]
     },
     "execution_count": 113,
     "metadata": {},
     "output_type": "execute_result"
    }
   ],
   "source": [
    "sales_matrix"
   ]
  },
  {
   "cell_type": "code",
   "execution_count": 114,
   "id": "dc6e7dcb",
   "metadata": {},
   "outputs": [],
   "source": [
    "import pandas as pd"
   ]
  },
  {
   "cell_type": "code",
   "execution_count": 117,
   "id": "8d52df2f",
   "metadata": {},
   "outputs": [],
   "source": [
    "df = pd.DataFrame(sales_matrix,columns=['Q1','Q2','Q3','Q4'])"
   ]
  },
  {
   "cell_type": "code",
   "execution_count": 119,
   "id": "5688f3ad",
   "metadata": {},
   "outputs": [
    {
     "data": {
      "text/plain": [
       "pandas.core.frame.DataFrame"
      ]
     },
     "execution_count": 119,
     "metadata": {},
     "output_type": "execute_result"
    }
   ],
   "source": [
    "type(df)"
   ]
  },
  {
   "cell_type": "code",
   "execution_count": 120,
   "id": "254799c6",
   "metadata": {},
   "outputs": [
    {
     "data": {
      "text/html": [
       "<div>\n",
       "<style scoped>\n",
       "    .dataframe tbody tr th:only-of-type {\n",
       "        vertical-align: middle;\n",
       "    }\n",
       "\n",
       "    .dataframe tbody tr th {\n",
       "        vertical-align: top;\n",
       "    }\n",
       "\n",
       "    .dataframe thead th {\n",
       "        text-align: right;\n",
       "    }\n",
       "</style>\n",
       "<table border=\"1\" class=\"dataframe\">\n",
       "  <thead>\n",
       "    <tr style=\"text-align: right;\">\n",
       "      <th></th>\n",
       "      <th>0</th>\n",
       "      <th>1</th>\n",
       "      <th>2</th>\n",
       "    </tr>\n",
       "  </thead>\n",
       "  <tbody>\n",
       "    <tr>\n",
       "      <th>0</th>\n",
       "      <td>1</td>\n",
       "      <td>2</td>\n",
       "      <td>3</td>\n",
       "    </tr>\n",
       "    <tr>\n",
       "      <th>1</th>\n",
       "      <td>4</td>\n",
       "      <td>5</td>\n",
       "      <td>6</td>\n",
       "    </tr>\n",
       "    <tr>\n",
       "      <th>2</th>\n",
       "      <td>7</td>\n",
       "      <td>8</td>\n",
       "      <td>9</td>\n",
       "    </tr>\n",
       "  </tbody>\n",
       "</table>\n",
       "</div>"
      ],
      "text/plain": [
       "   0  1  2\n",
       "0  1  2  3\n",
       "1  4  5  6\n",
       "2  7  8  9"
      ]
     },
     "execution_count": 120,
     "metadata": {},
     "output_type": "execute_result"
    }
   ],
   "source": [
    "pd.DataFrame([[1,2,3],[4,5,6],[7,8,9]])"
   ]
  },
  {
   "cell_type": "code",
   "execution_count": 122,
   "id": "86e7b7c0",
   "metadata": {},
   "outputs": [
    {
     "data": {
      "text/html": [
       "<div>\n",
       "<style scoped>\n",
       "    .dataframe tbody tr th:only-of-type {\n",
       "        vertical-align: middle;\n",
       "    }\n",
       "\n",
       "    .dataframe tbody tr th {\n",
       "        vertical-align: top;\n",
       "    }\n",
       "\n",
       "    .dataframe thead th {\n",
       "        text-align: right;\n",
       "    }\n",
       "</style>\n",
       "<table border=\"1\" class=\"dataframe\">\n",
       "  <thead>\n",
       "    <tr style=\"text-align: right;\">\n",
       "      <th></th>\n",
       "      <th>0</th>\n",
       "      <th>1</th>\n",
       "      <th>2</th>\n",
       "    </tr>\n",
       "  </thead>\n",
       "  <tbody>\n",
       "    <tr>\n",
       "      <th>0</th>\n",
       "      <td>1</td>\n",
       "      <td>2</td>\n",
       "      <td>3</td>\n",
       "    </tr>\n",
       "    <tr>\n",
       "      <th>1</th>\n",
       "      <td>4</td>\n",
       "      <td>5</td>\n",
       "      <td>6</td>\n",
       "    </tr>\n",
       "    <tr>\n",
       "      <th>2</th>\n",
       "      <td>7</td>\n",
       "      <td>8</td>\n",
       "      <td>9</td>\n",
       "    </tr>\n",
       "  </tbody>\n",
       "</table>\n",
       "</div>"
      ],
      "text/plain": [
       "   0  1  2\n",
       "0  1  2  3\n",
       "1  4  5  6\n",
       "2  7  8  9"
      ]
     },
     "execution_count": 122,
     "metadata": {},
     "output_type": "execute_result"
    }
   ],
   "source": [
    "pd.DataFrame(np.array([[1,2,3],[4,5,6],[7,8,9]]))"
   ]
  },
  {
   "cell_type": "code",
   "execution_count": 123,
   "id": "1ec5f7aa",
   "metadata": {},
   "outputs": [
    {
     "data": {
      "text/plain": [
       "array([[4565, 3454, 3232, 3454],\n",
       "       [7666, 4566, 6455, 3434],\n",
       "       [6534, 6566, 4455, 6755]])"
      ]
     },
     "execution_count": 123,
     "metadata": {},
     "output_type": "execute_result"
    }
   ],
   "source": [
    "sales_matrix"
   ]
  },
  {
   "cell_type": "code",
   "execution_count": 124,
   "id": "90fd6f46",
   "metadata": {},
   "outputs": [],
   "source": [
    "def square(num):\n",
    "    print(num*num)"
   ]
  },
  {
   "cell_type": "code",
   "execution_count": 125,
   "id": "69e03d5f",
   "metadata": {},
   "outputs": [
    {
     "name": "stdout",
     "output_type": "stream",
     "text": [
      "100\n"
     ]
    }
   ],
   "source": [
    "square(10)"
   ]
  },
  {
   "cell_type": "code",
   "execution_count": 135,
   "id": "4e4002b6",
   "metadata": {},
   "outputs": [],
   "source": [
    "class Square:\n",
    "    def __init__(self,num):\n",
    "        self.num=num\n",
    "        \n",
    "    def sq(self):\n",
    "        print(self.num*self.num)"
   ]
  },
  {
   "cell_type": "code",
   "execution_count": 134,
   "id": "edf96d0e",
   "metadata": {},
   "outputs": [
    {
     "name": "stdout",
     "output_type": "stream",
     "text": [
      "100\n"
     ]
    }
   ],
   "source": [
    "num1 = Square(10)\n",
    "num1.sq()"
   ]
  },
  {
   "cell_type": "code",
   "execution_count": 130,
   "id": "191b3fec",
   "metadata": {},
   "outputs": [
    {
     "data": {
      "text/plain": [
       "<__main__.Square at 0x1d9fd3ed790>"
      ]
     },
     "execution_count": 130,
     "metadata": {},
     "output_type": "execute_result"
    }
   ],
   "source": [
    "num1"
   ]
  },
  {
   "cell_type": "code",
   "execution_count": 131,
   "id": "65c0bdfa",
   "metadata": {},
   "outputs": [],
   "source": [
    "num2 = Square(15)"
   ]
  },
  {
   "cell_type": "code",
   "execution_count": 132,
   "id": "7d14b6d7",
   "metadata": {},
   "outputs": [
    {
     "data": {
      "text/plain": [
       "<__main__.Square at 0x1d9fc873b10>"
      ]
     },
     "execution_count": 132,
     "metadata": {},
     "output_type": "execute_result"
    }
   ],
   "source": [
    "num2"
   ]
  },
  {
   "cell_type": "code",
   "execution_count": 136,
   "id": "cad006ef",
   "metadata": {},
   "outputs": [],
   "source": [
    "list1 = [1,2,3,4]"
   ]
  },
  {
   "cell_type": "code",
   "execution_count": 138,
   "id": "494ac437",
   "metadata": {},
   "outputs": [
    {
     "name": "stdout",
     "output_type": "stream",
     "text": [
      "<class 'list'>\n"
     ]
    }
   ],
   "source": [
    "print(type(list1))\n"
   ]
  },
  {
   "cell_type": "code",
   "execution_count": 141,
   "id": "cf970bbd",
   "metadata": {},
   "outputs": [
    {
     "data": {
      "text/plain": [
       "4272.25"
      ]
     },
     "execution_count": 141,
     "metadata": {},
     "output_type": "execute_result"
    }
   ],
   "source": [
    "sales_array.mean()"
   ]
  },
  {
   "cell_type": "code",
   "execution_count": 142,
   "id": "09e84c52",
   "metadata": {},
   "outputs": [
    {
     "data": {
      "text/plain": [
       "4272.25"
      ]
     },
     "execution_count": 142,
     "metadata": {},
     "output_type": "execute_result"
    }
   ],
   "source": [
    "np.mean(sales_array)"
   ]
  },
  {
   "cell_type": "code",
   "execution_count": 145,
   "id": "6799289c",
   "metadata": {},
   "outputs": [
    {
     "data": {
      "text/plain": [
       "5094.666666666667"
      ]
     },
     "execution_count": 145,
     "metadata": {},
     "output_type": "execute_result"
    }
   ],
   "source": [
    "sales_matrix.mean()"
   ]
  },
  {
   "cell_type": "code",
   "execution_count": 152,
   "id": "d62f9844",
   "metadata": {},
   "outputs": [
    {
     "data": {
      "text/plain": [
       "array([ 271506.1875, 2685158.1875,  884634.25  ])"
      ]
     },
     "execution_count": 152,
     "metadata": {},
     "output_type": "execute_result"
    }
   ],
   "source": [
    "np.var(sales_matrix,axis=1)"
   ]
  },
  {
   "cell_type": "code",
   "execution_count": 148,
   "id": "a1961e9b",
   "metadata": {},
   "outputs": [
    {
     "data": {
      "text/plain": [
       "array([[4565, 3454, 3232, 3454],\n",
       "       [7666, 4566, 6455, 3434],\n",
       "       [6534, 6566, 4455, 6755]])"
      ]
     },
     "execution_count": 148,
     "metadata": {},
     "output_type": "execute_result"
    }
   ],
   "source": [
    "sales_matrix"
   ]
  },
  {
   "cell_type": "code",
   "execution_count": 149,
   "id": "8377c85d",
   "metadata": {},
   "outputs": [
    {
     "data": {
      "text/plain": [
       "array([6255.        , 4862.        , 4714.        , 4547.66666667])"
      ]
     },
     "execution_count": 149,
     "metadata": {},
     "output_type": "execute_result"
    }
   ],
   "source": [
    "np.mean(sales_matrix,axis=0)"
   ]
  },
  {
   "cell_type": "code",
   "execution_count": 154,
   "id": "2e846270",
   "metadata": {},
   "outputs": [
    {
     "data": {
      "text/plain": [
       "array([7666, 6534, 6566, 6755])"
      ]
     },
     "execution_count": 154,
     "metadata": {},
     "output_type": "execute_result"
    }
   ],
   "source": [
    "sales_matrix[np.where(sales_matrix>6500)]"
   ]
  },
  {
   "cell_type": "code",
   "execution_count": 155,
   "id": "503d7075",
   "metadata": {},
   "outputs": [
    {
     "data": {
      "text/plain": [
       "array([[4565, 3454, 3232, 3454],\n",
       "       [7666, 4566, 6455, 3434],\n",
       "       [6534, 6566, 4455, 6755]])"
      ]
     },
     "execution_count": 155,
     "metadata": {},
     "output_type": "execute_result"
    }
   ],
   "source": [
    "sales_matrix"
   ]
  },
  {
   "cell_type": "code",
   "execution_count": 158,
   "id": "0fee94b2",
   "metadata": {},
   "outputs": [
    {
     "data": {
      "text/plain": [
       "(array([1, 2, 2, 2], dtype=int64), array([0, 0, 1, 3], dtype=int64))"
      ]
     },
     "execution_count": 158,
     "metadata": {},
     "output_type": "execute_result"
    }
   ],
   "source": [
    "np.where(sales_matrix>6500)"
   ]
  },
  {
   "cell_type": "code",
   "execution_count": 159,
   "id": "201b9359",
   "metadata": {},
   "outputs": [
    {
     "data": {
      "text/plain": [
       "array([7666, 6534, 6566, 6755])"
      ]
     },
     "execution_count": 159,
     "metadata": {},
     "output_type": "execute_result"
    }
   ],
   "source": [
    "sales_matrix[sales_matrix>6500]"
   ]
  },
  {
   "cell_type": "code",
   "execution_count": 160,
   "id": "9d3a8126",
   "metadata": {},
   "outputs": [
    {
     "data": {
      "text/plain": [
       "array([[False, False, False, False],\n",
       "       [ True, False, False, False],\n",
       "       [ True,  True, False,  True]])"
      ]
     },
     "execution_count": 160,
     "metadata": {},
     "output_type": "execute_result"
    }
   ],
   "source": [
    "sales_matrix>6500"
   ]
  }
 ],
 "metadata": {
  "kernelspec": {
   "display_name": "Python 3 (ipykernel)",
   "language": "python",
   "name": "python3"
  },
  "language_info": {
   "codemirror_mode": {
    "name": "ipython",
    "version": 3
   },
   "file_extension": ".py",
   "mimetype": "text/x-python",
   "name": "python",
   "nbconvert_exporter": "python",
   "pygments_lexer": "ipython3",
   "version": "3.11.4"
  }
 },
 "nbformat": 4,
 "nbformat_minor": 5
}
