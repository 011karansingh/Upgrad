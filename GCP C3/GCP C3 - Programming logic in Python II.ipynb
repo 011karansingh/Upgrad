{
 "cells": [
  {
   "cell_type": "markdown",
   "id": "7ab942a0",
   "metadata": {},
   "source": [
    "# Functions in Python"
   ]
  },
  {
   "cell_type": "markdown",
   "id": "588964bc",
   "metadata": {},
   "source": [
    "Functions are reusable codes, which we can reuse in our big codes. It will reduce the number of lines in the code.\n",
    "\n",
    "To create a function we are use a keyword called **def** - It means we are defining a function. "
   ]
  },
  {
   "cell_type": "markdown",
   "id": "086e3ce4",
   "metadata": {},
   "source": [
    "**In the below code we are creating the function**"
   ]
  },
  {
   "cell_type": "code",
   "execution_count": 15,
   "id": "d1d75623",
   "metadata": {},
   "outputs": [],
   "source": [
    "def greeting():\n",
    "    print('Good Evening')"
   ]
  },
  {
   "cell_type": "markdown",
   "id": "5d036f52",
   "metadata": {},
   "source": [
    "**In the below code we are calling the function**"
   ]
  },
  {
   "cell_type": "code",
   "execution_count": 16,
   "id": "3aaecb51",
   "metadata": {},
   "outputs": [
    {
     "name": "stdout",
     "output_type": "stream",
     "text": [
      "Good Evening\n"
     ]
    }
   ],
   "source": [
    "greeting()"
   ]
  },
  {
   "cell_type": "code",
   "execution_count": 3,
   "id": "38fe06b9",
   "metadata": {},
   "outputs": [
    {
     "name": "stdout",
     "output_type": "stream",
     "text": [
      "Good Evening\n",
      "Good Evening\n",
      "Good Evening\n",
      "Good Evening\n",
      "Good Evening\n",
      "Good Evening\n",
      "Good Evening\n",
      "Good Evening\n",
      "Good Evening\n",
      "Good Evening\n"
     ]
    }
   ],
   "source": [
    "for i in range(0,10):\n",
    "    greeting()"
   ]
  },
  {
   "cell_type": "code",
   "execution_count": 7,
   "id": "398396b3",
   "metadata": {},
   "outputs": [],
   "source": [
    "def greeting(name):\n",
    "    print('Good Evening',name)"
   ]
  },
  {
   "cell_type": "code",
   "execution_count": 8,
   "id": "4b9fa67b",
   "metadata": {},
   "outputs": [
    {
     "name": "stdout",
     "output_type": "stream",
     "text": [
      "Good Evening Rahul\n"
     ]
    }
   ],
   "source": [
    "greeting('Rahul')"
   ]
  },
  {
   "cell_type": "code",
   "execution_count": 9,
   "id": "e0bbf0b0",
   "metadata": {},
   "outputs": [
    {
     "name": "stdout",
     "output_type": "stream",
     "text": [
      "Good Evening A\n",
      "Good Evening B\n",
      "Good Evening C\n",
      "Good Evening D\n",
      "Good Evening E\n"
     ]
    }
   ],
   "source": [
    "names = ['A','B','C','D','E']\n",
    "for i in names:\n",
    "    greeting(i)"
   ]
  },
  {
   "cell_type": "markdown",
   "id": "48a9eea8",
   "metadata": {},
   "source": [
    "In the below example the **name** is the default argument and the default value is **Learner** "
   ]
  },
  {
   "cell_type": "code",
   "execution_count": 18,
   "id": "2e5ddefa",
   "metadata": {},
   "outputs": [],
   "source": [
    "def greeting(name='Learner'):\n",
    "    print('Good Evening', name)"
   ]
  },
  {
   "cell_type": "code",
   "execution_count": 20,
   "id": "3a59a2d1",
   "metadata": {},
   "outputs": [
    {
     "name": "stdout",
     "output_type": "stream",
     "text": [
      "Good Evening A\n"
     ]
    }
   ],
   "source": [
    "greeting('A')"
   ]
  },
  {
   "cell_type": "code",
   "execution_count": 19,
   "id": "51427e40",
   "metadata": {},
   "outputs": [
    {
     "name": "stdout",
     "output_type": "stream",
     "text": [
      "Good Evening Learner\n"
     ]
    }
   ],
   "source": [
    "greeting()"
   ]
  },
  {
   "cell_type": "markdown",
   "id": "fdfb9232",
   "metadata": {},
   "source": [
    "In the below example the **name** is not a default argument and while executing the function we have to pass the name in the function"
   ]
  },
  {
   "cell_type": "code",
   "execution_count": 13,
   "id": "9fec6738",
   "metadata": {},
   "outputs": [],
   "source": [
    "def greeting(name):\n",
    "    print('Good Evening',name)"
   ]
  },
  {
   "cell_type": "code",
   "execution_count": 14,
   "id": "2d9b08fb",
   "metadata": {},
   "outputs": [
    {
     "ename": "TypeError",
     "evalue": "greeting() missing 1 required positional argument: 'name'",
     "output_type": "error",
     "traceback": [
      "\u001b[1;31m---------------------------------------------------------------------------\u001b[0m",
      "\u001b[1;31mTypeError\u001b[0m                                 Traceback (most recent call last)",
      "Cell \u001b[1;32mIn[14], line 1\u001b[0m\n\u001b[1;32m----> 1\u001b[0m greeting()\n",
      "\u001b[1;31mTypeError\u001b[0m: greeting() missing 1 required positional argument: 'name'"
     ]
    }
   ],
   "source": [
    "greeting()"
   ]
  },
  {
   "cell_type": "markdown",
   "id": "2319fc70",
   "metadata": {},
   "source": [
    "Docstring - It helps to give the comments about the function and we can use '''''', \"\"\"\"\"\"\n",
    "but we cannot use #"
   ]
  },
  {
   "cell_type": "code",
   "execution_count": 25,
   "id": "74808215",
   "metadata": {},
   "outputs": [],
   "source": [
    "def greeting(name):\n",
    "    '''This function greets the learner and takes the default value of name as learner if \n",
    "    nothing passed in the name'''\n",
    "    print('Good Evening', name)"
   ]
  },
  {
   "cell_type": "code",
   "execution_count": 27,
   "id": "9a8750e6",
   "metadata": {},
   "outputs": [
    {
     "name": "stdout",
     "output_type": "stream",
     "text": [
      "Good Evening A\n"
     ]
    }
   ],
   "source": [
    "greeting('A')"
   ]
  },
  {
   "cell_type": "markdown",
   "id": "fadd9a26",
   "metadata": {},
   "source": [
    "1) Calculator"
   ]
  },
  {
   "cell_type": "code",
   "execution_count": 29,
   "id": "577cadaa",
   "metadata": {},
   "outputs": [],
   "source": [
    "def calculator(num1,num2,operation='all'):\n",
    "    '''In this function the valid operation values are sum,sub,mul,div and \n",
    "    the default value is all'''\n",
    "    if operation.lower()=='all':\n",
    "        print(num1+num2)\n",
    "        print(num1-num2)\n",
    "        print(num1*num2)\n",
    "        print(num1/num2)\n",
    "    elif operation.lower()=='sum':\n",
    "        print(num1+num2)\n",
    "    elif operation.lower()=='sub':\n",
    "        print(num1-num2)\n",
    "    elif operation.lower()=='mul':\n",
    "        print(num1*num2)\n",
    "    elif operation.lower()=='div':\n",
    "        print(num1/num2)\n",
    "    else:\n",
    "        print('Please pass the valid option')"
   ]
  },
  {
   "cell_type": "code",
   "execution_count": 35,
   "id": "60f43458",
   "metadata": {},
   "outputs": [
    {
     "name": "stdout",
     "output_type": "stream",
     "text": [
      "Please pass the valid option\n"
     ]
    }
   ],
   "source": [
    "calculator(10,2,'rahul')"
   ]
  },
  {
   "cell_type": "markdown",
   "id": "87b11175",
   "metadata": {},
   "source": [
    "2) Factorial"
   ]
  },
  {
   "cell_type": "code",
   "execution_count": 36,
   "id": "c051c976",
   "metadata": {},
   "outputs": [],
   "source": [
    "def factorial(num):\n",
    "    if num<0:\n",
    "        print('There is no factorial of a negative number')\n",
    "    else:\n",
    "        result = 1\n",
    "        while num>=1:\n",
    "            result = result * num\n",
    "            num = num-1\n",
    "        print(result)"
   ]
  },
  {
   "cell_type": "code",
   "execution_count": 40,
   "id": "02b583ca",
   "metadata": {},
   "outputs": [
    {
     "name": "stdout",
     "output_type": "stream",
     "text": [
      "There is no factorial of a negative number\n"
     ]
    }
   ],
   "source": [
    "factorial(-5)"
   ]
  },
  {
   "cell_type": "markdown",
   "id": "b2cb284d",
   "metadata": {},
   "source": [
    "**Storing the outcome of the function in the variable**"
   ]
  },
  {
   "cell_type": "code",
   "execution_count": 41,
   "id": "c7e4b55b",
   "metadata": {},
   "outputs": [],
   "source": [
    "def calculator(num1,num2,operation='all'):\n",
    "    '''In this function the valid operation values are sum,sub,mul,div and \n",
    "    the default value is all'''\n",
    "    if operation.lower()=='all':\n",
    "        print(num1+num2)\n",
    "        print(num1-num2)\n",
    "        print(num1*num2)\n",
    "        print(num1/num2)\n",
    "    elif operation.lower()=='sum':\n",
    "        print(num1+num2)\n",
    "    elif operation.lower()=='sub':\n",
    "        print(num1-num2)\n",
    "    elif operation.lower()=='mul':\n",
    "        print(num1*num2)\n",
    "    elif operation.lower()=='div':\n",
    "        print(num1/num2)\n",
    "    else:\n",
    "        print('Please pass the valid option')"
   ]
  },
  {
   "cell_type": "code",
   "execution_count": 43,
   "id": "1f7e8d08",
   "metadata": {},
   "outputs": [
    {
     "name": "stdout",
     "output_type": "stream",
     "text": [
      "12\n",
      "8\n",
      "20\n",
      "5.0\n"
     ]
    }
   ],
   "source": [
    "output = calculator(10,2)"
   ]
  },
  {
   "cell_type": "code",
   "execution_count": 45,
   "id": "99d6bca9",
   "metadata": {},
   "outputs": [
    {
     "data": {
      "text/plain": [
       "NoneType"
      ]
     },
     "execution_count": 45,
     "metadata": {},
     "output_type": "execute_result"
    }
   ],
   "source": [
    "type(output)"
   ]
  },
  {
   "cell_type": "code",
   "execution_count": 49,
   "id": "04146a43",
   "metadata": {},
   "outputs": [],
   "source": [
    "def calculator(num1,num2,operation='all'):\n",
    "    '''In this function the valid operation values are sum,sub,mul,div and \n",
    "    the default value is all'''\n",
    "    if operation.lower()=='all':\n",
    "        return num1+num2, num1-num2, num1*num2, num1/num2\n",
    "    elif operation.lower()=='sum':\n",
    "        return num1+num2\n",
    "    elif operation.lower()=='sub':\n",
    "        return num1-num2\n",
    "    elif operation.lower()=='mul':\n",
    "        return num1*num2\n",
    "    elif operation.lower()=='div':\n",
    "        return num1/num2\n",
    "    else:\n",
    "        return 'Please pass the valid option'"
   ]
  },
  {
   "cell_type": "code",
   "execution_count": 53,
   "id": "82d213c1",
   "metadata": {},
   "outputs": [],
   "source": [
    "output = calculator(553353453424,4253535353)"
   ]
  },
  {
   "cell_type": "code",
   "execution_count": 54,
   "id": "89763268",
   "metadata": {},
   "outputs": [
    {
     "data": {
      "text/plain": [
       "(557606988777, 549099918071, 2353708476843622898672, 130.09259533571813)"
      ]
     },
     "execution_count": 54,
     "metadata": {},
     "output_type": "execute_result"
    }
   ],
   "source": [
    "output"
   ]
  },
  {
   "cell_type": "code",
   "execution_count": 55,
   "id": "ecb62686",
   "metadata": {},
   "outputs": [],
   "source": [
    "def calculator(num1,num2,operation='all'):\n",
    "    '''In this function the valid operation values are sum,sub,mul,div and \n",
    "    the default value is all'''\n",
    "    if operation.lower()=='all':\n",
    "        return {'sum n1,n2':num1+num2, 'sub n1,n2':num1-num2, 'mul n1,n2':num1*num2, 'div n1,n2':num1/num2}\n",
    "    elif operation.lower()=='sum':\n",
    "        return num1+num2\n",
    "    elif operation.lower()=='sub':\n",
    "        return num1-num2\n",
    "    elif operation.lower()=='mul':\n",
    "        return num1*num2\n",
    "    elif operation.lower()=='div':\n",
    "        return num1/num2\n",
    "    else:\n",
    "        return 'Please pass the valid option'"
   ]
  },
  {
   "cell_type": "code",
   "execution_count": 56,
   "id": "a7a57e43",
   "metadata": {},
   "outputs": [],
   "source": [
    "output = calculator(553353453424,4253535353)"
   ]
  },
  {
   "cell_type": "code",
   "execution_count": 57,
   "id": "271a238b",
   "metadata": {},
   "outputs": [
    {
     "data": {
      "text/plain": [
       "{'sum n1,n2': 557606988777,\n",
       " 'sub n1,n2': 549099918071,\n",
       " 'mul n1,n2': 2353708476843622898672,\n",
       " 'div n1,n2': 130.09259533571813}"
      ]
     },
     "execution_count": 57,
     "metadata": {},
     "output_type": "execute_result"
    }
   ],
   "source": [
    "output"
   ]
  },
  {
   "cell_type": "markdown",
   "id": "c082968c",
   "metadata": {},
   "source": [
    "3) Pin check"
   ]
  },
  {
   "cell_type": "code",
   "execution_count": 59,
   "id": "24e61b41",
   "metadata": {},
   "outputs": [],
   "source": [
    "def pin_check(pin):\n",
    "    correct_pin = 2222\n",
    "    max_attempts = 3\n",
    "    attempts = 0\n",
    "    \n",
    "    while attempts<max_attempts:\n",
    "        if pin == correct_pin:\n",
    "            print('Pin accepted, access granted')\n",
    "            break\n",
    "        else:\n",
    "            attempts=attempts+1\n",
    "            print('Incorrect Pin, attempts remaining: ', max_attempts-attempts)\n",
    "            \n",
    "    if attempts==max_attempts:\n",
    "        print('Max attempts reached, access denied')    "
   ]
  },
  {
   "cell_type": "code",
   "execution_count": 60,
   "id": "13c450d5",
   "metadata": {},
   "outputs": [
    {
     "name": "stdout",
     "output_type": "stream",
     "text": [
      "Incorrect Pin, attempts remaining:  2\n",
      "Incorrect Pin, attempts remaining:  1\n",
      "Incorrect Pin, attempts remaining:  0\n",
      "Max attempts reached, access denied\n"
     ]
    }
   ],
   "source": [
    "pin_check(1111)"
   ]
  },
  {
   "cell_type": "code",
   "execution_count": 61,
   "id": "ed584ccd",
   "metadata": {},
   "outputs": [],
   "source": [
    "def pin_check():\n",
    "    correct_pin = 2222\n",
    "    max_attempts = 3\n",
    "    attempts = 0\n",
    "    \n",
    "    while attempts<max_attempts:\n",
    "        pin = int(input('Enter your pin: '))\n",
    "        if pin == correct_pin:\n",
    "            print('Pin accepted, access granted')\n",
    "            break\n",
    "        else:\n",
    "            attempts=attempts+1\n",
    "            print('Incorrect Pin, attempts remaining: ', max_attempts-attempts)\n",
    "            \n",
    "    if attempts==max_attempts:\n",
    "        print('Max attempts reached, access denied')    "
   ]
  },
  {
   "cell_type": "code",
   "execution_count": 62,
   "id": "a58cbe13",
   "metadata": {},
   "outputs": [
    {
     "name": "stdout",
     "output_type": "stream",
     "text": [
      "Enter your pin: 1111\n",
      "Incorrect Pin, attempts remaining:  2\n",
      "Enter your pin: 2222\n",
      "Pin accepted, access granted\n"
     ]
    }
   ],
   "source": [
    "pin_check()"
   ]
  },
  {
   "cell_type": "markdown",
   "id": "b0e0a638",
   "metadata": {},
   "source": [
    "**Calling the values from the inside of the function**"
   ]
  },
  {
   "cell_type": "code",
   "execution_count": 68,
   "id": "150e8f6a",
   "metadata": {},
   "outputs": [],
   "source": [
    "def calculator():\n",
    "    '''In this function the valid operation values are sum,sub,mul,div and \n",
    "    the default value is all'''\n",
    "    num1 = int(input('Enter the number 1: '))\n",
    "    num2 = int(input('Enter the number 2: '))\n",
    "    operation = input('Enter the operation you want: ')\n",
    "    if operation.lower()=='all':\n",
    "        return num1+num2, num1-num2, num1*num2, num1/num2\n",
    "    elif operation.lower()=='sum':\n",
    "        return num1+num2\n",
    "    elif operation.lower()=='sub':\n",
    "        return num1-num2\n",
    "    elif operation.lower()=='mul':\n",
    "        return num1*num2\n",
    "    elif operation.lower()=='div':\n",
    "        return num1/num2\n",
    "    else:\n",
    "        return 'Please pass the valid option'"
   ]
  },
  {
   "cell_type": "code",
   "execution_count": 69,
   "id": "726a288a",
   "metadata": {},
   "outputs": [
    {
     "name": "stdout",
     "output_type": "stream",
     "text": [
      "Enter the number 1: 10\n",
      "Enter the number 2: 2\n",
      "Enter the operation you want: all\n"
     ]
    },
    {
     "data": {
      "text/plain": [
       "(12, 8, 20, 5.0)"
      ]
     },
     "execution_count": 69,
     "metadata": {},
     "output_type": "execute_result"
    }
   ],
   "source": [
    "calculator()"
   ]
  },
  {
   "cell_type": "markdown",
   "id": "c2ca256b",
   "metadata": {},
   "source": [
    "**Calling the values from the outside of the function**"
   ]
  },
  {
   "cell_type": "code",
   "execution_count": 71,
   "id": "a8821979",
   "metadata": {},
   "outputs": [],
   "source": [
    "def calculator(num1,num2,operation):\n",
    "    '''In this function the valid operation values are sum,sub,mul,div and \n",
    "    the default value is all'''\n",
    "    if operation.lower()=='all':\n",
    "        return num1+num2, num1-num2, num1*num2, num1/num2\n",
    "    elif operation.lower()=='sum':\n",
    "        return num1+num2\n",
    "    elif operation.lower()=='sub':\n",
    "        return num1-num2\n",
    "    elif operation.lower()=='mul':\n",
    "        return num1*num2\n",
    "    elif operation.lower()=='div':\n",
    "        return num1/num2\n",
    "    else:\n",
    "        return 'Please pass the valid option'"
   ]
  },
  {
   "cell_type": "code",
   "execution_count": 72,
   "id": "8188d330",
   "metadata": {},
   "outputs": [
    {
     "name": "stdout",
     "output_type": "stream",
     "text": [
      "Enter the number 1: 10\n",
      "Enter the number 2: 2\n",
      "Enter the operation you want: all\n"
     ]
    },
    {
     "data": {
      "text/plain": [
       "(12, 8, 20, 5.0)"
      ]
     },
     "execution_count": 72,
     "metadata": {},
     "output_type": "execute_result"
    }
   ],
   "source": [
    "num1 = int(input('Enter the number 1: '))\n",
    "num2 = int(input('Enter the number 2: '))\n",
    "operation = input('Enter the operation you want: ')\n",
    "calculator(num1,num2,operation)"
   ]
  },
  {
   "cell_type": "markdown",
   "id": "8b22279f",
   "metadata": {},
   "source": [
    "**Placement of default arguments** - Default arguments should always be at the end "
   ]
  },
  {
   "cell_type": "code",
   "execution_count": 76,
   "id": "12ed09ce",
   "metadata": {},
   "outputs": [],
   "source": [
    "def calculator(num2,num1=10,operation='all'):\n",
    "    '''In this function the valid operation values are sum,sub,mul,div and \n",
    "    the default value is all'''\n",
    "    if operation.lower()=='all':\n",
    "        return num1+num2, num1-num2, num1*num2, num1/num2\n",
    "    elif operation.lower()=='sum':\n",
    "        return num1+num2\n",
    "    elif operation.lower()=='sub':\n",
    "        return num1-num2\n",
    "    elif operation.lower()=='mul':\n",
    "        return num1*num2\n",
    "    elif operation.lower()=='div':\n",
    "        return num1/num2\n",
    "    else:\n",
    "        return 'Please pass the valid option'"
   ]
  },
  {
   "cell_type": "markdown",
   "id": "97121302",
   "metadata": {},
   "source": [
    "**Variable length Argument**"
   ]
  },
  {
   "cell_type": "code",
   "execution_count": 79,
   "id": "8f15658c",
   "metadata": {},
   "outputs": [],
   "source": [
    "def addition(num1,num2,num3):\n",
    "    print(num1+num2+num3)"
   ]
  },
  {
   "cell_type": "code",
   "execution_count": 80,
   "id": "284650c0",
   "metadata": {},
   "outputs": [
    {
     "name": "stdout",
     "output_type": "stream",
     "text": [
      "22\n"
     ]
    }
   ],
   "source": [
    "addition(10,2,10)"
   ]
  },
  {
   "cell_type": "markdown",
   "id": "b32615a2",
   "metadata": {},
   "source": [
    "(*) denotes variable length argument, whatever input user will pass that data will get stored internally in the form of a tuple"
   ]
  },
  {
   "cell_type": "code",
   "execution_count": 81,
   "id": "8d798731",
   "metadata": {},
   "outputs": [],
   "source": [
    "def addition(*args):\n",
    "    result = 0 \n",
    "    for i in args:\n",
    "        result = result+i\n",
    "    print(result)"
   ]
  },
  {
   "cell_type": "code",
   "execution_count": 83,
   "id": "2621a906",
   "metadata": {},
   "outputs": [
    {
     "name": "stdout",
     "output_type": "stream",
     "text": [
      "75\n"
     ]
    }
   ],
   "source": [
    "addition(10,2,3,4,5,6,7,8,9,8,7,6)"
   ]
  },
  {
   "cell_type": "markdown",
   "id": "85f373f6",
   "metadata": {},
   "source": [
    "Types of variables\n",
    "\n",
    "1) Global Variable: Any variable which we are declaring anywhere but not inside the function, we can access the global function from anywhere\n",
    "    \n",
    "2) Local Variable: Any variable which we are declaring inside the function, we cannot access the local variable outside the function"
   ]
  },
  {
   "cell_type": "code",
   "execution_count": 90,
   "id": "661237e0",
   "metadata": {},
   "outputs": [
    {
     "name": "stdout",
     "output_type": "stream",
     "text": [
      "200\n",
      "200\n"
     ]
    }
   ],
   "source": [
    "a = 1000\n",
    "\n",
    "def f1():\n",
    "    global a\n",
    "    a = 200\n",
    "    print(a)\n",
    "    \n",
    "f1()\n",
    "\n",
    "def f2():\n",
    "    print(a)\n",
    "    \n",
    "f2()"
   ]
  },
  {
   "cell_type": "markdown",
   "id": "1a016377",
   "metadata": {},
   "source": [
    "**Banking Application**"
   ]
  },
  {
   "cell_type": "code",
   "execution_count": 113,
   "id": "baee9195",
   "metadata": {},
   "outputs": [],
   "source": [
    "def create_account(account_number):\n",
    "    return {'account number': account_number, 'balance':0}\n",
    "\n",
    "\n",
    "def deposit(account, amount):\n",
    "    if amount<=0:\n",
    "        return 'Invalid deposit amount, amount must be positive'\n",
    "    else:\n",
    "        account['balance'] = account['balance'] + amount\n",
    "        print('The amount deposited successfully', amount)\n",
    "        \n",
    "def withdraw(account,amount):\n",
    "    if amount<=0:\n",
    "        return 'Invalud withdraw amount, amount must be positive'\n",
    "    elif amount>account['balance']:\n",
    "        return 'Insufficient funds'\n",
    "    else:\n",
    "        account['balance'] = account['balance']-amount\n",
    "        print('The amount withdrew successfully',amount)"
   ]
  },
  {
   "cell_type": "code",
   "execution_count": 107,
   "id": "928e455c",
   "metadata": {},
   "outputs": [],
   "source": [
    "def main():\n",
    "    account_number = input('Enter the account number: ')\n",
    "    account = create_account(account_number)\n",
    "    while True:\n",
    "        print('\\n1. Deposit\\n2. Withdraw\\n3. Exit')\n",
    "        choice = input('Enter your choice (1/2/3): ')\n",
    "        if choice=='1':\n",
    "            amount = float(input('Enter the amount for deposit: '))\n",
    "            deposit(account,amount)\n",
    "        elif choice=='2':\n",
    "            amount = float(input('Enter the amount for withdraw: '))\n",
    "            withdraw(account,amount)\n",
    "        elif choice=='3':\n",
    "            print('Thank you for banking with us, have a nice day!!')\n",
    "            break\n",
    "        else:\n",
    "            print('Invalid choice, please try again')\n",
    "            "
   ]
  },
  {
   "cell_type": "code",
   "execution_count": 114,
   "id": "9ca18ed8",
   "metadata": {},
   "outputs": [
    {
     "name": "stdout",
     "output_type": "stream",
     "text": [
      "Enter the account number: 1234\n",
      "\n",
      "1. Deposit\n",
      "2. Withdraw\n",
      "3. Exit\n",
      "Enter your choice (1/2/3): 1\n",
      "Enter the amount for deposit: 10000\n",
      "The amount deposited successfully 10000.0\n",
      "\n",
      "1. Deposit\n",
      "2. Withdraw\n",
      "3. Exit\n",
      "Enter your choice (1/2/3): 2\n",
      "Enter the amount for withdraw: 5000\n",
      "The amount withdrew successfully 5000.0\n",
      "\n",
      "1. Deposit\n",
      "2. Withdraw\n",
      "3. Exit\n",
      "Enter your choice (1/2/3): 3\n",
      "Thank you for banking with us, have a nice day!!\n"
     ]
    }
   ],
   "source": [
    "main()"
   ]
  },
  {
   "cell_type": "markdown",
   "id": "927c6148",
   "metadata": {},
   "source": [
    "**The End**"
   ]
  }
 ],
 "metadata": {
  "kernelspec": {
   "display_name": "Python 3 (ipykernel)",
   "language": "python",
   "name": "python3"
  },
  "language_info": {
   "codemirror_mode": {
    "name": "ipython",
    "version": 3
   },
   "file_extension": ".py",
   "mimetype": "text/x-python",
   "name": "python",
   "nbconvert_exporter": "python",
   "pygments_lexer": "ipython3",
   "version": "3.11.5"
  }
 },
 "nbformat": 4,
 "nbformat_minor": 5
}
