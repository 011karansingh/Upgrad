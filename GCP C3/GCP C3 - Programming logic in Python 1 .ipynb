{
 "cells": [
  {
   "cell_type": "markdown",
   "id": "1ab4dcd8",
   "metadata": {},
   "source": [
    "# Flow Control"
   ]
  },
  {
   "cell_type": "markdown",
   "id": "f402cc2d",
   "metadata": {},
   "source": [
    "**If and Else** - Based on the satisfying conditions we can get the output \n",
    "\n",
    "if condition:\n",
    "\n",
    "\n",
    "    Perform the task if the above condition is satisfied\n",
    "else:\n",
    "    \n",
    "    Perform the task if the above else condition is statisfied"
   ]
  },
  {
   "cell_type": "code",
   "execution_count": 7,
   "id": "c3807bc1",
   "metadata": {},
   "outputs": [
    {
     "name": "stdout",
     "output_type": "stream",
     "text": [
      "Enter the marks: 45\n",
      "You passed the exam\n",
      "Hello\n"
     ]
    }
   ],
   "source": [
    "marks = int(input('Enter the marks: '))\n",
    "if marks<40:\n",
    "    print('You failed the exam')\n",
    "    print('Hi')\n",
    "else:\n",
    "    print('You passed the exam')\n",
    "print('Hello')"
   ]
  },
  {
   "cell_type": "code",
   "execution_count": 10,
   "id": "17026dab",
   "metadata": {},
   "outputs": [
    {
     "name": "stdout",
     "output_type": "stream",
     "text": [
      "Enter the marks: 67\n",
      "You got an excellent marks\n"
     ]
    }
   ],
   "source": [
    "marks = int(input('Enter the marks: '))\n",
    "if marks<40:\n",
    "    print('You failed the exam')\n",
    "elif marks>=40 and marks<=60:\n",
    "    print('You got an average marks')\n",
    "else:\n",
    "    print('You got an excellent marks')"
   ]
  },
  {
   "cell_type": "markdown",
   "id": "40ff77a4",
   "metadata": {},
   "source": [
    "**Calculate the tax of an employee**"
   ]
  },
  {
   "cell_type": "code",
   "execution_count": 15,
   "id": "ade9f137",
   "metadata": {},
   "outputs": [
    {
     "name": "stdout",
     "output_type": "stream",
     "text": [
      "Enter the salary: 20000\n",
      "The total tax amount you have to pay is:  4000.0\n"
     ]
    }
   ],
   "source": [
    "salary = int(input('Enter the salary: '))\n",
    "if salary<=2500:\n",
    "    print('The total tax amount you have to pay is: ', salary*0)\n",
    "elif salary>2500 and salary<=5000:\n",
    "    print('The total tax amount you have to pay is: ', salary*0.05)\n",
    "elif salary>5000 and salary<=10000:\n",
    "    print('The total tax amount you have to pay is: ', salary*0.10)\n",
    "elif salary>10000 and salary<=15000:\n",
    "    print('The total tax amount you have to pay is: ', salary*0.15)\n",
    "else:\n",
    "    print('The total tax amount you have to pay is: ', salary*0.20)"
   ]
  },
  {
   "cell_type": "markdown",
   "id": "5bbbcbbe",
   "metadata": {},
   "source": [
    "**Transaction Fee Calculator - Nested If else**"
   ]
  },
  {
   "cell_type": "code",
   "execution_count": 24,
   "id": "111ef9d6",
   "metadata": {},
   "outputs": [
    {
     "name": "stdout",
     "output_type": "stream",
     "text": [
      "What type of transaction you want to do: Rahul\n",
      "What is the transaction amount: 10000\n",
      "Please pass the correct option\n",
      "Total Amount:  10000\n"
     ]
    }
   ],
   "source": [
    "Transaction_Type = input('What type of transaction you want to do: ')\n",
    "Transaction_Amount = int(input('What is the transaction amount: '))\n",
    "if Transaction_Type.lower()== 'withdraw':\n",
    "    if Transaction_Amount<1000:\n",
    "        Transaction_Fee = 2\n",
    "    elif Transaction_Amount>=1000:\n",
    "        Transaction_Fee = 5\n",
    "elif Transaction_Type.lower()=='deposit':\n",
    "    Transaction_Fee = 0 \n",
    "else:\n",
    "    print('Please pass the correct option')\n",
    "\n",
    "Total_Amount = Transaction_Amount+Transaction_Fee\n",
    "print('Total Amount: ', Total_Amount)"
   ]
  },
  {
   "cell_type": "markdown",
   "id": "e467d3c6",
   "metadata": {},
   "source": [
    "**For Loops** - When you want to iterate on something i.e. Lists, Tuples, Sets, Strings, Arrays and so on..\n",
    "\n",
    "In the for loop we are aware how many times the loop will run"
   ]
  },
  {
   "cell_type": "code",
   "execution_count": null,
   "id": "d28c90ee",
   "metadata": {},
   "outputs": [],
   "source": [
    "for i in something: \n",
    "    getoutput"
   ]
  },
  {
   "cell_type": "code",
   "execution_count": 25,
   "id": "229897c7",
   "metadata": {},
   "outputs": [
    {
     "name": "stdout",
     "output_type": "stream",
     "text": [
      "U\n",
      "p\n",
      "g\n",
      "r\n",
      "a\n",
      "d\n"
     ]
    }
   ],
   "source": [
    "company = 'Upgrad'\n",
    "for i in company:\n",
    "    print(i)"
   ]
  },
  {
   "cell_type": "code",
   "execution_count": 38,
   "id": "99ba8753",
   "metadata": {},
   "outputs": [
    {
     "name": "stdout",
     "output_type": "stream",
     "text": [
      "0.12854661262304573\n",
      "0.067673540516991\n",
      "0.19074153450492928\n",
      "0.15054249547920434\n"
     ]
    }
   ],
   "source": [
    "sales = [3454,3443,2333,2212]\n",
    "profit = [444,233,445,333]\n",
    "for i in range(0,len(sales)):\n",
    "    print(profit[i]/sales[i])"
   ]
  },
  {
   "cell_type": "code",
   "execution_count": 34,
   "id": "cdc87a09",
   "metadata": {},
   "outputs": [
    {
     "data": {
      "text/plain": [
       "[10, 9, 8, 7, 6, 5]"
      ]
     },
     "execution_count": 34,
     "metadata": {},
     "output_type": "execute_result"
    }
   ],
   "source": [
    "list(range(10,4,-1))"
   ]
  },
  {
   "cell_type": "code",
   "execution_count": 37,
   "id": "8074fc4c",
   "metadata": {},
   "outputs": [
    {
     "data": {
      "text/plain": [
       "[0, 1, 2, 3]"
      ]
     },
     "execution_count": 37,
     "metadata": {},
     "output_type": "execute_result"
    }
   ],
   "source": [
    "list(range(0,len(sales)))"
   ]
  },
  {
   "cell_type": "code",
   "execution_count": 42,
   "id": "af4770d9",
   "metadata": {},
   "outputs": [
    {
     "name": "stdout",
     "output_type": "stream",
     "text": [
      "Deposit:  50\n",
      "Withdraw:  20\n",
      "Deposit:  100\n",
      "Withdraw:  30\n",
      "Withdraw:  10\n"
     ]
    }
   ],
   "source": [
    "Transaction_History = [50, -20, 100, -30, -10]\n",
    "\n",
    "for i in Transaction_History:\n",
    "    if i>0:\n",
    "        print('Deposit: ', i)\n",
    "    else:\n",
    "        print('Withdraw: ', abs(i))"
   ]
  },
  {
   "cell_type": "code",
   "execution_count": 44,
   "id": "f6cebe81",
   "metadata": {},
   "outputs": [
    {
     "name": "stdout",
     "output_type": "stream",
     "text": [
      "6500\n"
     ]
    }
   ],
   "source": [
    "Account_balance = [1000,2000,-2500,1000,4000,-5000,6000]\n",
    "\n",
    "Total_Balance = 0 \n",
    "for i in Account_balance:\n",
    "    Total_Balance = Total_Balance+i\n",
    "print(Total_Balance)"
   ]
  },
  {
   "cell_type": "code",
   "execution_count": 46,
   "id": "cb667289",
   "metadata": {},
   "outputs": [
    {
     "name": "stdout",
     "output_type": "stream",
     "text": [
      "Updated account Balance:  [1050.0, 2100.0, 1050.0, 4200.0, 6300.0]\n"
     ]
    }
   ],
   "source": [
    "Account_balance = [1000,2000,1000,4000,6000]\n",
    "Interest_Rate = 0.05\n",
    "\n",
    "for i in range(len(Account_balance)):\n",
    "    interest = Interest_Rate*Account_balance[i]\n",
    "    Account_balance[i] = Account_balance[i]+interest\n",
    "\n",
    "print('Updated account Balance: ', Account_balance)"
   ]
  },
  {
   "cell_type": "code",
   "execution_count": 48,
   "id": "22b2a568",
   "metadata": {},
   "outputs": [
    {
     "name": "stdout",
     "output_type": "stream",
     "text": [
      "Enter the account to close: 901234\n",
      "Closing the account:  901234\n",
      "Remaining accounts:  [123456, 345678, 789012]\n"
     ]
    }
   ],
   "source": [
    "Account_Numbers = [123456, 345678, 789012, 901234]\n",
    "account_to_close = int(input('Enter the account to close: ')) \n",
    "\n",
    "for i in Account_Numbers:\n",
    "    if i==account_to_close:\n",
    "        print('Closing the account: ', i)\n",
    "        Account_Numbers.remove(i)\n",
    "        break\n",
    "print('Remaining accounts: ', Account_Numbers)"
   ]
  },
  {
   "cell_type": "code",
   "execution_count": 49,
   "id": "1b7250fa",
   "metadata": {},
   "outputs": [],
   "source": [
    "account_transactions = [{'date':'2023-07-01', 'type':'Deposit', 'amount': 100},\n",
    "                        {'date':'2023-07-02', 'type':'Withdraw', 'amount': 50},\n",
    "                        {'date':'2023-07-03', 'type':'Deposit', 'amount': 200},\n",
    "                        {'date':'2023-07-04', 'type':'Withdraw', 'amount': 75}]"
   ]
  },
  {
   "cell_type": "code",
   "execution_count": 54,
   "id": "84465ec6",
   "metadata": {},
   "outputs": [
    {
     "name": "stdout",
     "output_type": "stream",
     "text": [
      "Account Statement\n",
      "2023-07-01 - Deposit - 100\n",
      "2023-07-02 - Withdraw - 50\n",
      "2023-07-03 - Deposit - 200\n",
      "2023-07-04 - Withdraw - 75\n"
     ]
    }
   ],
   "source": [
    "print('Account Statement')\n",
    "for i in account_transactions:\n",
    "    print(i['date'], \"-\", i['type'], \"-\", i['amount'])"
   ]
  },
  {
   "cell_type": "code",
   "execution_count": 55,
   "id": "ce90dc31",
   "metadata": {},
   "outputs": [],
   "source": [
    "transaction_date = ['2023-07-01', '2023-07-02', '2023-07-03', '2023-07-04']\n",
    "transaction_type = ['Deposit', 'Withdraw', 'Deposit', 'Withdraw']\n",
    "transaction_amount = [100,50,200,75]"
   ]
  },
  {
   "cell_type": "code",
   "execution_count": 56,
   "id": "87a5d034",
   "metadata": {},
   "outputs": [
    {
     "name": "stdout",
     "output_type": "stream",
     "text": [
      "2023-07-01 - Deposit - 100\n",
      "2023-07-02 - Withdraw - 50\n",
      "2023-07-03 - Deposit - 200\n",
      "2023-07-04 - Withdraw - 75\n"
     ]
    }
   ],
   "source": [
    "for (td,tt,ta) in zip(transaction_date,transaction_type,transaction_amount):\n",
    "    print(td,'-',tt,'-',ta)"
   ]
  },
  {
   "cell_type": "markdown",
   "id": "d8d6830c",
   "metadata": {},
   "source": [
    "**While Loops** - The loop will run till the time the condition is satisfied"
   ]
  },
  {
   "cell_type": "code",
   "execution_count": null,
   "id": "2fbf11de",
   "metadata": {},
   "outputs": [],
   "source": [
    "while condition:\n",
    "    getoutput"
   ]
  },
  {
   "cell_type": "code",
   "execution_count": 57,
   "id": "5f16aba9",
   "metadata": {},
   "outputs": [],
   "source": [
    "while 1==2:\n",
    "    print('Hi')"
   ]
  },
  {
   "cell_type": "code",
   "execution_count": null,
   "id": "72164935",
   "metadata": {},
   "outputs": [],
   "source": [
    "#This will go to an infinite loop\n",
    "while 1==1:\n",
    "    print('Hi')"
   ]
  },
  {
   "cell_type": "code",
   "execution_count": 58,
   "id": "0858a987",
   "metadata": {},
   "outputs": [
    {
     "name": "stdout",
     "output_type": "stream",
     "text": [
      "There are total:  5 coupouns left\n",
      "There are total:  4 coupouns left\n",
      "There are total:  3 coupouns left\n",
      "There are total:  2 coupouns left\n",
      "There are total:  1 coupouns left\n",
      "There are no coupouns left\n"
     ]
    }
   ],
   "source": [
    "coupouns = 5\n",
    "utilized = 0 \n",
    "\n",
    "while utilized<coupouns:\n",
    "    print('There are total: ', coupouns-utilized, 'coupouns left')\n",
    "    utilized = utilized + 1\n",
    "print('There are no coupouns left')"
   ]
  },
  {
   "cell_type": "code",
   "execution_count": 62,
   "id": "d7bf5f52",
   "metadata": {},
   "outputs": [
    {
     "name": "stdout",
     "output_type": "stream",
     "text": [
      "Enter the number: 5\n",
      "120\n"
     ]
    }
   ],
   "source": [
    "number = int(input('Enter the number: '))\n",
    "\n",
    "if number<0:\n",
    "    print('There is no factorial of a negative number')\n",
    "else:\n",
    "    result = 1 \n",
    "    while number>=1:\n",
    "        result = result*number\n",
    "        number = number-1\n",
    "    print(result)"
   ]
  },
  {
   "cell_type": "code",
   "execution_count": 64,
   "id": "1258a070",
   "metadata": {},
   "outputs": [
    {
     "name": "stdout",
     "output_type": "stream",
     "text": [
      "Enter your pin: 1111\n",
      "Incorrect pin, attempts remaining:  2\n",
      "Enter your pin: 2212\n",
      "Incorrect pin, attempts remaining:  1\n",
      "Enter your pin: 0000\n",
      "Incorrect pin, attempts remaining:  0\n",
      "max attempts reached, access denied\n"
     ]
    }
   ],
   "source": [
    "correct_pin = 2222\n",
    "max_attempts = 3\n",
    "attempts_left = 0 \n",
    "\n",
    "while attempts_left<max_attempts:\n",
    "    pin = int(input('Enter your pin: '))\n",
    "    if pin==correct_pin:\n",
    "        print('Pin accepted, access granted')\n",
    "        break\n",
    "    else:\n",
    "        attempts_left=attempts_left+1\n",
    "        print('Incorrect pin, attempts remaining: ', max_attempts-attempts_left)\n",
    "        \n",
    "if attempts_left==max_attempts:\n",
    "    print('max attempts reached, access denied')"
   ]
  },
  {
   "cell_type": "code",
   "execution_count": 96,
   "id": "2423b01c",
   "metadata": {},
   "outputs": [
    {
     "name": "stdout",
     "output_type": "stream",
     "text": [
      "Account Created successfully, account number:  6\n",
      "Account Created successfully, account number:  [1, 5, 7, 9, 6]\n"
     ]
    }
   ],
   "source": [
    "import random\n",
    "existing_account_numbers = [1,5,7,9]\n",
    "new_account_number = random.randint(1,9)\n",
    "\n",
    "while new_account_number in existing_account_numbers:\n",
    "    new_account_number = random.randint(1,9)\n",
    "    \n",
    "existing_account_numbers.append(new_account_number)\n",
    "print('Account Created successfully, account number: ', new_account_number)\n",
    "print('Account Created successfully, account number: ', existing_account_numbers)"
   ]
  },
  {
   "cell_type": "code",
   "execution_count": 102,
   "id": "522fbc80",
   "metadata": {},
   "outputs": [
    {
     "name": "stdout",
     "output_type": "stream",
     "text": [
      "Enter the amount you need to invest: 500000\n",
      "Enter the interest rate: 0.10\n",
      "Enter the total months for which you want to invest: 48\n",
      "Final account balance:  48508616.8924361 after  48 months\n"
     ]
    }
   ],
   "source": [
    "investment_amount = int(input('Enter the amount you need to invest: '))\n",
    "interest_rate = float(input('Enter the interest rate: '))\n",
    "duration = int(input('Enter the total months for which you want to invest: '))\n",
    "final_duration = duration\n",
    "while duration>=1:\n",
    "    interest = investment_amount * interest_rate\n",
    "    investment_amount = investment_amount + interest\n",
    "    duration = duration-1\n",
    "    \n",
    "print('Final account balance: ', investment_amount, 'after ', final_duration, 'months')"
   ]
  },
  {
   "cell_type": "markdown",
   "id": "a47c0493",
   "metadata": {},
   "source": [
    "# **The End**"
   ]
  }
 ],
 "metadata": {
  "kernelspec": {
   "display_name": "Python 3 (ipykernel)",
   "language": "python",
   "name": "python3"
  },
  "language_info": {
   "codemirror_mode": {
    "name": "ipython",
    "version": 3
   },
   "file_extension": ".py",
   "mimetype": "text/x-python",
   "name": "python",
   "nbconvert_exporter": "python",
   "pygments_lexer": "ipython3",
   "version": "3.11.5"
  }
 },
 "nbformat": 4,
 "nbformat_minor": 5
}
