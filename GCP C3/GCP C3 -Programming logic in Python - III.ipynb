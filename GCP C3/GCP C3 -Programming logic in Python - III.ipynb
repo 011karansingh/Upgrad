{
 "cells": [
  {
   "cell_type": "markdown",
   "id": "3fd19813",
   "metadata": {},
   "source": [
    "# Lambda Functions"
   ]
  },
  {
   "cell_type": "markdown",
   "id": "50cae3a1",
   "metadata": {},
   "source": [
    "Name less function, Anonymous Function, Without name functions\n",
    "\n",
    "Lambda function we use to create the simple logics "
   ]
  },
  {
   "cell_type": "code",
   "execution_count": 2,
   "id": "66c35841",
   "metadata": {},
   "outputs": [],
   "source": [
    "def square(num):\n",
    "    print(num*num)"
   ]
  },
  {
   "cell_type": "code",
   "execution_count": 3,
   "id": "7b1f2908",
   "metadata": {},
   "outputs": [
    {
     "name": "stdout",
     "output_type": "stream",
     "text": [
      "100\n"
     ]
    }
   ],
   "source": [
    "square(10)"
   ]
  },
  {
   "cell_type": "markdown",
   "id": "0ecc4c0f",
   "metadata": {},
   "source": [
    "**Any variable present before the : is an input and any variable present after the : is the output**"
   ]
  },
  {
   "cell_type": "markdown",
   "id": "28275fbe",
   "metadata": {},
   "source": [
    "In the below we are not giving the name to the function we are assigning the function to a variable"
   ]
  },
  {
   "cell_type": "code",
   "execution_count": 5,
   "id": "3f9101ce",
   "metadata": {},
   "outputs": [],
   "source": [
    "sq = lambda num:num*num"
   ]
  },
  {
   "cell_type": "code",
   "execution_count": 6,
   "id": "080d3f93",
   "metadata": {},
   "outputs": [
    {
     "data": {
      "text/plain": [
       "100"
      ]
     },
     "execution_count": 6,
     "metadata": {},
     "output_type": "execute_result"
    }
   ],
   "source": [
    "sq(10)"
   ]
  },
  {
   "cell_type": "code",
   "execution_count": 8,
   "id": "fbbf9e1a",
   "metadata": {},
   "outputs": [],
   "source": [
    "addition = lambda num1,num2:num1+num2"
   ]
  },
  {
   "cell_type": "code",
   "execution_count": 9,
   "id": "ae31cab4",
   "metadata": {},
   "outputs": [
    {
     "data": {
      "text/plain": [
       "30"
      ]
     },
     "execution_count": 9,
     "metadata": {},
     "output_type": "execute_result"
    }
   ],
   "source": [
    "addition(10,20)"
   ]
  },
  {
   "cell_type": "code",
   "execution_count": 11,
   "id": "e867ea7a",
   "metadata": {},
   "outputs": [
    {
     "data": {
      "text/plain": [
       "100.0"
      ]
     },
     "execution_count": 11,
     "metadata": {},
     "output_type": "execute_result"
    }
   ],
   "source": [
    "interest_calc = lambda amount,rate : amount*rate\n",
    "interest_calc(1000,0.10)"
   ]
  },
  {
   "cell_type": "code",
   "execution_count": 12,
   "id": "059e35c2",
   "metadata": {},
   "outputs": [],
   "source": [
    "calculation_fee = lambda amount : 5 if amount>1000 else 2"
   ]
  },
  {
   "cell_type": "code",
   "execution_count": 14,
   "id": "4a030aab",
   "metadata": {},
   "outputs": [
    {
     "data": {
      "text/plain": [
       "5"
      ]
     },
     "execution_count": 14,
     "metadata": {},
     "output_type": "execute_result"
    }
   ],
   "source": [
    "calculation_fee(5000)"
   ]
  },
  {
   "cell_type": "code",
   "execution_count": 19,
   "id": "d03130ad",
   "metadata": {},
   "outputs": [],
   "source": [
    "accounts = [{'account_number':1234, 'balance':5000},\n",
    "            {'account_number':4321, 'balance':2000},\n",
    "            {'account_number':2222, 'balance':6000},\n",
    "            {'account_number':1111, 'balance':0},\n",
    "            {'account_number':2210, 'balance':10000},\n",
    "            {'account_number':2013, 'balance':3000}]"
   ]
  },
  {
   "cell_type": "code",
   "execution_count": 24,
   "id": "cdd9b0f7",
   "metadata": {},
   "outputs": [],
   "source": [
    "accounts.sort(key=lambda acc:acc['balance'])"
   ]
  },
  {
   "cell_type": "code",
   "execution_count": 23,
   "id": "a872440c",
   "metadata": {},
   "outputs": [
    {
     "data": {
      "text/plain": [
       "[{'account_number': 1111, 'balance': 0},\n",
       " {'account_number': 4321, 'balance': 2000},\n",
       " {'account_number': 2013, 'balance': 3000},\n",
       " {'account_number': 1234, 'balance': 5000},\n",
       " {'account_number': 2222, 'balance': 6000},\n",
       " {'account_number': 2210, 'balance': 10000}]"
      ]
     },
     "execution_count": 23,
     "metadata": {},
     "output_type": "execute_result"
    }
   ],
   "source": [
    "accounts"
   ]
  },
  {
   "cell_type": "code",
   "execution_count": 26,
   "id": "ba0af885",
   "metadata": {},
   "outputs": [
    {
     "data": {
      "text/plain": [
       "7000"
      ]
     },
     "execution_count": 26,
     "metadata": {},
     "output_type": "execute_result"
    }
   ],
   "source": [
    "account_balance = [5000,4000,2000,1000,7000]\n",
    "max(account_balance, key=lambda balance:balance)"
   ]
  },
  {
   "cell_type": "markdown",
   "id": "c83161c0",
   "metadata": {},
   "source": [
    "# Nested Function"
   ]
  },
  {
   "cell_type": "code",
   "execution_count": 29,
   "id": "06da0d90",
   "metadata": {},
   "outputs": [
    {
     "name": "stdout",
     "output_type": "stream",
     "text": [
      "Outer function is running\n",
      "Inner function is running\n"
     ]
    }
   ],
   "source": [
    "def outer():\n",
    "    print('Outer function is running')\n",
    "    def inner():\n",
    "        print('Inner function is running')\n",
    "    inner()\n",
    "        \n",
    "outer()"
   ]
  },
  {
   "cell_type": "code",
   "execution_count": 33,
   "id": "546732ce",
   "metadata": {},
   "outputs": [],
   "source": [
    "def calculator():\n",
    "    def add(num1,num2):\n",
    "        return num1 + num2\n",
    "    def sub(num1,num2):\n",
    "        return num1 - num2\n",
    "    def mul(num1,num2):\n",
    "        return num1 * num2\n",
    "    def div(num1,num2):\n",
    "        return num1/num2\n",
    "    \n",
    "    num1 = 10\n",
    "    num2 = 2\n",
    "    print('Addition: ', add(num1,num2))\n",
    "    print('Subtraction: ', sub(num1,num2))\n",
    "    print('multiplication: ', mul(num1,num2))\n",
    "    print('division: ', div(num1,num2))"
   ]
  },
  {
   "cell_type": "code",
   "execution_count": 34,
   "id": "34f9e3a5",
   "metadata": {},
   "outputs": [
    {
     "name": "stdout",
     "output_type": "stream",
     "text": [
      "Addition:  12\n",
      "Subtraction:  8\n",
      "multiplication:  20\n",
      "division:  5.0\n"
     ]
    }
   ],
   "source": [
    "calculator()"
   ]
  },
  {
   "cell_type": "code",
   "execution_count": 35,
   "id": "d2a34c40",
   "metadata": {},
   "outputs": [],
   "source": [
    "def calculator(num1,num2):\n",
    "    def add(num1,num2):\n",
    "        return num1 + num2\n",
    "    def sub(num1,num2):\n",
    "        return num1 - num2\n",
    "    def mul(num1,num2):\n",
    "        return num1 * num2\n",
    "    def div(num1,num2):\n",
    "        return num1/num2\n",
    "    \n",
    "\n",
    "    print('Addition: ', add(num1,num2))\n",
    "    print('Subtraction: ', sub(num1,num2))\n",
    "    print('multiplication: ', mul(num1,num2))\n",
    "    print('division: ', div(num1,num2))"
   ]
  },
  {
   "cell_type": "code",
   "execution_count": 36,
   "id": "c79a7903",
   "metadata": {},
   "outputs": [
    {
     "name": "stdout",
     "output_type": "stream",
     "text": [
      "Addition:  12\n",
      "Subtraction:  8\n",
      "multiplication:  20\n",
      "division:  5.0\n"
     ]
    }
   ],
   "source": [
    "calculator(10,2)"
   ]
  },
  {
   "cell_type": "code",
   "execution_count": 38,
   "id": "1fb4f975",
   "metadata": {},
   "outputs": [
    {
     "name": "stdout",
     "output_type": "stream",
     "text": [
      "You are eligible for voting\n"
     ]
    }
   ],
   "source": [
    "def check_voting_eligibility(age):\n",
    "    def is_eligible():\n",
    "        return age>=18\n",
    "    \n",
    "    if is_eligible():\n",
    "        print('You are eligible for voting')\n",
    "    else:\n",
    "        print('You are not eligible for voting')\n",
    "        \n",
    "check_voting_eligibility(35)"
   ]
  },
  {
   "cell_type": "code",
   "execution_count": 39,
   "id": "441d354f",
   "metadata": {},
   "outputs": [],
   "source": [
    "def currency_convertor(amount,rate):\n",
    "    def apply_conversion():\n",
    "        return amount * rate\n",
    "    converted_currency = apply_conversion()\n",
    "    print('Converted amount: ', converted_currency)"
   ]
  },
  {
   "cell_type": "code",
   "execution_count": 40,
   "id": "e32b3aa0",
   "metadata": {},
   "outputs": [
    {
     "name": "stdout",
     "output_type": "stream",
     "text": [
      "Converted amount:  81000\n"
     ]
    }
   ],
   "source": [
    "currency_convertor(1000,81)"
   ]
  },
  {
   "cell_type": "code",
   "execution_count": 115,
   "id": "6e3a5cdb",
   "metadata": {},
   "outputs": [],
   "source": [
    "import random\n",
    "\n",
    "def generate_captcha():\n",
    "    def generate_captcha_digits():\n",
    "        return random.randint(0,9)\n",
    "    \n",
    "    def generate_captcha_letter():\n",
    "        return chr(random.randint(97,122))\n",
    "    \n",
    "    captcha = \"\"\n",
    "    for i in range(0,6):\n",
    "        if random.choice(['Number','Alphabet']) == 'Number':\n",
    "            captcha = captcha+str(generate_captcha_digits())\n",
    "        else:\n",
    "            captcha = captcha+generate_captcha_letter()\n",
    "            \n",
    "    print('Generated Captcha: ', captcha)"
   ]
  },
  {
   "cell_type": "code",
   "execution_count": 157,
   "id": "60fd1b93",
   "metadata": {},
   "outputs": [
    {
     "name": "stdout",
     "output_type": "stream",
     "text": [
      "Generated Captcha:  t1m288\n"
     ]
    }
   ],
   "source": [
    "generate_captcha()"
   ]
  },
  {
   "cell_type": "code",
   "execution_count": 52,
   "id": "fe6f6a66",
   "metadata": {},
   "outputs": [
    {
     "data": {
      "text/plain": [
       "6"
      ]
     },
     "execution_count": 52,
     "metadata": {},
     "output_type": "execute_result"
    }
   ],
   "source": [
    "import random\n",
    "random.randint(0,9)"
   ]
  },
  {
   "cell_type": "code",
   "execution_count": 55,
   "id": "b3e613dc",
   "metadata": {},
   "outputs": [
    {
     "data": {
      "text/plain": [
       "'i'"
      ]
     },
     "execution_count": 55,
     "metadata": {},
     "output_type": "execute_result"
    }
   ],
   "source": [
    "chr(random.randint(97,122))"
   ]
  },
  {
   "cell_type": "code",
   "execution_count": 113,
   "id": "848533b9",
   "metadata": {},
   "outputs": [
    {
     "data": {
      "text/plain": [
       "'Hyundai'"
      ]
     },
     "execution_count": 113,
     "metadata": {},
     "output_type": "execute_result"
    }
   ],
   "source": [
    "random.choice(['Kia','Hyundai','Honda','Maruti'])"
   ]
  },
  {
   "cell_type": "code",
   "execution_count": 158,
   "id": "149b6201",
   "metadata": {},
   "outputs": [],
   "source": [
    "list1 = ['Kia','Hyundai','Honda','Maruti']\n",
    "list2 = []\n",
    "for i in list1:\n",
    "    list2.append(len(i))"
   ]
  },
  {
   "cell_type": "code",
   "execution_count": 159,
   "id": "ddbde23f",
   "metadata": {},
   "outputs": [
    {
     "data": {
      "text/plain": [
       "[3, 7, 5, 6]"
      ]
     },
     "execution_count": 159,
     "metadata": {},
     "output_type": "execute_result"
    }
   ],
   "source": [
    "list2"
   ]
  },
  {
   "cell_type": "code",
   "execution_count": 160,
   "id": "de793c90",
   "metadata": {},
   "outputs": [],
   "source": [
    "l2 = [len(i) for i in list1]"
   ]
  },
  {
   "cell_type": "code",
   "execution_count": 161,
   "id": "f3b160ae",
   "metadata": {},
   "outputs": [
    {
     "data": {
      "text/plain": [
       "[3, 7, 5, 6]"
      ]
     },
     "execution_count": 161,
     "metadata": {},
     "output_type": "execute_result"
    }
   ],
   "source": [
    "l2"
   ]
  },
  {
   "cell_type": "code",
   "execution_count": 162,
   "id": "4df6182b",
   "metadata": {},
   "outputs": [],
   "source": [
    "d1 = {i : len(i) for i in list1}"
   ]
  },
  {
   "cell_type": "code",
   "execution_count": 163,
   "id": "ea375f6a",
   "metadata": {},
   "outputs": [
    {
     "data": {
      "text/plain": [
       "{'Kia': 3, 'Hyundai': 7, 'Honda': 5, 'Maruti': 6}"
      ]
     },
     "execution_count": 163,
     "metadata": {},
     "output_type": "execute_result"
    }
   ],
   "source": [
    "d1"
   ]
  },
  {
   "cell_type": "markdown",
   "id": "64eb6a00",
   "metadata": {},
   "source": [
    "**Filter()** - filter(function, list) - It will take two inputs one is the UDF (User defined function) and second is one list, or tuple, or set. If we are passing lets say 5 values it will give me 5 or less than 5 values. \n",
    "\n",
    "\n",
    "**Map()** - map(function,list) - It will take two inputs one is the UDF and other is the list, tuple, set. If we pass 5 values in the map function it will always return 5 values\n",
    "\n",
    "\n",
    "**Reduce()** - reduce(function, list) - It will take two inputs one is the UDF and other is the list, tuple, set etc. If we pass 5 values in the reduce it will return 1 value"
   ]
  },
  {
   "cell_type": "code",
   "execution_count": 165,
   "id": "4f2b33f7",
   "metadata": {},
   "outputs": [
    {
     "data": {
      "text/plain": [
       "[10, 14, 16]"
      ]
     },
     "execution_count": 165,
     "metadata": {},
     "output_type": "execute_result"
    }
   ],
   "source": [
    "list_num = [10,11,14,21,23,25,16]\n",
    "\n",
    "list(filter(lambda x:x%2==0,list_num))"
   ]
  },
  {
   "cell_type": "code",
   "execution_count": 166,
   "id": "3f1dcba8",
   "metadata": {},
   "outputs": [
    {
     "data": {
      "text/plain": [
       "[{'account_number': 2222, 'balance': 6000},\n",
       " {'account_number': 2210, 'balance': 10000}]"
      ]
     },
     "execution_count": 166,
     "metadata": {},
     "output_type": "execute_result"
    }
   ],
   "source": [
    "accounts = [{'account_number':1234, 'balance':5000},\n",
    "            {'account_number':4321, 'balance':2000},\n",
    "            {'account_number':2222, 'balance':6000},\n",
    "            {'account_number':1111, 'balance':0},\n",
    "            {'account_number':2210, 'balance':10000},\n",
    "            {'account_number':2013, 'balance':3000}]\n",
    "\n",
    "list(filter(lambda acc:acc['balance']>5000, accounts))"
   ]
  },
  {
   "cell_type": "code",
   "execution_count": 167,
   "id": "082d5b66",
   "metadata": {},
   "outputs": [
    {
     "data": {
      "text/plain": [
       "[10, 11, 14, 21, 23, 25, 16]"
      ]
     },
     "execution_count": 167,
     "metadata": {},
     "output_type": "execute_result"
    }
   ],
   "source": [
    "list_num"
   ]
  },
  {
   "cell_type": "code",
   "execution_count": 170,
   "id": "252e4efe",
   "metadata": {},
   "outputs": [],
   "source": [
    "def double(x):\n",
    "    return 2*x"
   ]
  },
  {
   "cell_type": "code",
   "execution_count": 172,
   "id": "75ddc175",
   "metadata": {},
   "outputs": [
    {
     "data": {
      "text/plain": [
       "[20, 22, 28, 42, 46, 50, 32]"
      ]
     },
     "execution_count": 172,
     "metadata": {},
     "output_type": "execute_result"
    }
   ],
   "source": [
    "list(map(lambda x:x*2,list_num))"
   ]
  },
  {
   "cell_type": "code",
   "execution_count": 171,
   "id": "965131fe",
   "metadata": {},
   "outputs": [
    {
     "data": {
      "text/plain": [
       "[20, 22, 28, 42, 46, 50, 32]"
      ]
     },
     "execution_count": 171,
     "metadata": {},
     "output_type": "execute_result"
    }
   ],
   "source": [
    "list(map(double,list_num))"
   ]
  },
  {
   "cell_type": "code",
   "execution_count": 175,
   "id": "4d5d8ae6",
   "metadata": {},
   "outputs": [
    {
     "data": {
      "text/plain": [
       "[250.0, 200.0, 100.0, 50.0, 350.0]"
      ]
     },
     "execution_count": 175,
     "metadata": {},
     "output_type": "execute_result"
    }
   ],
   "source": [
    "account_balance\n",
    "interest_rate = 0.05\n",
    "\n",
    "calculate_interest = lambda balance : balance * interest_rate\n",
    "list(map(calculate_interest,account_balance))"
   ]
  },
  {
   "cell_type": "code",
   "execution_count": 176,
   "id": "0035076f",
   "metadata": {},
   "outputs": [
    {
     "data": {
      "text/plain": [
       "[5000, 4000, 2000, 1000, 7000]"
      ]
     },
     "execution_count": 176,
     "metadata": {},
     "output_type": "execute_result"
    }
   ],
   "source": [
    "account_balance"
   ]
  },
  {
   "cell_type": "code",
   "execution_count": 177,
   "id": "75a2d759",
   "metadata": {},
   "outputs": [
    {
     "name": "stdout",
     "output_type": "stream",
     "text": [
      "<function <lambda> at 0x0000019875B5A520>\n"
     ]
    }
   ],
   "source": [
    "print(calculate_interest)"
   ]
  },
  {
   "cell_type": "code",
   "execution_count": 178,
   "id": "b999e8e2",
   "metadata": {},
   "outputs": [
    {
     "data": {
      "text/plain": [
       "[10, 11, 14, 21, 23, 25, 16]"
      ]
     },
     "execution_count": 178,
     "metadata": {},
     "output_type": "execute_result"
    }
   ],
   "source": [
    "list_num"
   ]
  },
  {
   "cell_type": "code",
   "execution_count": 179,
   "id": "686276ed",
   "metadata": {},
   "outputs": [
    {
     "data": {
      "text/plain": [
       "120"
      ]
     },
     "execution_count": 179,
     "metadata": {},
     "output_type": "execute_result"
    }
   ],
   "source": [
    "sum(list_num)"
   ]
  },
  {
   "cell_type": "code",
   "execution_count": 181,
   "id": "cd7a8e89",
   "metadata": {},
   "outputs": [
    {
     "data": {
      "text/plain": [
       "120"
      ]
     },
     "execution_count": 181,
     "metadata": {},
     "output_type": "execute_result"
    }
   ],
   "source": [
    "from functools import *\n",
    "reduce(lambda x,y:x+y, list_num)"
   ]
  },
  {
   "cell_type": "code",
   "execution_count": 182,
   "id": "dc6f8c11",
   "metadata": {},
   "outputs": [
    {
     "data": {
      "text/plain": [
       "[10, 11, 14, 21, 23, 25, 16]"
      ]
     },
     "execution_count": 182,
     "metadata": {},
     "output_type": "execute_result"
    }
   ],
   "source": [
    "list_num"
   ]
  },
  {
   "cell_type": "code",
   "execution_count": 183,
   "id": "990d2fa7",
   "metadata": {},
   "outputs": [
    {
     "data": {
      "text/plain": [
       "11000"
      ]
     },
     "execution_count": 183,
     "metadata": {},
     "output_type": "execute_result"
    }
   ],
   "source": [
    "account_balance = [1000,2000,3000,-4000,-1000,10000]\n",
    "reduce(lambda acc1,acc2:acc1+acc2, account_balance)"
   ]
  },
  {
   "cell_type": "code",
   "execution_count": 184,
   "id": "cb150a24",
   "metadata": {},
   "outputs": [
    {
     "data": {
      "text/plain": [
       "10000"
      ]
     },
     "execution_count": 184,
     "metadata": {},
     "output_type": "execute_result"
    }
   ],
   "source": [
    "reduce(lambda acc1, acc2 : max(acc1,acc2), account_balance)"
   ]
  },
  {
   "cell_type": "code",
   "execution_count": 188,
   "id": "10eed7c2",
   "metadata": {},
   "outputs": [
    {
     "name": "stdout",
     "output_type": "stream",
     "text": [
      "[1000, 2000, 3000, 4000, 1000, 10000]\n",
      "Total Interest:  1050.0\n"
     ]
    }
   ],
   "source": [
    "account_balance = [1000,2000,3000,4000,1000,10000]\n",
    "print(account_balance)\n",
    "interest_rate = 0.05\n",
    "accumulated_interest = lambda acc1,acc2 : acc1 + (acc2 * interest_rate)\n",
    "total_interest = reduce(accumulated_interest,account_balance,0)\n",
    "print('Total Interest: ', total_interest)"
   ]
  },
  {
   "cell_type": "markdown",
   "id": "37a3036a",
   "metadata": {},
   "source": [
    "**The End**"
   ]
  }
 ],
 "metadata": {
  "kernelspec": {
   "display_name": "Python 3 (ipykernel)",
   "language": "python",
   "name": "python3"
  },
  "language_info": {
   "codemirror_mode": {
    "name": "ipython",
    "version": 3
   },
   "file_extension": ".py",
   "mimetype": "text/x-python",
   "name": "python",
   "nbconvert_exporter": "python",
   "pygments_lexer": "ipython3",
   "version": "3.11.5"
  }
 },
 "nbformat": 4,
 "nbformat_minor": 5
}
