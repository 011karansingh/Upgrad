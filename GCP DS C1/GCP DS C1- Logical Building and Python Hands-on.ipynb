{
 "cells": [
  {
   "cell_type": "markdown",
   "id": "99e5471d",
   "metadata": {},
   "source": [
    "# While Loops"
   ]
  },
  {
   "cell_type": "markdown",
   "id": "b104cd35",
   "metadata": {},
   "source": [
    "**While Loop runs till the time the condition is satisfied**"
   ]
  },
  {
   "cell_type": "code",
   "execution_count": null,
   "id": "1fd299e4",
   "metadata": {},
   "outputs": [],
   "source": [
    "while condtion:\n",
    "    getoutput"
   ]
  },
  {
   "cell_type": "code",
   "execution_count": 2,
   "id": "098dd36b",
   "metadata": {},
   "outputs": [],
   "source": [
    "while 1>2:\n",
    "    print('Hi')"
   ]
  },
  {
   "cell_type": "code",
   "execution_count": 4,
   "id": "374e1c2f",
   "metadata": {},
   "outputs": [],
   "source": [
    "#while 1==1:\n",
    "#    print('Hi')"
   ]
  },
  {
   "cell_type": "markdown",
   "id": "25e87c4b",
   "metadata": {},
   "source": [
    "1) Python Course"
   ]
  },
  {
   "cell_type": "code",
   "execution_count": 6,
   "id": "9e807ed1",
   "metadata": {},
   "outputs": [
    {
     "name": "stdout",
     "output_type": "stream",
     "text": [
      "Total coupouns left are:  5\n",
      "Total coupouns left are:  4\n",
      "Total coupouns left are:  3\n",
      "Total coupouns left are:  2\n",
      "Total coupouns left are:  1\n",
      "No coupouns left\n"
     ]
    }
   ],
   "source": [
    "coupoun = 5\n",
    "utilized = 0 \n",
    "\n",
    "while utilized<coupoun:\n",
    "    print('Total coupouns left are: ', coupoun-utilized)\n",
    "    utilized = utilized+1\n",
    "print('No coupouns left')"
   ]
  },
  {
   "cell_type": "markdown",
   "id": "1bf35b12",
   "metadata": {},
   "source": [
    "2) Factorial of a number"
   ]
  },
  {
   "cell_type": "code",
   "execution_count": 11,
   "id": "d4297d67",
   "metadata": {},
   "outputs": [
    {
     "name": "stdout",
     "output_type": "stream",
     "text": [
      "Enter the number: -10\n",
      "There is no factorial of a negative number\n"
     ]
    }
   ],
   "source": [
    "number = int(input('Enter the number: '))\n",
    "\n",
    "if number<0:\n",
    "    print('There is no factorial of a negative number')\n",
    "else:\n",
    "    result = 1 \n",
    "    while number>0:\n",
    "        result = result * number\n",
    "        number = number-1\n",
    "    print(result)"
   ]
  },
  {
   "cell_type": "markdown",
   "id": "c3de559a",
   "metadata": {},
   "source": [
    "3) Pin validation"
   ]
  },
  {
   "cell_type": "code",
   "execution_count": 13,
   "id": "72c99513",
   "metadata": {},
   "outputs": [
    {
     "name": "stdout",
     "output_type": "stream",
     "text": [
      "Enter the pin: 1111\n",
      "Incorrect pin, attempts remaining:  2\n",
      "Enter the pin: 2222\n",
      "Incorrect pin, attempts remaining:  1\n",
      "Enter the pin: 0000\n",
      "Incorrect pin, attempts remaining:  0\n",
      "Max attempts reached, Access Denied\n"
     ]
    }
   ],
   "source": [
    "correct_pin = 1234\n",
    "max_attempts = 3\n",
    "attempts = 0 \n",
    "\n",
    "while attempts<max_attempts:\n",
    "    pin = int(input('Enter the pin: '))\n",
    "    if pin == correct_pin:\n",
    "        print('Pin accepted, access granted')\n",
    "        break\n",
    "    else:\n",
    "        attempts=attempts+1\n",
    "        print('Incorrect pin, attempts remaining: ', max_attempts-attempts)\n",
    "\n",
    "if attempts==max_attempts:\n",
    "    print('Max attempts reached, Access Denied')"
   ]
  },
  {
   "cell_type": "markdown",
   "id": "a15449f5",
   "metadata": {},
   "source": [
    "4) Account Creation with unique account number"
   ]
  },
  {
   "cell_type": "code",
   "execution_count": 49,
   "id": "7da78938",
   "metadata": {},
   "outputs": [
    {
     "name": "stdout",
     "output_type": "stream",
     "text": [
      "Account created successfully:  8\n"
     ]
    }
   ],
   "source": [
    "existing_account_numbers = [1,2,3,4]\n",
    "import random\n",
    "new_account_number = random.randint(1,9)\n",
    "\n",
    "while new_account_number in existing_account_numbers:\n",
    "    new_account_number = random.randint(1,9)\n",
    "    \n",
    "print(\"Account created successfully: \", new_account_number)"
   ]
  },
  {
   "cell_type": "markdown",
   "id": "c2a0f046",
   "metadata": {},
   "source": [
    "5) Money Withdrawal with balance validation"
   ]
  },
  {
   "cell_type": "code",
   "execution_count": 50,
   "id": "21496d57",
   "metadata": {},
   "outputs": [
    {
     "name": "stdout",
     "output_type": "stream",
     "text": [
      "Enter the amount to withdraw: 2000\n",
      "Insufficient funds, available balance:  1000\n",
      "Enter the amount to withdraw50\n",
      "Invalid Withdraw amount, minimum withdraw amount:  100\n",
      "Enter the amount to withdraw150\n",
      "Your total remaining balance:  850.0\n"
     ]
    }
   ],
   "source": [
    "account_balance = 1000\n",
    "min_balance = 100\n",
    "\n",
    "withdraw_amt = float(input('Enter the amount to withdraw: '))\n",
    "\n",
    "while withdraw_amt>account_balance or withdraw_amt<min_balance:\n",
    "    if withdraw_amt>account_balance:\n",
    "        print('Insufficient funds, available balance: ', account_balance)\n",
    "    else:\n",
    "        print(\"Invalid Withdraw amount, minimum withdraw amount: \", min_balance)\n",
    "    withdraw_amt = float(input('Enter the amount to withdraw'))\n",
    "    \n",
    "account_balance = account_balance-withdraw_amt\n",
    "print(\"Your total remaining balance: \", account_balance)"
   ]
  },
  {
   "cell_type": "markdown",
   "id": "9cc75c77",
   "metadata": {},
   "source": [
    "6) Interest Calculation with maximum iterations"
   ]
  },
  {
   "cell_type": "code",
   "execution_count": 52,
   "id": "020a861b",
   "metadata": {},
   "outputs": [
    {
     "name": "stdout",
     "output_type": "stream",
     "text": [
      "Final amount after 60 months:  9339592.947061468\n"
     ]
    }
   ],
   "source": [
    "account_balance = 500000\n",
    "interest_rate = 0.05\n",
    "max_iteration = 60\n",
    "iteration = 1\n",
    "\n",
    "while iteration<=max_iteration:\n",
    "    interest = account_balance*interest_rate\n",
    "    account_balance = account_balance+interest\n",
    "    iteration=iteration+1\n",
    "\n",
    "print(\"Final amount after 60 months: \", account_balance)"
   ]
  },
  {
   "cell_type": "code",
   "execution_count": 57,
   "id": "5e9c2fc2",
   "metadata": {},
   "outputs": [
    {
     "name": "stdout",
     "output_type": "stream",
     "text": [
      "What are you looking for: z\n",
      "Not Found\n"
     ]
    }
   ],
   "source": [
    "string = 'rahululul'\n",
    "lookingfor = input('What are you looking for: ')\n",
    "one_ins = 'dont print ntfound'\n",
    "pos = -1\n",
    "n = len(string)\n",
    "while True:\n",
    "    pos = string.find(lookingfor, pos+1, n)\n",
    "    if pos==-1:\n",
    "        break\n",
    "    else:\n",
    "        print('Found at index: ', pos)\n",
    "        one_ins = 'found once'\n",
    "if one_ins == 'dont print ntfound':\n",
    "    print('Not Found')"
   ]
  }
 ],
 "metadata": {
  "kernelspec": {
   "display_name": "Python 3 (ipykernel)",
   "language": "python",
   "name": "python3"
  },
  "language_info": {
   "codemirror_mode": {
    "name": "ipython",
    "version": 3
   },
   "file_extension": ".py",
   "mimetype": "text/x-python",
   "name": "python",
   "nbconvert_exporter": "python",
   "pygments_lexer": "ipython3",
   "version": "3.9.13"
  }
 },
 "nbformat": 4,
 "nbformat_minor": 5
}
