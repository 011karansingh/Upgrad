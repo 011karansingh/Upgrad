{
 "cells": [
  {
   "cell_type": "markdown",
   "id": "d4e10557",
   "metadata": {},
   "source": [
    "# Flow Control"
   ]
  },
  {
   "cell_type": "markdown",
   "id": "05bb4bfc",
   "metadata": {},
   "source": [
    "**If and Else - Based on the satisfied condition we get the output**"
   ]
  },
  {
   "cell_type": "code",
   "execution_count": 1,
   "id": "e7e8183d",
   "metadata": {},
   "outputs": [
    {
     "ename": "IndentationError",
     "evalue": "expected an indented block (856784034.py, line 2)",
     "output_type": "error",
     "traceback": [
      "\u001b[1;36m  File \u001b[1;32m\"C:\\Users\\rahul\\AppData\\Local\\Temp\\ipykernel_38812\\856784034.py\"\u001b[1;36m, line \u001b[1;32m2\u001b[0m\n\u001b[1;33m    getoutput\u001b[0m\n\u001b[1;37m    ^\u001b[0m\n\u001b[1;31mIndentationError\u001b[0m\u001b[1;31m:\u001b[0m expected an indented block\n"
     ]
    }
   ],
   "source": [
    "if condition:\n",
    "    getoutput\n",
    "else:\n",
    "    getanotheroutput"
   ]
  },
  {
   "cell_type": "markdown",
   "id": "0b6c674c",
   "metadata": {},
   "source": [
    "**The gap is known as Tab indentation and it is mandatory, if we are not giving this gap we will get the IndentationError: expected an indented block**\n"
   ]
  },
  {
   "cell_type": "markdown",
   "id": "cb4d9352",
   "metadata": {},
   "source": [
    "**In the below code we will get Hi only when we fail the exam**"
   ]
  },
  {
   "cell_type": "code",
   "execution_count": 13,
   "id": "3891331c",
   "metadata": {},
   "outputs": [
    {
     "name": "stdout",
     "output_type": "stream",
     "text": [
      "Enter the marks: 32\n",
      "You failed the exam\n",
      "Hi\n"
     ]
    }
   ],
   "source": [
    "marks = int(input('Enter the marks: '))\n",
    "if marks<40:\n",
    "    print('You failed the exam')\n",
    "    print('Hi')\n",
    "else:\n",
    "    print('You passed the exam')"
   ]
  },
  {
   "cell_type": "markdown",
   "id": "9a4edb5f",
   "metadata": {},
   "source": [
    "**If we pass the exam then only we will get Hi**"
   ]
  },
  {
   "cell_type": "code",
   "execution_count": 15,
   "id": "abd46500",
   "metadata": {},
   "outputs": [
    {
     "name": "stdout",
     "output_type": "stream",
     "text": [
      "Enter the marks: 34\n",
      "You failed the exam\n"
     ]
    }
   ],
   "source": [
    "marks = int(input('Enter the marks: '))\n",
    "if marks<40:\n",
    "    print('You failed the exam')\n",
    "else:\n",
    "    print('You passed the exam')\n",
    "    print('Hi')"
   ]
  },
  {
   "cell_type": "markdown",
   "id": "ead10ddd",
   "metadata": {},
   "source": [
    "**If we pass or fail Hi will always run, because it is outside the if else condition**"
   ]
  },
  {
   "cell_type": "code",
   "execution_count": 17,
   "id": "c69f6244",
   "metadata": {},
   "outputs": [
    {
     "name": "stdout",
     "output_type": "stream",
     "text": [
      "Enter the marks: 34\n",
      "You failed the exam\n",
      "Hi\n"
     ]
    }
   ],
   "source": [
    "marks = int(input('Enter the marks: '))\n",
    "if marks<40:\n",
    "    print('You failed the exam')\n",
    "else:\n",
    "    print('You passed the exam')\n",
    "print('Hi')"
   ]
  },
  {
   "cell_type": "markdown",
   "id": "d0dae6d9",
   "metadata": {},
   "source": [
    "**Hi will print as it is outside if else condition**"
   ]
  },
  {
   "cell_type": "code",
   "execution_count": 23,
   "id": "c36fda80",
   "metadata": {},
   "outputs": [
    {
     "name": "stdout",
     "output_type": "stream",
     "text": [
      "Enter the marks: 49\n",
      "Hi\n"
     ]
    }
   ],
   "source": [
    "marks = int(input('Enter the marks: '))\n",
    "if marks<40:\n",
    "    print('You failed the exam')\n",
    "print('Hi')"
   ]
  },
  {
   "cell_type": "markdown",
   "id": "6c83f059",
   "metadata": {},
   "source": [
    "**We cannot write multiple else, however we have the elif, this we can write mutiple times, in between if and else we can have any number of elif's**"
   ]
  },
  {
   "cell_type": "code",
   "execution_count": 21,
   "id": "fd43e644",
   "metadata": {},
   "outputs": [
    {
     "name": "stdout",
     "output_type": "stream",
     "text": [
      "Enter the marks: 76\n",
      "You got an excellent marks\n"
     ]
    }
   ],
   "source": [
    "marks = int(input('Enter the marks: '))\n",
    "if marks<40:\n",
    "    print('You failed the exam')\n",
    "elif marks>=40 and marks<=60:\n",
    "    print('You got an average marks')\n",
    "else:\n",
    "    print('You got an excellent marks')"
   ]
  },
  {
   "cell_type": "markdown",
   "id": "629a044f",
   "metadata": {},
   "source": [
    "**Banking Examples**"
   ]
  },
  {
   "cell_type": "markdown",
   "id": "2ce5576a",
   "metadata": {},
   "source": [
    "1) Account Balance Check"
   ]
  },
  {
   "cell_type": "code",
   "execution_count": 25,
   "id": "1b88aa32",
   "metadata": {},
   "outputs": [
    {
     "name": "stdout",
     "output_type": "stream",
     "text": [
      "Enter the account balance: -1\n",
      "Your account balance is negative, please take action\n"
     ]
    }
   ],
   "source": [
    "account_balance = int(input('Enter the account balance: '))\n",
    "if account_balance>=0:\n",
    "    print('Your account is in good standing')\n",
    "else:\n",
    "    print('Your account balance is negative, please take action')"
   ]
  },
  {
   "cell_type": "markdown",
   "id": "f6c1c3d1",
   "metadata": {},
   "source": [
    "2) Loan Eligibility"
   ]
  },
  {
   "cell_type": "code",
   "execution_count": 28,
   "id": "79ceba5c",
   "metadata": {},
   "outputs": [
    {
     "name": "stdout",
     "output_type": "stream",
     "text": [
      "Enter the income: 56000\n",
      "Enter the credit score: 800\n",
      "You are eligible for the loan, congratulations!!!\n"
     ]
    }
   ],
   "source": [
    "income = int(input('Enter the income: '))\n",
    "credit_score = int(input('Enter the credit score: '))\n",
    "if income>50000 and credit_score>700:\n",
    "    print('You are eligible for the loan, congratulations!!!')\n",
    "else:\n",
    "    print('You are not eligible for the loan, you can try next time!!!')"
   ]
  },
  {
   "cell_type": "markdown",
   "id": "2e152725",
   "metadata": {},
   "source": [
    "3) Withdrawal limit check"
   ]
  },
  {
   "cell_type": "code",
   "execution_count": 30,
   "id": "b56a4185",
   "metadata": {},
   "outputs": [
    {
     "name": "stdout",
     "output_type": "stream",
     "text": [
      "Enter the amount you want to withdraw: 1000\n",
      "Withdrawal successful\n"
     ]
    }
   ],
   "source": [
    "daily_limit = 1000\n",
    "withdrawal_amount = int(input('Enter the amount you want to withdraw: '))\n",
    "if withdrawal_amount<=daily_limit:\n",
    "    print('Withdrawal successful')\n",
    "else:\n",
    "    print('Withdrawal amount exceeds the daily limit')"
   ]
  },
  {
   "cell_type": "markdown",
   "id": "b2a1d7d8",
   "metadata": {},
   "source": [
    "4) Calculate the tax"
   ]
  },
  {
   "cell_type": "code",
   "execution_count": 35,
   "id": "5b10e7d9",
   "metadata": {},
   "outputs": [
    {
     "name": "stdout",
     "output_type": "stream",
     "text": [
      "Enter the income: 20000\n",
      "The total tax you have to pay is:  4000.0\n"
     ]
    }
   ],
   "source": [
    "income = int(input('Enter the income: '))\n",
    "if income<=2000:\n",
    "    print('The total tax you have to pay is: ', income*0)\n",
    "elif income>2000 and income<=5000:\n",
    "    print('The total tax you have to pay is: ', income*0.05)\n",
    "elif income>5000 and income<=10000:\n",
    "    print('The total tax you have to pay is: ', income*0.10)\n",
    "elif income>10000 and income<=15000:\n",
    "    print('The total tax you have to pay is: ', income*0.15)\n",
    "else:\n",
    "    print('The total tax you have to pay is: ', income*0.20)"
   ]
  },
  {
   "cell_type": "markdown",
   "id": "dad0ef35",
   "metadata": {},
   "source": [
    "5) Transaction Fees - Nested if else"
   ]
  },
  {
   "cell_type": "code",
   "execution_count": 56,
   "id": "6124d715",
   "metadata": {},
   "outputs": [
    {
     "name": "stdout",
     "output_type": "stream",
     "text": [
      "Enter the transaction amount: 122\n",
      "What is the transaction type: d\n",
      "Please pass the correct option\n",
      "The total amount is:  122\n"
     ]
    }
   ],
   "source": [
    "transaction_amount = int(input('Enter the transaction amount: '))\n",
    "transaction_type = input('What is the transaction type: ')\n",
    "transaction_fee = 0\n",
    "\n",
    "if transaction_type=='Withdrawal':\n",
    "    if transaction_amount<=1000:\n",
    "        transaction_fee = 2\n",
    "    else:\n",
    "        transaction_fee = 5\n",
    "elif transaction_type=='Deposit':\n",
    "    transaction_fee = 0\n",
    "else:\n",
    "    print('Please pass the correct option')\n",
    "    \n",
    "total_amount = transaction_amount+transaction_fee\n",
    "print('The total amount is: ',total_amount)"
   ]
  },
  {
   "cell_type": "code",
   "execution_count": 45,
   "id": "3a0eb26b",
   "metadata": {},
   "outputs": [
    {
     "name": "stdout",
     "output_type": "stream",
     "text": [
      "Enter the transaction amount: 111\n",
      "What is the transaction type: dd\n",
      "The transaction fee will not be there, and no transaction will happen, we will pass transaction fee as 0\n",
      "The total amount is:  111\n"
     ]
    }
   ],
   "source": [
    "transaction_amount = int(input('Enter the transaction amount: '))\n",
    "transaction_type = input('What is the transaction type: ')\n",
    "transaction_fee = 0\n",
    "\n",
    "if transaction_type=='Withdrawal':\n",
    "    if transaction_amount<=1000:\n",
    "        transaction_fee = 2\n",
    "    else:\n",
    "        transaction_fee = 5\n",
    "elif transaction_type=='Deposit':\n",
    "    transaction_fee = 0\n",
    "else:\n",
    "    print('The transaction fee will not be there, and no transaction will happen, we will pass transaction fee as 0')\n",
    "    \n",
    "total_amount = transaction_amount+transaction_fee\n",
    "print('The total amount is: ',total_amount)"
   ]
  },
  {
   "cell_type": "code",
   "execution_count": 58,
   "id": "0e0a7f6e",
   "metadata": {},
   "outputs": [
    {
     "name": "stdout",
     "output_type": "stream",
     "text": [
      "Enter the transaction amount: 1000\n",
      "What is the transaction type: sdf\n",
      "1000\n"
     ]
    },
    {
     "ename": "NameError",
     "evalue": "name 'total_amount' is not defined",
     "output_type": "error",
     "traceback": [
      "\u001b[1;31m---------------------------------------------------------------------------\u001b[0m",
      "\u001b[1;31mNameError\u001b[0m                                 Traceback (most recent call last)",
      "\u001b[1;32m~\\AppData\\Local\\Temp\\ipykernel_38812\\1264525221.py\u001b[0m in \u001b[0;36m<module>\u001b[1;34m\u001b[0m\n\u001b[0;32m     16\u001b[0m     \u001b[0mprint\u001b[0m\u001b[1;33m(\u001b[0m\u001b[0mtransaction_amount\u001b[0m\u001b[1;33m)\u001b[0m\u001b[1;33m\u001b[0m\u001b[1;33m\u001b[0m\u001b[0m\n\u001b[0;32m     17\u001b[0m \u001b[1;32mdel\u001b[0m \u001b[0mtotal_amount\u001b[0m\u001b[1;33m\u001b[0m\u001b[1;33m\u001b[0m\u001b[0m\n\u001b[1;32m---> 18\u001b[1;33m \u001b[0mprint\u001b[0m\u001b[1;33m(\u001b[0m\u001b[0mtotal_amount\u001b[0m\u001b[1;33m)\u001b[0m\u001b[1;33m\u001b[0m\u001b[1;33m\u001b[0m\u001b[0m\n\u001b[0m",
      "\u001b[1;31mNameError\u001b[0m: name 'total_amount' is not defined"
     ]
    }
   ],
   "source": [
    "transaction_amount = int(input('Enter the transaction amount: '))\n",
    "transaction_type = input('What is the transaction type: ')\n",
    "#transaction_fee = 0\n",
    "\n",
    "if transaction_type=='Withdrawal':\n",
    "    if transaction_amount<=1000:\n",
    "        transaction_fee = 2\n",
    "        total_amount = transaction_amount+transaction_fee\n",
    "    else:\n",
    "        transaction_fee = 5\n",
    "        total_amount = transaction_amount+transaction_fee\n",
    "elif transaction_type=='Deposit':\n",
    "    transaction_fee = 0\n",
    "    total_amount = transaction_amount+transaction_fee\n",
    "else:\n",
    "    print(transaction_amount)\n",
    "#del total_amount\n",
    "print(total_amount)"
   ]
  },
  {
   "cell_type": "markdown",
   "id": "938c2483",
   "metadata": {},
   "source": [
    "# For Loops"
   ]
  },
  {
   "cell_type": "markdown",
   "id": "76399ed8",
   "metadata": {},
   "source": [
    "**For loops - When we want to iterate on something, string, lists, Tuples, sets etc**"
   ]
  },
  {
   "cell_type": "code",
   "execution_count": 61,
   "id": "fe43f75e",
   "metadata": {},
   "outputs": [
    {
     "name": "stdout",
     "output_type": "stream",
     "text": [
      "0\n",
      "1\n",
      "2\n",
      "3\n",
      "4\n"
     ]
    }
   ],
   "source": [
    "for i in list(range(0,5)):\n",
    "    print(i)"
   ]
  },
  {
   "cell_type": "code",
   "execution_count": 63,
   "id": "fa054153",
   "metadata": {},
   "outputs": [
    {
     "name": "stdout",
     "output_type": "stream",
     "text": [
      "James\n",
      "John\n",
      "Steven\n",
      "Clara\n",
      "Anderson\n"
     ]
    }
   ],
   "source": [
    "for i in ['James', 'John', 'Steven','Clara', 'Anderson']:\n",
    "    print(i)"
   ]
  },
  {
   "cell_type": "code",
   "execution_count": 70,
   "id": "edc538fc",
   "metadata": {},
   "outputs": [
    {
     "name": "stdout",
     "output_type": "stream",
     "text": [
      "u p g r a d "
     ]
    }
   ],
   "source": [
    "for i in 'upgrad':\n",
    "    print(i,end=' ')"
   ]
  },
  {
   "cell_type": "code",
   "execution_count": 65,
   "id": "72ea4002",
   "metadata": {},
   "outputs": [
    {
     "name": "stdout",
     "output_type": "stream",
     "text": [
      "upgrad\n"
     ]
    }
   ],
   "source": [
    "for i in ['upgrad']:\n",
    "    print(i)"
   ]
  },
  {
   "cell_type": "code",
   "execution_count": 66,
   "id": "9934699c",
   "metadata": {},
   "outputs": [
    {
     "name": "stdout",
     "output_type": "stream",
     "text": [
      "10\n",
      "11\n",
      "12\n",
      "13\n",
      "14\n"
     ]
    }
   ],
   "source": [
    "for i in list(range(0,5)):\n",
    "    print(i+10)"
   ]
  },
  {
   "cell_type": "code",
   "execution_count": 69,
   "id": "f298636a",
   "metadata": {},
   "outputs": [
    {
     "name": "stdout",
     "output_type": "stream",
     "text": [
      "Hi Hello\n"
     ]
    }
   ],
   "source": [
    "print('Hi',end=' ')\n",
    "print('Hello',end='\\n')"
   ]
  },
  {
   "cell_type": "code",
   "execution_count": 71,
   "id": "b0a1d430",
   "metadata": {},
   "outputs": [
    {
     "name": "stdout",
     "output_type": "stream",
     "text": [
      "0.12829423689545322\n",
      "0.18004866180048662\n",
      "0.12933294494611128\n",
      "0.14420062695924765\n"
     ]
    }
   ],
   "source": [
    "sales = [3453,1233,3433,2233]\n",
    "profit = [443,222,444,322]\n",
    "for i in range(0,len(sales)):\n",
    "    print(profit[i]/sales[i])"
   ]
  },
  {
   "cell_type": "markdown",
   "id": "d15ad93e",
   "metadata": {},
   "source": [
    "**Banking Examples**"
   ]
  },
  {
   "cell_type": "markdown",
   "id": "822123fe",
   "metadata": {},
   "source": [
    "1) Transaction History"
   ]
  },
  {
   "cell_type": "code",
   "execution_count": 74,
   "id": "4964f162",
   "metadata": {},
   "outputs": [
    {
     "name": "stdout",
     "output_type": "stream",
     "text": [
      "Deposit:  50\n",
      "Withdrawal:  20\n",
      "Deposit:  100\n",
      "Withdrawal:  30\n",
      "Withdrawal:  10\n"
     ]
    }
   ],
   "source": [
    "transaction_history = [50, -20, 100, -30, -10]\n",
    "for i in transaction_history:\n",
    "    if i>0:\n",
    "        print('Deposit: ', i)\n",
    "    else:\n",
    "        print('Withdrawal: ',abs(i))"
   ]
  },
  {
   "cell_type": "markdown",
   "id": "3f752021",
   "metadata": {},
   "source": [
    "2) Account Summation"
   ]
  },
  {
   "cell_type": "code",
   "execution_count": 75,
   "id": "d96e8b4a",
   "metadata": {},
   "outputs": [
    {
     "name": "stdout",
     "output_type": "stream",
     "text": [
      "Total account balance:  18000\n"
     ]
    }
   ],
   "source": [
    "account_balances = [1000,2000,3000,5000,4000,2000,1000]\n",
    "total_balance = 0 \n",
    "for i in account_balances:\n",
    "    total_balance = total_balance + i\n",
    "\n",
    "print('Total account balance: ', total_balance)"
   ]
  },
  {
   "cell_type": "markdown",
   "id": "424f1b72",
   "metadata": {},
   "source": [
    "3) Interest Calculations"
   ]
  },
  {
   "cell_type": "code",
   "execution_count": 76,
   "id": "ebe1622f",
   "metadata": {},
   "outputs": [
    {
     "name": "stdout",
     "output_type": "stream",
     "text": [
      "Updated account balances:  [1050.0, 2100.0, 3150.0, 4200.0, 3150.0]\n"
     ]
    }
   ],
   "source": [
    "account_balances = [1000,2000,3000,4000,3000]\n",
    "interest_rate = 0.05\n",
    "for i in range(len(account_balances)):\n",
    "    interest = account_balances[i] * interest_rate\n",
    "    account_balances[i]+=interest\n",
    "print('Updated account balances: ', account_balances)"
   ]
  },
  {
   "cell_type": "markdown",
   "id": "ddde7758",
   "metadata": {},
   "source": [
    "4) Account Closure"
   ]
  },
  {
   "cell_type": "code",
   "execution_count": 77,
   "id": "e50ebee8",
   "metadata": {},
   "outputs": [
    {
     "name": "stdout",
     "output_type": "stream",
     "text": [
      "Enter the account you want to close: 222222\n",
      "Account not found\n",
      "Account not found\n",
      "Account not found\n",
      "Account not found\n",
      "Remaining accounts:  [123456, 789012, 345678, 901234]\n"
     ]
    }
   ],
   "source": [
    "account_numbers = [123456, 789012, 345678, 901234]\n",
    "account_to_close = int(input('Enter the account you want to close: ')) \n",
    "\n",
    "for i in account_numbers:\n",
    "    if account_to_close==i:\n",
    "        print('Closing account: ', i)\n",
    "        account_numbers.remove(i)\n",
    "        break\n",
    "    else:\n",
    "        print('Account not found')\n",
    "print('Remaining accounts: ', account_numbers)"
   ]
  },
  {
   "cell_type": "code",
   "execution_count": 79,
   "id": "115b62e7",
   "metadata": {},
   "outputs": [
    {
     "name": "stdout",
     "output_type": "stream",
     "text": [
      "Enter the account you want to close: 345678\n",
      "Closing account:  345678\n",
      "Remaining accounts:  [123456, 789012, 901234]\n"
     ]
    }
   ],
   "source": [
    "account_numbers = [123456, 789012, 345678, 901234]\n",
    "account_to_close = int(input('Enter the account you want to close: ')) \n",
    "\n",
    "for i in account_numbers:\n",
    "    if account_to_close==i:\n",
    "        print('Closing account: ', i)\n",
    "        account_numbers.remove(i)\n",
    "        break\n",
    "\n",
    "print('Remaining accounts: ', account_numbers)"
   ]
  },
  {
   "cell_type": "markdown",
   "id": "f663904a",
   "metadata": {},
   "source": [
    "5) Account Statement"
   ]
  },
  {
   "cell_type": "code",
   "execution_count": 80,
   "id": "45c134c1",
   "metadata": {},
   "outputs": [],
   "source": [
    "account_transactions = [{\"date\":\"2023-07-01\",\"type\":\"Deposit\",\"amount\":100},\n",
    "                        {\"date\":\"2023-07-02\",\"type\":\"Withdrawal\",\"amount\":50},\n",
    "                        {\"date\":\"2023-07-03\",\"type\":\"Deposit\",\"amount\":200},\n",
    "                        {\"date\":\"2023-07-04\",\"type\":\"Withdrawal\",\"amount\":75}]"
   ]
  },
  {
   "cell_type": "code",
   "execution_count": 81,
   "id": "475277c0",
   "metadata": {},
   "outputs": [
    {
     "name": "stdout",
     "output_type": "stream",
     "text": [
      "Account Statement\n",
      "2023-07-01 - Deposit - 100\n",
      "2023-07-02 - Withdrawal - 50\n",
      "2023-07-03 - Deposit - 200\n",
      "2023-07-04 - Withdrawal - 75\n"
     ]
    }
   ],
   "source": [
    "print('Account Statement')\n",
    "for i in account_transactions:\n",
    "    print(i['date'], '-', i['type'], '-', i['amount'])"
   ]
  },
  {
   "cell_type": "code",
   "execution_count": 84,
   "id": "62826a6f",
   "metadata": {},
   "outputs": [
    {
     "name": "stdout",
     "output_type": "stream",
     "text": [
      "Account Statement\n",
      "2023-07-01 - Deposit - 100\n",
      "2023-07-02 - Withdrawal - 50\n",
      "2023-07-03 - Deposit - 200\n",
      "2023-07-04 - Withdrawal - 75\n"
     ]
    }
   ],
   "source": [
    "transaction_date = ['2023-07-01','2023-07-02','2023-07-03','2023-07-04']\n",
    "transaction_type = ['Deposit','Withdrawal','Deposit','Withdrawal']\n",
    "transaction_amount = [100,50,200,75]\n",
    "print('Account Statement')\n",
    "for (td,tt,ta) in zip(transaction_date,transaction_type,transaction_amount):\n",
    "    print(td, '-', tt, '-', ta)\n",
    "    "
   ]
  },
  {
   "cell_type": "code",
   "execution_count": null,
   "id": "898222fc",
   "metadata": {},
   "outputs": [],
   "source": []
  },
  {
   "cell_type": "code",
   "execution_count": null,
   "id": "1076bca1",
   "metadata": {},
   "outputs": [],
   "source": []
  },
  {
   "cell_type": "code",
   "execution_count": null,
   "id": "76cd5265",
   "metadata": {},
   "outputs": [],
   "source": []
  }
 ],
 "metadata": {
  "kernelspec": {
   "display_name": "Python 3 (ipykernel)",
   "language": "python",
   "name": "python3"
  },
  "language_info": {
   "codemirror_mode": {
    "name": "ipython",
    "version": 3
   },
   "file_extension": ".py",
   "mimetype": "text/x-python",
   "name": "python",
   "nbconvert_exporter": "python",
   "pygments_lexer": "ipython3",
   "version": "3.9.13"
  }
 },
 "nbformat": 4,
 "nbformat_minor": 5
}
