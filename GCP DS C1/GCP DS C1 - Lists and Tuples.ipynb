{
 "cells": [
  {
   "cell_type": "markdown",
   "id": "b186ec95",
   "metadata": {},
   "source": [
    "# Python Collection Data Types or Data Structures"
   ]
  },
  {
   "cell_type": "markdown",
   "id": "3ba38dc8",
   "metadata": {},
   "source": [
    "**Lists**\n",
    "\n",
    "**Tuples**\n",
    "\n",
    "**Sets**\n",
    "\n",
    "**Dictionaries**"
   ]
  },
  {
   "cell_type": "markdown",
   "id": "2a6de070",
   "metadata": {},
   "source": [
    "# Lists"
   ]
  },
  {
   "cell_type": "markdown",
   "id": "6c1302db",
   "metadata": {},
   "source": [
    "**When we have to store the multiple values**\n",
    "\n",
    "**Properties of the lists**\n",
    "\n",
    "**1) Duplicates are allowed**\n",
    "\n",
    "**2) Heterogeneous Data Allowed - Any type of datatype in a single list**\n",
    "\n",
    "**3) Mutable in Nature - Edit the values in a list**\n",
    "\n",
    "**4) Lists are created using the square bracket only**\n",
    "\n",
    "**5) Growable in nature**"
   ]
  },
  {
   "cell_type": "code",
   "execution_count": 56,
   "id": "c0498ff0",
   "metadata": {},
   "outputs": [],
   "source": [
    "ages = [21,22,44,33,22,11,21,44,33,12,11,22]"
   ]
  },
  {
   "cell_type": "markdown",
   "id": "dd8dae38",
   "metadata": {},
   "source": [
    "**When we are using function we have to use () normal brackets only**"
   ]
  },
  {
   "cell_type": "code",
   "execution_count": 9,
   "id": "95d70673",
   "metadata": {},
   "outputs": [
    {
     "data": {
      "text/plain": [
       "list"
      ]
     },
     "execution_count": 9,
     "metadata": {},
     "output_type": "execute_result"
    }
   ],
   "source": [
    "type(ages)"
   ]
  },
  {
   "cell_type": "code",
   "execution_count": 11,
   "id": "986c4b92",
   "metadata": {},
   "outputs": [
    {
     "data": {
      "text/plain": [
       "12"
      ]
     },
     "execution_count": 11,
     "metadata": {},
     "output_type": "execute_result"
    }
   ],
   "source": [
    "len(ages)"
   ]
  },
  {
   "cell_type": "code",
   "execution_count": 4,
   "id": "f9fb75aa",
   "metadata": {},
   "outputs": [
    {
     "data": {
      "text/plain": [
       "296"
      ]
     },
     "execution_count": 4,
     "metadata": {},
     "output_type": "execute_result"
    }
   ],
   "source": [
    "sum(ages)"
   ]
  },
  {
   "cell_type": "code",
   "execution_count": 5,
   "id": "4872d4dc",
   "metadata": {},
   "outputs": [
    {
     "data": {
      "text/plain": [
       "24.666666666666668"
      ]
     },
     "execution_count": 5,
     "metadata": {},
     "output_type": "execute_result"
    }
   ],
   "source": [
    "sum(ages)/len(ages)"
   ]
  },
  {
   "cell_type": "code",
   "execution_count": 6,
   "id": "1a309fde",
   "metadata": {},
   "outputs": [
    {
     "data": {
      "text/plain": [
       "11"
      ]
     },
     "execution_count": 6,
     "metadata": {},
     "output_type": "execute_result"
    }
   ],
   "source": [
    "min(ages)"
   ]
  },
  {
   "cell_type": "code",
   "execution_count": 7,
   "id": "f3bc41a1",
   "metadata": {},
   "outputs": [
    {
     "data": {
      "text/plain": [
       "44"
      ]
     },
     "execution_count": 7,
     "metadata": {},
     "output_type": "execute_result"
    }
   ],
   "source": [
    "max(ages)"
   ]
  },
  {
   "cell_type": "markdown",
   "id": "d3359e1c",
   "metadata": {},
   "source": [
    "**Slicing - We have to use Square brackets only**"
   ]
  },
  {
   "cell_type": "code",
   "execution_count": 12,
   "id": "63ac129e",
   "metadata": {},
   "outputs": [
    {
     "data": {
      "text/plain": [
       "[21, 22, 44, 33, 22, 11, 21, 44, 33, 12, 11, 22]"
      ]
     },
     "execution_count": 12,
     "metadata": {},
     "output_type": "execute_result"
    }
   ],
   "source": [
    "ages"
   ]
  },
  {
   "cell_type": "code",
   "execution_count": 13,
   "id": "35a371be",
   "metadata": {},
   "outputs": [
    {
     "data": {
      "text/plain": [
       "22"
      ]
     },
     "execution_count": 13,
     "metadata": {},
     "output_type": "execute_result"
    }
   ],
   "source": [
    "ages[4]"
   ]
  },
  {
   "cell_type": "code",
   "execution_count": 14,
   "id": "ed0b86d8",
   "metadata": {},
   "outputs": [
    {
     "data": {
      "text/plain": [
       "22"
      ]
     },
     "execution_count": 14,
     "metadata": {},
     "output_type": "execute_result"
    }
   ],
   "source": [
    "ages[-8]"
   ]
  },
  {
   "cell_type": "code",
   "execution_count": 15,
   "id": "6ec81a4c",
   "metadata": {},
   "outputs": [
    {
     "data": {
      "text/plain": [
       "[22, 44, 33, 22]"
      ]
     },
     "execution_count": 15,
     "metadata": {},
     "output_type": "execute_result"
    }
   ],
   "source": [
    "ages[1:5]"
   ]
  },
  {
   "cell_type": "code",
   "execution_count": 16,
   "id": "15c2bac7",
   "metadata": {},
   "outputs": [
    {
     "data": {
      "text/plain": [
       "[]"
      ]
     },
     "execution_count": 16,
     "metadata": {},
     "output_type": "execute_result"
    }
   ],
   "source": [
    "ages[5:1]"
   ]
  },
  {
   "cell_type": "code",
   "execution_count": 17,
   "id": "b5de69d0",
   "metadata": {},
   "outputs": [
    {
     "data": {
      "text/plain": [
       "[22, 44, 33]"
      ]
     },
     "execution_count": 17,
     "metadata": {},
     "output_type": "execute_result"
    }
   ],
   "source": [
    "ages[1:-8]"
   ]
  },
  {
   "cell_type": "code",
   "execution_count": 18,
   "id": "a867ab87",
   "metadata": {},
   "outputs": [
    {
     "data": {
      "text/plain": [
       "[]"
      ]
     },
     "execution_count": 18,
     "metadata": {},
     "output_type": "execute_result"
    }
   ],
   "source": [
    "ages[-8:3]"
   ]
  },
  {
   "cell_type": "code",
   "execution_count": 19,
   "id": "2006d470",
   "metadata": {},
   "outputs": [
    {
     "data": {
      "text/plain": [
       "[22, 11, 21, 44]"
      ]
     },
     "execution_count": 19,
     "metadata": {},
     "output_type": "execute_result"
    }
   ],
   "source": [
    "ages[-8:8]"
   ]
  },
  {
   "cell_type": "code",
   "execution_count": 20,
   "id": "b078d868",
   "metadata": {},
   "outputs": [
    {
     "data": {
      "text/plain": [
       "[22, 33, 11, 44]"
      ]
     },
     "execution_count": 20,
     "metadata": {},
     "output_type": "execute_result"
    }
   ],
   "source": [
    "ages[1:8:2]"
   ]
  },
  {
   "cell_type": "code",
   "execution_count": 21,
   "id": "aa7efc96",
   "metadata": {},
   "outputs": [
    {
     "data": {
      "text/plain": [
       "[22, 11, 12, 33, 44, 21]"
      ]
     },
     "execution_count": 21,
     "metadata": {},
     "output_type": "execute_result"
    }
   ],
   "source": [
    "ages[:5:-1]"
   ]
  },
  {
   "cell_type": "code",
   "execution_count": 22,
   "id": "04f8d4c2",
   "metadata": {},
   "outputs": [
    {
     "data": {
      "text/plain": [
       "[11, 22, 33, 44, 22, 21]"
      ]
     },
     "execution_count": 22,
     "metadata": {},
     "output_type": "execute_result"
    }
   ],
   "source": [
    "ages[5::-1]"
   ]
  },
  {
   "cell_type": "markdown",
   "id": "90525ccf",
   "metadata": {},
   "source": [
    "**Heterogeneous Data - Any type of datatype**"
   ]
  },
  {
   "cell_type": "code",
   "execution_count": 23,
   "id": "c2a6badf",
   "metadata": {},
   "outputs": [],
   "source": [
    "list1 = ['A',10,10.5,True]"
   ]
  },
  {
   "cell_type": "code",
   "execution_count": 24,
   "id": "055a4f54",
   "metadata": {},
   "outputs": [
    {
     "data": {
      "text/plain": [
       "list"
      ]
     },
     "execution_count": 24,
     "metadata": {},
     "output_type": "execute_result"
    }
   ],
   "source": [
    "type(list1)"
   ]
  },
  {
   "cell_type": "code",
   "execution_count": 28,
   "id": "03acb724",
   "metadata": {},
   "outputs": [
    {
     "data": {
      "text/plain": [
       "bool"
      ]
     },
     "execution_count": 28,
     "metadata": {},
     "output_type": "execute_result"
    }
   ],
   "source": [
    "type(list1[3])"
   ]
  },
  {
   "cell_type": "markdown",
   "id": "413c99fc",
   "metadata": {},
   "source": [
    "**Funtions associated with the lists**"
   ]
  },
  {
   "cell_type": "markdown",
   "id": "0247f1cb",
   "metadata": {},
   "source": [
    "**append()** - It will append (adds) a single value in the list at the last, however, if you want to add the multiple values you can append (add) as a list in the list i.e. list of list, it will not act as a single entity "
   ]
  },
  {
   "cell_type": "code",
   "execution_count": 30,
   "id": "49a83bc2",
   "metadata": {},
   "outputs": [],
   "source": [
    "ages.append(100)"
   ]
  },
  {
   "cell_type": "code",
   "execution_count": 32,
   "id": "626c3f5c",
   "metadata": {},
   "outputs": [
    {
     "ename": "TypeError",
     "evalue": "list.append() takes exactly one argument (3 given)",
     "output_type": "error",
     "traceback": [
      "\u001b[1;31m---------------------------------------------------------------------------\u001b[0m",
      "\u001b[1;31mTypeError\u001b[0m                                 Traceback (most recent call last)",
      "\u001b[1;32m~\\AppData\\Local\\Temp\\ipykernel_12600\\3704471316.py\u001b[0m in \u001b[0;36m<module>\u001b[1;34m\u001b[0m\n\u001b[1;32m----> 1\u001b[1;33m \u001b[0mages\u001b[0m\u001b[1;33m.\u001b[0m\u001b[0mappend\u001b[0m\u001b[1;33m(\u001b[0m\u001b[1;36m101\u001b[0m\u001b[1;33m,\u001b[0m\u001b[1;36m102\u001b[0m\u001b[1;33m,\u001b[0m\u001b[1;36m103\u001b[0m\u001b[1;33m)\u001b[0m\u001b[1;33m\u001b[0m\u001b[1;33m\u001b[0m\u001b[0m\n\u001b[0m",
      "\u001b[1;31mTypeError\u001b[0m: list.append() takes exactly one argument (3 given)"
     ]
    }
   ],
   "source": [
    "ages.append(101,102,103)"
   ]
  },
  {
   "cell_type": "code",
   "execution_count": 33,
   "id": "fad46825",
   "metadata": {},
   "outputs": [],
   "source": [
    "ages.append([101,102,103])"
   ]
  },
  {
   "cell_type": "code",
   "execution_count": 38,
   "id": "fba9a0f9",
   "metadata": {},
   "outputs": [
    {
     "data": {
      "text/plain": [
       "102"
      ]
     },
     "execution_count": 38,
     "metadata": {},
     "output_type": "execute_result"
    }
   ],
   "source": [
    "ages[-1][1]"
   ]
  },
  {
   "cell_type": "code",
   "execution_count": 40,
   "id": "5415b8e2",
   "metadata": {},
   "outputs": [],
   "source": [
    "del ages[-1]"
   ]
  },
  {
   "cell_type": "markdown",
   "id": "ee24d088",
   "metadata": {},
   "source": [
    "**clear()** - Clear will clear the entire list, that means it will remove all the values from the list and the list will still be there as an empty list"
   ]
  },
  {
   "cell_type": "code",
   "execution_count": 42,
   "id": "7b3b7e0d",
   "metadata": {},
   "outputs": [],
   "source": [
    "ages.clear()"
   ]
  },
  {
   "cell_type": "code",
   "execution_count": 45,
   "id": "19ec304d",
   "metadata": {},
   "outputs": [
    {
     "data": {
      "text/plain": [
       "[21, 22, 44, 33, 22, 11, 21, 44, 33, 12, 11, 22]"
      ]
     },
     "execution_count": 45,
     "metadata": {},
     "output_type": "execute_result"
    }
   ],
   "source": [
    "ages"
   ]
  },
  {
   "cell_type": "markdown",
   "id": "39dab136",
   "metadata": {},
   "source": [
    "**copy()** - Copy will create the proper backup, if we make any changes in the original list the copied list will not change, i.e. in the below example ages1 will not change as the changes will happen in ages"
   ]
  },
  {
   "cell_type": "code",
   "execution_count": 60,
   "id": "df14f472",
   "metadata": {},
   "outputs": [],
   "source": [
    "ages1 = ages.copy()"
   ]
  },
  {
   "cell_type": "markdown",
   "id": "b9901237",
   "metadata": {},
   "source": [
    "**Mutability - We can change the values in the list without changing the memory location of the original list**"
   ]
  },
  {
   "cell_type": "code",
   "execution_count": 109,
   "id": "c0fd63f4",
   "metadata": {},
   "outputs": [
    {
     "data": {
      "text/plain": [
       "1896806854080"
      ]
     },
     "execution_count": 109,
     "metadata": {},
     "output_type": "execute_result"
    }
   ],
   "source": [
    "id(ages)"
   ]
  },
  {
   "cell_type": "code",
   "execution_count": 111,
   "id": "6ec4a49d",
   "metadata": {},
   "outputs": [],
   "source": [
    "ages[3] = 'Rahul'"
   ]
  },
  {
   "cell_type": "code",
   "execution_count": 113,
   "id": "2fc52d47",
   "metadata": {},
   "outputs": [
    {
     "data": {
      "text/plain": [
       "1896806854080"
      ]
     },
     "execution_count": 113,
     "metadata": {},
     "output_type": "execute_result"
    }
   ],
   "source": [
    "id(ages)"
   ]
  },
  {
   "cell_type": "markdown",
   "id": "ffb86cf8",
   "metadata": {},
   "source": [
    "**To get the memory location we have the id() function**"
   ]
  },
  {
   "cell_type": "code",
   "execution_count": 69,
   "id": "a89b1c28",
   "metadata": {},
   "outputs": [
    {
     "data": {
      "text/plain": [
       "1896806854080"
      ]
     },
     "execution_count": 69,
     "metadata": {},
     "output_type": "execute_result"
    }
   ],
   "source": [
    "id(ages)"
   ]
  },
  {
   "cell_type": "code",
   "execution_count": 70,
   "id": "e041b96b",
   "metadata": {},
   "outputs": [
    {
     "data": {
      "text/plain": [
       "1896839365440"
      ]
     },
     "execution_count": 70,
     "metadata": {},
     "output_type": "execute_result"
    }
   ],
   "source": [
    "id(ages1)"
   ]
  },
  {
   "cell_type": "code",
   "execution_count": 63,
   "id": "24f46a9a",
   "metadata": {},
   "outputs": [],
   "source": [
    "ages2 = ages"
   ]
  },
  {
   "cell_type": "code",
   "execution_count": 71,
   "id": "dbb25af4",
   "metadata": {},
   "outputs": [
    {
     "data": {
      "text/plain": [
       "1896806854080"
      ]
     },
     "execution_count": 71,
     "metadata": {},
     "output_type": "execute_result"
    }
   ],
   "source": [
    "id(ages2)"
   ]
  },
  {
   "cell_type": "markdown",
   "id": "acd646b9",
   "metadata": {},
   "source": [
    "**ages2 will get deleted means the pointing will not longer exists** "
   ]
  },
  {
   "cell_type": "code",
   "execution_count": 72,
   "id": "bd63702d",
   "metadata": {},
   "outputs": [],
   "source": [
    "del ages2"
   ]
  },
  {
   "cell_type": "code",
   "execution_count": 74,
   "id": "9eaa32c8",
   "metadata": {},
   "outputs": [
    {
     "ename": "NameError",
     "evalue": "name 'ages2' is not defined",
     "output_type": "error",
     "traceback": [
      "\u001b[1;31m---------------------------------------------------------------------------\u001b[0m",
      "\u001b[1;31mNameError\u001b[0m                                 Traceback (most recent call last)",
      "\u001b[1;32m~\\AppData\\Local\\Temp\\ipykernel_12600\\1661805284.py\u001b[0m in \u001b[0;36m<module>\u001b[1;34m\u001b[0m\n\u001b[1;32m----> 1\u001b[1;33m \u001b[0mages2\u001b[0m\u001b[1;33m\u001b[0m\u001b[1;33m\u001b[0m\u001b[0m\n\u001b[0m",
      "\u001b[1;31mNameError\u001b[0m: name 'ages2' is not defined"
     ]
    }
   ],
   "source": [
    "ages2"
   ]
  },
  {
   "cell_type": "markdown",
   "id": "0f43b561",
   "metadata": {},
   "source": [
    "**count()** - Count will count the instance of a single value in the list, for example how many 22's are there in the ages list"
   ]
  },
  {
   "cell_type": "code",
   "execution_count": 75,
   "id": "5d0867c5",
   "metadata": {},
   "outputs": [
    {
     "data": {
      "text/plain": [
       "[100, 22, 44, 33, 22, 11, 21, 44, 33, 12, 11, 22]"
      ]
     },
     "execution_count": 75,
     "metadata": {},
     "output_type": "execute_result"
    }
   ],
   "source": [
    "ages"
   ]
  },
  {
   "cell_type": "code",
   "execution_count": 76,
   "id": "ee25792b",
   "metadata": {},
   "outputs": [
    {
     "data": {
      "text/plain": [
       "3"
      ]
     },
     "execution_count": 76,
     "metadata": {},
     "output_type": "execute_result"
    }
   ],
   "source": [
    "ages.count(22)"
   ]
  },
  {
   "cell_type": "markdown",
   "id": "8139b8de",
   "metadata": {},
   "source": [
    "**extend()** - When we have to add the multiple values as a single entity then we can go with the extend, thats why lists are growable in nature "
   ]
  },
  {
   "cell_type": "code",
   "execution_count": 77,
   "id": "d29941f2",
   "metadata": {},
   "outputs": [
    {
     "data": {
      "text/plain": [
       "[100, 22, 44, 33, 22, 11, 21, 44, 33, 12, 11, 22]"
      ]
     },
     "execution_count": 77,
     "metadata": {},
     "output_type": "execute_result"
    }
   ],
   "source": [
    "ages"
   ]
  },
  {
   "cell_type": "code",
   "execution_count": 79,
   "id": "2774ca92",
   "metadata": {},
   "outputs": [],
   "source": [
    "ages.extend([100,102,103])"
   ]
  },
  {
   "cell_type": "code",
   "execution_count": 80,
   "id": "8de5fbee",
   "metadata": {},
   "outputs": [
    {
     "data": {
      "text/plain": [
       "[100, 22, 44, 33, 22, 11, 21, 44, 33, 12, 11, 22, 100, 102, 103]"
      ]
     },
     "execution_count": 80,
     "metadata": {},
     "output_type": "execute_result"
    }
   ],
   "source": [
    "ages"
   ]
  },
  {
   "cell_type": "code",
   "execution_count": 81,
   "id": "10721db7",
   "metadata": {},
   "outputs": [
    {
     "data": {
      "text/plain": [
       "103"
      ]
     },
     "execution_count": 81,
     "metadata": {},
     "output_type": "execute_result"
    }
   ],
   "source": [
    "ages[-1]"
   ]
  },
  {
   "cell_type": "markdown",
   "id": "047f2ea3",
   "metadata": {},
   "source": [
    "**index()** - It will give the index of the first instance of the value which is passed in the function, in the below example we are looking for the index of 22 and it is giving us the index of the first instance of 22"
   ]
  },
  {
   "cell_type": "code",
   "execution_count": 82,
   "id": "7677a927",
   "metadata": {},
   "outputs": [
    {
     "data": {
      "text/plain": [
       "1"
      ]
     },
     "execution_count": 82,
     "metadata": {},
     "output_type": "execute_result"
    }
   ],
   "source": [
    "ages.index(22)"
   ]
  },
  {
   "cell_type": "markdown",
   "id": "e3550084",
   "metadata": {},
   "source": [
    "**insert()** - If we want to add a single entity at any index we can go with insert, if we try to pass a list of values at the particular index it will insert that entire list as a single entity"
   ]
  },
  {
   "cell_type": "code",
   "execution_count": 83,
   "id": "d371e1f0",
   "metadata": {},
   "outputs": [
    {
     "data": {
      "text/plain": [
       "[100, 22, 44, 33, 22, 11, 21, 44, 33, 12, 11, 22, 100, 102, 103]"
      ]
     },
     "execution_count": 83,
     "metadata": {},
     "output_type": "execute_result"
    }
   ],
   "source": [
    "ages"
   ]
  },
  {
   "cell_type": "code",
   "execution_count": 84,
   "id": "88cf7415",
   "metadata": {},
   "outputs": [],
   "source": [
    "ages.insert(8,40)"
   ]
  },
  {
   "cell_type": "code",
   "execution_count": 86,
   "id": "a56b071d",
   "metadata": {},
   "outputs": [],
   "source": [
    "ages.insert(8,[1,2,3,4,5])"
   ]
  },
  {
   "cell_type": "code",
   "execution_count": 89,
   "id": "37beda80",
   "metadata": {},
   "outputs": [],
   "source": [
    "del ages[8]"
   ]
  },
  {
   "cell_type": "markdown",
   "id": "91284f6c",
   "metadata": {},
   "source": [
    "**pop()** - By default it will remove the last value, however, if we pass an index, it will remove that index value, in the below example we are removing the value with index as 3"
   ]
  },
  {
   "cell_type": "code",
   "execution_count": 93,
   "id": "07eda881",
   "metadata": {},
   "outputs": [
    {
     "data": {
      "text/plain": [
       "102"
      ]
     },
     "execution_count": 93,
     "metadata": {},
     "output_type": "execute_result"
    }
   ],
   "source": [
    "ages.pop()"
   ]
  },
  {
   "cell_type": "code",
   "execution_count": 96,
   "id": "7c05d884",
   "metadata": {},
   "outputs": [
    {
     "data": {
      "text/plain": [
       "33"
      ]
     },
     "execution_count": 96,
     "metadata": {},
     "output_type": "execute_result"
    }
   ],
   "source": [
    "ages.pop(3)"
   ]
  },
  {
   "cell_type": "markdown",
   "id": "b5aafff3",
   "metadata": {},
   "source": [
    "**remove()** - We can remove the value by passing the value itself inside the function, and it will remove the first instance of the value, in the below example we are removing 100"
   ]
  },
  {
   "cell_type": "code",
   "execution_count": 98,
   "id": "40f21f55",
   "metadata": {},
   "outputs": [],
   "source": [
    "ages.remove(100)"
   ]
  },
  {
   "cell_type": "code",
   "execution_count": 99,
   "id": "95a46ef9",
   "metadata": {},
   "outputs": [
    {
     "data": {
      "text/plain": [
       "[22, 44, 22, 11, 21, 44, 40, 33, 12, 11, 22, 100]"
      ]
     },
     "execution_count": 99,
     "metadata": {},
     "output_type": "execute_result"
    }
   ],
   "source": [
    "ages"
   ]
  },
  {
   "cell_type": "markdown",
   "id": "5d595a51",
   "metadata": {},
   "source": [
    "**Difference between remove() and pop()** - In the remove command we can remove the values by passing the value itself, in the pop command we can remove the last value by not passing anything inside the function or we can remove the value by passing the index of that value"
   ]
  },
  {
   "cell_type": "markdown",
   "id": "f9d363f2",
   "metadata": {},
   "source": [
    "**reverse()** - It will flip the list"
   ]
  },
  {
   "cell_type": "code",
   "execution_count": 101,
   "id": "6c727e45",
   "metadata": {},
   "outputs": [
    {
     "data": {
      "text/plain": [
       "[22, 44, 22, 11, 21, 44, 40, 33, 12, 11, 22, 100]"
      ]
     },
     "execution_count": 101,
     "metadata": {},
     "output_type": "execute_result"
    }
   ],
   "source": [
    "ages"
   ]
  },
  {
   "cell_type": "code",
   "execution_count": 102,
   "id": "72b95f7e",
   "metadata": {},
   "outputs": [],
   "source": [
    "ages.reverse()"
   ]
  },
  {
   "cell_type": "code",
   "execution_count": 103,
   "id": "c554a352",
   "metadata": {},
   "outputs": [
    {
     "data": {
      "text/plain": [
       "[100, 22, 11, 12, 33, 40, 44, 21, 11, 22, 44, 22]"
      ]
     },
     "execution_count": 103,
     "metadata": {},
     "output_type": "execute_result"
    }
   ],
   "source": [
    "ages"
   ]
  },
  {
   "cell_type": "markdown",
   "id": "deec86dd",
   "metadata": {},
   "source": [
    "**sort()** - By default sorting always happens in the ascending order, but if we want the sorting in the descending order then we can use the reverse argument inside the sort function"
   ]
  },
  {
   "cell_type": "code",
   "execution_count": 104,
   "id": "2f570d27",
   "metadata": {},
   "outputs": [],
   "source": [
    "ages.sort()"
   ]
  },
  {
   "cell_type": "code",
   "execution_count": 106,
   "id": "08e83b2f",
   "metadata": {},
   "outputs": [],
   "source": [
    "ages.sort(reverse=True)"
   ]
  },
  {
   "cell_type": "code",
   "execution_count": 107,
   "id": "83fa5618",
   "metadata": {},
   "outputs": [
    {
     "data": {
      "text/plain": [
       "[100, 44, 44, 40, 33, 22, 22, 22, 21, 12, 11, 11]"
      ]
     },
     "execution_count": 107,
     "metadata": {},
     "output_type": "execute_result"
    }
   ],
   "source": [
    "ages"
   ]
  },
  {
   "cell_type": "markdown",
   "id": "4284e8d1",
   "metadata": {},
   "source": [
    "# Tuples"
   ]
  },
  {
   "cell_type": "markdown",
   "id": "2b3f8b71",
   "metadata": {},
   "source": [
    "**When we have to store the multiple values**\n",
    "\n",
    "**Properties of the Tuples**\n",
    "\n",
    "**1) Duplicates are allowed**\n",
    "\n",
    "**2) Heterogeneous Data Allowed - Any type of datatype in a single tuples**\n",
    "\n",
    "**3) Immutable in Nature - Addition, removal, updation is not possible in the tuples**\n",
    "\n",
    "**4) Tuples are created using the normal bracket only**\n",
    "\n",
    "**5) No growable in nature**"
   ]
  },
  {
   "cell_type": "code",
   "execution_count": 125,
   "id": "fb851241",
   "metadata": {},
   "outputs": [],
   "source": [
    "salary = (21,23,22,33,33,22,33,11,25,65)"
   ]
  },
  {
   "cell_type": "code",
   "execution_count": 115,
   "id": "c3ba9a5f",
   "metadata": {},
   "outputs": [
    {
     "data": {
      "text/plain": [
       "tuple"
      ]
     },
     "execution_count": 115,
     "metadata": {},
     "output_type": "execute_result"
    }
   ],
   "source": [
    "type(salary)"
   ]
  },
  {
   "cell_type": "markdown",
   "id": "472e90d6",
   "metadata": {},
   "source": [
    "**Slicing concept remains the same**"
   ]
  },
  {
   "cell_type": "code",
   "execution_count": 116,
   "id": "150caac0",
   "metadata": {},
   "outputs": [],
   "source": [
    "tuple1 = (10,'A',10.5,True)"
   ]
  },
  {
   "cell_type": "code",
   "execution_count": 122,
   "id": "068f9f71",
   "metadata": {},
   "outputs": [
    {
     "data": {
      "text/plain": [
       "bool"
      ]
     },
     "execution_count": 122,
     "metadata": {},
     "output_type": "execute_result"
    }
   ],
   "source": [
    "type(tuple1[3])"
   ]
  },
  {
   "cell_type": "markdown",
   "id": "ed59ab44",
   "metadata": {},
   "source": [
    "**count()** - Count will count the instance of a single value in the tuple, for example how many 33's are there in the salary tuple"
   ]
  },
  {
   "cell_type": "code",
   "execution_count": 126,
   "id": "a4f706de",
   "metadata": {},
   "outputs": [
    {
     "data": {
      "text/plain": [
       "3"
      ]
     },
     "execution_count": 126,
     "metadata": {},
     "output_type": "execute_result"
    }
   ],
   "source": [
    "salary.count(33)"
   ]
  },
  {
   "cell_type": "markdown",
   "id": "3c4fd677",
   "metadata": {},
   "source": [
    "**index()** - It will give the index of the first instance of the value which is passed in the function, in the below example we are looking for the index of 22 and it is giving us the index of the first instance of 22"
   ]
  },
  {
   "cell_type": "code",
   "execution_count": 128,
   "id": "95371ddf",
   "metadata": {},
   "outputs": [
    {
     "data": {
      "text/plain": [
       "2"
      ]
     },
     "execution_count": 128,
     "metadata": {},
     "output_type": "execute_result"
    }
   ],
   "source": [
    "salary.index(22)"
   ]
  },
  {
   "cell_type": "code",
   "execution_count": 130,
   "id": "e7587c60",
   "metadata": {},
   "outputs": [],
   "source": [
    "del tuple1"
   ]
  },
  {
   "cell_type": "code",
   "execution_count": 131,
   "id": "ea7841b7",
   "metadata": {},
   "outputs": [
    {
     "data": {
      "text/plain": [
       "288"
      ]
     },
     "execution_count": 131,
     "metadata": {},
     "output_type": "execute_result"
    }
   ],
   "source": [
    "sum(salary)"
   ]
  },
  {
   "cell_type": "code",
   "execution_count": 132,
   "id": "e28ded7f",
   "metadata": {},
   "outputs": [
    {
     "data": {
      "text/plain": [
       "10"
      ]
     },
     "execution_count": 132,
     "metadata": {},
     "output_type": "execute_result"
    }
   ],
   "source": [
    "len(salary)"
   ]
  },
  {
   "cell_type": "code",
   "execution_count": 133,
   "id": "0a5466fb",
   "metadata": {},
   "outputs": [
    {
     "data": {
      "text/plain": [
       "65"
      ]
     },
     "execution_count": 133,
     "metadata": {},
     "output_type": "execute_result"
    }
   ],
   "source": [
    "max(salary)"
   ]
  },
  {
   "cell_type": "code",
   "execution_count": 134,
   "id": "2f95e044",
   "metadata": {},
   "outputs": [
    {
     "data": {
      "text/plain": [
       "11"
      ]
     },
     "execution_count": 134,
     "metadata": {},
     "output_type": "execute_result"
    }
   ],
   "source": [
    "min(salary)"
   ]
  },
  {
   "cell_type": "markdown",
   "id": "c4d0b86e",
   "metadata": {},
   "source": [
    "**Immutable in nature, we cannot update the tuple**"
   ]
  },
  {
   "cell_type": "code",
   "execution_count": 137,
   "id": "bba87c77",
   "metadata": {},
   "outputs": [
    {
     "ename": "TypeError",
     "evalue": "'tuple' object does not support item assignment",
     "output_type": "error",
     "traceback": [
      "\u001b[1;31m---------------------------------------------------------------------------\u001b[0m",
      "\u001b[1;31mTypeError\u001b[0m                                 Traceback (most recent call last)",
      "\u001b[1;32m~\\AppData\\Local\\Temp\\ipykernel_12600\\3205747959.py\u001b[0m in \u001b[0;36m<module>\u001b[1;34m\u001b[0m\n\u001b[1;32m----> 1\u001b[1;33m \u001b[0msalary\u001b[0m\u001b[1;33m[\u001b[0m\u001b[1;36m0\u001b[0m\u001b[1;33m]\u001b[0m\u001b[1;33m=\u001b[0m\u001b[1;36m22\u001b[0m\u001b[1;33m\u001b[0m\u001b[1;33m\u001b[0m\u001b[0m\n\u001b[0m",
      "\u001b[1;31mTypeError\u001b[0m: 'tuple' object does not support item assignment"
     ]
    }
   ],
   "source": [
    "salary[0]=22"
   ]
  },
  {
   "cell_type": "markdown",
   "id": "8b323e47",
   "metadata": {},
   "source": [
    "**We can use the sorted command which is inbuild function in python to sort the tuple, however there is no sort command specific for tuples**"
   ]
  },
  {
   "cell_type": "code",
   "execution_count": 138,
   "id": "f5bd081f",
   "metadata": {},
   "outputs": [
    {
     "data": {
      "text/plain": [
       "[11, 21, 22, 22, 23, 25, 33, 33, 33, 65]"
      ]
     },
     "execution_count": 138,
     "metadata": {},
     "output_type": "execute_result"
    }
   ],
   "source": [
    "sorted(salary)"
   ]
  },
  {
   "cell_type": "code",
   "execution_count": 139,
   "id": "1fc88b30",
   "metadata": {},
   "outputs": [
    {
     "data": {
      "text/plain": [
       "(21, 23, 22, 33, 33, 22, 33, 11, 25, 65)"
      ]
     },
     "execution_count": 139,
     "metadata": {},
     "output_type": "execute_result"
    }
   ],
   "source": [
    "salary"
   ]
  },
  {
   "cell_type": "markdown",
   "id": "39c544dd",
   "metadata": {},
   "source": [
    "**Type casting**"
   ]
  },
  {
   "cell_type": "code",
   "execution_count": 140,
   "id": "8b939c83",
   "metadata": {},
   "outputs": [
    {
     "data": {
      "text/plain": [
       "(21, 23, 22, 33, 33, 22, 33, 11, 25, 65)"
      ]
     },
     "execution_count": 140,
     "metadata": {},
     "output_type": "execute_result"
    }
   ],
   "source": [
    "salary"
   ]
  },
  {
   "cell_type": "code",
   "execution_count": 141,
   "id": "81e6306f",
   "metadata": {},
   "outputs": [
    {
     "data": {
      "text/plain": [
       "1896841762496"
      ]
     },
     "execution_count": 141,
     "metadata": {},
     "output_type": "execute_result"
    }
   ],
   "source": [
    "id(salary)"
   ]
  },
  {
   "cell_type": "code",
   "execution_count": 142,
   "id": "f98a8358",
   "metadata": {},
   "outputs": [],
   "source": [
    "list1 = list(salary)"
   ]
  },
  {
   "cell_type": "code",
   "execution_count": 145,
   "id": "3e30d8ed",
   "metadata": {},
   "outputs": [],
   "source": [
    "list1[0]=100"
   ]
  },
  {
   "cell_type": "code",
   "execution_count": 147,
   "id": "caf23ecf",
   "metadata": {},
   "outputs": [],
   "source": [
    "salary = tuple(list1)"
   ]
  },
  {
   "cell_type": "code",
   "execution_count": 148,
   "id": "62a220d0",
   "metadata": {},
   "outputs": [
    {
     "data": {
      "text/plain": [
       "(100, 23, 22, 33, 33, 22, 33, 11, 25, 65)"
      ]
     },
     "execution_count": 148,
     "metadata": {},
     "output_type": "execute_result"
    }
   ],
   "source": [
    "salary"
   ]
  },
  {
   "cell_type": "code",
   "execution_count": 149,
   "id": "65ab2c40",
   "metadata": {},
   "outputs": [
    {
     "data": {
      "text/plain": [
       "1896840971840"
      ]
     },
     "execution_count": 149,
     "metadata": {},
     "output_type": "execute_result"
    }
   ],
   "source": [
    "id(salary)"
   ]
  },
  {
   "cell_type": "markdown",
   "id": "4514bce9",
   "metadata": {},
   "source": [
    "**In the above example we have updated the tuple but at the same time the memory location also got updated, that means you have overwritten the tuple - That is not mutability**"
   ]
  },
  {
   "cell_type": "markdown",
   "id": "83816d85",
   "metadata": {},
   "source": [
    "# Where to use Lists and where to use tuples"
   ]
  },
  {
   "cell_type": "markdown",
   "id": "674109dc",
   "metadata": {},
   "source": [
    "**Lists - We can use lists where we know that the values will change quite frequently, names of the female employees where every female employee may change the name after marriage**"
   ]
  },
  {
   "cell_type": "markdown",
   "id": "d52068cb",
   "metadata": {},
   "source": [
    "**Tuples - We can use tuples where we know that the values will never or very less frequently changes, states names etc**"
   ]
  },
  {
   "cell_type": "markdown",
   "id": "0dd6821c",
   "metadata": {},
   "source": [
    "# TA Questions"
   ]
  },
  {
   "cell_type": "markdown",
   "id": "e28da3ce",
   "metadata": {},
   "source": [
    "**1) Which of the following data structures is immutable?**\n",
    "\n",
    "    a) List\n",
    "    b) Dictionary\n",
    "    c) Tuple - Correct answer\n",
    "    d) Set"
   ]
  },
  {
   "cell_type": "markdown",
   "id": "5912b351",
   "metadata": {},
   "source": [
    "**2) Which of the following is not the property of list in python?**\n",
    "\n",
    "    a) List is represented by [] brackets \n",
    "    b) List supports negative indexing\n",
    "    c) List does not maintain the order - Correct Answer\n",
    "    d) Lists are mutable in nature\n",
    "    "
   ]
  },
  {
   "cell_type": "markdown",
   "id": "c0f0ff0b",
   "metadata": {},
   "source": [
    "**3) Select the correct code from below options to fetch 89 from the given list**\n",
    "\n",
    "    ls = [45,34,[35,76,[89],0,-1]]\n",
    "    \n",
    "    a) ls[2][2][0] - Correct Answer\n",
    "    b) ls[3][2][1]\n",
    "    c) ls[4][2]\n",
    "    d) ls[3][3]"
   ]
  },
  {
   "cell_type": "markdown",
   "id": "ca4922d8",
   "metadata": {},
   "source": [
    "**4) Complete the below python code to get the mentioned output**\n",
    "\n",
    "    Code: \n",
    "        list1 = [\"Python\",\"Java\",\"Spark\"]\n",
    "        list2 = [\"C\",\"C++\",\"C#\"]\n",
    "        list1._____(list2)\n",
    "        print(list1)\n",
    "        \n",
    "    Output: \n",
    "        [\"Python\",\"Java\",\"Spark\",\"C\",\"C++\",\"C#\"]\n",
    "        \n",
    "    a) append\n",
    "    b) extend - Correct Answer\n",
    "    c) add\n",
    "    d) merge"
   ]
  },
  {
   "cell_type": "markdown",
   "id": "37f0eedf",
   "metadata": {},
   "source": [
    "**5) What will be the output of the following code**\n",
    "\n",
    "    Code:\n",
    "        ls = [\"Data\",\"Science\"]\n",
    "        print(\"-\".join(ls))\n",
    "        \n",
    "    a) Data-Science - Correct Answer\n",
    "    b) -DataScience\n",
    "    c) DataScience-\n",
    "    d) -Data-Science-"
   ]
  },
  {
   "cell_type": "markdown",
   "id": "e72d1fcc",
   "metadata": {},
   "source": [
    "**6) Assume a tuple T is defined as T = (4,1,8,9,0). Which of the following below set of code will throw the error**\n",
    "\n",
    "    a) print(T[-1])\n",
    "    b) print(len(T))\n",
    "    c) print(max(T))\n",
    "    d) T[3] = 7 - Correct Answer"
   ]
  },
  {
   "cell_type": "markdown",
   "id": "0b5b4f66",
   "metadata": {},
   "source": [
    "**7) Which of the following is a common function of list and tuple?**\n",
    "    \n",
    "    a) sort\n",
    "    b) extend\n",
    "    c) count - Correct Answer\n",
    "    d) pop"
   ]
  },
  {
   "cell_type": "markdown",
   "id": "8ddcd32f",
   "metadata": {},
   "source": [
    "**8) What will be the output of following pseudocode:**\n",
    "    \n",
    "    Step1: Initialize an empty list\n",
    "    Step2: Add a new element 5 in the list\n",
    "    Step3: Add the first 3 multiples of 2 in the list in the end\n",
    "    Step4: Remove the last element\n",
    "    Step5: Print the list\n",
    "    \n",
    "    a) [5,2,4] - Correct Answer\n",
    "    b) [2,4,6]\n",
    "    c) [5,2,3]\n",
    "    d) [5,2,6]\n",
    "    "
   ]
  },
  {
   "cell_type": "markdown",
   "id": "8f0feaa9",
   "metadata": {},
   "source": [
    "**How to initialize the empty list**\n"
   ]
  },
  {
   "cell_type": "code",
   "execution_count": 152,
   "id": "bdb52ca1",
   "metadata": {},
   "outputs": [],
   "source": [
    "List1 = []"
   ]
  },
  {
   "cell_type": "code",
   "execution_count": 154,
   "id": "205c1a68",
   "metadata": {},
   "outputs": [],
   "source": [
    "List1.append(5)"
   ]
  },
  {
   "cell_type": "code",
   "execution_count": 155,
   "id": "ff6e865e",
   "metadata": {},
   "outputs": [],
   "source": [
    "List1.extend([2,4,6])"
   ]
  },
  {
   "cell_type": "code",
   "execution_count": 156,
   "id": "8bfa0fb9",
   "metadata": {},
   "outputs": [
    {
     "data": {
      "text/plain": [
       "6"
      ]
     },
     "execution_count": 156,
     "metadata": {},
     "output_type": "execute_result"
    }
   ],
   "source": [
    "List1.pop(-1)"
   ]
  },
  {
   "cell_type": "code",
   "execution_count": 157,
   "id": "369f2e4f",
   "metadata": {},
   "outputs": [
    {
     "data": {
      "text/plain": [
       "[5, 2, 4]"
      ]
     },
     "execution_count": 157,
     "metadata": {},
     "output_type": "execute_result"
    }
   ],
   "source": [
    "List1"
   ]
  },
  {
   "cell_type": "markdown",
   "id": "772f4721",
   "metadata": {},
   "source": [
    "**9) What will be the output of the following code**\n",
    "\n",
    "    List1 = [2,4,6,8,0]\n",
    "    List2 = [3,5,7,9,1]\n",
    "    \n",
    "    List1.extend(List2[::-1])\n",
    "    List1.sort()\n",
    "    print(List1.pop())\n",
    "    \n",
    "    a) 6\n",
    "    b) 7\n",
    "    c) 8\n",
    "    d) 9 - Correct Answer"
   ]
  },
  {
   "cell_type": "code",
   "execution_count": 164,
   "id": "3193a7cd",
   "metadata": {},
   "outputs": [
    {
     "name": "stdout",
     "output_type": "stream",
     "text": [
      "9\n"
     ]
    }
   ],
   "source": [
    "List1 = [2,4,6,8,0]\n",
    "List2 = [3,5,7,9,1]\n",
    "    \n",
    "List1.extend(List2[::-1])\n",
    "List1.sort()\n",
    "print(List1.pop())"
   ]
  },
  {
   "cell_type": "markdown",
   "id": "ec4c9843",
   "metadata": {},
   "source": [
    "**10) What will be the output of the following code**\n",
    "    \n",
    "    tuple1 = (1,3,5,7)\n",
    "    tuple2 = (2,4,6,8)\n",
    "    list1 = []\n",
    "    list1.append(tuple1[-1])\n",
    "    list1.append(tuple2[2])\n",
    "    list2 = sorted(list1)\n",
    "    list3 = list2 + list1\n",
    "    list3.remove(3)\n",
    "    print(list3)\n",
    "    \n",
    "    a) [6,7,6] \n",
    "    b) [5,6,5]\n",
    "    c) IndexError\n",
    "    d) [2,3,2]\n",
    "    e) Value not present error - Correct Answer"
   ]
  },
  {
   "cell_type": "code",
   "execution_count": 165,
   "id": "54b95cb6",
   "metadata": {},
   "outputs": [
    {
     "ename": "ValueError",
     "evalue": "list.remove(x): x not in list",
     "output_type": "error",
     "traceback": [
      "\u001b[1;31m---------------------------------------------------------------------------\u001b[0m",
      "\u001b[1;31mValueError\u001b[0m                                Traceback (most recent call last)",
      "\u001b[1;32m~\\AppData\\Local\\Temp\\ipykernel_12600\\3020159846.py\u001b[0m in \u001b[0;36m<module>\u001b[1;34m\u001b[0m\n\u001b[0;32m      6\u001b[0m \u001b[0mlist2\u001b[0m \u001b[1;33m=\u001b[0m \u001b[0msorted\u001b[0m\u001b[1;33m(\u001b[0m\u001b[0mlist1\u001b[0m\u001b[1;33m)\u001b[0m\u001b[1;33m\u001b[0m\u001b[1;33m\u001b[0m\u001b[0m\n\u001b[0;32m      7\u001b[0m \u001b[0mlist3\u001b[0m \u001b[1;33m=\u001b[0m \u001b[0mlist2\u001b[0m \u001b[1;33m+\u001b[0m \u001b[0mlist1\u001b[0m\u001b[1;33m\u001b[0m\u001b[1;33m\u001b[0m\u001b[0m\n\u001b[1;32m----> 8\u001b[1;33m \u001b[0mlist3\u001b[0m\u001b[1;33m.\u001b[0m\u001b[0mremove\u001b[0m\u001b[1;33m(\u001b[0m\u001b[1;36m3\u001b[0m\u001b[1;33m)\u001b[0m\u001b[1;33m\u001b[0m\u001b[1;33m\u001b[0m\u001b[0m\n\u001b[0m\u001b[0;32m      9\u001b[0m \u001b[0mprint\u001b[0m\u001b[1;33m(\u001b[0m\u001b[0mlist3\u001b[0m\u001b[1;33m)\u001b[0m\u001b[1;33m\u001b[0m\u001b[1;33m\u001b[0m\u001b[0m\n",
      "\u001b[1;31mValueError\u001b[0m: list.remove(x): x not in list"
     ]
    }
   ],
   "source": [
    "tuple1 = (1,3,5,7)\n",
    "tuple2 = (2,4,6,8)\n",
    "list1 = []\n",
    "list1.append(tuple1[-1])\n",
    "list1.append(tuple2[2])\n",
    "list2 = sorted(list1)\n",
    "list3 = list2 + list1\n",
    "list3.remove(3)\n",
    "print(list3)"
   ]
  },
  {
   "cell_type": "markdown",
   "id": "5614779c",
   "metadata": {},
   "source": [
    "**11) Select the correct option to get the given output from the given list**\n",
    "\n",
    "    Code: \n",
    "        List1 = [\"India\",\"UK\",\"USA\",\"England\"]\n",
    "        Output:\n",
    "            [\"USA\",\"UK\",\"India\",\"England\"]\n",
    "            \n",
    "    a) print(list1.sorted())\n",
    "    b) print(list1.sort())\n",
    "    c) print(list1.sort(reverse = True)) - Correct Answer\n",
    "    d) print(sorted(list1), reverse = True)"
   ]
  }
 ],
 "metadata": {
  "kernelspec": {
   "display_name": "Python 3 (ipykernel)",
   "language": "python",
   "name": "python3"
  },
  "language_info": {
   "codemirror_mode": {
    "name": "ipython",
    "version": 3
   },
   "file_extension": ".py",
   "mimetype": "text/x-python",
   "name": "python",
   "nbconvert_exporter": "python",
   "pygments_lexer": "ipython3",
   "version": "3.9.13"
  }
 },
 "nbformat": 4,
 "nbformat_minor": 5
}
