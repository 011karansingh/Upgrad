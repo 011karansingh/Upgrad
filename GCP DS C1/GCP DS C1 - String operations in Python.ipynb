{
 "cells": [
  {
   "cell_type": "markdown",
   "id": "f051c541",
   "metadata": {},
   "source": [
    "# String Operations in Python"
   ]
  },
  {
   "cell_type": "code",
   "execution_count": 15,
   "id": "28844662",
   "metadata": {},
   "outputs": [],
   "source": [
    "company = 'Accenture'"
   ]
  },
  {
   "cell_type": "code",
   "execution_count": 5,
   "id": "bbba7ab7",
   "metadata": {},
   "outputs": [
    {
     "data": {
      "text/plain": [
       "str"
      ]
     },
     "execution_count": 5,
     "metadata": {},
     "output_type": "execute_result"
    }
   ],
   "source": [
    "type(company)"
   ]
  },
  {
   "cell_type": "markdown",
   "id": "22d670e6",
   "metadata": {},
   "source": [
    "**Index will help us to get the position, Index in Python starts with 0. To do the slicing you have to always use the square bracket**"
   ]
  },
  {
   "cell_type": "code",
   "execution_count": 16,
   "id": "8bcf7549",
   "metadata": {},
   "outputs": [
    {
     "data": {
      "text/plain": [
       "'t'"
      ]
     },
     "execution_count": 16,
     "metadata": {},
     "output_type": "execute_result"
    }
   ],
   "source": [
    "company[5]"
   ]
  },
  {
   "cell_type": "markdown",
   "id": "6f6cde30",
   "metadata": {},
   "source": [
    "**Slicing will always happen from left to right by default, we have to pass -1 as a parameter to do the slicing from right to left**"
   ]
  },
  {
   "cell_type": "code",
   "execution_count": 20,
   "id": "64a58bc3",
   "metadata": {},
   "outputs": [
    {
     "data": {
      "text/plain": [
       "'tur'"
      ]
     },
     "execution_count": 20,
     "metadata": {},
     "output_type": "execute_result"
    }
   ],
   "source": [
    "company[5:8:1]"
   ]
  },
  {
   "cell_type": "code",
   "execution_count": 23,
   "id": "7baa4be7",
   "metadata": {},
   "outputs": [
    {
     "data": {
      "text/plain": [
       "'erutne'"
      ]
     },
     "execution_count": 23,
     "metadata": {},
     "output_type": "execute_result"
    }
   ],
   "source": [
    "company[8:2:-1]"
   ]
  },
  {
   "cell_type": "code",
   "execution_count": 19,
   "id": "136a94f3",
   "metadata": {},
   "outputs": [
    {
     "data": {
      "text/plain": [
       "''"
      ]
     },
     "execution_count": 19,
     "metadata": {},
     "output_type": "execute_result"
    }
   ],
   "source": [
    "company[2:9:-1]"
   ]
  },
  {
   "cell_type": "code",
   "execution_count": 24,
   "id": "5fd5eccb",
   "metadata": {},
   "outputs": [
    {
     "data": {
      "text/plain": [
       "'n'"
      ]
     },
     "execution_count": 24,
     "metadata": {},
     "output_type": "execute_result"
    }
   ],
   "source": [
    "company[4]"
   ]
  },
  {
   "cell_type": "code",
   "execution_count": 25,
   "id": "d7a5cc5d",
   "metadata": {},
   "outputs": [
    {
     "data": {
      "text/plain": [
       "'n'"
      ]
     },
     "execution_count": 25,
     "metadata": {},
     "output_type": "execute_result"
    }
   ],
   "source": [
    "company[-5]"
   ]
  },
  {
   "cell_type": "code",
   "execution_count": 26,
   "id": "3f58a6c8",
   "metadata": {},
   "outputs": [
    {
     "data": {
      "text/plain": [
       "'ccentu'"
      ]
     },
     "execution_count": 26,
     "metadata": {},
     "output_type": "execute_result"
    }
   ],
   "source": [
    "company[-8:7]"
   ]
  },
  {
   "cell_type": "code",
   "execution_count": 29,
   "id": "52f14d49",
   "metadata": {},
   "outputs": [
    {
     "data": {
      "text/plain": [
       "'unc'"
      ]
     },
     "execution_count": 29,
     "metadata": {},
     "output_type": "execute_result"
    }
   ],
   "source": [
    "company[6:-8:-2]"
   ]
  },
  {
   "cell_type": "code",
   "execution_count": 30,
   "id": "4b126f97",
   "metadata": {},
   "outputs": [
    {
     "data": {
      "text/plain": [
       "'cet'"
      ]
     },
     "execution_count": 30,
     "metadata": {},
     "output_type": "execute_result"
    }
   ],
   "source": [
    "company[1:7:2]"
   ]
  },
  {
   "cell_type": "markdown",
   "id": "8f7eac1d",
   "metadata": {},
   "source": [
    "# For Loops "
   ]
  },
  {
   "cell_type": "code",
   "execution_count": 37,
   "id": "e085c20f",
   "metadata": {},
   "outputs": [
    {
     "data": {
      "text/plain": [
       "'Accenture'"
      ]
     },
     "execution_count": 37,
     "metadata": {},
     "output_type": "execute_result"
    }
   ],
   "source": [
    "company"
   ]
  },
  {
   "cell_type": "markdown",
   "id": "39fe76e0",
   "metadata": {},
   "source": [
    "**Purpose of for loop is to iterate on something, in the below example it is range(0,9)**"
   ]
  },
  {
   "cell_type": "code",
   "execution_count": 38,
   "id": "8a838a43",
   "metadata": {},
   "outputs": [],
   "source": [
    "#for i in something:\n",
    "#    getoutput"
   ]
  },
  {
   "cell_type": "code",
   "execution_count": 40,
   "id": "b8135a5d",
   "metadata": {},
   "outputs": [
    {
     "data": {
      "text/plain": [
       "9"
      ]
     },
     "execution_count": 40,
     "metadata": {},
     "output_type": "execute_result"
    }
   ],
   "source": [
    "len(company)"
   ]
  },
  {
   "cell_type": "code",
   "execution_count": 48,
   "id": "92bd8b7f",
   "metadata": {},
   "outputs": [
    {
     "data": {
      "text/plain": [
       "[0, 1, 2, 3, 4, 5, 6, 7, 8]"
      ]
     },
     "execution_count": 48,
     "metadata": {},
     "output_type": "execute_result"
    }
   ],
   "source": [
    "list(range(0,len(company)))"
   ]
  },
  {
   "cell_type": "code",
   "execution_count": 41,
   "id": "d18ef070",
   "metadata": {},
   "outputs": [
    {
     "data": {
      "text/plain": [
       "[0, 1, 2, 3, 4, 5, 6, 7, 8]"
      ]
     },
     "execution_count": 41,
     "metadata": {},
     "output_type": "execute_result"
    }
   ],
   "source": [
    "list(range(0,9))"
   ]
  },
  {
   "cell_type": "code",
   "execution_count": 49,
   "id": "6c1bfdf9",
   "metadata": {},
   "outputs": [
    {
     "name": "stdout",
     "output_type": "stream",
     "text": [
      "A\n",
      "c\n",
      "c\n",
      "e\n",
      "n\n",
      "t\n",
      "u\n",
      "r\n",
      "e\n"
     ]
    }
   ],
   "source": [
    "for i in range(0,len(company)):\n",
    "    print(company[i])"
   ]
  },
  {
   "cell_type": "markdown",
   "id": "0798d4ae",
   "metadata": {},
   "source": [
    "# while loops"
   ]
  },
  {
   "cell_type": "markdown",
   "id": "795fcc00",
   "metadata": {},
   "source": [
    "**Till the time the condition is True the loop will run, and it will terminate once False encounters**"
   ]
  },
  {
   "cell_type": "code",
   "execution_count": 50,
   "id": "aa564421",
   "metadata": {},
   "outputs": [],
   "source": [
    "#while condition:\n",
    "#    getoutput"
   ]
  },
  {
   "cell_type": "code",
   "execution_count": 51,
   "id": "a82d8bf8",
   "metadata": {},
   "outputs": [
    {
     "name": "stdout",
     "output_type": "stream",
     "text": [
      "There are 5 coupouns left\n",
      "There are 4 coupouns left\n",
      "There are 3 coupouns left\n",
      "There are 2 coupouns left\n",
      "There are 1 coupouns left\n",
      "There are 0 coupouns left\n"
     ]
    }
   ],
   "source": [
    "coupouns = 5\n",
    "utilized = 0 \n",
    "while utilized<=coupouns:\n",
    "    print('There are', coupouns-utilized, 'coupouns left')\n",
    "    utilized=utilized+1"
   ]
  },
  {
   "cell_type": "code",
   "execution_count": null,
   "id": "7fed4670",
   "metadata": {},
   "outputs": [],
   "source": [
    "5! = 5*4*3*2*1"
   ]
  },
  {
   "cell_type": "markdown",
   "id": "193035ed",
   "metadata": {},
   "source": [
    "**Input command will always store the value in the string datatype**"
   ]
  },
  {
   "cell_type": "markdown",
   "id": "ac643633",
   "metadata": {},
   "source": [
    "**Applying the conversion of the datatype from str to int is known as type casting**"
   ]
  },
  {
   "cell_type": "code",
   "execution_count": 64,
   "id": "5888d287",
   "metadata": {},
   "outputs": [
    {
     "name": "stdout",
     "output_type": "stream",
     "text": [
      "Enter the number: 5\n",
      "120\n"
     ]
    }
   ],
   "source": [
    "number = int(input('Enter the number: '))\n",
    "if number<0:\n",
    "    print('There is no factorial of a negative number')\n",
    "else:\n",
    "    result = 1\n",
    "    while number>0:\n",
    "        result = result*number\n",
    "        number=number-1\n",
    "    print(result)"
   ]
  },
  {
   "cell_type": "code",
   "execution_count": null,
   "id": "b6c27d51",
   "metadata": {},
   "outputs": [],
   "source": [
    "#if else"
   ]
  },
  {
   "cell_type": "code",
   "execution_count": 65,
   "id": "7849dbf9",
   "metadata": {},
   "outputs": [],
   "source": [
    "#if condition:\n",
    "#    do something\n",
    "#else:\n",
    "#    do other thing"
   ]
  },
  {
   "cell_type": "markdown",
   "id": "743b486f",
   "metadata": {},
   "source": [
    "**Strip, LStrip, RStrip**"
   ]
  },
  {
   "cell_type": "code",
   "execution_count": 80,
   "id": "2a1eeb0c",
   "metadata": {},
   "outputs": [
    {
     "name": "stdout",
     "output_type": "stream",
     "text": [
      "Enter your state:     Gujarat$$$$\n",
      "Your State Gujarat is present\n"
     ]
    }
   ],
   "source": [
    "state_list = ['Gujarat','Haryana','Tamil nadu', 'Karnataka', 'Delhi']\n",
    "your_state = input('Enter your state: ').strip().strip('$')\n",
    "if your_state in state_list:\n",
    "    print('Your State', your_state, 'is present')\n",
    "else:\n",
    "    print('Your State', your_state, 'is not present')"
   ]
  },
  {
   "cell_type": "code",
   "execution_count": null,
   "id": "8820ae27",
   "metadata": {},
   "outputs": [],
   "source": [
    "company.strip"
   ]
  },
  {
   "cell_type": "code",
   "execution_count": 75,
   "id": "30b7ef16",
   "metadata": {},
   "outputs": [],
   "source": [
    "company = '     Accenture       '"
   ]
  },
  {
   "cell_type": "code",
   "execution_count": 76,
   "id": "46c9451d",
   "metadata": {},
   "outputs": [
    {
     "data": {
      "text/plain": [
       "'Accenture'"
      ]
     },
     "execution_count": 76,
     "metadata": {},
     "output_type": "execute_result"
    }
   ],
   "source": [
    "company.strip()"
   ]
  },
  {
   "cell_type": "code",
   "execution_count": 82,
   "id": "95d349a1",
   "metadata": {},
   "outputs": [
    {
     "name": "stdout",
     "output_type": "stream",
     "text": [
      "Enter your state: $$$Gujarat    \n",
      "Your State $$$Gujarat     is not present\n"
     ]
    }
   ],
   "source": [
    "state_list = ['Gujarat','Haryana','Tamil nadu', 'Karnataka', 'Delhi']\n",
    "your_state = input('Enter your state: ').lstrip().rstrip('$')\n",
    "if your_state in state_list:\n",
    "    print('Your State', your_state, 'is present')\n",
    "else:\n",
    "    print('Your State', your_state, 'is not present')"
   ]
  },
  {
   "cell_type": "markdown",
   "id": "33235337",
   "metadata": {},
   "source": [
    "**Find and Rfind**"
   ]
  },
  {
   "cell_type": "code",
   "execution_count": 89,
   "id": "801b5214",
   "metadata": {},
   "outputs": [
    {
     "data": {
      "text/plain": [
       "-1"
      ]
     },
     "execution_count": 89,
     "metadata": {},
     "output_type": "execute_result"
    }
   ],
   "source": [
    "name = 'RahulTiwariRahulTiwari'\n",
    "name.find('r',10,20)"
   ]
  },
  {
   "cell_type": "code",
   "execution_count": 90,
   "id": "0d2c1da4",
   "metadata": {},
   "outputs": [
    {
     "data": {
      "text/plain": [
       "-1"
      ]
     },
     "execution_count": 90,
     "metadata": {},
     "output_type": "execute_result"
    }
   ],
   "source": [
    "name.find('z')"
   ]
  },
  {
   "cell_type": "code",
   "execution_count": 93,
   "id": "2ae02df8",
   "metadata": {},
   "outputs": [
    {
     "data": {
      "text/plain": [
       "11"
      ]
     },
     "execution_count": 93,
     "metadata": {},
     "output_type": "execute_result"
    }
   ],
   "source": [
    "name = 'RahulTiwariRahulTiwari'\n",
    "name.rfind('R')"
   ]
  },
  {
   "cell_type": "code",
   "execution_count": 94,
   "id": "aeb3bb6c",
   "metadata": {},
   "outputs": [
    {
     "data": {
      "text/plain": [
       "0"
      ]
     },
     "execution_count": 94,
     "metadata": {},
     "output_type": "execute_result"
    }
   ],
   "source": [
    "name.find('R')"
   ]
  },
  {
   "cell_type": "code",
   "execution_count": 100,
   "id": "4d4cfb17",
   "metadata": {},
   "outputs": [
    {
     "name": "stdout",
     "output_type": "stream",
     "text": [
      "What are you looking for: l\n",
      "Found at index: 4\n",
      "Found at index: 6\n",
      "Found at index: 8\n"
     ]
    }
   ],
   "source": [
    "string = 'Rahululul'\n",
    "whatlookingfor = input('What are you looking for: ')\n",
    "flag = False\n",
    "pos = -1\n",
    "n = len(string)\n",
    "while True: \n",
    "    pos = string.find(whatlookingfor, pos+1,n)\n",
    "    if pos==-1:\n",
    "        break\n",
    "    else:\n",
    "        print('Found at index:', pos)\n",
    "        flag = True\n",
    "if flag==False:\n",
    "    print('Not Found')"
   ]
  },
  {
   "cell_type": "markdown",
   "id": "7ceff4c6",
   "metadata": {},
   "source": [
    "**Count**"
   ]
  },
  {
   "cell_type": "code",
   "execution_count": 103,
   "id": "fc0a89db",
   "metadata": {},
   "outputs": [
    {
     "data": {
      "text/plain": [
       "1"
      ]
     },
     "execution_count": 103,
     "metadata": {},
     "output_type": "execute_result"
    }
   ],
   "source": [
    "name = 'RahulTiwariRahulTiwari'\n",
    "name.count('Rahul',7,22)"
   ]
  },
  {
   "cell_type": "markdown",
   "id": "05a12324",
   "metadata": {},
   "source": [
    "**Replace**"
   ]
  },
  {
   "cell_type": "code",
   "execution_count": 105,
   "id": "4c32eadd",
   "metadata": {},
   "outputs": [
    {
     "data": {
      "text/plain": [
       "'AtharvTiwariAtharvTiwari'"
      ]
     },
     "execution_count": 105,
     "metadata": {},
     "output_type": "execute_result"
    }
   ],
   "source": [
    "name = 'RahulTiwariRahulTiwari'\n",
    "name.replace('Rahul','Atharv')"
   ]
  },
  {
   "cell_type": "markdown",
   "id": "c53a005f",
   "metadata": {},
   "source": [
    "**Split**"
   ]
  },
  {
   "cell_type": "code",
   "execution_count": 106,
   "id": "75d5a562",
   "metadata": {},
   "outputs": [],
   "source": [
    "name = 'Rahul-Tiwari-Python-Upgrad-GCP-String-Operations'"
   ]
  },
  {
   "cell_type": "code",
   "execution_count": 108,
   "id": "61fd952d",
   "metadata": {},
   "outputs": [
    {
     "data": {
      "text/plain": [
       "['Rahul', 'Tiwari', 'Python', 'Upgrad-GCP-String-Operations']"
      ]
     },
     "execution_count": 108,
     "metadata": {},
     "output_type": "execute_result"
    }
   ],
   "source": [
    "name.split('-',3)"
   ]
  },
  {
   "cell_type": "markdown",
   "id": "034b45d2",
   "metadata": {},
   "source": [
    "**Join**"
   ]
  },
  {
   "cell_type": "code",
   "execution_count": 109,
   "id": "af516447",
   "metadata": {},
   "outputs": [],
   "source": [
    "name = ['Rahul', 'Tiwari', 'Atharv']"
   ]
  },
  {
   "cell_type": "code",
   "execution_count": 111,
   "id": "22b16328",
   "metadata": {},
   "outputs": [
    {
     "data": {
      "text/plain": [
       "'Rahul-Tiwari-Atharv'"
      ]
     },
     "execution_count": 111,
     "metadata": {},
     "output_type": "execute_result"
    }
   ],
   "source": [
    "'-'.join(name)"
   ]
  },
  {
   "cell_type": "markdown",
   "id": "9575d3e2",
   "metadata": {},
   "source": [
    "**Upper - Make all the characters as capital**\n",
    "\n",
    "**Lower - Make all the characters as small**\n",
    "\n",
    "**Swapcase - swap the case if caps it will become small and vice versa**\n",
    "\n",
    "**Title - all the first characters of every word as capital** \n",
    "\n",
    "**Capitalize - The very first word as caps rest all as small**"
   ]
  },
  {
   "cell_type": "code",
   "execution_count": 112,
   "id": "b3883c4e",
   "metadata": {},
   "outputs": [],
   "source": [
    "name = 'Rahul Tiwari is a Data scientist'"
   ]
  },
  {
   "cell_type": "code",
   "execution_count": 120,
   "id": "40b0d420",
   "metadata": {},
   "outputs": [
    {
     "name": "stdout",
     "output_type": "stream",
     "text": [
      "RAHUL TIWARI IS A DATA SCIENTIST\n",
      "rahul tiwari is a data scientist\n",
      "rAHUL tIWARI IS A dATA SCIENTIST\n",
      "Rahul Tiwari Is A Data Scientist\n",
      "Rahul tiwari is a data scientist\n"
     ]
    }
   ],
   "source": [
    "print(name.upper()) #All upper \n",
    "print(name.lower()) #All lower\n",
    "print(name.swapcase()) #swapcase - swap the case if caps it will become small and vice versa\n",
    "print(name.title()) #title - all the first characters of every word as capital \n",
    "print(name.capitalize()) #The very first word as caps rest all as small"
   ]
  },
  {
   "cell_type": "markdown",
   "id": "dfd1ffa5",
   "metadata": {},
   "source": [
    "**Startswith - It gives True if the sentence starts with the word or alphabet which you are passing in the function**\n",
    "\n",
    "**Endswith - It gives True if the sentence ends with the word or alphabet which you are passing in the function**"
   ]
  },
  {
   "cell_type": "code",
   "execution_count": 121,
   "id": "d31b356f",
   "metadata": {},
   "outputs": [],
   "source": [
    "name = 'Rahul Tiwari is a Data scientist'"
   ]
  },
  {
   "cell_type": "code",
   "execution_count": 125,
   "id": "0ee6a006",
   "metadata": {},
   "outputs": [
    {
     "name": "stdout",
     "output_type": "stream",
     "text": [
      "False\n",
      "True\n"
     ]
    }
   ],
   "source": [
    "print(name.startswith('rahul'))\n",
    "print(name.endswith('t'))"
   ]
  },
  {
   "cell_type": "markdown",
   "id": "18e541b3",
   "metadata": {},
   "source": [
    "**isalnum() - So if Rahul or 123 or Rahul123 it will classify as alnum**\n",
    "\n",
    "**isalpha() - If Rahul it will classify as alpha else False**\n",
    "\n",
    "**isdigit()/isnumeric() - 123 classify as numeric else False**\n",
    "\n",
    "**islower() - So it checks if the string is consists of all the lower characters**\n",
    "\n",
    "**isupper() - So it checks if the string is consists of all the upper characters**\n",
    "\n",
    "**istitle() - It check if the first character is captial or not rest all characters should be small**\n",
    "\n",
    "**isspace() - It checks for space, if it is there then true else false**"
   ]
  },
  {
   "cell_type": "code",
   "execution_count": 128,
   "id": "36f8e656",
   "metadata": {},
   "outputs": [
    {
     "name": "stdout",
     "output_type": "stream",
     "text": [
      "True\n",
      "True\n",
      "False\n"
     ]
    }
   ],
   "source": [
    "name = 'Rahul'\n",
    "print(name.isalnum())\n",
    "print(name.isalpha())\n",
    "print(name.isnumeric())"
   ]
  },
  {
   "cell_type": "code",
   "execution_count": 129,
   "id": "36a64036",
   "metadata": {},
   "outputs": [
    {
     "name": "stdout",
     "output_type": "stream",
     "text": [
      "True\n",
      "False\n",
      "True\n"
     ]
    }
   ],
   "source": [
    "name = '123'\n",
    "print(name.isalnum())\n",
    "print(name.isalpha())\n",
    "print(name.isnumeric())"
   ]
  },
  {
   "cell_type": "code",
   "execution_count": 130,
   "id": "a5603a0e",
   "metadata": {},
   "outputs": [
    {
     "name": "stdout",
     "output_type": "stream",
     "text": [
      "True\n",
      "False\n",
      "False\n"
     ]
    }
   ],
   "source": [
    "name = 'Rahul123'\n",
    "print(name.isalnum())\n",
    "print(name.isalpha())\n",
    "print(name.isnumeric())"
   ]
  },
  {
   "cell_type": "code",
   "execution_count": 132,
   "id": "98f7ded8",
   "metadata": {},
   "outputs": [
    {
     "data": {
      "text/plain": [
       "True"
      ]
     },
     "execution_count": 132,
     "metadata": {},
     "output_type": "execute_result"
    }
   ],
   "source": [
    "name = 'rahul'\n",
    "name.islower()"
   ]
  },
  {
   "cell_type": "code",
   "execution_count": 133,
   "id": "1ab2549f",
   "metadata": {},
   "outputs": [
    {
     "data": {
      "text/plain": [
       "True"
      ]
     },
     "execution_count": 133,
     "metadata": {},
     "output_type": "execute_result"
    }
   ],
   "source": [
    "name = 'RAHUL'\n",
    "name.isupper()"
   ]
  },
  {
   "cell_type": "code",
   "execution_count": 134,
   "id": "7e409a2b",
   "metadata": {},
   "outputs": [
    {
     "data": {
      "text/plain": [
       "True"
      ]
     },
     "execution_count": 134,
     "metadata": {},
     "output_type": "execute_result"
    }
   ],
   "source": [
    "name = 'Rahul'\n",
    "name.istitle()"
   ]
  },
  {
   "cell_type": "code",
   "execution_count": 137,
   "id": "9d64ee92",
   "metadata": {},
   "outputs": [
    {
     "data": {
      "text/plain": [
       "True"
      ]
     },
     "execution_count": 137,
     "metadata": {},
     "output_type": "execute_result"
    }
   ],
   "source": [
    "name = 'Rahul Tiwari'\n",
    "name[5].isspace()"
   ]
  },
  {
   "cell_type": "code",
   "execution_count": 136,
   "id": "cf3529a7",
   "metadata": {},
   "outputs": [
    {
     "data": {
      "text/plain": [
       "True"
      ]
     },
     "execution_count": 136,
     "metadata": {},
     "output_type": "execute_result"
    }
   ],
   "source": [
    "name = '     '\n",
    "name.isspace()"
   ]
  },
  {
   "cell_type": "markdown",
   "id": "8295b25c",
   "metadata": {},
   "source": [
    "**Is string immutable? It is immutable in nature as we cannot update the particular character or entire string without chainging the memory location**"
   ]
  },
  {
   "cell_type": "markdown",
   "id": "9749d055",
   "metadata": {},
   "source": [
    "**Mutability means - We can update the values without changing the memory location**"
   ]
  },
  {
   "cell_type": "code",
   "execution_count": 138,
   "id": "fc95acb2",
   "metadata": {},
   "outputs": [],
   "source": [
    "name = 'Rahul'"
   ]
  },
  {
   "cell_type": "code",
   "execution_count": 141,
   "id": "b2d860c8",
   "metadata": {},
   "outputs": [],
   "source": [
    "name = 'Rohit'"
   ]
  },
  {
   "cell_type": "code",
   "execution_count": 140,
   "id": "f4588d69",
   "metadata": {},
   "outputs": [
    {
     "ename": "TypeError",
     "evalue": "'str' object does not support item assignment",
     "output_type": "error",
     "traceback": [
      "\u001b[1;31m---------------------------------------------------------------------------\u001b[0m",
      "\u001b[1;31mTypeError\u001b[0m                                 Traceback (most recent call last)",
      "\u001b[1;32m~\\AppData\\Local\\Temp\\ipykernel_20724\\2356388192.py\u001b[0m in \u001b[0;36m<module>\u001b[1;34m\u001b[0m\n\u001b[1;32m----> 1\u001b[1;33m \u001b[0mname\u001b[0m\u001b[1;33m[\u001b[0m\u001b[1;36m0\u001b[0m\u001b[1;33m]\u001b[0m\u001b[1;33m=\u001b[0m\u001b[1;34m'A'\u001b[0m\u001b[1;33m\u001b[0m\u001b[1;33m\u001b[0m\u001b[0m\n\u001b[0m",
      "\u001b[1;31mTypeError\u001b[0m: 'str' object does not support item assignment"
     ]
    }
   ],
   "source": [
    "name[0]='A'"
   ]
  },
  {
   "cell_type": "code",
   "execution_count": 142,
   "id": "f9749f0b",
   "metadata": {},
   "outputs": [
    {
     "data": {
      "text/plain": [
       "1925581064368"
      ]
     },
     "execution_count": 142,
     "metadata": {},
     "output_type": "execute_result"
    }
   ],
   "source": [
    "id(name)"
   ]
  },
  {
   "cell_type": "markdown",
   "id": "3d3ca524",
   "metadata": {},
   "source": [
    "**How to concatenate the strings**"
   ]
  },
  {
   "cell_type": "code",
   "execution_count": 145,
   "id": "bcc74aec",
   "metadata": {},
   "outputs": [
    {
     "data": {
      "text/plain": [
       "'Rahul Tiwari'"
      ]
     },
     "execution_count": 145,
     "metadata": {},
     "output_type": "execute_result"
    }
   ],
   "source": [
    "fname = 'Rahul'\n",
    "lname = 'Tiwari'\n",
    "fname+ ' ' + lname"
   ]
  },
  {
   "cell_type": "code",
   "execution_count": 148,
   "id": "0da3854e",
   "metadata": {},
   "outputs": [
    {
     "name": "stdout",
     "output_type": "stream",
     "text": [
      "sens is score 80 in mathematics\n"
     ]
    }
   ],
   "source": [
    "sens = 80\n",
    "print(\"sens\"+\" is score \"+str(sens)+\" in mathematics\")"
   ]
  },
  {
   "cell_type": "markdown",
   "id": "29b56ec0",
   "metadata": {},
   "source": [
    "**We cannot add number with string**"
   ]
  },
  {
   "cell_type": "code",
   "execution_count": 147,
   "id": "cf56da79",
   "metadata": {},
   "outputs": [
    {
     "ename": "TypeError",
     "evalue": "can only concatenate str (not \"int\") to str",
     "output_type": "error",
     "traceback": [
      "\u001b[1;31m---------------------------------------------------------------------------\u001b[0m",
      "\u001b[1;31mTypeError\u001b[0m                                 Traceback (most recent call last)",
      "\u001b[1;32m~\\AppData\\Local\\Temp\\ipykernel_20724\\823580366.py\u001b[0m in \u001b[0;36m<module>\u001b[1;34m\u001b[0m\n\u001b[1;32m----> 1\u001b[1;33m \u001b[1;34m'Rahul'\u001b[0m \u001b[1;33m+\u001b[0m \u001b[1;36m10\u001b[0m\u001b[1;33m\u001b[0m\u001b[1;33m\u001b[0m\u001b[0m\n\u001b[0m",
      "\u001b[1;31mTypeError\u001b[0m: can only concatenate str (not \"int\") to str"
     ]
    }
   ],
   "source": [
    "'Rahul' + 10"
   ]
  },
  {
   "cell_type": "code",
   "execution_count": 149,
   "id": "2dbc7c06",
   "metadata": {},
   "outputs": [
    {
     "data": {
      "text/plain": [
       "'1020'"
      ]
     },
     "execution_count": 149,
     "metadata": {},
     "output_type": "execute_result"
    }
   ],
   "source": [
    "'10' + '20'"
   ]
  },
  {
   "cell_type": "code",
   "execution_count": 150,
   "id": "1690375c",
   "metadata": {},
   "outputs": [
    {
     "data": {
      "text/plain": [
       "30"
      ]
     },
     "execution_count": 150,
     "metadata": {},
     "output_type": "execute_result"
    }
   ],
   "source": [
    "int('10') + int('20')"
   ]
  },
  {
   "cell_type": "code",
   "execution_count": 155,
   "id": "e085e5db",
   "metadata": {},
   "outputs": [],
   "source": [
    "inp = 'Python is amazing'\n",
    "out = inp[:5:-1] + inp[5::]"
   ]
  },
  {
   "cell_type": "code",
   "execution_count": 153,
   "id": "908d35b8",
   "metadata": {},
   "outputs": [
    {
     "data": {
      "text/plain": [
       "'gnizama si '"
      ]
     },
     "execution_count": 153,
     "metadata": {},
     "output_type": "execute_result"
    }
   ],
   "source": [
    "inp[:5:-1]"
   ]
  },
  {
   "cell_type": "code",
   "execution_count": 154,
   "id": "13d0d2e2",
   "metadata": {},
   "outputs": [
    {
     "data": {
      "text/plain": [
       "'n is amazing'"
      ]
     },
     "execution_count": 154,
     "metadata": {},
     "output_type": "execute_result"
    }
   ],
   "source": [
    "inp[5::]"
   ]
  },
  {
   "cell_type": "code",
   "execution_count": 156,
   "id": "b355547e",
   "metadata": {},
   "outputs": [
    {
     "data": {
      "text/plain": [
       "'gnizama si n is amazing'"
      ]
     },
     "execution_count": 156,
     "metadata": {},
     "output_type": "execute_result"
    }
   ],
   "source": [
    "out"
   ]
  },
  {
   "cell_type": "markdown",
   "id": "6b84c9e0",
   "metadata": {},
   "source": [
    "**If in the string there is a space it will not consider as alpha or alnum**"
   ]
  },
  {
   "cell_type": "code",
   "execution_count": 161,
   "id": "ff426304",
   "metadata": {},
   "outputs": [
    {
     "data": {
      "text/plain": [
       "True"
      ]
     },
     "execution_count": 161,
     "metadata": {},
     "output_type": "execute_result"
    }
   ],
   "source": [
    "string = 'python programming'\n",
    "string.isupper()\n",
    "string.islower()\n",
    "string.isalpha()\n",
    "string.isalnum()"
   ]
  }
 ],
 "metadata": {
  "kernelspec": {
   "display_name": "Python 3 (ipykernel)",
   "language": "python",
   "name": "python3"
  },
  "language_info": {
   "codemirror_mode": {
    "name": "ipython",
    "version": 3
   },
   "file_extension": ".py",
   "mimetype": "text/x-python",
   "name": "python",
   "nbconvert_exporter": "python",
   "pygments_lexer": "ipython3",
   "version": "3.9.13"
  }
 },
 "nbformat": 4,
 "nbformat_minor": 5
}
