{
 "cells": [
  {
   "cell_type": "markdown",
   "id": "dd42c370",
   "metadata": {},
   "source": [
    "**Data Structures in Python**\n",
    "\n",
    "List"
   ]
  },
  {
   "cell_type": "code",
   "execution_count": 1,
   "id": "db7c41b7",
   "metadata": {},
   "outputs": [],
   "source": [
    "ages = [21,22,43,33,23,22,33]"
   ]
  },
  {
   "cell_type": "code",
   "execution_count": 3,
   "id": "4dfc1357",
   "metadata": {},
   "outputs": [
    {
     "data": {
      "text/plain": [
       "7"
      ]
     },
     "execution_count": 3,
     "metadata": {},
     "output_type": "execute_result"
    }
   ],
   "source": [
    "len(ages)"
   ]
  },
  {
   "cell_type": "code",
   "execution_count": 4,
   "id": "00cd35de",
   "metadata": {},
   "outputs": [
    {
     "data": {
      "text/plain": [
       "197"
      ]
     },
     "execution_count": 4,
     "metadata": {},
     "output_type": "execute_result"
    }
   ],
   "source": [
    "sum(ages)"
   ]
  },
  {
   "cell_type": "code",
   "execution_count": 5,
   "id": "545f2f59",
   "metadata": {},
   "outputs": [
    {
     "data": {
      "text/plain": [
       "21"
      ]
     },
     "execution_count": 5,
     "metadata": {},
     "output_type": "execute_result"
    }
   ],
   "source": [
    "min(ages)"
   ]
  },
  {
   "cell_type": "code",
   "execution_count": 6,
   "id": "c596f740",
   "metadata": {},
   "outputs": [
    {
     "data": {
      "text/plain": [
       "43"
      ]
     },
     "execution_count": 6,
     "metadata": {},
     "output_type": "execute_result"
    }
   ],
   "source": [
    "max(ages)"
   ]
  },
  {
   "cell_type": "code",
   "execution_count": 8,
   "id": "236eecf4",
   "metadata": {},
   "outputs": [],
   "source": [
    "ages.append(100)"
   ]
  },
  {
   "cell_type": "code",
   "execution_count": 11,
   "id": "570eed62",
   "metadata": {},
   "outputs": [],
   "source": [
    "ages.append([101,102,103])"
   ]
  },
  {
   "cell_type": "code",
   "execution_count": 15,
   "id": "0c9b83e7",
   "metadata": {},
   "outputs": [
    {
     "data": {
      "text/plain": [
       "102"
      ]
     },
     "execution_count": 15,
     "metadata": {},
     "output_type": "execute_result"
    }
   ],
   "source": [
    "ages[-1][1]"
   ]
  },
  {
   "cell_type": "code",
   "execution_count": 17,
   "id": "58d7c1d4",
   "metadata": {},
   "outputs": [],
   "source": [
    "del ages[8]"
   ]
  },
  {
   "cell_type": "code",
   "execution_count": 19,
   "id": "ace6f9a1",
   "metadata": {},
   "outputs": [],
   "source": [
    "ages.extend([101,102,103])"
   ]
  },
  {
   "cell_type": "code",
   "execution_count": 21,
   "id": "9fd101b8",
   "metadata": {},
   "outputs": [],
   "source": [
    "ages.extend(['A','B'])"
   ]
  },
  {
   "cell_type": "code",
   "execution_count": 23,
   "id": "b6ea7326",
   "metadata": {},
   "outputs": [],
   "source": [
    "ages.clear()"
   ]
  },
  {
   "cell_type": "code",
   "execution_count": 25,
   "id": "bb1de032",
   "metadata": {},
   "outputs": [],
   "source": [
    "ages = [10,20,30,40,50,60]"
   ]
  },
  {
   "cell_type": "code",
   "execution_count": 27,
   "id": "ac67e211",
   "metadata": {},
   "outputs": [],
   "source": [
    "ages1 = ages.copy()"
   ]
  },
  {
   "cell_type": "code",
   "execution_count": 28,
   "id": "f5bdcf3f",
   "metadata": {},
   "outputs": [
    {
     "data": {
      "text/plain": [
       "[10, 20, 30, 40, 50, 60]"
      ]
     },
     "execution_count": 28,
     "metadata": {},
     "output_type": "execute_result"
    }
   ],
   "source": [
    "ages1"
   ]
  },
  {
   "cell_type": "code",
   "execution_count": 29,
   "id": "5a805170",
   "metadata": {},
   "outputs": [
    {
     "data": {
      "text/plain": [
       "[10, 20, 30, 40, 50, 60]"
      ]
     },
     "execution_count": 29,
     "metadata": {},
     "output_type": "execute_result"
    }
   ],
   "source": [
    "ages"
   ]
  },
  {
   "cell_type": "code",
   "execution_count": 30,
   "id": "fddc0964",
   "metadata": {},
   "outputs": [],
   "source": [
    "ages2 = ages"
   ]
  },
  {
   "cell_type": "code",
   "execution_count": 31,
   "id": "f1d294d5",
   "metadata": {},
   "outputs": [
    {
     "data": {
      "text/plain": [
       "[10, 20, 30, 40, 50, 60]"
      ]
     },
     "execution_count": 31,
     "metadata": {},
     "output_type": "execute_result"
    }
   ],
   "source": [
    "ages2"
   ]
  },
  {
   "cell_type": "code",
   "execution_count": 33,
   "id": "0c2cf4e3",
   "metadata": {},
   "outputs": [],
   "source": [
    "ages[0]=100"
   ]
  },
  {
   "cell_type": "code",
   "execution_count": 34,
   "id": "c2a6f2af",
   "metadata": {},
   "outputs": [
    {
     "data": {
      "text/plain": [
       "[100, 20, 30, 40, 50, 60]"
      ]
     },
     "execution_count": 34,
     "metadata": {},
     "output_type": "execute_result"
    }
   ],
   "source": [
    "ages"
   ]
  },
  {
   "cell_type": "code",
   "execution_count": 35,
   "id": "60ba0da9",
   "metadata": {},
   "outputs": [
    {
     "data": {
      "text/plain": [
       "[10, 20, 30, 40, 50, 60]"
      ]
     },
     "execution_count": 35,
     "metadata": {},
     "output_type": "execute_result"
    }
   ],
   "source": [
    "ages1"
   ]
  },
  {
   "cell_type": "code",
   "execution_count": 36,
   "id": "5ca878c2",
   "metadata": {},
   "outputs": [
    {
     "data": {
      "text/plain": [
       "[100, 20, 30, 40, 50, 60]"
      ]
     },
     "execution_count": 36,
     "metadata": {},
     "output_type": "execute_result"
    }
   ],
   "source": [
    "ages2"
   ]
  },
  {
   "cell_type": "code",
   "execution_count": 37,
   "id": "f3e89362",
   "metadata": {},
   "outputs": [
    {
     "data": {
      "text/plain": [
       "2133680604480"
      ]
     },
     "execution_count": 37,
     "metadata": {},
     "output_type": "execute_result"
    }
   ],
   "source": [
    "id(ages)"
   ]
  },
  {
   "cell_type": "code",
   "execution_count": 39,
   "id": "64d06996",
   "metadata": {},
   "outputs": [
    {
     "data": {
      "text/plain": [
       "2133665081408"
      ]
     },
     "execution_count": 39,
     "metadata": {},
     "output_type": "execute_result"
    }
   ],
   "source": [
    "id(ages1)"
   ]
  },
  {
   "cell_type": "code",
   "execution_count": 40,
   "id": "dbc14bee",
   "metadata": {},
   "outputs": [
    {
     "data": {
      "text/plain": [
       "2133680604480"
      ]
     },
     "execution_count": 40,
     "metadata": {},
     "output_type": "execute_result"
    }
   ],
   "source": [
    "id(ages2)"
   ]
  },
  {
   "cell_type": "code",
   "execution_count": 41,
   "id": "92eb1da3",
   "metadata": {},
   "outputs": [],
   "source": [
    "del ages1"
   ]
  },
  {
   "cell_type": "code",
   "execution_count": 42,
   "id": "4bea16a1",
   "metadata": {},
   "outputs": [],
   "source": [
    "del ages2\n"
   ]
  },
  {
   "cell_type": "code",
   "execution_count": 46,
   "id": "d05f314f",
   "metadata": {},
   "outputs": [],
   "source": [
    "ages[1]=100\n"
   ]
  },
  {
   "cell_type": "code",
   "execution_count": 48,
   "id": "b731691c",
   "metadata": {},
   "outputs": [
    {
     "data": {
      "text/plain": [
       "2"
      ]
     },
     "execution_count": 48,
     "metadata": {},
     "output_type": "execute_result"
    }
   ],
   "source": [
    "ages.count(100)"
   ]
  },
  {
   "cell_type": "code",
   "execution_count": 50,
   "id": "fb4c28e4",
   "metadata": {},
   "outputs": [
    {
     "data": {
      "text/plain": [
       "0"
      ]
     },
     "execution_count": 50,
     "metadata": {},
     "output_type": "execute_result"
    }
   ],
   "source": [
    "ages.index(100)"
   ]
  },
  {
   "cell_type": "code",
   "execution_count": 51,
   "id": "ab9d9eb1",
   "metadata": {},
   "outputs": [],
   "source": [
    "ages.insert(3,100)"
   ]
  },
  {
   "cell_type": "code",
   "execution_count": 53,
   "id": "742e5091",
   "metadata": {},
   "outputs": [
    {
     "data": {
      "text/plain": [
       "60"
      ]
     },
     "execution_count": 53,
     "metadata": {},
     "output_type": "execute_result"
    }
   ],
   "source": [
    "ages.pop()"
   ]
  },
  {
   "cell_type": "code",
   "execution_count": 55,
   "id": "c1b611be",
   "metadata": {},
   "outputs": [
    {
     "data": {
      "text/plain": [
       "100"
      ]
     },
     "execution_count": 55,
     "metadata": {},
     "output_type": "execute_result"
    }
   ],
   "source": [
    "ages.pop(3)"
   ]
  },
  {
   "cell_type": "code",
   "execution_count": 57,
   "id": "d58c0c4e",
   "metadata": {},
   "outputs": [],
   "source": [
    "ages.remove(100)"
   ]
  },
  {
   "cell_type": "code",
   "execution_count": 59,
   "id": "2056ab81",
   "metadata": {},
   "outputs": [],
   "source": [
    "ages.reverse()"
   ]
  },
  {
   "cell_type": "code",
   "execution_count": 63,
   "id": "8c03b4d4",
   "metadata": {},
   "outputs": [],
   "source": [
    "ages.sort(reverse=True)"
   ]
  },
  {
   "cell_type": "markdown",
   "id": "f43cd61e",
   "metadata": {},
   "source": [
    "Tuple"
   ]
  },
  {
   "cell_type": "markdown",
   "id": "a79f4d1e",
   "metadata": {},
   "source": [
    "To create the tuple we have to use () normal bracket\n",
    "\n",
    "Tuples are immutable in nature\n",
    "\n",
    "Tuples - Heterogeneous data \n",
    "\n",
    "Tuples - Duplicates \n",
    "\n",
    "Tuple growable in nature - Not "
   ]
  },
  {
   "cell_type": "code",
   "execution_count": 65,
   "id": "6375aece",
   "metadata": {},
   "outputs": [],
   "source": [
    "salary = (21,23,44,'A',10.5, True)"
   ]
  },
  {
   "cell_type": "code",
   "execution_count": 66,
   "id": "5a08f813",
   "metadata": {},
   "outputs": [
    {
     "data": {
      "text/plain": [
       "tuple"
      ]
     },
     "execution_count": 66,
     "metadata": {},
     "output_type": "execute_result"
    }
   ],
   "source": [
    "type(salary)"
   ]
  },
  {
   "cell_type": "code",
   "execution_count": 69,
   "id": "b7ff3835",
   "metadata": {},
   "outputs": [
    {
     "ename": "TypeError",
     "evalue": "'tuple' object does not support item assignment",
     "output_type": "error",
     "traceback": [
      "\u001b[1;31m---------------------------------------------------------------------------\u001b[0m",
      "\u001b[1;31mTypeError\u001b[0m                                 Traceback (most recent call last)",
      "Cell \u001b[1;32mIn[69], line 1\u001b[0m\n\u001b[1;32m----> 1\u001b[0m salary[\u001b[38;5;241m0\u001b[39m]\u001b[38;5;241m=\u001b[39m\u001b[38;5;241m100\u001b[39m\n",
      "\u001b[1;31mTypeError\u001b[0m: 'tuple' object does not support item assignment"
     ]
    }
   ],
   "source": [
    "salary[0]=100"
   ]
  },
  {
   "cell_type": "code",
   "execution_count": 70,
   "id": "8a66de44",
   "metadata": {},
   "outputs": [
    {
     "data": {
      "text/plain": [
       "6"
      ]
     },
     "execution_count": 70,
     "metadata": {},
     "output_type": "execute_result"
    }
   ],
   "source": [
    "len(salary)"
   ]
  },
  {
   "cell_type": "code",
   "execution_count": 71,
   "id": "b161aa68",
   "metadata": {},
   "outputs": [
    {
     "data": {
      "text/plain": [
       "1"
      ]
     },
     "execution_count": 71,
     "metadata": {},
     "output_type": "execute_result"
    }
   ],
   "source": [
    "salary.count(21)"
   ]
  },
  {
   "cell_type": "code",
   "execution_count": 72,
   "id": "674c4c81",
   "metadata": {},
   "outputs": [
    {
     "data": {
      "text/plain": [
       "0"
      ]
     },
     "execution_count": 72,
     "metadata": {},
     "output_type": "execute_result"
    }
   ],
   "source": [
    "salary.index(21)"
   ]
  },
  {
   "cell_type": "code",
   "execution_count": 73,
   "id": "aa89bbb7",
   "metadata": {},
   "outputs": [
    {
     "data": {
      "text/plain": [
       "(21, 23, 44, 'A', 10.5, True)"
      ]
     },
     "execution_count": 73,
     "metadata": {},
     "output_type": "execute_result"
    }
   ],
   "source": [
    "salary"
   ]
  },
  {
   "cell_type": "code",
   "execution_count": 74,
   "id": "3d3eefd5",
   "metadata": {},
   "outputs": [],
   "source": [
    "l1 = list(salary)"
   ]
  },
  {
   "cell_type": "code",
   "execution_count": 78,
   "id": "e5c69a55",
   "metadata": {},
   "outputs": [],
   "source": [
    "l1[3]='B'"
   ]
  },
  {
   "cell_type": "code",
   "execution_count": 81,
   "id": "5f9632c7",
   "metadata": {},
   "outputs": [],
   "source": [
    "salary = tuple(l1)"
   ]
  },
  {
   "cell_type": "code",
   "execution_count": 80,
   "id": "4aacacc9",
   "metadata": {},
   "outputs": [
    {
     "data": {
      "text/plain": [
       "2133678489216"
      ]
     },
     "execution_count": 80,
     "metadata": {},
     "output_type": "execute_result"
    }
   ],
   "source": [
    "id(salary)"
   ]
  },
  {
   "cell_type": "code",
   "execution_count": 82,
   "id": "508948b5",
   "metadata": {},
   "outputs": [
    {
     "data": {
      "text/plain": [
       "2133690694048"
      ]
     },
     "execution_count": 82,
     "metadata": {},
     "output_type": "execute_result"
    }
   ],
   "source": [
    "id(salary)"
   ]
  },
  {
   "cell_type": "markdown",
   "id": "f79e8d7e",
   "metadata": {},
   "source": [
    "Dictionary"
   ]
  },
  {
   "cell_type": "code",
   "execution_count": 104,
   "id": "6a915b7c",
   "metadata": {},
   "outputs": [],
   "source": [
    "stu_list = {'sid':[1,2,3,4,5], 'sname':['A','B','C','D','E'],'sloc':['Delhi','Gurgaon','Delhi','Mumbai','Delhi']}"
   ]
  },
  {
   "cell_type": "code",
   "execution_count": 85,
   "id": "927f1e3b",
   "metadata": {},
   "outputs": [
    {
     "data": {
      "text/plain": [
       "dict"
      ]
     },
     "execution_count": 85,
     "metadata": {},
     "output_type": "execute_result"
    }
   ],
   "source": [
    "type(stu_list)"
   ]
  },
  {
   "cell_type": "code",
   "execution_count": 98,
   "id": "a2631b7d",
   "metadata": {},
   "outputs": [
    {
     "data": {
      "text/plain": [
       "3"
      ]
     },
     "execution_count": 98,
     "metadata": {},
     "output_type": "execute_result"
    }
   ],
   "source": [
    "len(stu_list)"
   ]
  },
  {
   "cell_type": "code",
   "execution_count": 90,
   "id": "2ffc5787",
   "metadata": {},
   "outputs": [],
   "source": [
    "del stu_list"
   ]
  },
  {
   "cell_type": "code",
   "execution_count": 108,
   "id": "550c81ad",
   "metadata": {},
   "outputs": [],
   "source": [
    "stu_list['sname'][0]='B'"
   ]
  },
  {
   "cell_type": "code",
   "execution_count": 109,
   "id": "deb090a7",
   "metadata": {},
   "outputs": [
    {
     "data": {
      "text/plain": [
       "{'sid': [1, 2, 3, 4, 5],\n",
       " 'sname': ['B', 'B', 'C', 'D', 'E'],\n",
       " 'sloc': ['Delhi', 'Gurgaon', 'Delhi', 'Mumbai', 'Delhi']}"
      ]
     },
     "execution_count": 109,
     "metadata": {},
     "output_type": "execute_result"
    }
   ],
   "source": [
    "stu_list"
   ]
  },
  {
   "cell_type": "code",
   "execution_count": 111,
   "id": "f6159a15",
   "metadata": {},
   "outputs": [
    {
     "data": {
      "text/plain": [
       "['B', 'B', 'C', 'D', 'E']"
      ]
     },
     "execution_count": 111,
     "metadata": {},
     "output_type": "execute_result"
    }
   ],
   "source": [
    "stu_list.get('sname')"
   ]
  },
  {
   "cell_type": "code",
   "execution_count": 112,
   "id": "d68c30bc",
   "metadata": {},
   "outputs": [
    {
     "data": {
      "text/plain": [
       "['B', 'B', 'C', 'D', 'E']"
      ]
     },
     "execution_count": 112,
     "metadata": {},
     "output_type": "execute_result"
    }
   ],
   "source": [
    "stu_list['sname']"
   ]
  },
  {
   "cell_type": "code",
   "execution_count": 113,
   "id": "f66bb44c",
   "metadata": {},
   "outputs": [
    {
     "data": {
      "text/plain": [
       "dict_items([('sid', [1, 2, 3, 4, 5]), ('sname', ['B', 'B', 'C', 'D', 'E']), ('sloc', ['Delhi', 'Gurgaon', 'Delhi', 'Mumbai', 'Delhi'])])"
      ]
     },
     "execution_count": 113,
     "metadata": {},
     "output_type": "execute_result"
    }
   ],
   "source": [
    "stu_list.items()"
   ]
  },
  {
   "cell_type": "code",
   "execution_count": 114,
   "id": "ed3b5669",
   "metadata": {},
   "outputs": [
    {
     "data": {
      "text/plain": [
       "dict_keys(['sid', 'sname', 'sloc'])"
      ]
     },
     "execution_count": 114,
     "metadata": {},
     "output_type": "execute_result"
    }
   ],
   "source": [
    "stu_list.keys()"
   ]
  },
  {
   "cell_type": "code",
   "execution_count": 115,
   "id": "650c7d73",
   "metadata": {},
   "outputs": [
    {
     "data": {
      "text/plain": [
       "dict_values([[1, 2, 3, 4, 5], ['B', 'B', 'C', 'D', 'E'], ['Delhi', 'Gurgaon', 'Delhi', 'Mumbai', 'Delhi']])"
      ]
     },
     "execution_count": 115,
     "metadata": {},
     "output_type": "execute_result"
    }
   ],
   "source": [
    "stu_list.values()"
   ]
  },
  {
   "cell_type": "code",
   "execution_count": 117,
   "id": "cd9e69b9",
   "metadata": {},
   "outputs": [
    {
     "data": {
      "text/plain": [
       "[1, 2, 3, 4, 5]"
      ]
     },
     "execution_count": 117,
     "metadata": {},
     "output_type": "execute_result"
    }
   ],
   "source": [
    "stu_list.pop('sid')"
   ]
  },
  {
   "cell_type": "code",
   "execution_count": 119,
   "id": "de80a1d6",
   "metadata": {},
   "outputs": [],
   "source": [
    "stu_list['s_name']=stu_list.pop('sname')"
   ]
  },
  {
   "cell_type": "code",
   "execution_count": 124,
   "id": "57d31920",
   "metadata": {},
   "outputs": [],
   "source": [
    "stu_list['sloc']=stu_list.pop('s_loc')"
   ]
  },
  {
   "cell_type": "code",
   "execution_count": 126,
   "id": "9e495c9d",
   "metadata": {},
   "outputs": [
    {
     "data": {
      "text/plain": [
       "2133668014336"
      ]
     },
     "execution_count": 126,
     "metadata": {},
     "output_type": "execute_result"
    }
   ],
   "source": [
    "id(stu_list)"
   ]
  },
  {
   "cell_type": "code",
   "execution_count": 125,
   "id": "c3dfae81",
   "metadata": {},
   "outputs": [
    {
     "data": {
      "text/plain": [
       "{'s_name': ['B', 'B', 'C', 'D', 'E'],\n",
       " 'sloc': ['Delhi', 'Gurgaon', 'Delhi', 'Mumbai', 'Delhi']}"
      ]
     },
     "execution_count": 125,
     "metadata": {},
     "output_type": "execute_result"
    }
   ],
   "source": [
    "stu_list"
   ]
  },
  {
   "cell_type": "code",
   "execution_count": 129,
   "id": "e020548c",
   "metadata": {},
   "outputs": [
    {
     "data": {
      "text/plain": [
       "('sloc', ['Delhi', 'Gurgaon', 'Delhi', 'Mumbai', 'Delhi'])"
      ]
     },
     "execution_count": 129,
     "metadata": {},
     "output_type": "execute_result"
    }
   ],
   "source": [
    "stu_list.popitem()"
   ]
  },
  {
   "cell_type": "code",
   "execution_count": 130,
   "id": "be8307d4",
   "metadata": {},
   "outputs": [
    {
     "data": {
      "text/plain": [
       "{'s_name': ['B', 'B', 'C', 'D', 'E']}"
      ]
     },
     "execution_count": 130,
     "metadata": {},
     "output_type": "execute_result"
    }
   ],
   "source": [
    "stu_list"
   ]
  },
  {
   "cell_type": "code",
   "execution_count": 131,
   "id": "330312ad",
   "metadata": {},
   "outputs": [],
   "source": [
    "stu_list.setdefault('sloc')"
   ]
  },
  {
   "cell_type": "code",
   "execution_count": 132,
   "id": "38c73b08",
   "metadata": {},
   "outputs": [
    {
     "data": {
      "text/plain": [
       "{'s_name': ['B', 'B', 'C', 'D', 'E'], 'sloc': None}"
      ]
     },
     "execution_count": 132,
     "metadata": {},
     "output_type": "execute_result"
    }
   ],
   "source": [
    "stu_list"
   ]
  },
  {
   "cell_type": "code",
   "execution_count": 133,
   "id": "9eb8bb15",
   "metadata": {},
   "outputs": [],
   "source": [
    "stu_list['sloc'] = ['N','S','E','W','W']"
   ]
  },
  {
   "cell_type": "code",
   "execution_count": 134,
   "id": "6f873fbc",
   "metadata": {},
   "outputs": [
    {
     "data": {
      "text/plain": [
       "{'s_name': ['B', 'B', 'C', 'D', 'E'], 'sloc': ['N', 'S', 'E', 'W', 'W']}"
      ]
     },
     "execution_count": 134,
     "metadata": {},
     "output_type": "execute_result"
    }
   ],
   "source": [
    "stu_list"
   ]
  },
  {
   "cell_type": "code",
   "execution_count": 136,
   "id": "e299ed84",
   "metadata": {},
   "outputs": [],
   "source": [
    "stu_list.setdefault('Sregion')"
   ]
  },
  {
   "cell_type": "code",
   "execution_count": 137,
   "id": "0920663e",
   "metadata": {},
   "outputs": [
    {
     "data": {
      "text/plain": [
       "{'s_name': ['B', 'B', 'C', 'D', 'E'],\n",
       " 'sloc': ['N', 'S', 'E', 'W', 'W'],\n",
       " 'Sregion': None}"
      ]
     },
     "execution_count": 137,
     "metadata": {},
     "output_type": "execute_result"
    }
   ],
   "source": [
    "stu_list"
   ]
  },
  {
   "cell_type": "code",
   "execution_count": 138,
   "id": "1b8821c1",
   "metadata": {},
   "outputs": [],
   "source": [
    "dict1 = {1:2,4:5,6:7}\n",
    "dict2 = {1:19,9:10,20:30}"
   ]
  },
  {
   "cell_type": "code",
   "execution_count": 139,
   "id": "50c79a11",
   "metadata": {},
   "outputs": [],
   "source": [
    "dict1.update(dict2)"
   ]
  },
  {
   "cell_type": "code",
   "execution_count": 140,
   "id": "86f7296a",
   "metadata": {},
   "outputs": [
    {
     "data": {
      "text/plain": [
       "{1: 19, 4: 5, 6: 7, 9: 10, 20: 30}"
      ]
     },
     "execution_count": 140,
     "metadata": {},
     "output_type": "execute_result"
    }
   ],
   "source": [
    "dict1"
   ]
  },
  {
   "cell_type": "code",
   "execution_count": 141,
   "id": "b028dd86",
   "metadata": {},
   "outputs": [],
   "source": [
    "stu_list = {'sid':[1,2,3,4,5], 'sname':['A','B','C','D','E'],'sloc':['Delhi','Gurgaon','Delhi','Mumbai','Delhi']}"
   ]
  },
  {
   "cell_type": "code",
   "execution_count": 142,
   "id": "cf233e6b",
   "metadata": {},
   "outputs": [
    {
     "data": {
      "text/plain": [
       "{'sid': [1, 2, 3, 4, 5],\n",
       " 'sname': ['A', 'B', 'C', 'D', 'E'],\n",
       " 'sloc': ['Delhi', 'Gurgaon', 'Delhi', 'Mumbai', 'Delhi']}"
      ]
     },
     "execution_count": 142,
     "metadata": {},
     "output_type": "execute_result"
    }
   ],
   "source": [
    "stu_list"
   ]
  },
  {
   "cell_type": "code",
   "execution_count": 143,
   "id": "d6775f46",
   "metadata": {},
   "outputs": [],
   "source": [
    "import pandas as pd"
   ]
  },
  {
   "cell_type": "code",
   "execution_count": 144,
   "id": "3aa17b0b",
   "metadata": {},
   "outputs": [
    {
     "data": {
      "text/html": [
       "<div>\n",
       "<style scoped>\n",
       "    .dataframe tbody tr th:only-of-type {\n",
       "        vertical-align: middle;\n",
       "    }\n",
       "\n",
       "    .dataframe tbody tr th {\n",
       "        vertical-align: top;\n",
       "    }\n",
       "\n",
       "    .dataframe thead th {\n",
       "        text-align: right;\n",
       "    }\n",
       "</style>\n",
       "<table border=\"1\" class=\"dataframe\">\n",
       "  <thead>\n",
       "    <tr style=\"text-align: right;\">\n",
       "      <th></th>\n",
       "      <th>sid</th>\n",
       "      <th>sname</th>\n",
       "      <th>sloc</th>\n",
       "    </tr>\n",
       "  </thead>\n",
       "  <tbody>\n",
       "    <tr>\n",
       "      <th>0</th>\n",
       "      <td>1</td>\n",
       "      <td>A</td>\n",
       "      <td>Delhi</td>\n",
       "    </tr>\n",
       "    <tr>\n",
       "      <th>1</th>\n",
       "      <td>2</td>\n",
       "      <td>B</td>\n",
       "      <td>Gurgaon</td>\n",
       "    </tr>\n",
       "    <tr>\n",
       "      <th>2</th>\n",
       "      <td>3</td>\n",
       "      <td>C</td>\n",
       "      <td>Delhi</td>\n",
       "    </tr>\n",
       "    <tr>\n",
       "      <th>3</th>\n",
       "      <td>4</td>\n",
       "      <td>D</td>\n",
       "      <td>Mumbai</td>\n",
       "    </tr>\n",
       "    <tr>\n",
       "      <th>4</th>\n",
       "      <td>5</td>\n",
       "      <td>E</td>\n",
       "      <td>Delhi</td>\n",
       "    </tr>\n",
       "  </tbody>\n",
       "</table>\n",
       "</div>"
      ],
      "text/plain": [
       "   sid sname     sloc\n",
       "0    1     A    Delhi\n",
       "1    2     B  Gurgaon\n",
       "2    3     C    Delhi\n",
       "3    4     D   Mumbai\n",
       "4    5     E    Delhi"
      ]
     },
     "execution_count": 144,
     "metadata": {},
     "output_type": "execute_result"
    }
   ],
   "source": [
    "pd.DataFrame(stu_list)"
   ]
  },
  {
   "cell_type": "markdown",
   "id": "cde20a4e",
   "metadata": {},
   "source": [
    "Set "
   ]
  },
  {
   "cell_type": "markdown",
   "id": "86ef4676",
   "metadata": {},
   "source": [
    "{}\n",
    "\n",
    "heterogeneous data\n",
    "\n",
    "cannot have duplicates\n",
    "\n",
    "Growable in nature\n",
    "\n",
    "Sorted\n",
    "\n",
    "Slicing is not possible "
   ]
  },
  {
   "cell_type": "code",
   "execution_count": 153,
   "id": "f66b8097",
   "metadata": {},
   "outputs": [],
   "source": [
    "set1 = {100,2,3,4,4,4,4,4,4,5,6,7}"
   ]
  },
  {
   "cell_type": "code",
   "execution_count": 147,
   "id": "dd22eaad",
   "metadata": {},
   "outputs": [
    {
     "ename": "TypeError",
     "evalue": "'set' object is not subscriptable",
     "output_type": "error",
     "traceback": [
      "\u001b[1;31m---------------------------------------------------------------------------\u001b[0m",
      "\u001b[1;31mTypeError\u001b[0m                                 Traceback (most recent call last)",
      "Cell \u001b[1;32mIn[147], line 1\u001b[0m\n\u001b[1;32m----> 1\u001b[0m set1[\u001b[38;5;241m3\u001b[39m]\n",
      "\u001b[1;31mTypeError\u001b[0m: 'set' object is not subscriptable"
     ]
    }
   ],
   "source": [
    "set1[3]"
   ]
  },
  {
   "cell_type": "code",
   "execution_count": 149,
   "id": "7084a959",
   "metadata": {},
   "outputs": [
    {
     "data": {
      "text/plain": [
       "7"
      ]
     },
     "execution_count": 149,
     "metadata": {},
     "output_type": "execute_result"
    }
   ],
   "source": [
    "len(set1)"
   ]
  },
  {
   "cell_type": "code",
   "execution_count": 150,
   "id": "2a54f7e2",
   "metadata": {},
   "outputs": [
    {
     "data": {
      "text/plain": [
       "set"
      ]
     },
     "execution_count": 150,
     "metadata": {},
     "output_type": "execute_result"
    }
   ],
   "source": [
    "type(set1)"
   ]
  },
  {
   "cell_type": "code",
   "execution_count": 151,
   "id": "131a8f7f",
   "metadata": {},
   "outputs": [
    {
     "data": {
      "text/plain": [
       "1"
      ]
     },
     "execution_count": 151,
     "metadata": {},
     "output_type": "execute_result"
    }
   ],
   "source": [
    "min(set1)"
   ]
  },
  {
   "cell_type": "code",
   "execution_count": 155,
   "id": "151eb9a9",
   "metadata": {},
   "outputs": [],
   "source": [
    "set1.add(101)"
   ]
  },
  {
   "cell_type": "code",
   "execution_count": 157,
   "id": "c69ffefc",
   "metadata": {},
   "outputs": [
    {
     "ename": "TypeError",
     "evalue": "unhashable type: 'list'",
     "output_type": "error",
     "traceback": [
      "\u001b[1;31m---------------------------------------------------------------------------\u001b[0m",
      "\u001b[1;31mTypeError\u001b[0m                                 Traceback (most recent call last)",
      "Cell \u001b[1;32mIn[157], line 1\u001b[0m\n\u001b[1;32m----> 1\u001b[0m set1\u001b[38;5;241m.\u001b[39madd([\u001b[38;5;241m101\u001b[39m,\u001b[38;5;241m102\u001b[39m,\u001b[38;5;241m103\u001b[39m])\n",
      "\u001b[1;31mTypeError\u001b[0m: unhashable type: 'list'"
     ]
    }
   ],
   "source": [
    "set1.add([101,102,103])"
   ]
  },
  {
   "cell_type": "code",
   "execution_count": 158,
   "id": "9a2fe34e",
   "metadata": {},
   "outputs": [],
   "source": [
    "set1.update([101,102,103,104])"
   ]
  },
  {
   "cell_type": "code",
   "execution_count": 204,
   "id": "7e82cf41",
   "metadata": {},
   "outputs": [],
   "source": [
    "set1.discard(100)"
   ]
  },
  {
   "cell_type": "code",
   "execution_count": 192,
   "id": "b34a92d8",
   "metadata": {},
   "outputs": [
    {
     "data": {
      "text/plain": [
       "{2, 3, 4, 5, 6, 7, 102, 103, 104}"
      ]
     },
     "execution_count": 192,
     "metadata": {},
     "output_type": "execute_result"
    }
   ],
   "source": [
    "set1"
   ]
  },
  {
   "cell_type": "code",
   "execution_count": 208,
   "id": "c5556480",
   "metadata": {},
   "outputs": [
    {
     "ename": "KeyError",
     "evalue": "101",
     "output_type": "error",
     "traceback": [
      "\u001b[1;31m---------------------------------------------------------------------------\u001b[0m",
      "\u001b[1;31mKeyError\u001b[0m                                  Traceback (most recent call last)",
      "Cell \u001b[1;32mIn[208], line 1\u001b[0m\n\u001b[1;32m----> 1\u001b[0m set1\u001b[38;5;241m.\u001b[39mremove(\u001b[38;5;241m101\u001b[39m)\n",
      "\u001b[1;31mKeyError\u001b[0m: 101"
     ]
    }
   ],
   "source": [
    "set1.remove(101)"
   ]
  },
  {
   "cell_type": "code",
   "execution_count": 195,
   "id": "9ecc11b9",
   "metadata": {},
   "outputs": [
    {
     "data": {
      "text/plain": [
       "3"
      ]
     },
     "execution_count": 195,
     "metadata": {},
     "output_type": "execute_result"
    }
   ],
   "source": [
    "set1.pop()"
   ]
  },
  {
   "cell_type": "code",
   "execution_count": 216,
   "id": "c5c7df30",
   "metadata": {},
   "outputs": [],
   "source": [
    "set1 = {1,2,3,4,5}\n",
    "set2 = {3,4,5}\n",
    "set3 = {4,5,6,7,8}\n",
    "set4 = {10,11,12,13}"
   ]
  },
  {
   "cell_type": "code",
   "execution_count": 210,
   "id": "14eed913",
   "metadata": {},
   "outputs": [
    {
     "data": {
      "text/plain": [
       "{1, 2, 3}"
      ]
     },
     "execution_count": 210,
     "metadata": {},
     "output_type": "execute_result"
    }
   ],
   "source": [
    "set1.difference(set3)"
   ]
  },
  {
   "cell_type": "code",
   "execution_count": 213,
   "id": "d6de7394",
   "metadata": {},
   "outputs": [],
   "source": [
    "set1.difference_update(set3)"
   ]
  },
  {
   "cell_type": "code",
   "execution_count": 214,
   "id": "97a89884",
   "metadata": {},
   "outputs": [
    {
     "data": {
      "text/plain": [
       "{1, 2, 3}"
      ]
     },
     "execution_count": 214,
     "metadata": {},
     "output_type": "execute_result"
    }
   ],
   "source": [
    "set1"
   ]
  },
  {
   "cell_type": "code",
   "execution_count": 211,
   "id": "9556a2a4",
   "metadata": {},
   "outputs": [
    {
     "data": {
      "text/plain": [
       "{1, 2, 3, 6, 7, 8}"
      ]
     },
     "execution_count": 211,
     "metadata": {},
     "output_type": "execute_result"
    }
   ],
   "source": [
    "set1.symmetric_difference(set3)"
   ]
  },
  {
   "cell_type": "code",
   "execution_count": 217,
   "id": "57408ec5",
   "metadata": {},
   "outputs": [
    {
     "data": {
      "text/plain": [
       "{1, 2, 3, 6, 7, 8}"
      ]
     },
     "execution_count": 217,
     "metadata": {},
     "output_type": "execute_result"
    }
   ],
   "source": [
    "set1.symmetric_difference_update(set3)\n",
    "set1"
   ]
  },
  {
   "cell_type": "code",
   "execution_count": 212,
   "id": "a1a061a0",
   "metadata": {},
   "outputs": [
    {
     "data": {
      "text/plain": [
       "{4, 5}"
      ]
     },
     "execution_count": 212,
     "metadata": {},
     "output_type": "execute_result"
    }
   ],
   "source": [
    "set1.intersection(set3)"
   ]
  },
  {
   "cell_type": "code",
   "execution_count": 218,
   "id": "737f74fe",
   "metadata": {},
   "outputs": [],
   "source": [
    "set1 = {1,2,3,4,5}\n",
    "set2 = {3,4,5}\n",
    "set3 = {4,5,6,7,8}\n",
    "set4 = {10,11,12,13}"
   ]
  },
  {
   "cell_type": "code",
   "execution_count": 219,
   "id": "e0030ea2",
   "metadata": {},
   "outputs": [
    {
     "data": {
      "text/plain": [
       "True"
      ]
     },
     "execution_count": 219,
     "metadata": {},
     "output_type": "execute_result"
    }
   ],
   "source": [
    "set1.isdisjoint(set4)"
   ]
  },
  {
   "cell_type": "code",
   "execution_count": 220,
   "id": "88fddac4",
   "metadata": {},
   "outputs": [
    {
     "data": {
      "text/plain": [
       "True"
      ]
     },
     "execution_count": 220,
     "metadata": {},
     "output_type": "execute_result"
    }
   ],
   "source": [
    "set1.issuperset(set2)"
   ]
  },
  {
   "cell_type": "code",
   "execution_count": 221,
   "id": "a2a7c42e",
   "metadata": {},
   "outputs": [
    {
     "data": {
      "text/plain": [
       "True"
      ]
     },
     "execution_count": 221,
     "metadata": {},
     "output_type": "execute_result"
    }
   ],
   "source": [
    "set2.issubset(set1)"
   ]
  },
  {
   "cell_type": "code",
   "execution_count": 222,
   "id": "c5d20db2",
   "metadata": {},
   "outputs": [
    {
     "data": {
      "text/plain": [
       "{1, 2, 3, 4, 5, 10, 11, 12, 13}"
      ]
     },
     "execution_count": 222,
     "metadata": {},
     "output_type": "execute_result"
    }
   ],
   "source": [
    "set1.union(set4)"
   ]
  },
  {
   "cell_type": "code",
   "execution_count": 224,
   "id": "f2548eaf",
   "metadata": {},
   "outputs": [],
   "source": [
    "fsset = frozenset(set1)"
   ]
  },
  {
   "cell_type": "markdown",
   "id": "37ffc637",
   "metadata": {},
   "source": [
    "# Operators in Python"
   ]
  },
  {
   "cell_type": "code",
   "execution_count": null,
   "id": "cd7160c8",
   "metadata": {},
   "outputs": [],
   "source": [
    "Arithmetic Operators \n",
    "\n",
    "Addition + \n",
    "Subtraction - \n",
    "Multiplication *\n",
    "Division /\n",
    "Floor Division //\n",
    "Modulo %\n",
    "Power **"
   ]
  },
  {
   "cell_type": "code",
   "execution_count": 227,
   "id": "d560b059",
   "metadata": {},
   "outputs": [
    {
     "name": "stdout",
     "output_type": "stream",
     "text": [
      "a+b:  13\n",
      "a-b:  7\n",
      "a*b:  30\n",
      "a/b:  3.3333333333333335\n",
      "a//b:  3\n",
      "a%b:  1\n",
      "a**b:  1000\n"
     ]
    }
   ],
   "source": [
    "a = 10\n",
    "b = 3 \n",
    "print('a+b: ', a+b)\n",
    "print('a-b: ', a-b)\n",
    "print('a*b: ', a*b)\n",
    "print('a/b: ', a/b)\n",
    "print('a//b: ', a//b)\n",
    "print('a%b: ', a%b)\n",
    "print('a**b: ', a**b)"
   ]
  },
  {
   "cell_type": "code",
   "execution_count": 229,
   "id": "01376349",
   "metadata": {},
   "outputs": [
    {
     "data": {
      "text/plain": [
       "30"
      ]
     },
     "execution_count": 229,
     "metadata": {},
     "output_type": "execute_result"
    }
   ],
   "source": [
    "int('10')+int('20')"
   ]
  },
  {
   "cell_type": "code",
   "execution_count": null,
   "id": "c9a9cf13",
   "metadata": {},
   "outputs": [],
   "source": [
    "Relational Operator\n",
    "\n",
    "<\n",
    ">\n",
    "<=\n",
    ">="
   ]
  },
  {
   "cell_type": "code",
   "execution_count": 230,
   "id": "ac0e35fb",
   "metadata": {},
   "outputs": [
    {
     "name": "stdout",
     "output_type": "stream",
     "text": [
      "a>b:  False\n",
      "a<b:  True\n",
      "a>=b:  False\n",
      "a<=b:  True\n"
     ]
    }
   ],
   "source": [
    "a = 10\n",
    "b = 20\n",
    "print('a>b: ',a>b)\n",
    "print('a<b: ',a<b)\n",
    "print('a>=b: ',a>=b)\n",
    "print('a<=b: ',a<=b)"
   ]
  },
  {
   "cell_type": "code",
   "execution_count": null,
   "id": "d19eabce",
   "metadata": {},
   "outputs": [],
   "source": [
    "Equality Operator\n",
    "\n",
    "==\n",
    "!="
   ]
  },
  {
   "cell_type": "code",
   "execution_count": 236,
   "id": "005b6c16",
   "metadata": {},
   "outputs": [
    {
     "name": "stdout",
     "output_type": "stream",
     "text": [
      "False\n",
      "True\n"
     ]
    }
   ],
   "source": [
    "a = 10\n",
    "b = 20\n",
    "\n",
    "print(a==b)\n",
    "print(a!=b)"
   ]
  },
  {
   "cell_type": "code",
   "execution_count": 233,
   "id": "53fe033a",
   "metadata": {},
   "outputs": [
    {
     "data": {
      "text/plain": [
       "20"
      ]
     },
     "execution_count": 233,
     "metadata": {},
     "output_type": "execute_result"
    }
   ],
   "source": [
    "a"
   ]
  },
  {
   "cell_type": "code",
   "execution_count": 237,
   "id": "c71ea997",
   "metadata": {},
   "outputs": [
    {
     "data": {
      "text/plain": [
       "30"
      ]
     },
     "execution_count": 237,
     "metadata": {},
     "output_type": "execute_result"
    }
   ],
   "source": [
    "a = 10 \n",
    "a +=20\n",
    "a"
   ]
  },
  {
   "cell_type": "code",
   "execution_count": 238,
   "id": "6e26765a",
   "metadata": {},
   "outputs": [
    {
     "data": {
      "text/plain": [
       "30"
      ]
     },
     "execution_count": 238,
     "metadata": {},
     "output_type": "execute_result"
    }
   ],
   "source": [
    "a = 10\n",
    "a = a + 20\n",
    "a"
   ]
  },
  {
   "cell_type": "code",
   "execution_count": null,
   "id": "421190ed",
   "metadata": {},
   "outputs": [],
   "source": [
    "Ternary Operator"
   ]
  },
  {
   "cell_type": "code",
   "execution_count": 239,
   "id": "22d30d95",
   "metadata": {},
   "outputs": [
    {
     "data": {
      "text/plain": [
       "30"
      ]
     },
     "execution_count": 239,
     "metadata": {},
     "output_type": "execute_result"
    }
   ],
   "source": [
    "10 if 20>40 else 30"
   ]
  },
  {
   "cell_type": "code",
   "execution_count": 240,
   "id": "f9f01a22",
   "metadata": {},
   "outputs": [
    {
     "data": {
      "text/plain": [
       "7"
      ]
     },
     "execution_count": 240,
     "metadata": {},
     "output_type": "execute_result"
    }
   ],
   "source": [
    "10 if 10>7>9 else 9 if 7>9 else 7"
   ]
  },
  {
   "cell_type": "code",
   "execution_count": null,
   "id": "7ff48605",
   "metadata": {},
   "outputs": [],
   "source": [
    "Special Operators \n",
    "1) Identity Operators\n",
    "    a) is \n",
    "    b) is not\n",
    "    \n",
    "2) Membership Operators \n",
    "    a) in \n",
    "    b) not in"
   ]
  },
  {
   "cell_type": "code",
   "execution_count": 243,
   "id": "9e4db609",
   "metadata": {},
   "outputs": [
    {
     "name": "stdout",
     "output_type": "stream",
     "text": [
      "140735874896968\n",
      "140735874896968\n"
     ]
    },
    {
     "data": {
      "text/plain": [
       "True"
      ]
     },
     "execution_count": 243,
     "metadata": {},
     "output_type": "execute_result"
    }
   ],
   "source": [
    "a = 10\n",
    "b = 10\n",
    "print(id(a))\n",
    "print(id(b))\n",
    "a is b"
   ]
  },
  {
   "cell_type": "code",
   "execution_count": 250,
   "id": "c93a8607",
   "metadata": {},
   "outputs": [
    {
     "name": "stdout",
     "output_type": "stream",
     "text": [
      "2133733853264\n",
      "2133691464080\n"
     ]
    },
    {
     "data": {
      "text/plain": [
       "True"
      ]
     },
     "execution_count": 250,
     "metadata": {},
     "output_type": "execute_result"
    }
   ],
   "source": [
    "a = 250.5\n",
    "b = 250.5\n",
    "print(id(a))\n",
    "print(id(b))\n",
    "a is not b"
   ]
  },
  {
   "cell_type": "code",
   "execution_count": 251,
   "id": "753cc970",
   "metadata": {},
   "outputs": [
    {
     "data": {
      "text/plain": [
       "True"
      ]
     },
     "execution_count": 251,
     "metadata": {},
     "output_type": "execute_result"
    }
   ],
   "source": [
    "list1 = [10,20,30,40,50,60]\n",
    "50 in list1"
   ]
  },
  {
   "cell_type": "code",
   "execution_count": null,
   "id": "b45ce38f",
   "metadata": {},
   "outputs": [],
   "source": [
    "Input Output"
   ]
  },
  {
   "cell_type": "code",
   "execution_count": 257,
   "id": "09ac4206",
   "metadata": {},
   "outputs": [
    {
     "name": "stdout",
     "output_type": "stream",
     "text": [
      "Enter the age: 35\n"
     ]
    },
    {
     "data": {
      "text/plain": [
       "'35'"
      ]
     },
     "execution_count": 257,
     "metadata": {},
     "output_type": "execute_result"
    }
   ],
   "source": [
    "age = (input('Enter the age: '))\n",
    "age"
   ]
  },
  {
   "cell_type": "code",
   "execution_count": 263,
   "id": "fe40b99a",
   "metadata": {},
   "outputs": [
    {
     "name": "stdout",
     "output_type": "stream",
     "text": [
      "hiHelloHow are you?\n"
     ]
    }
   ],
   "source": [
    "print('hi',end='')\n",
    "print('Hello',end='')\n",
    "print('How are you?')"
   ]
  },
  {
   "cell_type": "code",
   "execution_count": 259,
   "id": "65e7915a",
   "metadata": {},
   "outputs": [
    {
     "name": "stdout",
     "output_type": "stream",
     "text": [
      "Hi, Hello, How are you?\n"
     ]
    }
   ],
   "source": [
    "print('Hi, Hello, How are you?')"
   ]
  },
  {
   "cell_type": "code",
   "execution_count": 264,
   "id": "fbbae8cc",
   "metadata": {},
   "outputs": [
    {
     "name": "stdout",
     "output_type": "stream",
     "text": [
      "enter the age10\n"
     ]
    }
   ],
   "source": [
    "age=input('enter the age') \n",
    "age=int(age)"
   ]
  },
  {
   "cell_type": "code",
   "execution_count": 265,
   "id": "fb933c9d",
   "metadata": {},
   "outputs": [
    {
     "data": {
      "text/plain": [
       "10"
      ]
     },
     "execution_count": 265,
     "metadata": {},
     "output_type": "execute_result"
    }
   ],
   "source": [
    "age"
   ]
  },
  {
   "cell_type": "code",
   "execution_count": null,
   "id": "49fa4ec2",
   "metadata": {},
   "outputs": [],
   "source": [
    "Flow Control\n",
    "\n",
    "If else\n",
    "For\n",
    "While"
   ]
  },
  {
   "cell_type": "code",
   "execution_count": 276,
   "id": "92174335",
   "metadata": {},
   "outputs": [
    {
     "name": "stdout",
     "output_type": "stream",
     "text": [
      "Enter the marks: 25\n",
      "You failed the exam\n"
     ]
    }
   ],
   "source": [
    "marks = int(input('Enter the marks: '))\n",
    "if marks<=35:\n",
    "    print('You failed the exam')\n",
    "    \n",
    "else:\n",
    "    print('You passed the exam')\n",
    "print('Hello')"
   ]
  },
  {
   "cell_type": "code",
   "execution_count": 279,
   "id": "adde2bd1",
   "metadata": {},
   "outputs": [
    {
     "name": "stdout",
     "output_type": "stream",
     "text": [
      "Enter the marks: 65\n",
      "You got excellent marks\n"
     ]
    }
   ],
   "source": [
    "marks = int(input('Enter the marks: '))\n",
    "if marks<=35:\n",
    "    print('You failed the exam')\n",
    "elif marks>35 and marks<=55:\n",
    "    print('You got an avg marks')\n",
    "else:\n",
    "    print('You got excellent marks')"
   ]
  },
  {
   "cell_type": "code",
   "execution_count": null,
   "id": "f0a328a0",
   "metadata": {},
   "outputs": [],
   "source": []
  },
  {
   "cell_type": "code",
   "execution_count": null,
   "id": "13a87173",
   "metadata": {},
   "outputs": [],
   "source": []
  },
  {
   "cell_type": "code",
   "execution_count": null,
   "id": "ff61bd43",
   "metadata": {},
   "outputs": [],
   "source": []
  }
 ],
 "metadata": {
  "kernelspec": {
   "display_name": "Python 3 (ipykernel)",
   "language": "python",
   "name": "python3"
  },
  "language_info": {
   "codemirror_mode": {
    "name": "ipython",
    "version": 3
   },
   "file_extension": ".py",
   "mimetype": "text/x-python",
   "name": "python",
   "nbconvert_exporter": "python",
   "pygments_lexer": "ipython3",
   "version": "3.11.5"
  }
 },
 "nbformat": 4,
 "nbformat_minor": 5
}
