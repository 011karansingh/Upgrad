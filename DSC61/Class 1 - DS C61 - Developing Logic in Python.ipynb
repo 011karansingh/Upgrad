{
 "cells": [
  {
   "cell_type": "markdown",
   "id": "b891a335",
   "metadata": {},
   "source": [
    "# Python - An Introduction"
   ]
  },
  {
   "cell_type": "markdown",
   "id": "bd696e52",
   "metadata": {},
   "source": [
    "Python - An open source programming language\n",
    "\n",
    "Multi purpose programming language \n",
    "\n",
    "    1) Desktop Application - Calculator\n",
    "    2) Web Application - (Django or Flask)\n",
    "    3) Data Application \n",
    "    4) Network Application \n",
    "    5) Data Analytics or Data Science \n",
    "        a) Machine Learning Algos\n",
    "        b) Artificial Intelligence or Deep Learning application\n",
    "    6) IoT Application\n",
    "    7) Automations \n",
    "    8) Integrate Python with other programming languages\n",
    "    \n",
    "Challenges \n",
    "    \n",
    "    1) Slow programming language\n",
    "    \n",
    "    2) Mobile Applications\n",
    "    \n",
    "    \n",
    "It is very easy to understand, its like an english language\n",
    "\n",
    "IDE's \n",
    "1) Jupyter Notebook - Popular amongst the data analysts and data scientists \n",
    "2) Pycharm\n",
    "3) Visual code\n",
    "4) Spyder \n",
    "5) Idle\n",
    "6) Atom\n",
    "7) Sublime Text"
   ]
  },
  {
   "cell_type": "markdown",
   "id": "7641871a",
   "metadata": {},
   "source": [
    "**Generate 6 digits OTP number 10 times**"
   ]
  },
  {
   "cell_type": "code",
   "execution_count": 3,
   "id": "601df7c6",
   "metadata": {},
   "outputs": [
    {
     "name": "stdout",
     "output_type": "stream",
     "text": [
      "2 5 8 5 5 3\n",
      "0 4 0 3 1 9\n",
      "3 6 2 1 9 7\n",
      "1 1 7 9 5 5\n",
      "1 2 9 6 0 1\n",
      "6 4 5 3 4 6\n",
      "4 2 5 6 1 3\n",
      "9 9 7 5 1 8\n",
      "4 1 5 4 6 1\n",
      "4 8 2 6 2 3\n"
     ]
    }
   ],
   "source": [
    "from random import *\n",
    "for i in range(0,10):\n",
    "    print(randint(0,9),randint(0,9),randint(0,9),randint(0,9),randint(0,9),randint(0,9))"
   ]
  },
  {
   "cell_type": "markdown",
   "id": "575768c7",
   "metadata": {},
   "source": [
    "**Versions of Python** \n",
    "\n",
    "    1) Python 1.0 - 1994\n",
    "    2) Python 2.0 - 2000\n",
    "    3) Python 3.0 - 2008\n",
    "    4) Python 3.6.3 - 2016\n",
    "    5) Python 3.8.2 - 2020\n",
    "    6) Python 3.9.0 - 2020\n",
    "    7) Python 3.11.2 "
   ]
  },
  {
   "cell_type": "markdown",
   "id": "92409002",
   "metadata": {},
   "source": [
    "**Variables or Identifiers**"
   ]
  },
  {
   "cell_type": "markdown",
   "id": "3d08cd24",
   "metadata": {},
   "source": [
    "To create the variable we can only use underscore - Position does not matter \n",
    "\n",
    "We can use small or caps both alphabets - Position does not matter, Python is a case sensitive programming language\n",
    "\n",
    "We can have number - Numbers can be in the middle or at the end, numbers cannot be at the start"
   ]
  },
  {
   "cell_type": "code",
   "execution_count": 14,
   "id": "b97e1122",
   "metadata": {},
   "outputs": [],
   "source": [
    "_123insname12333 = 'Rahul'"
   ]
  },
  {
   "cell_type": "code",
   "execution_count": 5,
   "id": "c83ef615",
   "metadata": {},
   "outputs": [
    {
     "data": {
      "text/plain": [
       "'Rahul'"
      ]
     },
     "execution_count": 5,
     "metadata": {},
     "output_type": "execute_result"
    }
   ],
   "source": [
    "ins_name"
   ]
  },
  {
   "cell_type": "code",
   "execution_count": 8,
   "id": "3fe885bf",
   "metadata": {},
   "outputs": [
    {
     "data": {
      "text/plain": [
       "'Rahul'"
      ]
     },
     "execution_count": 8,
     "metadata": {},
     "output_type": "execute_result"
    }
   ],
   "source": [
    "_insname"
   ]
  },
  {
   "cell_type": "code",
   "execution_count": 9,
   "id": "a17f00f0",
   "metadata": {},
   "outputs": [],
   "source": [
    "name = 'Rahul'\n",
    "NAME = 'Rohit'"
   ]
  },
  {
   "cell_type": "code",
   "execution_count": 10,
   "id": "0e15fae7",
   "metadata": {},
   "outputs": [
    {
     "data": {
      "text/plain": [
       "'Rahul'"
      ]
     },
     "execution_count": 10,
     "metadata": {},
     "output_type": "execute_result"
    }
   ],
   "source": [
    "name"
   ]
  },
  {
   "cell_type": "code",
   "execution_count": 11,
   "id": "4f442a59",
   "metadata": {},
   "outputs": [
    {
     "data": {
      "text/plain": [
       "'Rohit'"
      ]
     },
     "execution_count": 11,
     "metadata": {},
     "output_type": "execute_result"
    }
   ],
   "source": [
    "NAME"
   ]
  },
  {
   "cell_type": "markdown",
   "id": "3fad3f8a",
   "metadata": {},
   "source": [
    "**Datatypes**"
   ]
  },
  {
   "cell_type": "code",
   "execution_count": 19,
   "id": "48eec1b3",
   "metadata": {},
   "outputs": [],
   "source": [
    "name = \"123\""
   ]
  },
  {
   "cell_type": "code",
   "execution_count": 20,
   "id": "0ede008d",
   "metadata": {},
   "outputs": [
    {
     "data": {
      "text/plain": [
       "str"
      ]
     },
     "execution_count": 20,
     "metadata": {},
     "output_type": "execute_result"
    }
   ],
   "source": [
    "type(name)"
   ]
  },
  {
   "cell_type": "code",
   "execution_count": 23,
   "id": "c8e31cf8",
   "metadata": {},
   "outputs": [],
   "source": [
    "sales = 100.50"
   ]
  },
  {
   "cell_type": "code",
   "execution_count": 24,
   "id": "93c1134c",
   "metadata": {},
   "outputs": [
    {
     "data": {
      "text/plain": [
       "float"
      ]
     },
     "execution_count": 24,
     "metadata": {},
     "output_type": "execute_result"
    }
   ],
   "source": [
    "type(sales)"
   ]
  },
  {
   "cell_type": "code",
   "execution_count": 21,
   "id": "67a8d493",
   "metadata": {},
   "outputs": [],
   "source": [
    "quantity = 10"
   ]
  },
  {
   "cell_type": "code",
   "execution_count": 22,
   "id": "e6468cae",
   "metadata": {},
   "outputs": [
    {
     "data": {
      "text/plain": [
       "int"
      ]
     },
     "execution_count": 22,
     "metadata": {},
     "output_type": "execute_result"
    }
   ],
   "source": [
    "type(quantity)"
   ]
  },
  {
   "cell_type": "code",
   "execution_count": 25,
   "id": "6fb96925",
   "metadata": {},
   "outputs": [],
   "source": [
    "a = sales>100"
   ]
  },
  {
   "cell_type": "code",
   "execution_count": 27,
   "id": "12151b12",
   "metadata": {},
   "outputs": [
    {
     "data": {
      "text/plain": [
       "bool"
      ]
     },
     "execution_count": 27,
     "metadata": {},
     "output_type": "execute_result"
    }
   ],
   "source": [
    "type(a)"
   ]
  },
  {
   "cell_type": "markdown",
   "id": "f5aa4083",
   "metadata": {},
   "source": [
    "**Dynamically Typed Programming Language**"
   ]
  },
  {
   "cell_type": "code",
   "execution_count": 29,
   "id": "ca54dfb1",
   "metadata": {},
   "outputs": [],
   "source": [
    "FOR = 'Rahul'"
   ]
  },
  {
   "cell_type": "code",
   "execution_count": 30,
   "id": "32705d08",
   "metadata": {},
   "outputs": [
    {
     "data": {
      "text/plain": [
       "'Rahul'"
      ]
     },
     "execution_count": 30,
     "metadata": {},
     "output_type": "execute_result"
    }
   ],
   "source": [
    "FOR"
   ]
  },
  {
   "cell_type": "code",
   "execution_count": 33,
   "id": "63d91f4d",
   "metadata": {},
   "outputs": [
    {
     "data": {
      "text/plain": [
       "['False',\n",
       " 'None',\n",
       " 'True',\n",
       " 'and',\n",
       " 'as',\n",
       " 'assert',\n",
       " 'async',\n",
       " 'await',\n",
       " 'break',\n",
       " 'class',\n",
       " 'continue',\n",
       " 'def',\n",
       " 'del',\n",
       " 'elif',\n",
       " 'else',\n",
       " 'except',\n",
       " 'finally',\n",
       " 'for',\n",
       " 'from',\n",
       " 'global',\n",
       " 'if',\n",
       " 'import',\n",
       " 'in',\n",
       " 'is',\n",
       " 'lambda',\n",
       " 'nonlocal',\n",
       " 'not',\n",
       " 'or',\n",
       " 'pass',\n",
       " 'raise',\n",
       " 'return',\n",
       " 'try',\n",
       " 'while',\n",
       " 'with',\n",
       " 'yield']"
      ]
     },
     "execution_count": 33,
     "metadata": {},
     "output_type": "execute_result"
    }
   ],
   "source": [
    "import keyword\n",
    "keyword.kwlist"
   ]
  },
  {
   "cell_type": "code",
   "execution_count": 34,
   "id": "e39fbb75",
   "metadata": {},
   "outputs": [
    {
     "ename": "SyntaxError",
     "evalue": "assignment to yield expression not possible (1357521698.py, line 1)",
     "output_type": "error",
     "traceback": [
      "\u001b[1;36m  Cell \u001b[1;32mIn[34], line 1\u001b[1;36m\u001b[0m\n\u001b[1;33m    yield = 'Rahul'\u001b[0m\n\u001b[1;37m    ^\u001b[0m\n\u001b[1;31mSyntaxError\u001b[0m\u001b[1;31m:\u001b[0m assignment to yield expression not possible\n"
     ]
    }
   ],
   "source": [
    "yield = 'Rahul'"
   ]
  },
  {
   "cell_type": "markdown",
   "id": "e126e19d",
   "metadata": {},
   "source": [
    "**Index and Slicing - Slicing will only be done through [] square brackets**"
   ]
  },
  {
   "cell_type": "code",
   "execution_count": 35,
   "id": "584f787b",
   "metadata": {},
   "outputs": [],
   "source": [
    "company = 'Upgrad'"
   ]
  },
  {
   "cell_type": "code",
   "execution_count": 36,
   "id": "8df42b3c",
   "metadata": {},
   "outputs": [
    {
     "data": {
      "text/plain": [
       "'Upgrad'"
      ]
     },
     "execution_count": 36,
     "metadata": {},
     "output_type": "execute_result"
    }
   ],
   "source": [
    "company"
   ]
  },
  {
   "cell_type": "code",
   "execution_count": 44,
   "id": "b35d0863",
   "metadata": {},
   "outputs": [
    {
     "data": {
      "text/plain": [
       "'Upg'"
      ]
     },
     "execution_count": 44,
     "metadata": {},
     "output_type": "execute_result"
    }
   ],
   "source": [
    "company[0:3]"
   ]
  },
  {
   "cell_type": "code",
   "execution_count": 45,
   "id": "81718fc1",
   "metadata": {},
   "outputs": [
    {
     "data": {
      "text/plain": [
       "'gra'"
      ]
     },
     "execution_count": 45,
     "metadata": {},
     "output_type": "execute_result"
    }
   ],
   "source": [
    "company[2:5]"
   ]
  },
  {
   "cell_type": "code",
   "execution_count": 46,
   "id": "b9e06b5d",
   "metadata": {},
   "outputs": [
    {
     "data": {
      "text/plain": [
       "'Upgrad'"
      ]
     },
     "execution_count": 46,
     "metadata": {},
     "output_type": "execute_result"
    }
   ],
   "source": [
    "company[0:]"
   ]
  },
  {
   "cell_type": "code",
   "execution_count": 47,
   "id": "e8ad4217",
   "metadata": {},
   "outputs": [
    {
     "data": {
      "text/plain": [
       "'Upgr'"
      ]
     },
     "execution_count": 47,
     "metadata": {},
     "output_type": "execute_result"
    }
   ],
   "source": [
    "company[:4]"
   ]
  },
  {
   "cell_type": "code",
   "execution_count": 50,
   "id": "c698d280",
   "metadata": {},
   "outputs": [
    {
     "data": {
      "text/plain": [
       "'gra'"
      ]
     },
     "execution_count": 50,
     "metadata": {},
     "output_type": "execute_result"
    }
   ],
   "source": [
    "company[-4:-1]"
   ]
  },
  {
   "cell_type": "code",
   "execution_count": 51,
   "id": "bd84c7ea",
   "metadata": {},
   "outputs": [
    {
     "data": {
      "text/plain": [
       "'pgr'"
      ]
     },
     "execution_count": 51,
     "metadata": {},
     "output_type": "execute_result"
    }
   ],
   "source": [
    "company[1:-2]"
   ]
  },
  {
   "cell_type": "code",
   "execution_count": 55,
   "id": "72cbab4d",
   "metadata": {},
   "outputs": [
    {
     "data": {
      "text/plain": [
       "'ag'"
      ]
     },
     "execution_count": 55,
     "metadata": {},
     "output_type": "execute_result"
    }
   ],
   "source": [
    "company[-2:-5:-2]"
   ]
  },
  {
   "cell_type": "code",
   "execution_count": 57,
   "id": "02364cf0",
   "metadata": {},
   "outputs": [
    {
     "data": {
      "text/plain": [
       "'pa'"
      ]
     },
     "execution_count": 57,
     "metadata": {},
     "output_type": "execute_result"
    }
   ],
   "source": [
    "company[1:6:3]"
   ]
  },
  {
   "cell_type": "code",
   "execution_count": 58,
   "id": "10adfd48",
   "metadata": {},
   "outputs": [
    {
     "data": {
      "text/plain": [
       "'dargpU'"
      ]
     },
     "execution_count": 58,
     "metadata": {},
     "output_type": "execute_result"
    }
   ],
   "source": [
    "company[::-1]"
   ]
  },
  {
   "cell_type": "code",
   "execution_count": 59,
   "id": "a7021d59",
   "metadata": {},
   "outputs": [
    {
     "data": {
      "text/plain": [
       "'Upgrad'"
      ]
     },
     "execution_count": 59,
     "metadata": {},
     "output_type": "execute_result"
    }
   ],
   "source": [
    "company[::1]"
   ]
  },
  {
   "cell_type": "code",
   "execution_count": 62,
   "id": "b93aea03",
   "metadata": {},
   "outputs": [
    {
     "data": {
      "text/plain": [
       "'dr'"
      ]
     },
     "execution_count": 62,
     "metadata": {},
     "output_type": "execute_result"
    }
   ],
   "source": [
    "company[-1:-5:-2]"
   ]
  },
  {
   "cell_type": "code",
   "execution_count": 70,
   "id": "68fbe1a6",
   "metadata": {},
   "outputs": [
    {
     "data": {
      "text/plain": [
       "'dargpU'"
      ]
     },
     "execution_count": 70,
     "metadata": {},
     "output_type": "execute_result"
    }
   ],
   "source": [
    "company[5::-1]"
   ]
  },
  {
   "cell_type": "code",
   "execution_count": 64,
   "id": "932e4409",
   "metadata": {},
   "outputs": [
    {
     "data": {
      "text/plain": [
       "'dargpU'"
      ]
     },
     "execution_count": 64,
     "metadata": {},
     "output_type": "execute_result"
    }
   ],
   "source": [
    "company[::-1]"
   ]
  },
  {
   "cell_type": "code",
   "execution_count": 68,
   "id": "adba4127",
   "metadata": {},
   "outputs": [
    {
     "data": {
      "text/plain": [
       "'dargp'"
      ]
     },
     "execution_count": 68,
     "metadata": {},
     "output_type": "execute_result"
    }
   ],
   "source": [
    "company[5:0:-1]"
   ]
  },
  {
   "cell_type": "markdown",
   "id": "695da00a",
   "metadata": {},
   "source": [
    "**Data Structures - Python collection datatypes**\n",
    "\n",
    "    1) List\n",
    "    \n",
    "    2) Tuple \n",
    "    \n",
    "    3) Set\n",
    "    \n",
    "    4) Dictionary"
   ]
  },
  {
   "cell_type": "markdown",
   "id": "b9502194",
   "metadata": {},
   "source": [
    "**Lists** \n",
    "\n",
    "    1) Lists are always created using [] - Square brackets\n",
    "    2) Lists can have the heterogeneous data i.e. We can have different datatypes in the list\n",
    "    3) Duplicates are entertained\n",
    "    4) Lists are growable in nature - You can add the values \n",
    "    5) Lists are mutable in nature - We can add, delete, update without changing the memory location"
   ]
  },
  {
   "cell_type": "code",
   "execution_count": 71,
   "id": "0ed9df9a",
   "metadata": {},
   "outputs": [],
   "source": [
    "list1 = [10,10.5,'Rahul', True]"
   ]
  },
  {
   "cell_type": "code",
   "execution_count": 76,
   "id": "7bdc8ce4",
   "metadata": {},
   "outputs": [
    {
     "data": {
      "text/plain": [
       "bool"
      ]
     },
     "execution_count": 76,
     "metadata": {},
     "output_type": "execute_result"
    }
   ],
   "source": [
    "type(list1[3])"
   ]
  },
  {
   "cell_type": "code",
   "execution_count": 79,
   "id": "58295741",
   "metadata": {},
   "outputs": [],
   "source": [
    "list1[2]='Siva'"
   ]
  },
  {
   "cell_type": "code",
   "execution_count": 81,
   "id": "1b5eca0a",
   "metadata": {},
   "outputs": [
    {
     "data": {
      "text/plain": [
       "3087538095296"
      ]
     },
     "execution_count": 81,
     "metadata": {},
     "output_type": "execute_result"
    }
   ],
   "source": [
    "id(list1)"
   ]
  },
  {
   "cell_type": "code",
   "execution_count": 83,
   "id": "58e3986b",
   "metadata": {},
   "outputs": [],
   "source": [
    "list1[2]='Sandeep'"
   ]
  },
  {
   "cell_type": "code",
   "execution_count": 85,
   "id": "d9d23199",
   "metadata": {},
   "outputs": [
    {
     "data": {
      "text/plain": [
       "3087538095296"
      ]
     },
     "execution_count": 85,
     "metadata": {},
     "output_type": "execute_result"
    }
   ],
   "source": [
    "id(list1)"
   ]
  },
  {
   "cell_type": "code",
   "execution_count": 87,
   "id": "ea66587e",
   "metadata": {},
   "outputs": [
    {
     "data": {
      "text/plain": [
       "'Upg'"
      ]
     },
     "execution_count": 87,
     "metadata": {},
     "output_type": "execute_result"
    }
   ],
   "source": [
    "company[0:3]"
   ]
  },
  {
   "cell_type": "code",
   "execution_count": 90,
   "id": "7af803fa",
   "metadata": {},
   "outputs": [
    {
     "data": {
      "text/plain": [
       "'rp'"
      ]
     },
     "execution_count": 90,
     "metadata": {},
     "output_type": "execute_result"
    }
   ],
   "source": [
    "company[3:0:-2]"
   ]
  },
  {
   "cell_type": "markdown",
   "id": "86887969",
   "metadata": {},
   "source": [
    "**The End**"
   ]
  }
 ],
 "metadata": {
  "kernelspec": {
   "display_name": "Python 3 (ipykernel)",
   "language": "python",
   "name": "python3"
  },
  "language_info": {
   "codemirror_mode": {
    "name": "ipython",
    "version": 3
   },
   "file_extension": ".py",
   "mimetype": "text/x-python",
   "name": "python",
   "nbconvert_exporter": "python",
   "pygments_lexer": "ipython3",
   "version": "3.11.5"
  }
 },
 "nbformat": 4,
 "nbformat_minor": 5
}
